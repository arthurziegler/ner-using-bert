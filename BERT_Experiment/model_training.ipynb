{
 "cells": [
  {
   "cell_type": "markdown",
   "metadata": {},
   "source": [
    "# Model Training Pipeline\n",
    "## Training Steps\n",
    "1. Load Dataset\n",
    "2. Data Tokenization\n",
    "3. Model Parametrization\n",
    "4. Model Training\n",
    "5. Model Evaluation"
   ]
  },
  {
   "cell_type": "code",
   "execution_count": 1,
   "metadata": {},
   "outputs": [
    {
     "name": "stdout",
     "output_type": "stream",
     "text": [
      "Working Directory: c:\\Users\\arthu\\Documents\\GitHub\\ner-using-bert\\BERT_Experiment\n"
     ]
    }
   ],
   "source": [
    "import pandas as pd\n",
    "import os\n",
    "from nltk.tokenize import TreebankWordTokenizer\n",
    "print(\"Working Directory:\", os.getcwd())"
   ]
  },
  {
   "cell_type": "markdown",
   "metadata": {},
   "source": [
    "### Step One \n",
    "# Load Dataset\n",
    "We are using datasets annotated in [Doccano](https://github.com/doccano/doccano), which outputs a **.jsonl** file with a list of all the documents and their labels."
   ]
  },
  {
   "cell_type": "code",
   "execution_count": 3,
   "metadata": {},
   "outputs": [],
   "source": [
    "data_file_path = \"acerpi_dataset/train/annotated\"\n",
    "dataset_filename = \"labeled_ufrgs_sentences.jsonl\"\n",
    "\n",
    "ufrgs_documents = pd.read_json(os.path.join(data_file_path, dataset_filename), orient='record', lines=True)"
   ]
  },
  {
   "cell_type": "code",
   "execution_count": 4,
   "metadata": {},
   "outputs": [],
   "source": [
    "#Filter the dataset to remove all sentences without relevant labels besides 'O'\n",
    "ufrgs_documents = ufrgs_documents[ufrgs_documents['label'].str.len() > 0]"
   ]
  },
  {
   "cell_type": "code",
   "execution_count": 5,
   "metadata": {},
   "outputs": [],
   "source": [
    "# Keep only the relevant columns: the sentence text, the labels and the id to link back to the original document later on.\n",
    "ufrgs_labeled_sentences = ufrgs_documents[['text', 'label', 'sentence_id']]"
   ]
  },
  {
   "cell_type": "markdown",
   "metadata": {},
   "source": [
    "## Step Two\n",
    "# Data Tokenization\n",
    "Let's tokenize the sentences and tokens using the TreebankWordTokenizer.  \n",
    "\n",
    "The first method **tokenize** will split our sentence and return a list of words which we'll organize in a 'tokenized_sentences' list.  \n",
    "\n",
    "The second method **span_tokenize** will return the first and last indices of the characters in each token in reference to the orignal sentence.  \n",
    "This allows us to recreate the sentence later on. We'll organize them in a 'token_positions' list."
   ]
  },
  {
   "cell_type": "code",
   "execution_count": 6,
   "metadata": {},
   "outputs": [],
   "source": [
    "from transformers import AutoTokenizer\n",
    "checkpoint = 'neuralmind/bert-large-portuguese-cased'\n",
    "tokenizer = AutoTokenizer.from_pretrained(checkpoint, do_lower_case=False)"
   ]
  },
  {
   "cell_type": "code",
   "execution_count": 14,
   "metadata": {},
   "outputs": [],
   "source": [
    "t = tokenizer(ufrgs_labeled_sentences['text'][4], is_split_into_words=False)\n",
    "word_ids = t.word_ids()\n",
    "tokens_by_word_id = {}\n",
    "\n",
    "for idx, word in enumerate(word_ids):\n",
    "    if word is not None:\n",
    "        tokens_by_word_id.setdefault(word, []).append(t.tokens()[idx])"
   ]
  },
  {
   "cell_type": "code",
   "execution_count": 15,
   "metadata": {},
   "outputs": [
    {
     "data": {
      "text/plain": [
       "'Autorizar o afastamento do país de ANDRE DIAS MORTARI, Assistente em Administração, lotado e em exercício na Escola de Administração, com a finalidade de participar do \"IV Congreso Internacional Red Pilares\", em Cartagena - Colombia, no período compreendido entre 29/08/2016 e 02/09/2016, com ônus limitado.'"
      ]
     },
     "execution_count": 15,
     "metadata": {},
     "output_type": "execute_result"
    }
   ],
   "source": [
    "ufrgs_labeled_sentences['text'][4]"
   ]
  },
  {
   "cell_type": "code",
   "execution_count": 16,
   "metadata": {},
   "outputs": [
    {
     "data": {
      "text/plain": [
       "{0: ['Autor', '##izar'],\n",
       " 1: ['o'],\n",
       " 2: ['afastamento'],\n",
       " 3: ['do'],\n",
       " 4: ['país'],\n",
       " 5: ['de'],\n",
       " 6: ['AN', '##DR', '##E'],\n",
       " 7: ['D', '##IA', '##S'],\n",
       " 8: ['M', '##OR', '##TA', '##RI'],\n",
       " 9: [','],\n",
       " 10: ['Assis', '##tente'],\n",
       " 11: ['em'],\n",
       " 12: ['Administração'],\n",
       " 13: [','],\n",
       " 14: ['lo', '##tado'],\n",
       " 15: ['e'],\n",
       " 16: ['em'],\n",
       " 17: ['exercício'],\n",
       " 18: ['na'],\n",
       " 19: ['Escola'],\n",
       " 20: ['de'],\n",
       " 21: ['Administração'],\n",
       " 22: [','],\n",
       " 23: ['com'],\n",
       " 24: ['a'],\n",
       " 25: ['finalidade'],\n",
       " 26: ['de'],\n",
       " 27: ['participar'],\n",
       " 28: ['do'],\n",
       " 29: ['\"'],\n",
       " 30: ['IV'],\n",
       " 31: ['Con', '##gre', '##so'],\n",
       " 32: ['Internacional'],\n",
       " 33: ['Red'],\n",
       " 34: ['Pil', '##ares'],\n",
       " 35: ['\"'],\n",
       " 36: [','],\n",
       " 37: ['em'],\n",
       " 38: ['Carta', '##gen', '##a'],\n",
       " 39: ['-'],\n",
       " 40: ['Colo', '##mbia'],\n",
       " 41: [','],\n",
       " 42: ['no'],\n",
       " 43: ['período'],\n",
       " 44: ['compree', '##ndido'],\n",
       " 45: ['entre'],\n",
       " 46: ['29'],\n",
       " 47: ['/'],\n",
       " 48: ['08'],\n",
       " 49: ['/'],\n",
       " 50: ['2016'],\n",
       " 51: ['e'],\n",
       " 52: ['02'],\n",
       " 53: ['/'],\n",
       " 54: ['09'],\n",
       " 55: ['/'],\n",
       " 56: ['2016'],\n",
       " 57: [','],\n",
       " 58: ['com'],\n",
       " 59: ['[UNK]'],\n",
       " 60: ['limitado'],\n",
       " 61: ['.']}"
      ]
     },
     "execution_count": 16,
     "metadata": {},
     "output_type": "execute_result"
    }
   ],
   "source": [
    "tokens_by_word_id"
   ]
  },
  {
   "cell_type": "code",
   "execution_count": 17,
   "metadata": {},
   "outputs": [
    {
     "data": {
      "text/plain": [
       "{0: ['Autor', '##izar'],\n",
       " 1: ['o'],\n",
       " 2: ['afastamento'],\n",
       " 3: ['do'],\n",
       " 4: ['país'],\n",
       " 5: ['de'],\n",
       " 6: ['AN', '##DR', '##E'],\n",
       " 7: ['D', '##IA', '##S'],\n",
       " 8: ['M', '##OR', '##TA', '##RI'],\n",
       " 9: [','],\n",
       " 10: ['Assis', '##tente'],\n",
       " 11: ['em'],\n",
       " 12: ['Administração'],\n",
       " 13: [','],\n",
       " 14: ['lo', '##tado'],\n",
       " 15: ['e'],\n",
       " 16: ['em'],\n",
       " 17: ['exercício'],\n",
       " 18: ['na'],\n",
       " 19: ['Escola'],\n",
       " 20: ['de'],\n",
       " 21: ['Administração'],\n",
       " 22: [','],\n",
       " 23: ['com'],\n",
       " 24: ['a'],\n",
       " 25: ['finalidade'],\n",
       " 26: ['de'],\n",
       " 27: ['participar'],\n",
       " 28: ['do'],\n",
       " 29: ['\"'],\n",
       " 30: ['IV'],\n",
       " 31: ['Con', '##gre', '##so'],\n",
       " 32: ['Internacional'],\n",
       " 33: ['Red'],\n",
       " 34: ['Pil', '##ares'],\n",
       " 35: ['\"'],\n",
       " 36: [','],\n",
       " 37: ['em'],\n",
       " 38: ['Carta', '##gen', '##a'],\n",
       " 39: ['-'],\n",
       " 40: ['Colo', '##mbia'],\n",
       " 41: [','],\n",
       " 42: ['no'],\n",
       " 43: ['período'],\n",
       " 44: ['compree', '##ndido'],\n",
       " 45: ['entre'],\n",
       " 46: ['29'],\n",
       " 47: ['/'],\n",
       " 48: ['08'],\n",
       " 49: ['/'],\n",
       " 50: ['2016'],\n",
       " 51: ['e'],\n",
       " 52: ['02'],\n",
       " 53: ['/'],\n",
       " 54: ['09'],\n",
       " 55: ['/'],\n",
       " 56: ['2016'],\n",
       " 57: [','],\n",
       " 58: ['com'],\n",
       " 59: ['[UNK]'],\n",
       " 60: ['limitado'],\n",
       " 61: ['.']}"
      ]
     },
     "execution_count": 17,
     "metadata": {},
     "output_type": "execute_result"
    }
   ],
   "source": [
    "tokens_by_word_id"
   ]
  },
  {
   "cell_type": "code",
   "execution_count": null,
   "metadata": {},
   "outputs": [],
   "source": [
    "tokenized_sentences = []\n",
    "token_positions = []\n",
    "for idx, sentence in annotated_sentences['text'].items():\n",
    "    tokenized_sentences.append(TreebankWordTokenizer().tokenize(sentence))\n",
    "    token_positions.append(list(TreebankWordTokenizer().span_tokenize(sentence)))\n",
    "\n",
    "\n",
    "print(tokenized_sentences[0])\n",
    "print(token_positions[0])"
   ]
  }
 ],
 "metadata": {
  "kernelspec": {
   "display_name": "NLP2023",
   "language": "python",
   "name": "python3"
  },
  "language_info": {
   "codemirror_mode": {
    "name": "ipython",
    "version": 3
   },
   "file_extension": ".py",
   "mimetype": "text/x-python",
   "name": "python",
   "nbconvert_exporter": "python",
   "pygments_lexer": "ipython3",
   "version": "3.10.4"
  }
 },
 "nbformat": 4,
 "nbformat_minor": 2
}
