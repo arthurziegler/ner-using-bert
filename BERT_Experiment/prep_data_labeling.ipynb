{
 "cells": [
  {
   "cell_type": "code",
   "execution_count": 156,
   "metadata": {},
   "outputs": [
    {
     "name": "stderr",
     "output_type": "stream",
     "text": [
      "[nltk_data] Downloading package punkt to\n",
      "[nltk_data]     C:\\Users\\arthu\\AppData\\Roaming\\nltk_data...\n",
      "[nltk_data]   Package punkt is already up-to-date!\n"
     ]
    },
    {
     "data": {
      "text/plain": [
       "True"
      ]
     },
     "execution_count": 156,
     "metadata": {},
     "output_type": "execute_result"
    }
   ],
   "source": [
    "import nltk\n",
    "from nltk.tokenize import sent_tokenize, word_tokenize\n",
    "import numpy as np\n",
    "import pandas as pd\n",
    "import textwrap\n",
    "from pprint import pprint\n",
    "import os\n",
    "import re\n",
    "import data_processing\n",
    "nltk.download('punkt')"
   ]
  },
  {
   "cell_type": "code",
   "execution_count": 157,
   "metadata": {},
   "outputs": [],
   "source": [
    "path_to_file = \"acerpi_dataset/test/\""
   ]
  },
  {
   "cell_type": "markdown",
   "metadata": {},
   "source": [
    "#### Open Unannotated Documents\n",
    "We get the unnanotatted texts and store each document as a key, value pair in a dictionary"
   ]
  },
  {
   "cell_type": "code",
   "execution_count": 158,
   "metadata": {},
   "outputs": [],
   "source": [
    "documents = {}\n",
    "for filename in os.listdir(path_to_file):\n",
    "   if filename.endswith(\".txt\"):\n",
    "      with open(os.path.join(path_to_file, filename), 'r', encoding=\"utf8\") as f:\n",
    "         key = int(filename.replace('.txt', ''))\n",
    "         value = f.read()\n",
    "         documents[key] = value"
   ]
  },
  {
   "cell_type": "markdown",
   "metadata": {},
   "source": [
    "Next we store the documents in a DataFrame"
   ]
  },
  {
   "cell_type": "code",
   "execution_count": 159,
   "metadata": {},
   "outputs": [
    {
     "data": {
      "text/html": [
       "<div>\n",
       "<style scoped>\n",
       "    .dataframe tbody tr th:only-of-type {\n",
       "        vertical-align: middle;\n",
       "    }\n",
       "\n",
       "    .dataframe tbody tr th {\n",
       "        vertical-align: top;\n",
       "    }\n",
       "\n",
       "    .dataframe thead th {\n",
       "        text-align: right;\n",
       "    }\n",
       "</style>\n",
       "<table border=\"1\" class=\"dataframe\">\n",
       "  <thead>\n",
       "    <tr style=\"text-align: right;\">\n",
       "      <th></th>\n",
       "      <th>text</th>\n",
       "    </tr>\n",
       "  </thead>\n",
       "  <tbody>\n",
       "    <tr>\n",
       "      <th>105798</th>\n",
       "      <td>Documento gerado sob autenticação Nº LKB.506.405.IRF, disponível no endereço\\nhttp://www.ufrgs.br/autenticacao\\nDocumento certificado eletronicamente, conforme Portaria nº\\n3362/2016, que institui o Sistema de Documentos Eletrônicos da UFRGS.\\n1/1\\nPORTARIA Nº             1955                  de  05/03/2020\\nO PRÓ-REITOR DE GESTÃO DE PESSOAS DA UNIVERSIDADE FEDERAL DO RIO GRANDE DO SUL, no\\nuso de suas atribuições que lhe foram conferidas pela Portaria nº.7684, de 03 de outubro de 2016, do\\nMagnífico Reitor, e conforme o Laudo Médico n°60131,\\nRESOLVE\\nDesignar, temporariamente, nos termos da Lei nº. 8.112, de 11 de dezembro de 1990, com redação\\ndada  pela  Lei  nº.9.527,  de  10  de  dezembro  de  1997,  a  ocupante  do  cargo  de  ASSISTENTE  EM\\nADMINISTRAÇÃO, do Quadro de Pessoal  desta Universidade,  FRANCIELE MARQUES ZIQUINATTI (Siape:\\n1091092 ),  para substituir   TURENE ANDRADE E SILVA NETO (Siape: 0356721 ), Diretor da Divisão de Preparo\\nda Licitação do Departamento de Aquisição de Bens e Serviços, Código FG-4, em seu afastamento por motivo\\nde  Laudo  Médico  do  titular  da  Função,  no  período  de  30/01/2020  a  15/03/2020,  com  o  decorrente\\npagamento das vantagens por 46 dias.\\nMAURÍCIO VIÉGAS DA SILVA\\nPró-Reitor de Gestão de Pessoas\\n</td>\n",
       "    </tr>\n",
       "    <tr>\n",
       "      <th>105799</th>\n",
       "      <td>Documento gerado sob autenticação Nº BOA.507.615.IRF, disponível no endereço\\nhttp://www.ufrgs.br/autenticacao\\nDocumento certificado eletronicamente, conforme Portaria nº\\n3362/2016, que institui o Sistema de Documentos Eletrônicos da UFRGS.\\n1/1\\nPORTARIA Nº             1956                  de  05/03/2020\\nO PRÓ-REITOR DE GESTÃO DE PESSOAS DA UNIVERSIDADE FEDERAL DO RIO GRANDE DO SUL, no\\nuso de suas atribuições que lhe foram conferidas pela Portaria nº.7684, de 03 de outubro de 2016, do\\nMagnífico Reitor, e conforme o Laudo Médico n°60170,\\nRESOLVE\\nDesignar, temporariamente, nos termos da Lei nº. 8.112, de 11 de dezembro de 1990, com redação\\ndada pela Lei  nº.9.527,  de 10 de dezembro de 1997, o ocupante do cargo de TÉCNICO EM ASSUNTOS\\nEDUCACIONAIS, do Quadro de Pessoal desta Universidade, FELIPE ANTÔNIO GUIDI SAUERESSIG (Siape:\\n1963089 ),  para substituir   JOSE EDUARDO HANDEL (Siape: 0357511 ), Secretário da COMGRAD de Nutrição,\\nCódigo  FG-7,  em seu afastamento  por  motivo  de  Laudo Médico  do  titular  da  Função,  no  período de\\n05/02/2020 a 11/02/2020, com o decorrente pagamento das vantagens por 7 dias.\\nMAURÍCIO VIÉGAS DA SILVA\\nPró-Reitor de Gestão de Pessoas\\n</td>\n",
       "    </tr>\n",
       "    <tr>\n",
       "      <th>105801</th>\n",
       "      <td>Documento gerado sob autenticação Nº KMT.508.839.IRF, disponível no endereço\\nhttp://www.ufrgs.br/autenticacao\\nDocumento certificado eletronicamente, conforme Portaria nº\\n3362/2016, que institui o Sistema de Documentos Eletrônicos da UFRGS.\\n1/1\\nPORTARIA Nº             1957                  de  05/03/2020\\nO PRÓ-REITOR DE GESTÃO DE PESSOAS DA UNIVERSIDADE FEDERAL DO RIO GRANDE DO SUL, no\\nuso de suas atribuições que lhe foram conferidas pela Portaria nº.7684, de 03 de outubro de 2016, do\\nMagnífico Reitor, e conforme o Laudo Médico n°60148,\\nRESOLVE\\nDesignar, temporariamente, nos termos da Lei nº. 8.112, de 11 de dezembro de 1990, com redação\\ndada pela Lei nº.9.527, de 10 de dezembro de 1997, o ocupante do cargo de TÉCNICO DE LABORATÓRIO\\nÁREA, do Quadro de Pessoal desta Universidade, PEDRO MOTIFUMI KUAMOTO (Siape: 0354874 ),  para\\nsubstituir   Ricardo Schäffer da Rosa (Siape: 1935227 ), Coordenador do Núcleo de Infraestrutura da Gerência\\nAdm do Instituto de Química, Código FG-7, em seu afastamento por motivo de Laudo Médico do titular da\\nFunção, no dia 13/02/2020, com o decorrente pagamento das vantagens por 1 dia.\\nMAURÍCIO VIÉGAS DA SILVA\\nPró-Reitor de Gestão de Pessoas\\n</td>\n",
       "    </tr>\n",
       "    <tr>\n",
       "      <th>105802</th>\n",
       "      <td>Documento gerado sob autenticação Nº DYG.509.949.IRF, disponível no endereço\\nhttp://www.ufrgs.br/autenticacao\\nDocumento certificado eletronicamente, conforme Portaria nº\\n3362/2016, que institui o Sistema de Documentos Eletrônicos da UFRGS.\\n1/1\\nPORTARIA Nº             1958                  de  05/03/2020\\nO PRÓ-REITOR DE GESTÃO DE PESSOAS DA UNIVERSIDADE FEDERAL DO RIO GRANDE DO SUL, no\\nuso de suas atribuições que lhe foram conferidas pela Portaria nº.7684, de 03 de outubro de 2016, do\\nMagnífico Reitor, e conforme o Laudo Médico n°60131,\\nRESOLVE\\nDesignar, temporariamente, nos termos da Lei nº. 8.112, de 11 de dezembro de 1990, com redação\\ndada pela Lei nº.9.527, de 10 de dezembro de 1997, o ocupante do cargo de ADMINISTRADOR, do Quadro de\\nPessoal desta Universidade, MARCOS JOSE DA SILVA (Siape: 1778855 ),  para substituir   TURENE ANDRADE E\\nSILVA NETO (Siape: 0356721 ), Diretor da Divisão de Preparo da Licitação do Departamento de Aquisição de\\nBens e Serviços, Código FG-4, em seu afastamento por motivo de Laudo Médico do titular da Função, no\\nperíodo de 16/03/2020 a 28/04/2020, com o decorrente pagamento das vantagens por 44 dias.\\nMAURÍCIO VIÉGAS DA SILVA\\nPró-Reitor de Gestão de Pessoas\\n</td>\n",
       "    </tr>\n",
       "    <tr>\n",
       "      <th>105803</th>\n",
       "      <td>Documento gerado sob autenticação Nº MGM.074.907.T1L, disponível no\\nendereço http://www.ufrgs.br/autenticacao\\nDocumento certificado eletronicamente, conforme Portaria nº\\n3362/2016, que institui o Sistema de Documentos Eletrônicos da UFRGS.\\n1/1\\nPORTARIA Nº             1706                  de  27/02/2020\\nA VICE-REITORA DA UNIVERSIDADE FEDERAL DO RIO GRANDE DO SUL, no uso de suas atribuições\\nlegais e estatutárias , considerando o disposto na Portaria nº 7678, de 30 de setembro de 2016\\nRESOLVE\\nDispensar, a partir de 02/03/2020, a ocupante do cargo de Analista de Tecnologia da Informação -\\n701062,  do  Nível  de  Classificação EIV,  do  Quadro  de  Pessoal  desta  Universidade,  BIANCA MATOS DE\\nBARROS, matrícula SIAPE 2145796, da função de Diretora da Divisão de Tecnologia da Informação do Núcleo\\nde Apoio ao Ensino da Diretoria Administrativa do Campus Litoral Norte, Código SRH 1424, Código FG-3, para\\na qual  foi  designada pela Portaria nº  8505/14,  de 14/11/2014,  publicada no Diário Oficial  da União de\\n27/11/2014. Processo nº 23078.503731/2020-66.\\nJANE FRAGA TUTIKIAN\\nVice-Reitora.\\n</td>\n",
       "    </tr>\n",
       "  </tbody>\n",
       "</table>\n",
       "</div>"
      ],
      "text/plain": [
       "                                                                                                                                                                                                                                                                                                                                                                                                                                                                                                                                                                                                                                                                                                                                                                                                                                                                                                                                                                                                                                                                                                                                                                                                                                                                                                                                  text\n",
       "105798  Documento gerado sob autenticação Nº LKB.506.405.IRF, disponível no endereço\\nhttp://www.ufrgs.br/autenticacao\\nDocumento certificado eletronicamente, conforme Portaria nº\\n3362/2016, que institui o Sistema de Documentos Eletrônicos da UFRGS.\\n1/1\\nPORTARIA Nº             1955                  de  05/03/2020\\nO PRÓ-REITOR DE GESTÃO DE PESSOAS DA UNIVERSIDADE FEDERAL DO RIO GRANDE DO SUL, no\\nuso de suas atribuições que lhe foram conferidas pela Portaria nº.7684, de 03 de outubro de 2016, do\\nMagnífico Reitor, e conforme o Laudo Médico n°60131,\\nRESOLVE\\nDesignar, temporariamente, nos termos da Lei nº. 8.112, de 11 de dezembro de 1990, com redação\\ndada  pela  Lei  nº.9.527,  de  10  de  dezembro  de  1997,  a  ocupante  do  cargo  de  ASSISTENTE  EM\\nADMINISTRAÇÃO, do Quadro de Pessoal  desta Universidade,  FRANCIELE MARQUES ZIQUINATTI (Siape:\\n1091092 ),  para substituir   TURENE ANDRADE E SILVA NETO (Siape: 0356721 ), Diretor da Divisão de Preparo\\nda Licitação do Departamento de Aquisição de Bens e Serviços, Código FG-4, em seu afastamento por motivo\\nde  Laudo  Médico  do  titular  da  Função,  no  período  de  30/01/2020  a  15/03/2020,  com  o  decorrente\\npagamento das vantagens por 46 dias.\\nMAURÍCIO VIÉGAS DA SILVA\\nPró-Reitor de Gestão de Pessoas\\n\n",
       "105799  Documento gerado sob autenticação Nº BOA.507.615.IRF, disponível no endereço\\nhttp://www.ufrgs.br/autenticacao\\nDocumento certificado eletronicamente, conforme Portaria nº\\n3362/2016, que institui o Sistema de Documentos Eletrônicos da UFRGS.\\n1/1\\nPORTARIA Nº             1956                  de  05/03/2020\\nO PRÓ-REITOR DE GESTÃO DE PESSOAS DA UNIVERSIDADE FEDERAL DO RIO GRANDE DO SUL, no\\nuso de suas atribuições que lhe foram conferidas pela Portaria nº.7684, de 03 de outubro de 2016, do\\nMagnífico Reitor, e conforme o Laudo Médico n°60170,\\nRESOLVE\\nDesignar, temporariamente, nos termos da Lei nº. 8.112, de 11 de dezembro de 1990, com redação\\ndada pela Lei  nº.9.527,  de 10 de dezembro de 1997, o ocupante do cargo de TÉCNICO EM ASSUNTOS\\nEDUCACIONAIS, do Quadro de Pessoal desta Universidade, FELIPE ANTÔNIO GUIDI SAUERESSIG (Siape:\\n1963089 ),  para substituir   JOSE EDUARDO HANDEL (Siape: 0357511 ), Secretário da COMGRAD de Nutrição,\\nCódigo  FG-7,  em seu afastamento  por  motivo  de  Laudo Médico  do  titular  da  Função,  no  período de\\n05/02/2020 a 11/02/2020, com o decorrente pagamento das vantagens por 7 dias.\\nMAURÍCIO VIÉGAS DA SILVA\\nPró-Reitor de Gestão de Pessoas\\n                                                                              \n",
       "105801  Documento gerado sob autenticação Nº KMT.508.839.IRF, disponível no endereço\\nhttp://www.ufrgs.br/autenticacao\\nDocumento certificado eletronicamente, conforme Portaria nº\\n3362/2016, que institui o Sistema de Documentos Eletrônicos da UFRGS.\\n1/1\\nPORTARIA Nº             1957                  de  05/03/2020\\nO PRÓ-REITOR DE GESTÃO DE PESSOAS DA UNIVERSIDADE FEDERAL DO RIO GRANDE DO SUL, no\\nuso de suas atribuições que lhe foram conferidas pela Portaria nº.7684, de 03 de outubro de 2016, do\\nMagnífico Reitor, e conforme o Laudo Médico n°60148,\\nRESOLVE\\nDesignar, temporariamente, nos termos da Lei nº. 8.112, de 11 de dezembro de 1990, com redação\\ndada pela Lei nº.9.527, de 10 de dezembro de 1997, o ocupante do cargo de TÉCNICO DE LABORATÓRIO\\nÁREA, do Quadro de Pessoal desta Universidade, PEDRO MOTIFUMI KUAMOTO (Siape: 0354874 ),  para\\nsubstituir   Ricardo Schäffer da Rosa (Siape: 1935227 ), Coordenador do Núcleo de Infraestrutura da Gerência\\nAdm do Instituto de Química, Código FG-7, em seu afastamento por motivo de Laudo Médico do titular da\\nFunção, no dia 13/02/2020, com o decorrente pagamento das vantagens por 1 dia.\\nMAURÍCIO VIÉGAS DA SILVA\\nPró-Reitor de Gestão de Pessoas\\n                                                                            \n",
       "105802  Documento gerado sob autenticação Nº DYG.509.949.IRF, disponível no endereço\\nhttp://www.ufrgs.br/autenticacao\\nDocumento certificado eletronicamente, conforme Portaria nº\\n3362/2016, que institui o Sistema de Documentos Eletrônicos da UFRGS.\\n1/1\\nPORTARIA Nº             1958                  de  05/03/2020\\nO PRÓ-REITOR DE GESTÃO DE PESSOAS DA UNIVERSIDADE FEDERAL DO RIO GRANDE DO SUL, no\\nuso de suas atribuições que lhe foram conferidas pela Portaria nº.7684, de 03 de outubro de 2016, do\\nMagnífico Reitor, e conforme o Laudo Médico n°60131,\\nRESOLVE\\nDesignar, temporariamente, nos termos da Lei nº. 8.112, de 11 de dezembro de 1990, com redação\\ndada pela Lei nº.9.527, de 10 de dezembro de 1997, o ocupante do cargo de ADMINISTRADOR, do Quadro de\\nPessoal desta Universidade, MARCOS JOSE DA SILVA (Siape: 1778855 ),  para substituir   TURENE ANDRADE E\\nSILVA NETO (Siape: 0356721 ), Diretor da Divisão de Preparo da Licitação do Departamento de Aquisição de\\nBens e Serviços, Código FG-4, em seu afastamento por motivo de Laudo Médico do titular da Função, no\\nperíodo de 16/03/2020 a 28/04/2020, com o decorrente pagamento das vantagens por 44 dias.\\nMAURÍCIO VIÉGAS DA SILVA\\nPró-Reitor de Gestão de Pessoas\\n                                                        \n",
       "105803  Documento gerado sob autenticação Nº MGM.074.907.T1L, disponível no\\nendereço http://www.ufrgs.br/autenticacao\\nDocumento certificado eletronicamente, conforme Portaria nº\\n3362/2016, que institui o Sistema de Documentos Eletrônicos da UFRGS.\\n1/1\\nPORTARIA Nº             1706                  de  27/02/2020\\nA VICE-REITORA DA UNIVERSIDADE FEDERAL DO RIO GRANDE DO SUL, no uso de suas atribuições\\nlegais e estatutárias , considerando o disposto na Portaria nº 7678, de 30 de setembro de 2016\\nRESOLVE\\nDispensar, a partir de 02/03/2020, a ocupante do cargo de Analista de Tecnologia da Informação -\\n701062,  do  Nível  de  Classificação EIV,  do  Quadro  de  Pessoal  desta  Universidade,  BIANCA MATOS DE\\nBARROS, matrícula SIAPE 2145796, da função de Diretora da Divisão de Tecnologia da Informação do Núcleo\\nde Apoio ao Ensino da Diretoria Administrativa do Campus Litoral Norte, Código SRH 1424, Código FG-3, para\\na qual  foi  designada pela Portaria nº  8505/14,  de 14/11/2014,  publicada no Diário Oficial  da União de\\n27/11/2014. Processo nº 23078.503731/2020-66.\\nJANE FRAGA TUTIKIAN\\nVice-Reitora.\\n                                                                                                                                                                  "
      ]
     },
     "execution_count": 159,
     "metadata": {},
     "output_type": "execute_result"
    }
   ],
   "source": [
    "df_docs = pd.DataFrame.from_dict(documents, orient='index')\n",
    "df_docs.columns = ['text']\n",
    "df_docs.head()"
   ]
  },
  {
   "cell_type": "markdown",
   "metadata": {},
   "source": [
    "#### Data Cleaning\n",
    "We will use the **data_processing.clear_text** function which was built to clean the specific document we are using here. Since we already know they will be used for NER, the objective of the cleaning is getting the text into a format which will be easy to split into sentences. Each sentence will later be used as an input to our neural network.\n",
    "There are three aspects we are cleaning:\n",
    "1. Removing line breaks as they make it very hard for the sentence tokenizer to correctly recognize the begining and ending of sentences in the text\n",
    "2. Removing repeated whitespaces which are used for the visual formatting of the documents but will generate unnecessary tokens for our neural network.\n",
    "3. There are a lot of law and document numbers in this documents. There isn't a consistent writing of these numbers which can start as \"nº.123\", \"nº. 123\" and \"nº 123\". We will padronize this occurences to appear as \"nº 123\" since the punctuation after \"nº\" makes it harder for the sentence tokenizer to correctly separate the sentences."
   ]
  },
  {
   "cell_type": "code",
   "execution_count": 160,
   "metadata": {},
   "outputs": [
    {
     "name": "stdout",
     "output_type": "stream",
     "text": [
      "Documento gerado sob autenticação Nº LKB.506.405.IRF, disponível no endereço\n",
      "http://www.ufrgs.br/autenticacao\n",
      "Documento certificado eletronicamente, conforme Portaria nº\n",
      "3362/2016, que institui o Sistema de Documentos Eletrônicos da UFRGS.\n",
      "1/1\n",
      "PORTARIA Nº             1955                  de  05/03/2020\n",
      "O PRÓ-REITOR DE GESTÃO DE PESSOAS DA UNIVERSIDADE FEDERAL DO RIO GRANDE DO SUL, no\n",
      "uso de suas atribuições que lhe foram conferidas pela Portaria nº.7684, de 03 de outubro de 2016, do\n",
      "Magnífico Reitor, e conforme o Laudo Médico n°60131,\n",
      "RESOLVE\n",
      "Designar, temporariamente, nos termos da Lei nº. 8.112, de 11 de dezembro de 1990, com redação\n",
      "dada  pela  Lei  nº.9.527,  de  10  de  dezembro  de  1997,  a  ocupante  do  cargo  de  ASSISTENTE  EM\n",
      "ADMINISTRAÇÃO, do Quadro de Pessoal  desta Universidade,  FRANCIELE MARQUES ZIQUINATTI (Siape:\n",
      "1091092 ),  para substituir   TURENE ANDRADE E SILVA NETO (Siape: 0356721 ), Diretor da Divisão de Preparo\n",
      "da Licitação do Departamento de Aquisição de Bens e Serviços, Código FG-4, em seu afastamento por motivo\n",
      "de  Laudo  Médico  do  titular  da  Função,  no  período  de  30/01/2020  a  15/03/2020,  com  o  decorrente\n",
      "pagamento das vantagens por 46 dias.\n",
      "MAURÍCIO VIÉGAS DA SILVA\n",
      "Pró-Reitor de Gestão de Pessoas\n",
      "\n",
      "Documento gerado sob autenticação Nº LKB.506.405.IRF, disponível no endereço http://www.ufrgs.br/autenticacao Documento certificado eletronicamente, conforme Portaria nº 3362/2016, que institui o Sistema de Documentos Eletrônicos da UFRGS. 1/1 PORTARIA Nº 1955 de 05/03/2020 O PRÓ-REITOR DE GESTÃO DE PESSOAS DA UNIVERSIDADE FEDERAL DO RIO GRANDE DO SUL, no uso de suas atribuições que lhe foram conferidas pela Portaria nº 7684, de 03 de outubro de 2016, do Magnífico Reitor, e conforme o Laudo Médico n°60131, RESOLVE Designar, temporariamente, nos termos da Lei nº 8.112, de 11 de dezembro de 1990, com redação dada pela Lei nº 9.527, de 10 de dezembro de 1997, a ocupante do cargo de ASSISTENTE EM ADMINISTRAÇÃO, do Quadro de Pessoal desta Universidade, FRANCIELE MARQUES ZIQUINATTI (Siape: 1091092 ), para substituir TURENE ANDRADE E SILVA NETO (Siape: 0356721 ), Diretor da Divisão de Preparo da Licitação do Departamento de Aquisição de Bens e Serviços, Código FG-4, em seu afastamento por motivo de Laudo Médico do titular da Função, no período de 30/01/2020 a 15/03/2020, com o decorrente pagamento das vantagens por 46 dias. MAURÍCIO VIÉGAS DA SILVA Pró-Reitor de Gestão de Pessoas \n"
     ]
    }
   ],
   "source": [
    "print(df_docs['text'].iloc[0])\n",
    "df_docs['text'] = df_docs['text'].apply(data_processing.clear_text)\n",
    "print(df_docs['text'].iloc[0])"
   ]
  },
  {
   "cell_type": "markdown",
   "metadata": {},
   "source": [
    "#### Sentence tokenization\n",
    "Having cleaned our documents we will split them into sentences. The **data_processing.split_text_sentences** function will return a DataFrame with: The sentences, a unique ID for each sentence and the index of the document each sentence is a part of."
   ]
  },
  {
   "cell_type": "code",
   "execution_count": 161,
   "metadata": {},
   "outputs": [
    {
     "data": {
      "text/html": [
       "<div>\n",
       "<style scoped>\n",
       "    .dataframe tbody tr th:only-of-type {\n",
       "        vertical-align: middle;\n",
       "    }\n",
       "\n",
       "    .dataframe tbody tr th {\n",
       "        vertical-align: top;\n",
       "    }\n",
       "\n",
       "    .dataframe thead th {\n",
       "        text-align: right;\n",
       "    }\n",
       "</style>\n",
       "<table border=\"1\" class=\"dataframe\">\n",
       "  <thead>\n",
       "    <tr style=\"text-align: right;\">\n",
       "      <th></th>\n",
       "      <th>document</th>\n",
       "      <th>sentence</th>\n",
       "      <th>sentence_id</th>\n",
       "    </tr>\n",
       "  </thead>\n",
       "  <tbody>\n",
       "    <tr>\n",
       "      <th>0</th>\n",
       "      <td>105798</td>\n",
       "      <td>Documento gerado sob autenticação Nº LKB.506.405.IRF, disponível no endereço http://www.ufrgs.br/autenticacao Documento certificado eletronicamente, conforme Portaria nº 3362/2016, que institui o Sistema de Documentos Eletrônicos da UFRGS.</td>\n",
       "      <td>0</td>\n",
       "    </tr>\n",
       "    <tr>\n",
       "      <th>1</th>\n",
       "      <td>105798</td>\n",
       "      <td>1/1 PORTARIA Nº 1955 de 05/03/2020 O PRÓ-REITOR DE GESTÃO DE PESSOAS DA UNIVERSIDADE FEDERAL DO RIO GRANDE DO SUL, no uso de suas atribuições que lhe foram conferidas pela Portaria nº 7684, de 03 de outubro de 2016, do Magnífico Reitor, e conforme o Laudo Médico n°60131, RESOLVE Designar, temporariamente, nos termos da Lei nº 8.112, de 11 de dezembro de 1990, com redação dada pela Lei nº 9.527, de 10 de dezembro de 1997, a ocupante do cargo de ASSISTENTE EM ADMINISTRAÇÃO, do Quadro de Pessoal desta Universidade, FRANCIELE MARQUES ZIQUINATTI (Siape: 1091092 ), para substituir TURENE ANDRADE E SILVA NETO (Siape: 0356721 ), Diretor da Divisão de Preparo da Licitação do Departamento de Aquisição de Bens e Serviços, Código FG-4, em seu afastamento por motivo de Laudo Médico do titular da Função, no período de 30/01/2020 a 15/03/2020, com o decorrente pagamento das vantagens por 46 dias.</td>\n",
       "      <td>1</td>\n",
       "    </tr>\n",
       "    <tr>\n",
       "      <th>2</th>\n",
       "      <td>105798</td>\n",
       "      <td>MAURÍCIO VIÉGAS DA SILVA Pró-Reitor de Gestão de Pessoas</td>\n",
       "      <td>2</td>\n",
       "    </tr>\n",
       "    <tr>\n",
       "      <th>3</th>\n",
       "      <td>105799</td>\n",
       "      <td>Documento gerado sob autenticação Nº BOA.507.615.IRF, disponível no endereço http://www.ufrgs.br/autenticacao Documento certificado eletronicamente, conforme Portaria nº 3362/2016, que institui o Sistema de Documentos Eletrônicos da UFRGS.</td>\n",
       "      <td>3</td>\n",
       "    </tr>\n",
       "    <tr>\n",
       "      <th>4</th>\n",
       "      <td>105799</td>\n",
       "      <td>1/1 PORTARIA Nº 1956 de 05/03/2020 O PRÓ-REITOR DE GESTÃO DE PESSOAS DA UNIVERSIDADE FEDERAL DO RIO GRANDE DO SUL, no uso de suas atribuições que lhe foram conferidas pela Portaria nº 7684, de 03 de outubro de 2016, do Magnífico Reitor, e conforme o Laudo Médico n°60170, RESOLVE Designar, temporariamente, nos termos da Lei nº 8.112, de 11 de dezembro de 1990, com redação dada pela Lei nº 9.527, de 10 de dezembro de 1997, o ocupante do cargo de TÉCNICO EM ASSUNTOS EDUCACIONAIS, do Quadro de Pessoal desta Universidade, FELIPE ANTÔNIO GUIDI SAUERESSIG (Siape: 1963089 ), para substituir JOSE EDUARDO HANDEL (Siape: 0357511 ), Secretário da COMGRAD de Nutrição, Código FG-7, em seu afastamento por motivo de Laudo Médico do titular da Função, no período de 05/02/2020 a 11/02/2020, com o decorrente pagamento das vantagens por 7 dias.</td>\n",
       "      <td>4</td>\n",
       "    </tr>\n",
       "  </tbody>\n",
       "</table>\n",
       "</div>"
      ],
      "text/plain": [
       "   document  \\\n",
       "0  105798     \n",
       "1  105798     \n",
       "2  105798     \n",
       "3  105799     \n",
       "4  105799     \n",
       "\n",
       "                                                                                                                                                                                                                                                                                                                                                                                                                                                                                                                                                                                                                                                                                                                                                                                                                                                                                                                         sentence  \\\n",
       "0  Documento gerado sob autenticação Nº LKB.506.405.IRF, disponível no endereço http://www.ufrgs.br/autenticacao Documento certificado eletronicamente, conforme Portaria nº 3362/2016, que institui o Sistema de Documentos Eletrônicos da UFRGS.                                                                                                                                                                                                                                                                                                                                                                                                                                                                                                                                                                                                                                                                                  \n",
       "1  1/1 PORTARIA Nº 1955 de 05/03/2020 O PRÓ-REITOR DE GESTÃO DE PESSOAS DA UNIVERSIDADE FEDERAL DO RIO GRANDE DO SUL, no uso de suas atribuições que lhe foram conferidas pela Portaria nº 7684, de 03 de outubro de 2016, do Magnífico Reitor, e conforme o Laudo Médico n°60131, RESOLVE Designar, temporariamente, nos termos da Lei nº 8.112, de 11 de dezembro de 1990, com redação dada pela Lei nº 9.527, de 10 de dezembro de 1997, a ocupante do cargo de ASSISTENTE EM ADMINISTRAÇÃO, do Quadro de Pessoal desta Universidade, FRANCIELE MARQUES ZIQUINATTI (Siape: 1091092 ), para substituir TURENE ANDRADE E SILVA NETO (Siape: 0356721 ), Diretor da Divisão de Preparo da Licitação do Departamento de Aquisição de Bens e Serviços, Código FG-4, em seu afastamento por motivo de Laudo Médico do titular da Função, no período de 30/01/2020 a 15/03/2020, com o decorrente pagamento das vantagens por 46 dias.   \n",
       "2  MAURÍCIO VIÉGAS DA SILVA Pró-Reitor de Gestão de Pessoas                                                                                                                                                                                                                                                                                                                                                                                                                                                                                                                                                                                                                                                                                                                                                                                                                                                                         \n",
       "3  Documento gerado sob autenticação Nº BOA.507.615.IRF, disponível no endereço http://www.ufrgs.br/autenticacao Documento certificado eletronicamente, conforme Portaria nº 3362/2016, que institui o Sistema de Documentos Eletrônicos da UFRGS.                                                                                                                                                                                                                                                                                                                                                                                                                                                                                                                                                                                                                                                                                  \n",
       "4  1/1 PORTARIA Nº 1956 de 05/03/2020 O PRÓ-REITOR DE GESTÃO DE PESSOAS DA UNIVERSIDADE FEDERAL DO RIO GRANDE DO SUL, no uso de suas atribuições que lhe foram conferidas pela Portaria nº 7684, de 03 de outubro de 2016, do Magnífico Reitor, e conforme o Laudo Médico n°60170, RESOLVE Designar, temporariamente, nos termos da Lei nº 8.112, de 11 de dezembro de 1990, com redação dada pela Lei nº 9.527, de 10 de dezembro de 1997, o ocupante do cargo de TÉCNICO EM ASSUNTOS EDUCACIONAIS, do Quadro de Pessoal desta Universidade, FELIPE ANTÔNIO GUIDI SAUERESSIG (Siape: 1963089 ), para substituir JOSE EDUARDO HANDEL (Siape: 0357511 ), Secretário da COMGRAD de Nutrição, Código FG-7, em seu afastamento por motivo de Laudo Médico do titular da Função, no período de 05/02/2020 a 11/02/2020, com o decorrente pagamento das vantagens por 7 dias.                                                             \n",
       "\n",
       "   sentence_id  \n",
       "0  0            \n",
       "1  1            \n",
       "2  2            \n",
       "3  3            \n",
       "4  4            "
      ]
     },
     "execution_count": 161,
     "metadata": {},
     "output_type": "execute_result"
    }
   ],
   "source": [
    "df_sentences = data_processing.split_text_sentences(df_docs['text'])\n",
    "pd.set_option(\"display.max_colwidth\", 0)\n",
    "df_sentences.head()"
   ]
  },
  {
   "cell_type": "markdown",
   "metadata": {},
   "source": [
    "#### Dealing with duplicate sentences\n",
    "Now that we have our dataset of sentences we'll go to the last step which is identifying and categorizing duplicate sentences. Since we need to manually annotate the dataset for training we can group duplicate sentences to facilitate the anottation process. The document we have are fairly standardized so there are a few duplicates we will find.\n",
    "\n",
    "Let's group sentences by their textual content. Each group will be composed of identical sentences."
   ]
  },
  {
   "cell_type": "code",
   "execution_count": 162,
   "metadata": {},
   "outputs": [],
   "source": [
    "test_group = df_sentences.groupby('sentence')"
   ]
  },
  {
   "cell_type": "code",
   "execution_count": 163,
   "metadata": {},
   "outputs": [],
   "source": [
    "#pd.set_option(\"display.max_rows\", 400)\n",
    "#test_group.describe()"
   ]
  },
  {
   "cell_type": "markdown",
   "metadata": {},
   "source": [
    "We loop each group of duplicated sentences and create a dictionary where the key will be the index of the first sentence of the group and the value is the index of all sentences equal to the first."
   ]
  },
  {
   "cell_type": "code",
   "execution_count": 164,
   "metadata": {},
   "outputs": [],
   "source": [
    "duplicates = {}\n",
    "for i in test_group:\n",
    "    dup_list = i[1]['sentence_id'].tolist()\n",
    "    duplicates[dup_list[0]] = dup_list\n"
   ]
  },
  {
   "cell_type": "markdown",
   "metadata": {},
   "source": [
    "We create a dataframe which will contain only unique sentences. The sentences that have identic pairs will have all of their indexes in a list in the 'duplicates' column. This will allow us to replicate the labels after the anotattion process."
   ]
  },
  {
   "cell_type": "code",
   "execution_count": 181,
   "metadata": {},
   "outputs": [],
   "source": [
    "df_unique_sentences = df_sentences.copy()\n",
    "df_unique_sentences['duplicates'] = pd.Series(duplicates, index=df_sentences.index)\n",
    "df_unique_sentences = df_unique_sentences.dropna(subset=['duplicates'])\n",
    "df_unique_sentences['label'] = \"\""
   ]
  },
  {
   "cell_type": "markdown",
   "metadata": {},
   "source": [
    "We can see that the unique dataframe has less sentences which represen the duplicates we removed"
   ]
  },
  {
   "cell_type": "code",
   "execution_count": 182,
   "metadata": {},
   "outputs": [
    {
     "name": "stdout",
     "output_type": "stream",
     "text": [
      "(106, 3)\n",
      "(84, 5)\n"
     ]
    }
   ],
   "source": [
    "pprint(df_sentences.shape)\n",
    "pprint(df_unique_sentences.shape)"
   ]
  },
  {
   "cell_type": "code",
   "execution_count": 183,
   "metadata": {},
   "outputs": [
    {
     "data": {
      "text/html": [
       "<div>\n",
       "<style scoped>\n",
       "    .dataframe tbody tr th:only-of-type {\n",
       "        vertical-align: middle;\n",
       "    }\n",
       "\n",
       "    .dataframe tbody tr th {\n",
       "        vertical-align: top;\n",
       "    }\n",
       "\n",
       "    .dataframe thead th {\n",
       "        text-align: right;\n",
       "    }\n",
       "</style>\n",
       "<table border=\"1\" class=\"dataframe\">\n",
       "  <thead>\n",
       "    <tr style=\"text-align: right;\">\n",
       "      <th></th>\n",
       "      <th>document</th>\n",
       "      <th>sentence</th>\n",
       "      <th>sentence_id</th>\n",
       "      <th>duplicates</th>\n",
       "      <th>label</th>\n",
       "    </tr>\n",
       "  </thead>\n",
       "  <tbody>\n",
       "    <tr>\n",
       "      <th>0</th>\n",
       "      <td>105798</td>\n",
       "      <td>Documento gerado sob autenticação Nº LKB.506.405.IRF, disponível no endereço http://www.ufrgs.br/autenticacao Documento certificado eletronicamente, conforme Portaria nº 3362/2016, que institui o Sistema de Documentos Eletrônicos da UFRGS.</td>\n",
       "      <td>0</td>\n",
       "      <td>[0]</td>\n",
       "      <td></td>\n",
       "    </tr>\n",
       "    <tr>\n",
       "      <th>1</th>\n",
       "      <td>105798</td>\n",
       "      <td>1/1 PORTARIA Nº 1955 de 05/03/2020 O PRÓ-REITOR DE GESTÃO DE PESSOAS DA UNIVERSIDADE FEDERAL DO RIO GRANDE DO SUL, no uso de suas atribuições que lhe foram conferidas pela Portaria nº 7684, de 03 de outubro de 2016, do Magnífico Reitor, e conforme o Laudo Médico n°60131, RESOLVE Designar, temporariamente, nos termos da Lei nº 8.112, de 11 de dezembro de 1990, com redação dada pela Lei nº 9.527, de 10 de dezembro de 1997, a ocupante do cargo de ASSISTENTE EM ADMINISTRAÇÃO, do Quadro de Pessoal desta Universidade, FRANCIELE MARQUES ZIQUINATTI (Siape: 1091092 ), para substituir TURENE ANDRADE E SILVA NETO (Siape: 0356721 ), Diretor da Divisão de Preparo da Licitação do Departamento de Aquisição de Bens e Serviços, Código FG-4, em seu afastamento por motivo de Laudo Médico do titular da Função, no período de 30/01/2020 a 15/03/2020, com o decorrente pagamento das vantagens por 46 dias.</td>\n",
       "      <td>1</td>\n",
       "      <td>[1]</td>\n",
       "      <td></td>\n",
       "    </tr>\n",
       "    <tr>\n",
       "      <th>2</th>\n",
       "      <td>105798</td>\n",
       "      <td>MAURÍCIO VIÉGAS DA SILVA Pró-Reitor de Gestão de Pessoas</td>\n",
       "      <td>2</td>\n",
       "      <td>[2, 5, 8, 11, 17, 19, 21, 23, 25, 41, 56]</td>\n",
       "      <td></td>\n",
       "    </tr>\n",
       "    <tr>\n",
       "      <th>3</th>\n",
       "      <td>105799</td>\n",
       "      <td>Documento gerado sob autenticação Nº BOA.507.615.IRF, disponível no endereço http://www.ufrgs.br/autenticacao Documento certificado eletronicamente, conforme Portaria nº 3362/2016, que institui o Sistema de Documentos Eletrônicos da UFRGS.</td>\n",
       "      <td>3</td>\n",
       "      <td>[3]</td>\n",
       "      <td></td>\n",
       "    </tr>\n",
       "    <tr>\n",
       "      <th>4</th>\n",
       "      <td>105799</td>\n",
       "      <td>1/1 PORTARIA Nº 1956 de 05/03/2020 O PRÓ-REITOR DE GESTÃO DE PESSOAS DA UNIVERSIDADE FEDERAL DO RIO GRANDE DO SUL, no uso de suas atribuições que lhe foram conferidas pela Portaria nº 7684, de 03 de outubro de 2016, do Magnífico Reitor, e conforme o Laudo Médico n°60170, RESOLVE Designar, temporariamente, nos termos da Lei nº 8.112, de 11 de dezembro de 1990, com redação dada pela Lei nº 9.527, de 10 de dezembro de 1997, o ocupante do cargo de TÉCNICO EM ASSUNTOS EDUCACIONAIS, do Quadro de Pessoal desta Universidade, FELIPE ANTÔNIO GUIDI SAUERESSIG (Siape: 1963089 ), para substituir JOSE EDUARDO HANDEL (Siape: 0357511 ), Secretário da COMGRAD de Nutrição, Código FG-7, em seu afastamento por motivo de Laudo Médico do titular da Função, no período de 05/02/2020 a 11/02/2020, com o decorrente pagamento das vantagens por 7 dias.</td>\n",
       "      <td>4</td>\n",
       "      <td>[4]</td>\n",
       "      <td></td>\n",
       "    </tr>\n",
       "    <tr>\n",
       "      <th>6</th>\n",
       "      <td>105801</td>\n",
       "      <td>Documento gerado sob autenticação Nº KMT.508.839.IRF, disponível no endereço http://www.ufrgs.br/autenticacao Documento certificado eletronicamente, conforme Portaria nº 3362/2016, que institui o Sistema de Documentos Eletrônicos da UFRGS.</td>\n",
       "      <td>6</td>\n",
       "      <td>[6]</td>\n",
       "      <td></td>\n",
       "    </tr>\n",
       "    <tr>\n",
       "      <th>7</th>\n",
       "      <td>105801</td>\n",
       "      <td>1/1 PORTARIA Nº 1957 de 05/03/2020 O PRÓ-REITOR DE GESTÃO DE PESSOAS DA UNIVERSIDADE FEDERAL DO RIO GRANDE DO SUL, no uso de suas atribuições que lhe foram conferidas pela Portaria nº 7684, de 03 de outubro de 2016, do Magnífico Reitor, e conforme o Laudo Médico n°60148, RESOLVE Designar, temporariamente, nos termos da Lei nº 8.112, de 11 de dezembro de 1990, com redação dada pela Lei nº 9.527, de 10 de dezembro de 1997, o ocupante do cargo de TÉCNICO DE LABORATÓRIO ÁREA, do Quadro de Pessoal desta Universidade, PEDRO MOTIFUMI KUAMOTO (Siape: 0354874 ), para substituir Ricardo Schäffer da Rosa (Siape: 1935227 ), Coordenador do Núcleo de Infraestrutura da Gerência Adm do Instituto de Química, Código FG-7, em seu afastamento por motivo de Laudo Médico do titular da Função, no dia 13/02/2020, com o decorrente pagamento das vantagens por 1 dia.</td>\n",
       "      <td>7</td>\n",
       "      <td>[7]</td>\n",
       "      <td></td>\n",
       "    </tr>\n",
       "    <tr>\n",
       "      <th>9</th>\n",
       "      <td>105802</td>\n",
       "      <td>Documento gerado sob autenticação Nº DYG.509.949.IRF, disponível no endereço http://www.ufrgs.br/autenticacao Documento certificado eletronicamente, conforme Portaria nº 3362/2016, que institui o Sistema de Documentos Eletrônicos da UFRGS.</td>\n",
       "      <td>9</td>\n",
       "      <td>[9]</td>\n",
       "      <td></td>\n",
       "    </tr>\n",
       "    <tr>\n",
       "      <th>10</th>\n",
       "      <td>105802</td>\n",
       "      <td>1/1 PORTARIA Nº 1958 de 05/03/2020 O PRÓ-REITOR DE GESTÃO DE PESSOAS DA UNIVERSIDADE FEDERAL DO RIO GRANDE DO SUL, no uso de suas atribuições que lhe foram conferidas pela Portaria nº 7684, de 03 de outubro de 2016, do Magnífico Reitor, e conforme o Laudo Médico n°60131, RESOLVE Designar, temporariamente, nos termos da Lei nº 8.112, de 11 de dezembro de 1990, com redação dada pela Lei nº 9.527, de 10 de dezembro de 1997, o ocupante do cargo de ADMINISTRADOR, do Quadro de Pessoal desta Universidade, MARCOS JOSE DA SILVA (Siape: 1778855 ), para substituir TURENE ANDRADE E SILVA NETO (Siape: 0356721 ), Diretor da Divisão de Preparo da Licitação do Departamento de Aquisição de Bens e Serviços, Código FG-4, em seu afastamento por motivo de Laudo Médico do titular da Função, no período de 16/03/2020 a 28/04/2020, com o decorrente pagamento das vantagens por 44 dias.</td>\n",
       "      <td>10</td>\n",
       "      <td>[10]</td>\n",
       "      <td></td>\n",
       "    </tr>\n",
       "    <tr>\n",
       "      <th>12</th>\n",
       "      <td>105803</td>\n",
       "      <td>Documento gerado sob autenticação Nº MGM.074.907.T1L, disponível no endereço http://www.ufrgs.br/autenticacao Documento certificado eletronicamente, conforme Portaria nº 3362/2016, que institui o Sistema de Documentos Eletrônicos da UFRGS.</td>\n",
       "      <td>12</td>\n",
       "      <td>[12]</td>\n",
       "      <td></td>\n",
       "    </tr>\n",
       "  </tbody>\n",
       "</table>\n",
       "</div>"
      ],
      "text/plain": [
       "    document  \\\n",
       "0   105798     \n",
       "1   105798     \n",
       "2   105798     \n",
       "3   105799     \n",
       "4   105799     \n",
       "6   105801     \n",
       "7   105801     \n",
       "9   105802     \n",
       "10  105802     \n",
       "12  105803     \n",
       "\n",
       "                                                                                                                                                                                                                                                                                                                                                                                                                                                                                                                                                                                                                                                                                                                                                                                                                                                                                                                          sentence  \\\n",
       "0   Documento gerado sob autenticação Nº LKB.506.405.IRF, disponível no endereço http://www.ufrgs.br/autenticacao Documento certificado eletronicamente, conforme Portaria nº 3362/2016, que institui o Sistema de Documentos Eletrônicos da UFRGS.                                                                                                                                                                                                                                                                                                                                                                                                                                                                                                                                                                                                                                                                                  \n",
       "1   1/1 PORTARIA Nº 1955 de 05/03/2020 O PRÓ-REITOR DE GESTÃO DE PESSOAS DA UNIVERSIDADE FEDERAL DO RIO GRANDE DO SUL, no uso de suas atribuições que lhe foram conferidas pela Portaria nº 7684, de 03 de outubro de 2016, do Magnífico Reitor, e conforme o Laudo Médico n°60131, RESOLVE Designar, temporariamente, nos termos da Lei nº 8.112, de 11 de dezembro de 1990, com redação dada pela Lei nº 9.527, de 10 de dezembro de 1997, a ocupante do cargo de ASSISTENTE EM ADMINISTRAÇÃO, do Quadro de Pessoal desta Universidade, FRANCIELE MARQUES ZIQUINATTI (Siape: 1091092 ), para substituir TURENE ANDRADE E SILVA NETO (Siape: 0356721 ), Diretor da Divisão de Preparo da Licitação do Departamento de Aquisição de Bens e Serviços, Código FG-4, em seu afastamento por motivo de Laudo Médico do titular da Função, no período de 30/01/2020 a 15/03/2020, com o decorrente pagamento das vantagens por 46 dias.   \n",
       "2   MAURÍCIO VIÉGAS DA SILVA Pró-Reitor de Gestão de Pessoas                                                                                                                                                                                                                                                                                                                                                                                                                                                                                                                                                                                                                                                                                                                                                                                                                                                                         \n",
       "3   Documento gerado sob autenticação Nº BOA.507.615.IRF, disponível no endereço http://www.ufrgs.br/autenticacao Documento certificado eletronicamente, conforme Portaria nº 3362/2016, que institui o Sistema de Documentos Eletrônicos da UFRGS.                                                                                                                                                                                                                                                                                                                                                                                                                                                                                                                                                                                                                                                                                  \n",
       "4   1/1 PORTARIA Nº 1956 de 05/03/2020 O PRÓ-REITOR DE GESTÃO DE PESSOAS DA UNIVERSIDADE FEDERAL DO RIO GRANDE DO SUL, no uso de suas atribuições que lhe foram conferidas pela Portaria nº 7684, de 03 de outubro de 2016, do Magnífico Reitor, e conforme o Laudo Médico n°60170, RESOLVE Designar, temporariamente, nos termos da Lei nº 8.112, de 11 de dezembro de 1990, com redação dada pela Lei nº 9.527, de 10 de dezembro de 1997, o ocupante do cargo de TÉCNICO EM ASSUNTOS EDUCACIONAIS, do Quadro de Pessoal desta Universidade, FELIPE ANTÔNIO GUIDI SAUERESSIG (Siape: 1963089 ), para substituir JOSE EDUARDO HANDEL (Siape: 0357511 ), Secretário da COMGRAD de Nutrição, Código FG-7, em seu afastamento por motivo de Laudo Médico do titular da Função, no período de 05/02/2020 a 11/02/2020, com o decorrente pagamento das vantagens por 7 dias.                                                             \n",
       "6   Documento gerado sob autenticação Nº KMT.508.839.IRF, disponível no endereço http://www.ufrgs.br/autenticacao Documento certificado eletronicamente, conforme Portaria nº 3362/2016, que institui o Sistema de Documentos Eletrônicos da UFRGS.                                                                                                                                                                                                                                                                                                                                                                                                                                                                                                                                                                                                                                                                                  \n",
       "7   1/1 PORTARIA Nº 1957 de 05/03/2020 O PRÓ-REITOR DE GESTÃO DE PESSOAS DA UNIVERSIDADE FEDERAL DO RIO GRANDE DO SUL, no uso de suas atribuições que lhe foram conferidas pela Portaria nº 7684, de 03 de outubro de 2016, do Magnífico Reitor, e conforme o Laudo Médico n°60148, RESOLVE Designar, temporariamente, nos termos da Lei nº 8.112, de 11 de dezembro de 1990, com redação dada pela Lei nº 9.527, de 10 de dezembro de 1997, o ocupante do cargo de TÉCNICO DE LABORATÓRIO ÁREA, do Quadro de Pessoal desta Universidade, PEDRO MOTIFUMI KUAMOTO (Siape: 0354874 ), para substituir Ricardo Schäffer da Rosa (Siape: 1935227 ), Coordenador do Núcleo de Infraestrutura da Gerência Adm do Instituto de Química, Código FG-7, em seu afastamento por motivo de Laudo Médico do titular da Função, no dia 13/02/2020, com o decorrente pagamento das vantagens por 1 dia.                                             \n",
       "9   Documento gerado sob autenticação Nº DYG.509.949.IRF, disponível no endereço http://www.ufrgs.br/autenticacao Documento certificado eletronicamente, conforme Portaria nº 3362/2016, que institui o Sistema de Documentos Eletrônicos da UFRGS.                                                                                                                                                                                                                                                                                                                                                                                                                                                                                                                                                                                                                                                                                  \n",
       "10  1/1 PORTARIA Nº 1958 de 05/03/2020 O PRÓ-REITOR DE GESTÃO DE PESSOAS DA UNIVERSIDADE FEDERAL DO RIO GRANDE DO SUL, no uso de suas atribuições que lhe foram conferidas pela Portaria nº 7684, de 03 de outubro de 2016, do Magnífico Reitor, e conforme o Laudo Médico n°60131, RESOLVE Designar, temporariamente, nos termos da Lei nº 8.112, de 11 de dezembro de 1990, com redação dada pela Lei nº 9.527, de 10 de dezembro de 1997, o ocupante do cargo de ADMINISTRADOR, do Quadro de Pessoal desta Universidade, MARCOS JOSE DA SILVA (Siape: 1778855 ), para substituir TURENE ANDRADE E SILVA NETO (Siape: 0356721 ), Diretor da Divisão de Preparo da Licitação do Departamento de Aquisição de Bens e Serviços, Código FG-4, em seu afastamento por motivo de Laudo Médico do titular da Função, no período de 16/03/2020 a 28/04/2020, com o decorrente pagamento das vantagens por 44 dias.                         \n",
       "12  Documento gerado sob autenticação Nº MGM.074.907.T1L, disponível no endereço http://www.ufrgs.br/autenticacao Documento certificado eletronicamente, conforme Portaria nº 3362/2016, que institui o Sistema de Documentos Eletrônicos da UFRGS.                                                                                                                                                                                                                                                                                                                                                                                                                                                                                                                                                                                                                                                                                  \n",
       "\n",
       "    sentence_id                                 duplicates label  \n",
       "0   0            [0]                                              \n",
       "1   1            [1]                                              \n",
       "2   2            [2, 5, 8, 11, 17, 19, 21, 23, 25, 41, 56]        \n",
       "3   3            [3]                                              \n",
       "4   4            [4]                                              \n",
       "6   6            [6]                                              \n",
       "7   7            [7]                                              \n",
       "9   9            [9]                                              \n",
       "10  10           [10]                                             \n",
       "12  12           [12]                                             "
      ]
     },
     "execution_count": 183,
     "metadata": {},
     "output_type": "execute_result"
    }
   ],
   "source": [
    "df_unique_sentences.head(10)"
   ]
  },
  {
   "cell_type": "code",
   "execution_count": 184,
   "metadata": {},
   "outputs": [],
   "source": [
    "#pprint(df_unique_sentences.to_json(lines=True, orient = 'records'))\n",
    "df_unique_sentences.to_json(os.path.join(path_to_file, 'unique_sentences.jsonl'),lines=True, orient = 'records')"
   ]
  }
 ],
 "metadata": {
  "kernelspec": {
   "display_name": "Python 3.10.4 ('NLP22')",
   "language": "python",
   "name": "python3"
  },
  "language_info": {
   "codemirror_mode": {
    "name": "ipython",
    "version": 3
   },
   "file_extension": ".py",
   "mimetype": "text/x-python",
   "name": "python",
   "nbconvert_exporter": "python",
   "pygments_lexer": "ipython3",
   "version": "3.10.4"
  },
  "orig_nbformat": 4,
  "vscode": {
   "interpreter": {
    "hash": "228764ee21566ea5d9101d690a7d226c86c8b64251894d53614cd4c162a99691"
   }
  }
 },
 "nbformat": 4,
 "nbformat_minor": 2
}
