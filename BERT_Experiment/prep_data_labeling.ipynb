{
 "cells": [
  {
   "cell_type": "code",
   "execution_count": 1,
   "metadata": {},
   "outputs": [
    {
     "name": "stderr",
     "output_type": "stream",
     "text": [
      "[nltk_data] Downloading package punkt to\n",
      "[nltk_data]     C:\\Users\\arthu\\AppData\\Roaming\\nltk_data...\n",
      "[nltk_data]   Unzipping tokenizers\\punkt.zip.\n",
      "[nltk_data] Downloading package punkt to\n",
      "[nltk_data]     C:\\Users\\arthu\\AppData\\Roaming\\nltk_data...\n",
      "[nltk_data]   Package punkt is already up-to-date!\n"
     ]
    },
    {
     "data": {
      "text/plain": [
       "True"
      ]
     },
     "execution_count": 1,
     "metadata": {},
     "output_type": "execute_result"
    }
   ],
   "source": [
    "import nltk\n",
    "from nltk.tokenize import sent_tokenize, word_tokenize\n",
    "import numpy as np\n",
    "import pandas as pd\n",
    "import textwrap\n",
    "from pprint import pprint\n",
    "import os\n",
    "import re\n",
    "import data_processing\n",
    "nltk.download('punkt')"
   ]
  },
  {
   "cell_type": "code",
   "execution_count": 2,
   "metadata": {},
   "outputs": [
    {
     "name": "stderr",
     "output_type": "stream",
     "text": [
      "[nltk_data] Downloading package punkt to\n",
      "[nltk_data]     C:\\Users\\arthu\\AppData\\Roaming\\nltk_data...\n",
      "[nltk_data]   Package punkt is already up-to-date!\n"
     ]
    },
    {
     "data": {
      "text/plain": [
       "<module 'data_processing' from 'c:\\\\Users\\\\arthu\\\\Documents\\\\GitHub\\\\ner-using-bert\\\\BERT_Experiment\\\\data_processing.py'>"
      ]
     },
     "execution_count": 2,
     "metadata": {},
     "output_type": "execute_result"
    }
   ],
   "source": [
    "import importlib\n",
    "importlib.reload(data_processing)"
   ]
  },
  {
   "cell_type": "code",
   "execution_count": 8,
   "metadata": {},
   "outputs": [],
   "source": [
    "path_to_test = \"acerpi_dataset/test/raw_documents/\"\n",
    "path_to_train = \"acerpi_dataset/train/raw_documents/\""
   ]
  },
  {
   "cell_type": "markdown",
   "metadata": {},
   "source": [
    "#### Open Unannotated Documents\n",
    "We get the unnanotatted texts and store each document as a key, value pair in a dictionary"
   ]
  },
  {
   "cell_type": "code",
   "execution_count": 9,
   "metadata": {},
   "outputs": [],
   "source": [
    "documents = {}\n",
    "# Get test documents that require manual labeling\n",
    "#ALREADY LABELED\n",
    "# for filename in os.listdir(path_to_test):\n",
    "#    if filename.endswith(\".txt\"):\n",
    "#       with open(os.path.join(path_to_test, filename), 'r', encoding=\"utf8\") as f:\n",
    "#          key = int(filename.replace('.txt', ''))\n",
    "#          value = f.read()\n",
    "#          documents[key] = value\n",
    "\n",
    "# Get train documents that require manual labeling\n",
    "for filename in os.listdir(path_to_train):\n",
    "   if filename.endswith(\".txt\"):\n",
    "      with open(os.path.join(path_to_train, filename), 'r', encoding=\"utf8\") as f:\n",
    "         key = int(filename.replace('.txt', ''))\n",
    "         value = f.read()\n",
    "         documents[key] = value"
   ]
  },
  {
   "cell_type": "markdown",
   "metadata": {},
   "source": [
    "Next we store the documents in a DataFrame"
   ]
  },
  {
   "cell_type": "code",
   "execution_count": 15,
   "metadata": {},
   "outputs": [
    {
     "name": "stdout",
     "output_type": "stream",
     "text": [
      "(538, 1)\n"
     ]
    },
    {
     "data": {
      "text/html": [
       "<div>\n",
       "<style scoped>\n",
       "    .dataframe tbody tr th:only-of-type {\n",
       "        vertical-align: middle;\n",
       "    }\n",
       "\n",
       "    .dataframe tbody tr th {\n",
       "        vertical-align: top;\n",
       "    }\n",
       "\n",
       "    .dataframe thead th {\n",
       "        text-align: right;\n",
       "    }\n",
       "</style>\n",
       "<table border=\"1\" class=\"dataframe\">\n",
       "  <thead>\n",
       "    <tr style=\"text-align: right;\">\n",
       "      <th></th>\n",
       "      <th>text</th>\n",
       "    </tr>\n",
       "  </thead>\n",
       "  <tbody>\n",
       "    <tr>\n",
       "      <th>25644</th>\n",
       "      <td>Documento gerado sob autenticação Nº AHX.976.7...</td>\n",
       "    </tr>\n",
       "    <tr>\n",
       "      <th>25645</th>\n",
       "      <td>Documento gerado sob autenticação Nº SDG.667.3...</td>\n",
       "    </tr>\n",
       "    <tr>\n",
       "      <th>25646</th>\n",
       "      <td>Documento gerado sob autenticação Nº ASL.670.4...</td>\n",
       "    </tr>\n",
       "    <tr>\n",
       "      <th>25647</th>\n",
       "      <td>Documento gerado sob autenticação Nº PUG.672.5...</td>\n",
       "    </tr>\n",
       "    <tr>\n",
       "      <th>25648</th>\n",
       "      <td>Documento gerado sob autenticação Nº ORY.674.6...</td>\n",
       "    </tr>\n",
       "  </tbody>\n",
       "</table>\n",
       "</div>"
      ],
      "text/plain": [
       "                                                    text\n",
       "25644  Documento gerado sob autenticação Nº AHX.976.7...\n",
       "25645  Documento gerado sob autenticação Nº SDG.667.3...\n",
       "25646  Documento gerado sob autenticação Nº ASL.670.4...\n",
       "25647  Documento gerado sob autenticação Nº PUG.672.5...\n",
       "25648  Documento gerado sob autenticação Nº ORY.674.6..."
      ]
     },
     "execution_count": 15,
     "metadata": {},
     "output_type": "execute_result"
    }
   ],
   "source": [
    "df_docs = pd.DataFrame.from_dict(documents, orient='index')\n",
    "df_docs.columns = ['text']\n",
    "print(df_docs.shape)\n",
    "df_docs.head()"
   ]
  },
  {
   "cell_type": "markdown",
   "metadata": {},
   "source": [
    "#### Data Cleaning\n",
    "We will use the **data_processing.clear_text** function which was built to clean the specific document we are using here. Since we already know they will be used for NER, the objective of the cleaning is getting the text into a format which will be easy to split into sentences. Each sentence will later be used as an input to our neural network.\n",
    "There are three aspects we are cleaning:\n",
    "1. Removing line breaks as they make it very hard for the sentence tokenizer to correctly recognize the begining and ending of sentences in the text\n",
    "2. Removing repeated whitespaces which are used for the visual formatting of the documents but will generate unnecessary tokens for our neural network.\n",
    "3. There are a lot of law and document numbers in this documents. There isn't a consistent writing of these numbers which can start as \"nº.123\", \"nº. 123\" and \"nº 123\". We will padronize this occurences to appear as \"nº 123\" since the punctuation after \"nº\" makes it harder for the sentence tokenizer to correctly separate the sentences."
   ]
  },
  {
   "cell_type": "code",
   "execution_count": 7,
   "metadata": {},
   "outputs": [
    {
     "data": {
      "text/plain": [
       "'Documento gerado sob autenticação Nº RRM.458.680.FGN, disponível no\\nendereço http://www.ufrgs.br/autenticacao\\nDocumento certificado eletronicamente, conforme Portaria nº\\n3362/2016, que institui o Sistema de Documentos Eletrônicos da UFRGS.\\n1/1\\nPORTARIA Nº             4534                  de  22/06/2018\\nO PRÓ-REITOR DE PLANEJAMENTO E ADMINISTRAÇÃO DA UNIVERSIDADE FEDERAL DO RIO GRANDE\\nDO SUL, no uso de suas atribuições, considerando o disposto na Portaria nº 7611, de 29 de setembro de\\n2016,  e  tendo  em  vista  o  que  consta  dos  Processos  Administrativos  n°  23078.510719/2016-21  e\\n23078.524008/2017-15, do Contrato nº 044/2017, da Lei 10.520/02 e ainda da Lei 8.666/93,\\nRESOLVE:\\n \\nAplicar à Empresa NEVES E ROMANOSKLI LTDA - ME, CNPJ n.º 15.717.915/0001-90, conforme atestado pela\\nfiscalização no doc. SEI nº 0817113 e 0925939, bem como pelo NUDECON (doc. SEI nº 1055527) no Processo\\n23078.524008/2017-15, as seguintes sanções administrativas:\\n \\n1. ADVERTÊNCIA, prevista na no item 1 da Cláusula décima primeira do contrato em epígrafe, pelos\\ndescumprimentos: atraso na entrega das refeições e veículo utilizado para entrega fora dos padrões\\nexigidos no contrato, por tratar-se de primeira ocorrência;\\n2. MULTA, no montante de R$ 1.074,88 (um mil e setenta e quatro reais e oitenta e oito centavos),\\nconforme  demonstrativo  de  cálculo  no  doc.  SEI  nº1057521,  prevista  no  inciso  III  do  item  3\\nda  Cláusula  décima  primeira,  pelo  descumprimento:  alterações  do  cardápio  fora  do\\nprazo  estabelecido  no  contrato,  por  não  se  tratar  de  primeira  ocorrência.\\n \\n \\nRegistre-se no SICAF, nos termos do art. 38 da IN nº 02/2010, da SLTI/MPOG. \\nHELIO HENKIN\\nPró-Reitor de Planejamento e Administração\\n'"
      ]
     },
     "execution_count": 7,
     "metadata": {},
     "output_type": "execute_result"
    }
   ],
   "source": [
    "df_docs.loc[55505]['text']"
   ]
  },
  {
   "cell_type": "code",
   "execution_count": 16,
   "metadata": {},
   "outputs": [
    {
     "name": "stdout",
     "output_type": "stream",
     "text": [
      "Documento gerado sob autenticação Nº FIH.807.978.DS7, disponível no endereço\n",
      "http://www.ufrgs.br/autenticacao\n",
      "Documento certificado eletronicamente, conforme Portaria nº\n",
      "3362/2016, que institui o Sistema de Documentos Eletrônicos da UFRGS.\n",
      "1/1\n",
      "PORTARIA Nº             4562                  de  25/06/2018\n",
      "O PRÓ-REITOR DE GESTÃO DE PESSOAS DA UNIVERSIDADE FEDERAL DO RIO GRANDE DO SUL, no\n",
      "uso de suas atribuições que lhe foram conferidas pela Portaria nº.7684, de 03 de outubro de 2016, do\n",
      "Magnífico Reitor, e conforme o Laudo Médico n°49995,\n",
      "RESOLVE\n",
      "Designar, temporariamente, nos termos da Lei nº. 8.112, de 11 de dezembro de 1990, com redação\n",
      "dada  pela  Lei  nº.9.527,  de  10  de  dezembro  de  1997,  a  ocupante  do  cargo  de  ASSISTENTE  EM\n",
      "ADMINISTRAÇÃO, do Quadro de Pessoal desta Universidade, LUCIANA DENISE FLORES (Siape: 2081417 ),\n",
      " para substituir   ANDERSON GONÇALVES ASSUNÇÃO (Siape: 2056808 ), Secretário da Procuradoria-Geral,\n",
      "Código  FG-2,  em seu afastamento  por  motivo  de  Laudo Médico  do  titular  da  Função,  no  período de\n",
      "04/06/2018 a 17/06/2018, com o decorrente pagamento das vantagens por 14 dias.\n",
      "MAURÍCIO VIÉGAS DA SILVA\n",
      "Pró-Reitor de Gestão de Pessoas\n",
      "\n",
      "Documento gerado sob autenticação Nº FIH.807.978.DS7, disponível no endereço http://www.ufrgs.br/autenticacao Documento certificado eletronicamente, conforme Portaria nº 3362/2016, que institui o Sistema de Documentos Eletrônicos da UFRGS. 1/1 PORTARIA Nº 4562 de 25/06/2018 O PRÓ-REITOR DE GESTÃO DE PESSOAS DA UNIVERSIDADE FEDERAL DO RIO GRANDE DO SUL, no uso de suas atribuições que lhe foram conferidas pela Portaria nº 7684, de 03 de outubro de 2016, do Magnífico Reitor, e conforme o Laudo Médico n°49995, RESOLVE. Designar, temporariamente, nos termos da Lei nº 8.112, de 11 de dezembro de 1990, com redação dada pela Lei nº 9.527, de 10 de dezembro de 1997, a ocupante do cargo de ASSISTENTE EM ADMINISTRAÇÃO, do Quadro de Pessoal desta Universidade, LUCIANA DENISE FLORES (Siape: 2081417 ), para substituir ANDERSON GONÇALVES ASSUNÇÃO (Siape: 2056808 ), Secretário da Procuradoria-Geral, Código FG-2, em seu afastamento por motivo de Laudo Médico do titular da Função, no período de 04/06/2018 a 17/06/2018, com o decorrente pagamento das vantagens por 14 dias. MAURÍCIO VIÉGAS DA SILVA Pró-Reitor de Gestão de Pessoas \n"
     ]
    }
   ],
   "source": [
    "print(df_docs['text'].loc[55698])\n",
    "df_docs['text'] = df_docs['text'].apply(data_processing.clear_text)\n",
    "print(df_docs['text'].loc[55698])"
   ]
  },
  {
   "cell_type": "markdown",
   "metadata": {},
   "source": [
    "#### Sentence tokenization\n",
    "Having cleaned our documents we will split them into sentences. The **data_processing.split_text_sentences** function will return a DataFrame with: The sentences, a unique ID for each sentence and the index of the document each sentence is a part of."
   ]
  },
  {
   "cell_type": "code",
   "execution_count": 9,
   "metadata": {},
   "outputs": [
    {
     "name": "stdout",
     "output_type": "stream",
     "text": [
      "(2512, 3)\n"
     ]
    },
    {
     "data": {
      "text/html": [
       "<div>\n",
       "<style scoped>\n",
       "    .dataframe tbody tr th:only-of-type {\n",
       "        vertical-align: middle;\n",
       "    }\n",
       "\n",
       "    .dataframe tbody tr th {\n",
       "        vertical-align: top;\n",
       "    }\n",
       "\n",
       "    .dataframe thead th {\n",
       "        text-align: right;\n",
       "    }\n",
       "</style>\n",
       "<table border=\"1\" class=\"dataframe\">\n",
       "  <thead>\n",
       "    <tr style=\"text-align: right;\">\n",
       "      <th></th>\n",
       "      <th>document</th>\n",
       "      <th>sentence</th>\n",
       "      <th>sentence_id</th>\n",
       "    </tr>\n",
       "  </thead>\n",
       "  <tbody>\n",
       "    <tr>\n",
       "      <th>0</th>\n",
       "      <td>25644</td>\n",
       "      <td>Documento gerado sob autenticação Nº AHX.976.775.357, disponível no endereço http://www.ufrgs.br/autenticacao Documento certificado eletronicamente, conforme Portaria nº 3362/2016, que institui o Sistema de Documentos Eletrônicos da UFRGS.</td>\n",
       "      <td>0</td>\n",
       "    </tr>\n",
       "    <tr>\n",
       "      <th>1</th>\n",
       "      <td>25644</td>\n",
       "      <td>1/1 PORTARIA Nº 5866 de 08/08/2016 O PRÓ-REITOR DE GESTÃO DE PESSOAS DA UNIVERSIDADE FEDERAL DO RIO GRANDE DO SUL, no uso de suas atribuições, considerando o disposto na Portaria nº 5469, de 04 de outubro de 2012 RESOLVE.</td>\n",
       "      <td>1</td>\n",
       "    </tr>\n",
       "    <tr>\n",
       "      <th>2</th>\n",
       "      <td>25644</td>\n",
       "      <td>Conceder à servidora LISIANE RAMOS VILK, ocupante do cargo de Administrador de Edifícios - 701400, lotada na Faculdade de Arquitetura, SIAPE 2325261, o percentual de 25% (vinte e cinco por cento) de Incentivo à Qualificação, a contar de 15/07/2016, tendo em vista a conclusão do curso de Graduação em Administração - Bacharelado, conforme o Processo nº 23078.015333/2016-19.</td>\n",
       "      <td>2</td>\n",
       "    </tr>\n",
       "    <tr>\n",
       "      <th>3</th>\n",
       "      <td>25644</td>\n",
       "      <td>MAURÍCIO VIÉGAS DA SILVA Pró-Reitor de Gestão de Pessoas</td>\n",
       "      <td>3</td>\n",
       "    </tr>\n",
       "    <tr>\n",
       "      <th>4</th>\n",
       "      <td>25645</td>\n",
       "      <td>Documento gerado sob autenticação Nº SDG.667.383.ILF, disponível no endereço http://www.ufrgs.br/autenticacao Documento certificado eletronicamente, conforme Portaria nº 3362/2016, que institui o Sistema de Documentos Eletrônicos da UFRGS.</td>\n",
       "      <td>4</td>\n",
       "    </tr>\n",
       "  </tbody>\n",
       "</table>\n",
       "</div>"
      ],
      "text/plain": [
       "   document  \\\n",
       "0  25644      \n",
       "1  25644      \n",
       "2  25644      \n",
       "3  25644      \n",
       "4  25645      \n",
       "\n",
       "                                                                                                                                                                                                                                                                                                                                                                                 sentence  \\\n",
       "0  Documento gerado sob autenticação Nº AHX.976.775.357, disponível no endereço http://www.ufrgs.br/autenticacao Documento certificado eletronicamente, conforme Portaria nº 3362/2016, que institui o Sistema de Documentos Eletrônicos da UFRGS.                                                                                                                                          \n",
       "1  1/1 PORTARIA Nº 5866 de 08/08/2016 O PRÓ-REITOR DE GESTÃO DE PESSOAS DA UNIVERSIDADE FEDERAL DO RIO GRANDE DO SUL, no uso de suas atribuições, considerando o disposto na Portaria nº 5469, de 04 de outubro de 2012 RESOLVE.                                                                                                                                                            \n",
       "2  Conceder à servidora LISIANE RAMOS VILK, ocupante do cargo de Administrador de Edifícios - 701400, lotada na Faculdade de Arquitetura, SIAPE 2325261, o percentual de 25% (vinte e cinco por cento) de Incentivo à Qualificação, a contar de 15/07/2016, tendo em vista a conclusão do curso de Graduação em Administração - Bacharelado, conforme o Processo nº 23078.015333/2016-19.   \n",
       "3  MAURÍCIO VIÉGAS DA SILVA Pró-Reitor de Gestão de Pessoas                                                                                                                                                                                                                                                                                                                                 \n",
       "4  Documento gerado sob autenticação Nº SDG.667.383.ILF, disponível no endereço http://www.ufrgs.br/autenticacao Documento certificado eletronicamente, conforme Portaria nº 3362/2016, que institui o Sistema de Documentos Eletrônicos da UFRGS.                                                                                                                                          \n",
       "\n",
       "   sentence_id  \n",
       "0  0            \n",
       "1  1            \n",
       "2  2            \n",
       "3  3            \n",
       "4  4            "
      ]
     },
     "execution_count": 9,
     "metadata": {},
     "output_type": "execute_result"
    }
   ],
   "source": [
    "df_sentences = data_processing.split_text_sentences(df_docs['text'])\n",
    "pd.set_option(\"display.max_colwidth\", 0)\n",
    "print(df_sentences.shape)\n",
    "df_sentences.head()"
   ]
  },
  {
   "cell_type": "markdown",
   "metadata": {},
   "source": [
    "#### Dealing with duplicate sentences\n",
    "Now that we have our dataset of sentences we'll go to the last step which is identifying and categorizing duplicate sentences. Since we need to manually annotate the dataset for training we can group duplicate sentences to facilitate the anottation process. The document we have are fairly standardized so there are a few duplicates we will find.\n",
    "\n",
    "Let's group sentences by their textual content. Each group will be composed of identical sentences."
   ]
  },
  {
   "cell_type": "code",
   "execution_count": 10,
   "metadata": {},
   "outputs": [],
   "source": [
    "test_group = df_sentences.groupby('sentence')"
   ]
  },
  {
   "cell_type": "code",
   "execution_count": 11,
   "metadata": {},
   "outputs": [],
   "source": [
    "#pd.set_option(\"display.max_rows\", 400)\n",
    "#test_group.describe()"
   ]
  },
  {
   "cell_type": "markdown",
   "metadata": {},
   "source": [
    "We loop each group of duplicated sentences and create a dictionary where the key will be the index of the first sentence of the group and the value is the index of all sentences equal to the first."
   ]
  },
  {
   "cell_type": "code",
   "execution_count": 12,
   "metadata": {},
   "outputs": [],
   "source": [
    "duplicates = {}\n",
    "for i in test_group:\n",
    "    dup_list = i[1]['sentence_id'].tolist()\n",
    "    duplicates[dup_list[0]] = dup_list\n"
   ]
  },
  {
   "cell_type": "markdown",
   "metadata": {},
   "source": [
    "We create a dataframe which will contain only unique sentences. The sentences that have identic pairs will have all of their indexes in a list in the 'duplicates' column. This will allow us to replicate the labels after the anotattion process."
   ]
  },
  {
   "cell_type": "code",
   "execution_count": 13,
   "metadata": {},
   "outputs": [],
   "source": [
    "df_unique_sentences = df_sentences.copy()\n",
    "df_unique_sentences['duplicates'] = pd.Series(duplicates, index=df_sentences.index)\n",
    "df_unique_sentences = df_unique_sentences.dropna(subset=['duplicates'])\n",
    "df_unique_sentences['label'] = \"\""
   ]
  },
  {
   "cell_type": "markdown",
   "metadata": {},
   "source": [
    "We can see that the unique dataframe has less sentences which represen the duplicates we removed"
   ]
  },
  {
   "cell_type": "code",
   "execution_count": 14,
   "metadata": {},
   "outputs": [
    {
     "name": "stdout",
     "output_type": "stream",
     "text": [
      "(2512, 3)\n",
      "(1963, 5)\n"
     ]
    }
   ],
   "source": [
    "pprint(df_sentences.shape)\n",
    "pprint(df_unique_sentences.shape)"
   ]
  },
  {
   "attachments": {},
   "cell_type": "markdown",
   "metadata": {},
   "source": [
    "#### Manual Removal of Bad Sentences\n",
    "Some sentences are not going to be helpful on our final train and test data. They either have just one or no entities we are interested in. Because of that we'll remove them from our dataset."
   ]
  },
  {
   "cell_type": "code",
   "execution_count": 15,
   "metadata": {},
   "outputs": [
    {
     "name": "stdout",
     "output_type": "stream",
     "text": [
      "(1963, 5)\n",
      "(729, 5)\n"
     ]
    }
   ],
   "source": [
    "pprint(df_unique_sentences.shape)\n",
    "df_unique_sentences = df_unique_sentences[df_unique_sentences['sentence'].str.len() > 20]\n",
    "df_unique_sentences = df_unique_sentences[~df_unique_sentences['sentence'].str.startswith(\"Documento gerado sob\")]\n",
    "df_unique_sentences = df_unique_sentences[~df_unique_sentences['sentence'].str.startswith(\"Solicitação nº\")]\n",
    "df_unique_sentences = df_unique_sentences[~df_unique_sentences['sentence'].str.startswith(\"Processo\")]\n",
    "df_unique_sentences = df_unique_sentences[~df_unique_sentences['sentence'].str.contains(\"RESOLVE\")]\n",
    "pprint(df_unique_sentences.shape)"
   ]
  },
  {
   "cell_type": "code",
   "execution_count": 16,
   "metadata": {},
   "outputs": [],
   "source": [
    "#pprint(df_unique_sentences.to_json(lines=True, orient = 'records'))\n",
    "df_docs.to_json(os.path.join(path_to_train, 'ufrgs_documents.jsonl'),lines=True, orient = 'records')\n",
    "df_unique_sentences.to_json(os.path.join(path_to_train, 'unique_sentences.jsonl'),lines=True, orient = 'records')"
   ]
  },
  {
   "attachments": {},
   "cell_type": "markdown",
   "metadata": {},
   "source": [
    "#### Assistive Auto Labelling\n",
    "Before we import our sentences into doccano for manual labelling, we'll use the auto_tagger to automatically label them. This will make it easier to do the manual labelling as a few entities will already be correctly or almost correctly identified."
   ]
  },
  {
   "cell_type": "code",
   "execution_count": 17,
   "metadata": {},
   "outputs": [],
   "source": [
    "# Load the auto_tagger model\n",
    "from transformers import pipeline\n",
    "assistive_auto_tagger = pipeline(\n",
    "    \"token-classification\",\n",
    "    model='auto_tagger',\n",
    "    aggregation_strategy=\"average\",\n",
    "    ignore_labels=[\"\"],\n",
    "    device=0\n",
    ")"
   ]
  },
  {
   "cell_type": "code",
   "execution_count": 26,
   "metadata": {},
   "outputs": [
    {
     "name": "stderr",
     "output_type": "stream",
     "text": [
      "c:\\Users\\arthu\\anaconda3\\envs\\NLP22\\lib\\site-packages\\transformers\\pipelines\\base.py:1043: UserWarning: You seem to be using the pipelines sequentially on GPU. In order to maximize efficiency please use a dataset\n",
      "  warnings.warn(\n"
     ]
    }
   ],
   "source": [
    "# Run the sentences through our NER tagging model\n",
    "df_unique_sentences['tagged_entities'] = df_unique_sentences['sentence'].apply(lambda x: assistive_auto_tagger(x[:512]))"
   ]
  },
  {
   "cell_type": "code",
   "execution_count": 27,
   "metadata": {},
   "outputs": [
    {
     "data": {
      "text/plain": [
       "2     [{'entity_group': 'O', 'score': 0.7762933, 'word': 'Conceder à servidora', 'start': 0, 'end': 20}, {'entity_group': 'PERSON', 'score': 0.6477044, 'word': 'LISIANE RAMOS VILK', 'start': 21, 'end': 39}, {'entity_group': 'O', 'score': 0.76407486, 'word': ', ocupante do cargo de Administrador de Edifícios - 701400, lotada na Faculdade de Arquitetura, SIAPE 2325261, o percentual de 25 % ( vinte e cinco por cento ) de Incentivo à Qualificação, a contar de 15 / 07 / 2016, tendo em vista a conclusão do curso de Graduação em Administração - Bacharelado, conforme o Processo nº 23078. 015333 / 2016 - 19.', 'start': 39, 'end': 374}]                                                                                          \n",
       "3     [{'entity_group': 'PERSON', 'score': 0.6592996, 'word': 'MAURÍCIO VIÉGAS DA SILVA', 'start': 0, 'end': 24}, {'entity_group': 'O', 'score': 0.38087556, 'word': 'Pró - Reitor de Gestão de Pessoas', 'start': 25, 'end': 56}]                                                                                                                                                                                                                                                                                                                                                                                                                                                                                                                  \n",
       "6     [{'entity_group': 'O', 'score': 0.68199015, 'word': 'Autorizar o afastamento do país de', 'start': 0, 'end': 34}, {'entity_group': 'PERSON', 'score': 0.61941856, 'word': 'CRISTINE MARIA WARMLING', 'start': 35, 'end': 58}, {'entity_group': 'O', 'score': 0.658246, 'word': ', Professor do Magistério Superior, lotada e em exercício no Departamento de Odontologia Preventiva e Social da Faculdade de Odontologia, com a finalidade de participar do \" 3ème Congrès de la Societé Internationale d'Ergologie \", em Aix - en - Provence - França, no período compreendido entre 28 / 08 / 2016 e 01 / 09 / 2016, com ônus limitado.', 'start': 58, 'end': 389}]                                                                         \n",
       "8     [{'entity_group': 'PERSON', 'score': 0.63235503, 'word': 'CARLOS ALEXANDRE NETTO', 'start': 0, 'end': 22}, {'entity_group': 'O', 'score': 0.418368, 'word': 'Reitor', 'start': 23, 'end': 29}]                                                                                                                                                                                                                                                                                                                                                                                                                                                                                                                                                \n",
       "11    [{'entity_group': 'O', 'score': 0.6808941, 'word': 'Autorizar o afastamento do país de', 'start': 0, 'end': 34}, {'entity_group': 'PERSON', 'score': 0.60456276, 'word': 'ANDRE DIAS MORTARI', 'start': 35, 'end': 53}, {'entity_group': 'O', 'score': 0.72398305, 'word': ', Assistente em Administração, lotado e em exercício na Escola de Administração, com a finalidade de participar do \" IV Congreso Internacional Red Pilares \", em Cartagena - Colombia, no período compreendido entre 29 / 08 / 2016 e 02 / 09 / 2016, com ônus limitado.', 'start': 53, 'end': 307}]                                                                                                                                                              \n",
       "16    [{'entity_group': 'O', 'score': 0.6392899, 'word': 'Autorizar o afastamento do país de', 'start': 0, 'end': 34}, {'entity_group': 'PERSON', 'score': 0.5608771, 'word': 'RAFAEL ROESLER', 'start': 35, 'end': 49}, {'entity_group': 'O', 'score': 0.6561524, 'word': ', Professor do Maigstério Superior, lotado e em exercício no Departamento de Farmacologia do Instituto de Ciências Básicas da Saúde, com a finalidade de participar de reunião na University of Nottingham - Inglaterra, no período compreendido entre 02 / 09 / 2016 e 10 / 09 / 2016, com limitado.', 'start': 49, 'end': 334}]                                                                                                                                       \n",
       "21    [{'entity_group': 'O', 'score': 0.64358884, 'word': 'Autorizar o afastamento do país de', 'start': 0, 'end': 34}, {'entity_group': 'PERSON', 'score': 0.5395642, 'word': 'HUGO VERLI', 'start': 35, 'end': 45}, {'entity_group': 'O', 'score': 0.67099774, 'word': ', Professor do Magistério Superior, lotado e em exercício no Departamento de Biologia Molecular e Biotecnologia do Instituto de Biociências, com a finalidade de participar de reunião na University of Nottingham - Inglaterra, no período compreendido entre 02 / 09 / 2016 e 09 / 09 / 2016, com ônus limitado.', 'start': 45, 'end': 343}]                                                                                                                            \n",
       "26    [{'entity_group': 'O', 'score': 0.6943858, 'word': 'Autorizar o afastamento do país de', 'start': 0, 'end': 34}, {'entity_group': 'PERSON', 'score': 0.60998976, 'word': 'ANGELA TEREZINHA DE SOUZA WYSE', 'start': 35, 'end': 65}, {'entity_group': 'O', 'score': 0.6728233, 'word': ', Professor do Magistério Superior, lotada e em exercício no Departamento de Bioquímica do Instituto de Biociências, com a finalidade de participar do \" Annual Sympoisum of the Society for the Study of Inborn Errors of Metabolism \", em Roma - Itália, no período compreendido entre 03 / 09 / 2016 a 12 / 09 / 2016, com ônus pelo Programa de Pós - Graduação em Ciências Biológicas : Bioquímica.', 'start': 65, 'end': 444}]                   \n",
       "31    [{'entity_group': 'O', 'score': 0.773804, 'word': 'Alterar, a partir da data deste ato, por prazo indeterminado, o regime de trabalho de Dedicação Exclusiva para 40 horas semanais, atribuído à Professora', 'start': 0, 'end': 152}, {'entity_group': 'PERSON', 'score': 0.57133, 'word': 'LIANE ESTEVES DAUDT', 'start': 153, 'end': 172}, {'entity_group': 'O', 'score': 0.83912003, 'word': ', com lotação e exercício no ( a ) Departamento de Pediatria desta Universidade, conforme o disposto no parágrafo 2º do artigo 14 do Anexo ao Decreto nº 94. 664, de 23 de julho de 1987 e Decisão nº 31 / 93, do Conselho Universitário, alterada pela Decisão nº 391 / 07 e 473 / 10 e Lei n° 12. 772 / 2012.', 'start': 172, 'end': 462}]\n",
       "33    [{'entity_group': 'PERSON', 'score': 0.70707136, 'word': 'RUI VICENTE OPPERMANN', 'start': 0, 'end': 21}, {'entity_group': 'O', 'score': 0.42353082, 'word': 'Vice - Reitor', 'start': 22, 'end': 33}]                                                                                                                                                                                                                                                                                                                                                                                                                                                                                                                                        \n",
       "Name: tagged_entities, dtype: object"
      ]
     },
     "execution_count": 27,
     "metadata": {},
     "output_type": "execute_result"
    }
   ],
   "source": [
    "df_unique_sentences['tagged_entities'].head(10)"
   ]
  },
  {
   "cell_type": "code",
   "execution_count": 28,
   "metadata": {},
   "outputs": [],
   "source": [
    "# Reformat the classified entities text to match the original sentence.\n",
    "df_unique_sentences['tagged_entities'] = df_unique_sentences.apply(lambda x: data_processing.reformat_sentence(x['sentence'], x['tagged_entities']), axis=1)"
   ]
  },
  {
   "cell_type": "code",
   "execution_count": 29,
   "metadata": {},
   "outputs": [
    {
     "data": {
      "text/plain": [
       "2     [{'entity_group': 'O', 'score': 0.7762933, 'word': 'Conceder à servidora', 'start': 0, 'end': 20}, {'entity_group': 'PERSON', 'score': 0.6477044, 'word': 'LISIANE RAMOS VILK', 'start': 21, 'end': 39}, {'entity_group': 'O', 'score': 0.76407486, 'word': ', ocupante do cargo de Administrador de Edifícios - 701400, lotada na Faculdade de Arquitetura, SIAPE 2325261, o percentual de 25% (vinte e cinco por cento) de Incentivo à Qualificação, a contar de 15/07/2016, tendo em vista a conclusão do curso de Graduação em Administração - Bacharelado, conforme o Processo nº 23078.015333/2016-19.', 'start': 40, 'end': 375}]                                                                                         \n",
       "3     [{'entity_group': 'PERSON', 'score': 0.6592996, 'word': 'MAURÍCIO VIÉGAS DA SILVA', 'start': 0, 'end': 24}, {'entity_group': 'O', 'score': 0.38087556, 'word': 'Pró-Reitor de Gestão de Pessoas', 'start': 25, 'end': 56}]                                                                                                                                                                                                                                                                                                                                                                                                                                                                                                       \n",
       "6     [{'entity_group': 'O', 'score': 0.68199015, 'word': 'Autorizar o afastamento do país de', 'start': 0, 'end': 34}, {'entity_group': 'PERSON', 'score': 0.61941856, 'word': 'CRISTINE MARIA WARMLING', 'start': 35, 'end': 58}, {'entity_group': 'O', 'score': 0.658246, 'word': ', Professor do Magistério Superior, lotada e em exercício no Departamento de Odontologia Preventiva e Social da Faculdade de Odontologia, com a finalidade de participar do \"3ème Congrès de la Societé Internationale d'Ergologie\", em Aix-en-Provence - França, no período compreendido entre 28/08/2016 e 01/09/2016, com ônus limitado.', 'start': 59, 'end': 390}]                                                                          \n",
       "8     [{'entity_group': 'PERSON', 'score': 0.63235503, 'word': 'CARLOS ALEXANDRE NETTO', 'start': 0, 'end': 22}, {'entity_group': 'O', 'score': 0.418368, 'word': 'Reitor', 'start': 23, 'end': 29}]                                                                                                                                                                                                                                                                                                                                                                                                                                                                                                                                   \n",
       "11    [{'entity_group': 'O', 'score': 0.6808941, 'word': 'Autorizar o afastamento do país de', 'start': 0, 'end': 34}, {'entity_group': 'PERSON', 'score': 0.60456276, 'word': 'ANDRE DIAS MORTARI', 'start': 35, 'end': 53}, {'entity_group': 'O', 'score': 0.72398305, 'word': ', Assistente em Administração, lotado e em exercício na Escola de Administração, com a finalidade de participar do \"IV Congreso Internacional Red Pilares\", em Cartagena - Colombia, no período compreendido entre 29/08/2016 e 02/09/2016, com ônus limitado.', 'start': 54, 'end': 308}]                                                                                                                                                           \n",
       "16    [{'entity_group': 'O', 'score': 0.6392899, 'word': 'Autorizar o afastamento do país de', 'start': 0, 'end': 34}, {'entity_group': 'PERSON', 'score': 0.5608771, 'word': 'RAFAEL ROESLER', 'start': 35, 'end': 49}, {'entity_group': 'O', 'score': 0.6561524, 'word': ', Professor do Maigstério Superior, lotado e em exercício no Departamento de Farmacologia do Instituto de Ciências Básicas da Saúde, com a finalidade de participar de reunião na University of Nottingham - Inglaterra, no período compreendido entre 02/09/2016 e 10/09/2016, com limitado.', 'start': 50, 'end': 335}]                                                                                                                                  \n",
       "21    [{'entity_group': 'O', 'score': 0.64358884, 'word': 'Autorizar o afastamento do país de', 'start': 0, 'end': 34}, {'entity_group': 'PERSON', 'score': 0.5395642, 'word': 'HUGO VERLI', 'start': 35, 'end': 45}, {'entity_group': 'O', 'score': 0.67099774, 'word': ', Professor do Magistério Superior, lotado e em exercício no Departamento de Biologia Molecular e Biotecnologia do Instituto de Biociências, com a finalidade de participar de reunião na University of Nottingham - Inglaterra, no período compreendido entre 02/09/2016 e 09/09/2016, com ônus limitado.', 'start': 46, 'end': 344}]                                                                                                                       \n",
       "26    [{'entity_group': 'O', 'score': 0.6943858, 'word': 'Autorizar o afastamento do país de', 'start': 0, 'end': 34}, {'entity_group': 'PERSON', 'score': 0.60998976, 'word': 'ANGELA TEREZINHA DE SOUZA WYSE', 'start': 35, 'end': 65}, {'entity_group': 'O', 'score': 0.6728233, 'word': ', Professor do Magistério Superior, lotada e em exercício no Departamento de Bioquímica do Instituto de Biociências, com a finalidade de participar do \"Annual Sympoisum of the Society for the Study of Inborn Errors of Metabolism\", em Roma - Itália, no período compreendido entre 03/09/2016 a 12/09/2016, com ônus pelo Programa de Pós-Graduação em Ciências Biológicas: Bioquímica.', 'start': 66, 'end': 445}]                   \n",
       "31    [{'entity_group': 'O', 'score': 0.773804, 'word': 'Alterar, a partir da data deste ato, por prazo indeterminado, o regime de trabalho de Dedicação Exclusiva para 40 horas semanais, atribuído à Professora', 'start': 0, 'end': 152}, {'entity_group': 'PERSON', 'score': 0.57133, 'word': 'LIANE ESTEVES DAUDT', 'start': 153, 'end': 172}, {'entity_group': 'O', 'score': 0.83912003, 'word': ', com lotação e exercício no(a) Departamento de Pediatria desta Universidade, conforme o disposto no parágrafo 2º do artigo 14 do Anexo ao Decreto nº 94.664, de 23 de julho de 1987 e Decisão nº 31/93, do Conselho Universitário, alterada pela Decisão nº 391/07 e 473/10 e Lei n° 12.772/2012.', 'start': 173, 'end': 463}]\n",
       "33    [{'entity_group': 'PERSON', 'score': 0.70707136, 'word': 'RUI VICENTE OPPERMANN', 'start': 0, 'end': 21}, {'entity_group': 'O', 'score': 0.42353082, 'word': 'Vice-Reitor', 'start': 22, 'end': 33}]                                                                                                                                                                                                                                                                                                                                                                                                                                                                                                                             \n",
       "Name: tagged_entities, dtype: object"
      ]
     },
     "execution_count": 29,
     "metadata": {},
     "output_type": "execute_result"
    }
   ],
   "source": [
    "df_unique_sentences['tagged_entities'].head(10)"
   ]
  },
  {
   "cell_type": "code",
   "execution_count": 38,
   "metadata": {},
   "outputs": [],
   "source": [
    "# Function that takes a Hugging Face NER Pipeline dictionary output and formats it in a format that can be used by Doccano for manual labelling.\n",
    "# This is useful when using the NER Pipeline as an assistive auto labelling before doing the manual work.\n",
    "def ner_entity_dict_to_doccano_jsonl(tagged_entities):\n",
    "    # Join the entities texts to get the full sentence\n",
    "    full_sentence_text = \"\"\n",
    "    entities_metadata = []\n",
    "    for entity in tagged_entities:\n",
    "        full_sentence_text = full_sentence_text + entity['word'] + ' '\n",
    "        if entity['entity_group'] != 'O':\n",
    "            entities_metadata.append([entity['start'], entity['end'], entity['entity_group']])\n",
    "    full_sentence_text = re.sub(' ,', ',', full_sentence_text)\n",
    "    return full_sentence_text, entities_metadata\n",
    "\n",
    "    # Get a list of the entities in the format [START, END, TYPE] for each of them."
   ]
  },
  {
   "cell_type": "code",
   "execution_count": 36,
   "metadata": {},
   "outputs": [
    {
     "data": {
      "text/html": [
       "<div>\n",
       "<style scoped>\n",
       "    .dataframe tbody tr th:only-of-type {\n",
       "        vertical-align: middle;\n",
       "    }\n",
       "\n",
       "    .dataframe tbody tr th {\n",
       "        vertical-align: top;\n",
       "    }\n",
       "\n",
       "    .dataframe thead th {\n",
       "        text-align: right;\n",
       "    }\n",
       "</style>\n",
       "<table border=\"1\" class=\"dataframe\">\n",
       "  <thead>\n",
       "    <tr style=\"text-align: right;\">\n",
       "      <th></th>\n",
       "      <th>document</th>\n",
       "      <th>sentence</th>\n",
       "      <th>sentence_id</th>\n",
       "      <th>duplicates</th>\n",
       "      <th>label</th>\n",
       "      <th>tagged_entities</th>\n",
       "    </tr>\n",
       "  </thead>\n",
       "  <tbody>\n",
       "    <tr>\n",
       "      <th>2</th>\n",
       "      <td>25644</td>\n",
       "      <td>Conceder à servidora LISIANE RAMOS VILK, ocupante do cargo de Administrador de Edifícios - 701400, lotada na Faculdade de Arquitetura, SIAPE 2325261, o percentual de 25% (vinte e cinco por cento) de Incentivo à Qualificação, a contar de 15/07/2016, tendo em vista a conclusão do curso de Graduação em Administração - Bacharelado, conforme o Processo nº 23078.015333/2016-19.</td>\n",
       "      <td>2</td>\n",
       "      <td>[2]</td>\n",
       "      <td></td>\n",
       "      <td>[{'entity_group': 'O', 'score': 0.7762933, 'word': 'Conceder à servidora', 'start': 0, 'end': 20}, {'entity_group': 'PERSON', 'score': 0.6477044, 'word': 'LISIANE RAMOS VILK', 'start': 21, 'end': 39}, {'entity_group': 'O', 'score': 0.76407486, 'word': ', ocupante do cargo de Administrador de Edifícios - 701400, lotada na Faculdade de Arquitetura, SIAPE 2325261, o percentual de 25% (vinte e cinco por cento) de Incentivo à Qualificação, a contar de 15/07/2016, tendo em vista a conclusão do curso de Graduação em Administração - Bacharelado, conforme o Processo nº 23078.015333/2016-19.', 'start': 40, 'end': 375}]</td>\n",
       "    </tr>\n",
       "    <tr>\n",
       "      <th>3</th>\n",
       "      <td>25644</td>\n",
       "      <td>MAURÍCIO VIÉGAS DA SILVA Pró-Reitor de Gestão de Pessoas</td>\n",
       "      <td>3</td>\n",
       "      <td>[3, 94, 156, 168, 173, 272, 276, 280, 284, 288, 292, 296, 300, 304, 324, 328, 332, 336, 345, 349, 353, 357, 416, 421, 426, 431, 436, 446, 451, 456, 461, 466, 471, 476, 481, 486, 491, 496, 501, 506, 511, 515, 519, 523, 527, 531, 535, 539, 543, 547, 553, 557, 561, 565, 569, 573, 578, 583, 588, 596, 602, 608, 632, 636, 640, 644, 648, 652, 656, 660, 664, 668, 672, 676, 680, 684, 688, 692, 696, 700, 704, 708, 712, 716, 720, 724, 728, 732, 736, 740, 744, 748, 752, 756, 760, 772, 783, 787, 791, 1040, ...]</td>\n",
       "      <td></td>\n",
       "      <td>[{'entity_group': 'PERSON', 'score': 0.6592996, 'word': 'MAURÍCIO VIÉGAS DA SILVA', 'start': 0, 'end': 24}, {'entity_group': 'O', 'score': 0.38087556, 'word': 'Pró-Reitor de Gestão de Pessoas', 'start': 25, 'end': 56}]</td>\n",
       "    </tr>\n",
       "    <tr>\n",
       "      <th>6</th>\n",
       "      <td>25645</td>\n",
       "      <td>Autorizar o afastamento do país de CRISTINE MARIA WARMLING, Professor do Magistério Superior, lotada e em exercício no Departamento de Odontologia Preventiva e Social da Faculdade de Odontologia, com a finalidade de participar do \"3ème Congrès de la Societé Internationale d'Ergologie\", em Aix-en-Provence - França, no período compreendido entre 28/08/2016 e 01/09/2016, com ônus limitado.</td>\n",
       "      <td>6</td>\n",
       "      <td>[6]</td>\n",
       "      <td></td>\n",
       "      <td>[{'entity_group': 'O', 'score': 0.68199015, 'word': 'Autorizar o afastamento do país de', 'start': 0, 'end': 34}, {'entity_group': 'PERSON', 'score': 0.61941856, 'word': 'CRISTINE MARIA WARMLING', 'start': 35, 'end': 58}, {'entity_group': 'O', 'score': 0.658246, 'word': ', Professor do Magistério Superior, lotada e em exercício no Departamento de Odontologia Preventiva e Social da Faculdade de Odontologia, com a finalidade de participar do \"3ème Congrès de la Societé Internationale d'Ergologie\", em Aix-en-Provence - França, no período compreendido entre 28/08/2016 e 01/09/2016, com ônus limitado.', 'start': 59, 'end': 390}]</td>\n",
       "    </tr>\n",
       "    <tr>\n",
       "      <th>8</th>\n",
       "      <td>25645</td>\n",
       "      <td>CARLOS ALEXANDRE NETTO Reitor</td>\n",
       "      <td>8</td>\n",
       "      <td>[8, 13, 18, 23, 28, 38, 43, 63, 72, 81, 99, 104, 109, 114, 132, 137, 142, 147, 152, 161]</td>\n",
       "      <td></td>\n",
       "      <td>[{'entity_group': 'PERSON', 'score': 0.63235503, 'word': 'CARLOS ALEXANDRE NETTO', 'start': 0, 'end': 22}, {'entity_group': 'O', 'score': 0.418368, 'word': 'Reitor', 'start': 23, 'end': 29}]</td>\n",
       "    </tr>\n",
       "    <tr>\n",
       "      <th>11</th>\n",
       "      <td>25646</td>\n",
       "      <td>Autorizar o afastamento do país de ANDRE DIAS MORTARI, Assistente em Administração, lotado e em exercício na Escola de Administração, com a finalidade de participar do \"IV Congreso Internacional Red Pilares\", em Cartagena - Colombia, no período compreendido entre 29/08/2016 e 02/09/2016, com ônus limitado.</td>\n",
       "      <td>11</td>\n",
       "      <td>[11]</td>\n",
       "      <td></td>\n",
       "      <td>[{'entity_group': 'O', 'score': 0.6808941, 'word': 'Autorizar o afastamento do país de', 'start': 0, 'end': 34}, {'entity_group': 'PERSON', 'score': 0.60456276, 'word': 'ANDRE DIAS MORTARI', 'start': 35, 'end': 53}, {'entity_group': 'O', 'score': 0.72398305, 'word': ', Assistente em Administração, lotado e em exercício na Escola de Administração, com a finalidade de participar do \"IV Congreso Internacional Red Pilares\", em Cartagena - Colombia, no período compreendido entre 29/08/2016 e 02/09/2016, com ônus limitado.', 'start': 54, 'end': 308}]</td>\n",
       "    </tr>\n",
       "  </tbody>\n",
       "</table>\n",
       "</div>"
      ],
      "text/plain": [
       "    document  \\\n",
       "2   25644      \n",
       "3   25644      \n",
       "6   25645      \n",
       "8   25645      \n",
       "11  25646      \n",
       "\n",
       "                                                                                                                                                                                                                                                                                                                                                                                                 sentence  \\\n",
       "2   Conceder à servidora LISIANE RAMOS VILK, ocupante do cargo de Administrador de Edifícios - 701400, lotada na Faculdade de Arquitetura, SIAPE 2325261, o percentual de 25% (vinte e cinco por cento) de Incentivo à Qualificação, a contar de 15/07/2016, tendo em vista a conclusão do curso de Graduação em Administração - Bacharelado, conforme o Processo nº 23078.015333/2016-19.                  \n",
       "3   MAURÍCIO VIÉGAS DA SILVA Pró-Reitor de Gestão de Pessoas                                                                                                                                                                                                                                                                                                                                                \n",
       "6   Autorizar o afastamento do país de CRISTINE MARIA WARMLING, Professor do Magistério Superior, lotada e em exercício no Departamento de Odontologia Preventiva e Social da Faculdade de Odontologia, com a finalidade de participar do \"3ème Congrès de la Societé Internationale d'Ergologie\", em Aix-en-Provence - França, no período compreendido entre 28/08/2016 e 01/09/2016, com ônus limitado.   \n",
       "8   CARLOS ALEXANDRE NETTO Reitor                                                                                                                                                                                                                                                                                                                                                                           \n",
       "11  Autorizar o afastamento do país de ANDRE DIAS MORTARI, Assistente em Administração, lotado e em exercício na Escola de Administração, com a finalidade de participar do \"IV Congreso Internacional Red Pilares\", em Cartagena - Colombia, no período compreendido entre 29/08/2016 e 02/09/2016, com ônus limitado.                                                                                     \n",
       "\n",
       "    sentence_id  \\\n",
       "2   2             \n",
       "3   3             \n",
       "6   6             \n",
       "8   8             \n",
       "11  11            \n",
       "\n",
       "                                                                                                                                                                                                                                                                                                                                                                                                                                                                                                                 duplicates  \\\n",
       "2   [2]                                                                                                                                                                                                                                                                                                                                                                                                                                                                                                                       \n",
       "3   [3, 94, 156, 168, 173, 272, 276, 280, 284, 288, 292, 296, 300, 304, 324, 328, 332, 336, 345, 349, 353, 357, 416, 421, 426, 431, 436, 446, 451, 456, 461, 466, 471, 476, 481, 486, 491, 496, 501, 506, 511, 515, 519, 523, 527, 531, 535, 539, 543, 547, 553, 557, 561, 565, 569, 573, 578, 583, 588, 596, 602, 608, 632, 636, 640, 644, 648, 652, 656, 660, 664, 668, 672, 676, 680, 684, 688, 692, 696, 700, 704, 708, 712, 716, 720, 724, 728, 732, 736, 740, 744, 748, 752, 756, 760, 772, 783, 787, 791, 1040, ...]   \n",
       "6   [6]                                                                                                                                                                                                                                                                                                                                                                                                                                                                                                                       \n",
       "8   [8, 13, 18, 23, 28, 38, 43, 63, 72, 81, 99, 104, 109, 114, 132, 137, 142, 147, 152, 161]                                                                                                                                                                                                                                                                                                                                                                                                                                  \n",
       "11  [11]                                                                                                                                                                                                                                                                                                                                                                                                                                                                                                                      \n",
       "\n",
       "   label  \\\n",
       "2          \n",
       "3          \n",
       "6          \n",
       "8          \n",
       "11         \n",
       "\n",
       "                                                                                                                                                                                                                                                                                                                                                                                                                                                                                                                                                                                                                                            tagged_entities  \n",
       "2   [{'entity_group': 'O', 'score': 0.7762933, 'word': 'Conceder à servidora', 'start': 0, 'end': 20}, {'entity_group': 'PERSON', 'score': 0.6477044, 'word': 'LISIANE RAMOS VILK', 'start': 21, 'end': 39}, {'entity_group': 'O', 'score': 0.76407486, 'word': ', ocupante do cargo de Administrador de Edifícios - 701400, lotada na Faculdade de Arquitetura, SIAPE 2325261, o percentual de 25% (vinte e cinco por cento) de Incentivo à Qualificação, a contar de 15/07/2016, tendo em vista a conclusão do curso de Graduação em Administração - Bacharelado, conforme o Processo nº 23078.015333/2016-19.', 'start': 40, 'end': 375}]                 \n",
       "3   [{'entity_group': 'PERSON', 'score': 0.6592996, 'word': 'MAURÍCIO VIÉGAS DA SILVA', 'start': 0, 'end': 24}, {'entity_group': 'O', 'score': 0.38087556, 'word': 'Pró-Reitor de Gestão de Pessoas', 'start': 25, 'end': 56}]                                                                                                                                                                                                                                                                                                                                                                                                                               \n",
       "6   [{'entity_group': 'O', 'score': 0.68199015, 'word': 'Autorizar o afastamento do país de', 'start': 0, 'end': 34}, {'entity_group': 'PERSON', 'score': 0.61941856, 'word': 'CRISTINE MARIA WARMLING', 'start': 35, 'end': 58}, {'entity_group': 'O', 'score': 0.658246, 'word': ', Professor do Magistério Superior, lotada e em exercício no Departamento de Odontologia Preventiva e Social da Faculdade de Odontologia, com a finalidade de participar do \"3ème Congrès de la Societé Internationale d'Ergologie\", em Aix-en-Provence - França, no período compreendido entre 28/08/2016 e 01/09/2016, com ônus limitado.', 'start': 59, 'end': 390}]  \n",
       "8   [{'entity_group': 'PERSON', 'score': 0.63235503, 'word': 'CARLOS ALEXANDRE NETTO', 'start': 0, 'end': 22}, {'entity_group': 'O', 'score': 0.418368, 'word': 'Reitor', 'start': 23, 'end': 29}]                                                                                                                                                                                                                                                                                                                                                                                                                                                           \n",
       "11  [{'entity_group': 'O', 'score': 0.6808941, 'word': 'Autorizar o afastamento do país de', 'start': 0, 'end': 34}, {'entity_group': 'PERSON', 'score': 0.60456276, 'word': 'ANDRE DIAS MORTARI', 'start': 35, 'end': 53}, {'entity_group': 'O', 'score': 0.72398305, 'word': ', Assistente em Administração, lotado e em exercício na Escola de Administração, com a finalidade de participar do \"IV Congreso Internacional Red Pilares\", em Cartagena - Colombia, no período compreendido entre 29/08/2016 e 02/09/2016, com ônus limitado.', 'start': 54, 'end': 308}]                                                                                   "
      ]
     },
     "execution_count": 36,
     "metadata": {},
     "output_type": "execute_result"
    }
   ],
   "source": [
    "df_unique_sentences.head()"
   ]
  },
  {
   "cell_type": "code",
   "execution_count": 42,
   "metadata": {},
   "outputs": [
    {
     "name": "stdout",
     "output_type": "stream",
     "text": [
      "('Conceder à servidora LISIANE RAMOS VILK, ocupante do cargo de Administrador de Edifícios - 701400, lotada na Faculdade de Arquitetura, SIAPE 2325261, o percentual de 25% (vinte e cinco por cento) de Incentivo à Qualificação, a contar de 15/07/2016, tendo em vista a conclusão do curso de Graduação em Administração - Bacharelado, conforme o Processo nº 23078.015333/2016-19. ', [[21, 39, 'PERSON']])\n"
     ]
    }
   ],
   "source": [
    "df_unique_sentences['tagged_entities'].loc[2]\n",
    "print(ner_entity_dict_to_doccano_jsonl(df_unique_sentences['tagged_entities'].loc[2]))\n",
    "df_unique_sentences['label'] = df_unique_sentences.apply(lambda x: ner_entity_dict_to_doccano_jsonl(x['tagged_entities'])[1],axis=1)"
   ]
  },
  {
   "cell_type": "code",
   "execution_count": 45,
   "metadata": {},
   "outputs": [],
   "source": [
    "df_unique_sentences.to_json(os.path.join(path_to_train, 'unique_sentences.jsonl'),lines=True, orient = 'records')"
   ]
  },
  {
   "cell_type": "code",
   "execution_count": 46,
   "metadata": {},
   "outputs": [
    {
     "data": {
      "text/html": [
       "<div>\n",
       "<style scoped>\n",
       "    .dataframe tbody tr th:only-of-type {\n",
       "        vertical-align: middle;\n",
       "    }\n",
       "\n",
       "    .dataframe tbody tr th {\n",
       "        vertical-align: top;\n",
       "    }\n",
       "\n",
       "    .dataframe thead th {\n",
       "        text-align: right;\n",
       "    }\n",
       "</style>\n",
       "<table border=\"1\" class=\"dataframe\">\n",
       "  <thead>\n",
       "    <tr style=\"text-align: right;\">\n",
       "      <th></th>\n",
       "      <th>document</th>\n",
       "      <th>sentence</th>\n",
       "      <th>sentence_id</th>\n",
       "      <th>duplicates</th>\n",
       "      <th>label</th>\n",
       "      <th>tagged_entities</th>\n",
       "    </tr>\n",
       "  </thead>\n",
       "  <tbody>\n",
       "    <tr>\n",
       "      <th>2507</th>\n",
       "      <td>93672</td>\n",
       "      <td>2/2 SIAPE Nome do Servidor Classe PadrãoAnterior Novo Padrão Válida em 1908270 LISIANE BERNARDO DA SILVA E 05 06 28/06/2019 3002666 LIZIANE GONZALEZ D 01 02 12/06/2019 0359404 LUCIA DE FATIMA AMBOS C 15 16 02/06/2019 3001885 LUCIELE DOS SANTOS DA COSTA E 01 02 04/06/2019 1501710 MARCO ANTONIO MILLER D 09 10 27/06/2019 1055387 MARCOS LUIZ HINTERHOLZ E 03 04 02/06/2019 2185056 MAURA BOMBARDELLI E 03 04 30/06/2019 2319024 MICHELE UTPOTT E 02 03 13/06/2019 2317068 OTÁVIO LUÍS DA SILVA BARRADAS D 02 03 06/06/2019 2316407 PATRÍCIA ZIOMKOWSKI D 02 03 06/06/2019 1796567 RAFAEL ANDRIOLI RASCH D 06 07 25/06/2019 2187262 RAFAEL MARQUES MÜLLER D 03 04 22/06/2019 1395123 RICARDO ESTEVAM DE ANDRADE SANTOS D 01 02 27/06/2019 1423820 ROSE KELLY PIRES MARINHO D 01 02 27/06/2019 1697724 SAMUEL DOS SANTOS SALIMEN E 02 03 30/06/2019 3002061 SANDRA CRISTINA DE ARAUJO D 01 02 11/06/2019 3002675 THAÍS SPOHR CHRIST C 01 02 13/06/2019 1972210 TOBIAS DOS SANTOS GOMES D 01 02 27/06/2019 2324135 VALENCIA CRISTINA MEIER D 02 03 20/06/2019 2319305 VIANEI ELIZANDRO ZAMBONI D 02 03 22/06/2019 2321117 WAGNER MACHADO DA SILVA E 02 03 17/06/2019 1903536 ZULEIKA DE SOUZA BRANCO E 05 06 05/06/2019 MAURÍCIO VIÉGAS DA SILVA Pró-Reitor de Gestão de Pessoas</td>\n",
       "      <td>2507</td>\n",
       "      <td>[2507]</td>\n",
       "      <td>[[79, 104, PERSON], [131, 147, PERSON], [174, 195, PERSON], [222, 249, PERSON], [276, 296, PERSON], [323, 345, PERSON], [372, 389, PERSON], [416, 430, PERSON], [457, 486, PERSON]]</td>\n",
       "      <td>[{'entity_group': 'O', 'score': 0.73127943, 'word': '2/2 SIAPE Nome do Servidor Classe PadrãoAnterior Novo Padrão Válida em 1908270', 'start': 0, 'end': 78}, {'entity_group': 'PERSON', 'score': 0.60318124, 'word': 'LISIANE BERNARDO DA SILVA', 'start': 79, 'end': 104}, {'entity_group': 'O', 'score': 0.7948015, 'word': ' 05 06 28/06/2019 3002666', 'start': 105, 'end': 130}, {'entity_group': 'PERSON', 'score': 0.6116347, 'word': 'LIZIANE GONZALEZ', 'start': 131, 'end': 147}, {'entity_group': 'O', 'score': 0.79620516, 'word': ' 01 02 12/06/2019 0359404', 'start': 148, 'end': 173}, {'entity_group': 'PERSON', 'score': 0.57497036, 'word': 'LUCIA DE FATIMA AMBOS', 'start': 174, 'end': 195}, {'entity_group': 'O', 'score': 0.78663146, 'word': ' 15 16 02/06/2019 3001885', 'start': 196, 'end': 221}, {'entity_group': 'PERSON', 'score': 0.5348293, 'word': 'LUCIELE DOS SANTOS DA COSTA', 'start': 222, 'end': 249}, {'entity_group': 'O', 'score': 0.7869703, 'word': ' 01 02 04/06/2019 1501710', 'start': 250, 'end': 275}, {'entity_group': 'PERSON', 'score': 0.5773332, 'word': 'MARCO ANTONIO MILLER', 'start': 276, 'end': 296}, {'entity_group': 'O', 'score': 0.792752, 'word': ' 09 10 27/06/2019 1055387', 'start': 297, 'end': 322}, {'entity_group': 'PERSON', 'score': 0.5987951, 'word': 'MARCOS LUIZ HINTERHOLZ', 'start': 323, 'end': 345}, {'entity_group': 'O', 'score': 0.7839741, 'word': ' 03 04 02/06/2019 2185056', 'start': 346, 'end': 371}, {'entity_group': 'PERSON', 'score': 0.61466813, 'word': 'MAURA BOMBARDELLI', 'start': 372, 'end': 389}, {'entity_group': 'O', 'score': 0.78075325, 'word': ' 03 04 30/06/2019 2319024', 'start': 390, 'end': 415}, {'entity_group': 'PERSON', 'score': 0.49328786, 'word': 'MICHELE UTPOTT', 'start': 416, 'end': 430}, {'entity_group': 'O', 'score': 0.7886432, 'word': ' 02 03 13/06/2019 2317068', 'start': 431, 'end': 456}, {'entity_group': 'PERSON', 'score': 0.5957611, 'word': 'OTÁVIO LUÍS DA SILVA BARRADAS', 'start': 457, 'end': 486}, {'entity_group': 'O', 'score': 0.8131571, 'word': ' 02 03 06/06/201', 'start': 487, 'end': 503}]</td>\n",
       "    </tr>\n",
       "  </tbody>\n",
       "</table>\n",
       "</div>"
      ],
      "text/plain": [
       "      document  \\\n",
       "2507  93672      \n",
       "\n",
       "                                                                                                                                                                                                                                                                                                                                                                                                                                                                                                                                                                                                                                                                                                                                                                                                                                                                                                                                                                                                                                                                                                                                                                                                                                                                                  sentence  \\\n",
       "2507  2/2 SIAPE Nome do Servidor Classe PadrãoAnterior Novo Padrão Válida em 1908270 LISIANE BERNARDO DA SILVA E 05 06 28/06/2019 3002666 LIZIANE GONZALEZ D 01 02 12/06/2019 0359404 LUCIA DE FATIMA AMBOS C 15 16 02/06/2019 3001885 LUCIELE DOS SANTOS DA COSTA E 01 02 04/06/2019 1501710 MARCO ANTONIO MILLER D 09 10 27/06/2019 1055387 MARCOS LUIZ HINTERHOLZ E 03 04 02/06/2019 2185056 MAURA BOMBARDELLI E 03 04 30/06/2019 2319024 MICHELE UTPOTT E 02 03 13/06/2019 2317068 OTÁVIO LUÍS DA SILVA BARRADAS D 02 03 06/06/2019 2316407 PATRÍCIA ZIOMKOWSKI D 02 03 06/06/2019 1796567 RAFAEL ANDRIOLI RASCH D 06 07 25/06/2019 2187262 RAFAEL MARQUES MÜLLER D 03 04 22/06/2019 1395123 RICARDO ESTEVAM DE ANDRADE SANTOS D 01 02 27/06/2019 1423820 ROSE KELLY PIRES MARINHO D 01 02 27/06/2019 1697724 SAMUEL DOS SANTOS SALIMEN E 02 03 30/06/2019 3002061 SANDRA CRISTINA DE ARAUJO D 01 02 11/06/2019 3002675 THAÍS SPOHR CHRIST C 01 02 13/06/2019 1972210 TOBIAS DOS SANTOS GOMES D 01 02 27/06/2019 2324135 VALENCIA CRISTINA MEIER D 02 03 20/06/2019 2319305 VIANEI ELIZANDRO ZAMBONI D 02 03 22/06/2019 2321117 WAGNER MACHADO DA SILVA E 02 03 17/06/2019 1903536 ZULEIKA DE SOUZA BRANCO E 05 06 05/06/2019 MAURÍCIO VIÉGAS DA SILVA Pró-Reitor de Gestão de Pessoas   \n",
       "\n",
       "      sentence_id duplicates  \\\n",
       "2507  2507         [2507]      \n",
       "\n",
       "                                                                                                                                                                                    label  \\\n",
       "2507  [[79, 104, PERSON], [131, 147, PERSON], [174, 195, PERSON], [222, 249, PERSON], [276, 296, PERSON], [323, 345, PERSON], [372, 389, PERSON], [416, 430, PERSON], [457, 486, PERSON]]   \n",
       "\n",
       "                                                                                                                                                                                                                                                                                                                                                                                                                                                                                                                                                                                                                                                                                                                                                                                                                                                                                                                                                                                                                                                                                                                                                                                                                                                                                                                                                                                                                                                                                                                                                                                                                                                                                                                                                                                                                                                                                                                                                                                                                                                                                                                                               tagged_entities  \n",
       "2507  [{'entity_group': 'O', 'score': 0.73127943, 'word': '2/2 SIAPE Nome do Servidor Classe PadrãoAnterior Novo Padrão Válida em 1908270', 'start': 0, 'end': 78}, {'entity_group': 'PERSON', 'score': 0.60318124, 'word': 'LISIANE BERNARDO DA SILVA', 'start': 79, 'end': 104}, {'entity_group': 'O', 'score': 0.7948015, 'word': ' 05 06 28/06/2019 3002666', 'start': 105, 'end': 130}, {'entity_group': 'PERSON', 'score': 0.6116347, 'word': 'LIZIANE GONZALEZ', 'start': 131, 'end': 147}, {'entity_group': 'O', 'score': 0.79620516, 'word': ' 01 02 12/06/2019 0359404', 'start': 148, 'end': 173}, {'entity_group': 'PERSON', 'score': 0.57497036, 'word': 'LUCIA DE FATIMA AMBOS', 'start': 174, 'end': 195}, {'entity_group': 'O', 'score': 0.78663146, 'word': ' 15 16 02/06/2019 3001885', 'start': 196, 'end': 221}, {'entity_group': 'PERSON', 'score': 0.5348293, 'word': 'LUCIELE DOS SANTOS DA COSTA', 'start': 222, 'end': 249}, {'entity_group': 'O', 'score': 0.7869703, 'word': ' 01 02 04/06/2019 1501710', 'start': 250, 'end': 275}, {'entity_group': 'PERSON', 'score': 0.5773332, 'word': 'MARCO ANTONIO MILLER', 'start': 276, 'end': 296}, {'entity_group': 'O', 'score': 0.792752, 'word': ' 09 10 27/06/2019 1055387', 'start': 297, 'end': 322}, {'entity_group': 'PERSON', 'score': 0.5987951, 'word': 'MARCOS LUIZ HINTERHOLZ', 'start': 323, 'end': 345}, {'entity_group': 'O', 'score': 0.7839741, 'word': ' 03 04 02/06/2019 2185056', 'start': 346, 'end': 371}, {'entity_group': 'PERSON', 'score': 0.61466813, 'word': 'MAURA BOMBARDELLI', 'start': 372, 'end': 389}, {'entity_group': 'O', 'score': 0.78075325, 'word': ' 03 04 30/06/2019 2319024', 'start': 390, 'end': 415}, {'entity_group': 'PERSON', 'score': 0.49328786, 'word': 'MICHELE UTPOTT', 'start': 416, 'end': 430}, {'entity_group': 'O', 'score': 0.7886432, 'word': ' 02 03 13/06/2019 2317068', 'start': 431, 'end': 456}, {'entity_group': 'PERSON', 'score': 0.5957611, 'word': 'OTÁVIO LUÍS DA SILVA BARRADAS', 'start': 457, 'end': 486}, {'entity_group': 'O', 'score': 0.8131571, 'word': ' 02 03 06/06/201', 'start': 487, 'end': 503}]  "
      ]
     },
     "execution_count": 46,
     "metadata": {},
     "output_type": "execute_result"
    }
   ],
   "source": [
    "df_unique_sentences[df_unique_sentences['sentence_id'] == 2507]"
   ]
  }
 ],
 "metadata": {
  "kernelspec": {
   "display_name": "Python 3.10.4 ('NLP22')",
   "language": "python",
   "name": "python3"
  },
  "language_info": {
   "codemirror_mode": {
    "name": "ipython",
    "version": 3
   },
   "file_extension": ".py",
   "mimetype": "text/x-python",
   "name": "python",
   "nbconvert_exporter": "python",
   "pygments_lexer": "ipython3",
   "version": "3.10.4"
  },
  "orig_nbformat": 4,
  "vscode": {
   "interpreter": {
    "hash": "228764ee21566ea5d9101d690a7d226c86c8b64251894d53614cd4c162a99691"
   }
  }
 },
 "nbformat": 4,
 "nbformat_minor": 2
}
