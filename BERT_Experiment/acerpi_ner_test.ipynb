{
  "cells": [
    {
      "cell_type": "markdown",
      "metadata": {
        "colab_type": "text",
        "id": "view-in-github"
      },
      "source": [
        "<a href=\"https://colab.research.google.com/github/arthurziegler/ner-using-bert/blob/main/BERT_Experiment/bert_ner_test.ipynb\" target=\"_parent\"><img src=\"https://colab.research.google.com/assets/colab-badge.svg\" alt=\"Open In Colab\"/></a>"
      ]
    },
    {
      "cell_type": "markdown",
      "metadata": {
        "id": "FoPwXN9O3c9E"
      },
      "source": [
        "# First test of the BERT model for NER\n",
        "Using [an implementation by Tobias Sterbak](https://www.depends-on-the-definition.com/named-entity-recognition-with-bert/) as a base for the tests of the application of bert in this problem."
      ]
    },
    {
      "cell_type": "code",
      "execution_count": 3,
      "metadata": {
        "colab": {
          "base_uri": "https://localhost:8080/"
        },
        "id": "sL4p0B_dQUYz",
        "outputId": "b75c795c-3d0d-4976-db19-beca16a758cf"
      },
      "outputs": [],
      "source": [
        "#!pip install transformers"
      ]
    },
    {
      "cell_type": "code",
      "execution_count": 201,
      "metadata": {
        "colab": {
          "base_uri": "https://localhost:8080/",
          "height": 35
        },
        "id": "G-zeW31W02th",
        "outputId": "a0a05349-6f10-4e41-e0fe-2dcf5dcd0739"
      },
      "outputs": [],
      "source": [
        "import pandas as pd\n",
        "import numpy as np\n",
        "from tqdm import tqdm, trange\n",
        "import torch\n",
        "from torch.utils.data import TensorDataset, DataLoader, RandomSampler, SequentialSampler\n",
        "from transformers import BertTokenizer, BertConfig\n",
        "from keras.preprocessing.sequence import pad_sequences\n",
        "from sklearn.model_selection import train_test_split\n",
        "import os.path\n",
        "\n",
        "torch.__version__\n",
        "\n",
        "pd.options.display.max_colwidth = 300\n",
        "pd.options.display.max_rows = 100"
      ]
    },
    {
      "cell_type": "markdown",
      "metadata": {},
      "source": [
        "# Get ACERPI dataset"
      ]
    },
    {
      "cell_type": "code",
      "execution_count": 5,
      "metadata": {},
      "outputs": [],
      "source": [
        "# #import tokenizer from nltk that is able to separate text into sentences and tokens.\n",
        "# from nltk import tokenize, download\n",
        "# download('punkt')"
      ]
    },
    {
      "cell_type": "code",
      "execution_count": 6,
      "metadata": {},
      "outputs": [],
      "source": [
        "#annotated_data = pd.read_json(\"acerpi_dataset/train/annotated/new_file????\", lines=True)"
      ]
    },
    {
      "cell_type": "markdown",
      "metadata": {},
      "source": [
        "## Extracting SpaCy anottations\n",
        "The first thing we'll do is to extract a list of labeled tokens. When importing from the spacy anotattion, the labels are not formatted by token, so we will need to go through the *spans* columns and the *tokens* columns to change the labelling from by document to be by token."
      ]
    },
    {
      "cell_type": "code",
      "execution_count": 7,
      "metadata": {},
      "outputs": [],
      "source": [
        "# entity_id = 0\n",
        "\n",
        "# #Loop through each document\n",
        "# for index, document in annotated_data.iterrows():\n",
        "#     entity_tokens = {}\n",
        "\n",
        "#     #In each entity on the 'spans' column we populate a dictionary with the id of the tokens and the entity they belong to\n",
        "#     for entity in document['spans']:\n",
        "#         for token_id in range(entity['token_start'], entity['token_end'] + 1, 1):\n",
        "#             entity_tokens[token_id] = entity_id\n",
        "#         entity_id += 1\n",
        "\n",
        "#     #For each token in the 'tokens' column we give them the PER tag if they belong to an entity and tag the ID of the entity they belong to. We also tag the document ID.    \n",
        "#     for token in document['tokens']:\n",
        "#         if token['id'] in entity_tokens:\n",
        "#             token['tag'] = 'PER'\n",
        "#             token['entity_id'] = entity_tokens[token['id']]\n",
        "#         else:\n",
        "#             token['tag'] = 'O'\n",
        "\n",
        "#         token['document'] = index\n",
        "\n",
        "# print(entity_tokens)"
      ]
    },
    {
      "cell_type": "code",
      "execution_count": 8,
      "metadata": {},
      "outputs": [],
      "source": [
        "# annotated_data.head(2)"
      ]
    },
    {
      "cell_type": "markdown",
      "metadata": {},
      "source": [
        "## Flatten array of lists\n",
        "The 'tokens' columns is currently in a format where each row contain a list of dictionaries. Since we want a single list of token we need to flatten it so that we only have a single list of dictionaries that contains the tokens from every single document of the dataset. We will not lose the document information since we added it as a key-value pair of the dictionary before."
      ]
    },
    {
      "cell_type": "code",
      "execution_count": 9,
      "metadata": {},
      "outputs": [],
      "source": [
        "# tagged_tokens = annotated_data['tokens'].to_numpy()\n",
        "\n",
        "# token_dict_list = []\n",
        "# for index, dict_list in enumerate(tagged_tokens):\n",
        "#     token_dict_list += dict_list"
      ]
    },
    {
      "cell_type": "code",
      "execution_count": 10,
      "metadata": {},
      "outputs": [],
      "source": [
        "# print(type(tagged_tokens))\n",
        "# print(type(token_dict_list))\n",
        "# token_dict_list[0:5]"
      ]
    },
    {
      "cell_type": "markdown",
      "metadata": {},
      "source": [
        "Now we transform the list of dictionaries into a dataframe and each column will be a single anotated token. We only care about the tokens that were anotatted as 'PER' by the SpaCy library since we still want to clean the rest of the document and the other tokens might change."
      ]
    },
    {
      "cell_type": "code",
      "execution_count": 11,
      "metadata": {},
      "outputs": [],
      "source": [
        "# pd.options.display.max_rows = None\n",
        "# token_df = pd.DataFrame(token_dict_list)\n",
        "\n",
        "# token_df = token_df[token_df['tag'] == 'PER'].drop(columns = ['start', 'end', 'id', 'document'])\n",
        "# token_df.head()"
      ]
    },
    {
      "cell_type": "code",
      "execution_count": 12,
      "metadata": {},
      "outputs": [],
      "source": [
        "# # There are two instances of tokens with \\n and a whitespace, we want to remove those because they won't be present in our cleaned text later on.\n",
        "# print(token_df.shape)\n",
        "# token_df = token_df[token_df['text'].str.fullmatch(r'([A-zÀ-ÿ]+)')]\n",
        "# print(token_df.shape)"
      ]
    },
    {
      "cell_type": "code",
      "execution_count": 13,
      "metadata": {},
      "outputs": [],
      "source": [
        "# # Find repeated entities in token_df and remove them to have a more compact dataframe\n",
        "# token_groups = token_df.groupby(by='entity_id')\n",
        "# n_of_entities = int(token_df['entity_id'].max())\n",
        "# duplicate_entities = []\n",
        "# for entity_id in range(n_of_entities+1):\n",
        "#     named_entity = token_groups.get_group(entity_id).reset_index(drop=True)[['text', 'tag']]\n",
        "#     for cmp_index in range(entity_id + 1, n_of_entities+1):\n",
        "#         other_entity = token_groups.get_group(cmp_index).reset_index(drop=True)[['text', 'tag']]\n",
        "#         if named_entity.equals(other_entity):\n",
        "#             duplicate_entities += (list(token_groups.get_group(cmp_index).index.values))\n",
        "\n",
        "# #print(duplicate_entities)\n",
        "# token_df = token_df.drop(index=duplicate_entities)"
      ]
    },
    {
      "cell_type": "code",
      "execution_count": 14,
      "metadata": {},
      "outputs": [],
      "source": [
        "# print(token_df.shape)\n",
        "# token_df.head(10)"
      ]
    },
    {
      "cell_type": "markdown",
      "metadata": {},
      "source": [
        "## Clean the text\n",
        "The document text contains several things like repeated spaces, new line character and wrong punctuation that could break our sentence split afterwards"
      ]
    },
    {
      "cell_type": "code",
      "execution_count": 15,
      "metadata": {},
      "outputs": [],
      "source": [
        "# def clear_text(text_input_series):\n",
        "#     clean_text = text_input_series.copy()\n",
        "#     #print(\"Document BEFORE pre-processing\" + '\\n--------------------------------\\n' + clean_text[1])\n",
        "#     # #Remove \\n character and repeated whitespaces\n",
        "#     clean_text = clean_text.replace(r'(nº\\.) ?','nº ', regex=True)\n",
        "#     clean_text = clean_text.replace(r'\\n',' ', regex=True)\n",
        "#     clean_text = clean_text.replace(r'[ ]+', ' ', regex = True)\n",
        "#     #print(\"Document AFTER pre-processing\" + '\\n--------------------------------\\n' + clean_text[1])\n",
        "#     return clean_text\n",
        " \n",
        "#clean_text = clear_text(annotated_data['text'])"
      ]
    },
    {
      "cell_type": "code",
      "execution_count": 16,
      "metadata": {},
      "outputs": [],
      "source": [
        "# type(clean_text)"
      ]
    },
    {
      "cell_type": "code",
      "execution_count": 17,
      "metadata": {},
      "outputs": [],
      "source": [
        "# # def split_text_sentences(text_input_series):\n",
        "# #     # #Split documents into phrases\n",
        "# #     sentence_df = text_input_series.apply(lambda row: tokenize.sent_tokenize(row, language='portuguese'))\n",
        "\n",
        "# #     # #Turn series of list of phrases into series of phrases. Index will indicate which document it belongs to for now.\n",
        "# #     sentence_df = sentence_df.explode()\n",
        "# #     sentence_df = pd.DataFrame(sentence_df)\n",
        "    \n",
        "# #     # Put sentece_df index as a column and the sentence id as another column\n",
        "# #     sentence_df = sentence_df.reset_index()\n",
        "# #     sentence_df['SentenceID'] = sentence_df.index\n",
        "# #     sentence_df.columns = ['document', 'sentence', 'sentence_id']\n",
        "# #     sentence_df.head()\n",
        "\n",
        "# sentence_df = data_cleaning.split_text_sentences(input_text_series????)"
      ]
    },
    {
      "cell_type": "code",
      "execution_count": 18,
      "metadata": {},
      "outputs": [],
      "source": [
        "# # Add a 'tokens' column tokenzing the 'sentence' column\n",
        "# sentence_df['tokens'] = sentence_df.apply(lambda row: tokenize.word_tokenize(row['sentence'], language='portuguese'), axis=1)\n",
        "# sentence_df.head()"
      ]
    },
    {
      "cell_type": "code",
      "execution_count": 19,
      "metadata": {},
      "outputs": [],
      "source": [
        "# # Format the final dataframe where each row will be a token and the columns will be 'Sentence', 'Word' and 'Tag'.\n",
        "# token_input_df = sentence_df.explode('tokens').drop(columns=['document', 'sentence']).reset_index(drop=True)\n",
        "# token_input_df.head()"
      ]
    },
    {
      "cell_type": "code",
      "execution_count": 20,
      "metadata": {},
      "outputs": [],
      "source": [
        "# token_df.head()"
      ]
    },
    {
      "cell_type": "code",
      "execution_count": 21,
      "metadata": {},
      "outputs": [],
      "source": [
        "# # Anotate token_input_df based on the labels in the token_df dataframe we got from spacy.\n",
        "# def labeled_entities(tokens, labeled_entities):\n",
        "#     tokens['label'] = 'O'\n",
        "#     for entity in range(int(labeled_entities['entity_id'].max())):\n",
        "#         matched_tokens = []\n",
        "#         entity = list(labeled_entities['text'][labeled_entities['entity_id'] == entity])#.iterrows()\n",
        "#         if entity:\n",
        "#             #print('\\nEntitiy Token List:\\n', entity)\n",
        "#             #print(len(entity))\n",
        "#             first_tokens = tokens[tokens['tokens'] == entity[0]]\n",
        "#             #print(first_tokens)\n",
        "#             first_index_list = first_tokens.index.values\n",
        "#             #print(first_index_list)\n",
        "#             #print('\\nPossible entity matches:')\n",
        "#             for index in first_index_list:\n",
        "#                 #print(list(tokens['tokens'].iloc[index:index + len(entity)]))\n",
        "#                 found_token_list = list(tokens['tokens'].iloc[index:index + len(entity)])\n",
        "#                 #print(found_token_list == entity)\n",
        "#                 if found_token_list == entity:\n",
        "#                     tokens['label'].iloc[index:index + len(entity)] = 'PER'\n",
        "#     return tokens"
      ]
    },
    {
      "cell_type": "code",
      "execution_count": 22,
      "metadata": {},
      "outputs": [],
      "source": [
        "# token_final = labeled_entities(token_input_df, token_df)"
      ]
    },
    {
      "cell_type": "code",
      "execution_count": 23,
      "metadata": {},
      "outputs": [],
      "source": [
        "# token_final.columns = ['Sentence #', 'Word', 'Tag']\n",
        "# token_final[token_final['Tag'] == 'PER'].head()"
      ]
    },
    {
      "cell_type": "code",
      "execution_count": 24,
      "metadata": {},
      "outputs": [],
      "source": [
        "# def apply_iob_format(token_df):\n",
        "#     for token_idx in range(token_df.shape[0]):\n",
        "#         if token_df['Tag'].iloc[token_idx] == 'PER':\n",
        "#             if token_df['Tag'].iloc[token_idx-1] == 'O':\n",
        "#                 token_df['Tag'].iloc[token_idx] = 'B-per'\n",
        "#             else:\n",
        "#                 token_df['Tag'].iloc[token_idx] = 'I-per'\n",
        "#     return token_df"
      ]
    },
    {
      "cell_type": "code",
      "execution_count": 25,
      "metadata": {},
      "outputs": [],
      "source": [
        "# token_final = apply_iob_format(token_final)"
      ]
    },
    {
      "cell_type": "code",
      "execution_count": 26,
      "metadata": {},
      "outputs": [],
      "source": [
        "# token_final['Word'] = token_final.apply(lambda row: row['Word'].capitalize() if row['Tag'] != 'O' else row['Word'], axis=1)#[row['Tag'] != 'O'].str.capitalize())"
      ]
    },
    {
      "cell_type": "code",
      "execution_count": 27,
      "metadata": {},
      "outputs": [],
      "source": [
        "# token_final[token_final['Tag'] != 'O'].head()"
      ]
    },
    {
      "cell_type": "code",
      "execution_count": 202,
      "metadata": {},
      "outputs": [],
      "source": [
        "train_file_path = \"acerpi_dataset/train/annotated/\"\n",
        "test_file_path = \"acerpi_dataset/test/annotated/\"\n",
        "\n",
        "train_data = pd.read_csv(train_file_path + 'acerpi_ner_ufrgs_train_data')"
      ]
    },
    {
      "cell_type": "code",
      "execution_count": 205,
      "metadata": {},
      "outputs": [
        {
          "data": {
            "text/html": [
              "<div>\n",
              "<style scoped>\n",
              "    .dataframe tbody tr th:only-of-type {\n",
              "        vertical-align: middle;\n",
              "    }\n",
              "\n",
              "    .dataframe tbody tr th {\n",
              "        vertical-align: top;\n",
              "    }\n",
              "\n",
              "    .dataframe thead th {\n",
              "        text-align: right;\n",
              "    }\n",
              "</style>\n",
              "<table border=\"1\" class=\"dataframe\">\n",
              "  <thead>\n",
              "    <tr style=\"text-align: right;\">\n",
              "      <th></th>\n",
              "      <th>Sentence #</th>\n",
              "      <th>Word</th>\n",
              "      <th>Tag</th>\n",
              "    </tr>\n",
              "  </thead>\n",
              "  <tbody>\n",
              "    <tr>\n",
              "      <th>0</th>\n",
              "      <td>0</td>\n",
              "      <td>Documento</td>\n",
              "      <td>O</td>\n",
              "    </tr>\n",
              "    <tr>\n",
              "      <th>1</th>\n",
              "      <td>0</td>\n",
              "      <td>gerado</td>\n",
              "      <td>O</td>\n",
              "    </tr>\n",
              "    <tr>\n",
              "      <th>2</th>\n",
              "      <td>0</td>\n",
              "      <td>sob</td>\n",
              "      <td>O</td>\n",
              "    </tr>\n",
              "    <tr>\n",
              "      <th>3</th>\n",
              "      <td>0</td>\n",
              "      <td>autenticação</td>\n",
              "      <td>O</td>\n",
              "    </tr>\n",
              "    <tr>\n",
              "      <th>4</th>\n",
              "      <td>0</td>\n",
              "      <td>Nº</td>\n",
              "      <td>O</td>\n",
              "    </tr>\n",
              "  </tbody>\n",
              "</table>\n",
              "</div>"
            ],
            "text/plain": [
              "   Sentence #          Word Tag\n",
              "0           0     Documento   O\n",
              "1           0        gerado   O\n",
              "2           0           sob   O\n",
              "3           0  autenticação   O\n",
              "4           0            Nº   O"
            ]
          },
          "execution_count": 205,
          "metadata": {},
          "output_type": "execute_result"
        }
      ],
      "source": [
        "train_data.head()"
      ]
    },
    {
      "cell_type": "code",
      "execution_count": 206,
      "metadata": {},
      "outputs": [
        {
          "data": {
            "text/plain": [
              "(63835, 3)"
            ]
          },
          "execution_count": 206,
          "metadata": {},
          "output_type": "execute_result"
        }
      ],
      "source": [
        "train_data.shape"
      ]
    },
    {
      "cell_type": "code",
      "execution_count": 207,
      "metadata": {},
      "outputs": [
        {
          "name": "stdout",
          "output_type": "stream",
          "text": [
            "(640,)\n",
            "(1239,)\n"
          ]
        }
      ],
      "source": [
        "print(train_data['Sentence #'][train_data['Tag'] != 'O'].unique().shape)\n",
        "print(train_data['Sentence #'].unique().shape)"
      ]
    },
    {
      "cell_type": "markdown",
      "metadata": {},
      "source": [
        "As we can see, our dataset has a lot of data from sentences that have no named entities. Using this sentences would mean training our model with data that doesn't contribute to our goal of classifing named entities, since they will only be an example of how to classify word that are not in one.\n",
        "\n",
        "Because of this we will filter our dataset so that it only contains sentences which have at least on named entity in them. This will ensure that during training phase we are tuning the model to find the named entities inside sentences."
      ]
    },
    {
      "cell_type": "code",
      "execution_count": 208,
      "metadata": {},
      "outputs": [],
      "source": [
        "ner_sentences = train_data['Sentence #'][train_data['Tag'] != 'O'].unique()\n",
        "train_data = train_data[train_data['Sentence #'].isin(ner_sentences)]"
      ]
    },
    {
      "cell_type": "code",
      "execution_count": 209,
      "metadata": {},
      "outputs": [
        {
          "data": {
            "text/plain": [
              "(48604, 3)"
            ]
          },
          "execution_count": 209,
          "metadata": {},
          "output_type": "execute_result"
        }
      ],
      "source": [
        "train_data.shape"
      ]
    },
    {
      "cell_type": "markdown",
      "metadata": {},
      "source": [
        "# Bert Tokenize"
      ]
    },
    {
      "cell_type": "code",
      "execution_count": 149,
      "metadata": {
        "id": "wu6R9mV3Olnj"
      },
      "outputs": [],
      "source": [
        "class SentenceGetter(object):\n",
        "\n",
        "    def __init__(self, data):\n",
        "        print(\"a\")\n",
        "        self.n_sent = 1\n",
        "        self.data = data\n",
        "        self.empty = False\n",
        "        agg_func = lambda s: [(w, t) for w, t in zip(s[\"Word\"].values.tolist(),\n",
        "                                                           #s[\"POS\"].values.tolist(),\n",
        "                                                           s[\"Tag\"].values.tolist())]\n",
        "        self.grouped = self.data.groupby(\"Sentence #\").apply(agg_func)\n",
        "        self.sentences = [s for s in self.grouped]\n",
        "\n",
        "    def get_next(self):\n",
        "        print(\"h\")\n",
        "        try:\n",
        "            s = self.grouped[\"Sentence: {}\".format(self.n_sent)]\n",
        "            self.n_sent += 1\n",
        "            return s\n",
        "        except:\n",
        "            return None"
      ]
    },
    {
      "cell_type": "code",
      "execution_count": 210,
      "metadata": {
        "id": "6WqZWzHhPj88"
      },
      "outputs": [
        {
          "name": "stdout",
          "output_type": "stream",
          "text": [
            "a\n"
          ]
        }
      ],
      "source": [
        "getter = SentenceGetter(train_data)"
      ]
    },
    {
      "cell_type": "code",
      "execution_count": 211,
      "metadata": {},
      "outputs": [
        {
          "data": {
            "text/plain": [
              "[('1/1', 'O'),\n",
              " ('PORTARIA', 'O'),\n",
              " ('Nº', 'O'),\n",
              " ('6839', 'O'),\n",
              " ('de', 'O'),\n",
              " ('02/09/2016', 'O'),\n",
              " ('O', 'O'),\n",
              " ('VICE-REITOR', 'O'),\n",
              " (',', 'O'),\n",
              " ('NO', 'O')]"
            ]
          },
          "execution_count": 211,
          "metadata": {},
          "output_type": "execute_result"
        }
      ],
      "source": [
        "getter.sentences[0][0:10]"
      ]
    },
    {
      "cell_type": "code",
      "execution_count": 212,
      "metadata": {
        "colab": {
          "base_uri": "https://localhost:8080/"
        },
        "id": "sXvAmvAxPmN9",
        "outputId": "3c781f5c-65ae-46b2-8353-894c28ea2bc5"
      },
      "outputs": [
        {
          "data": {
            "text/plain": [
              "['1/1',\n",
              " 'PORTARIA',\n",
              " 'Nº',\n",
              " '6839',\n",
              " 'de',\n",
              " '02/09/2016',\n",
              " 'O',\n",
              " 'VICE-REITOR',\n",
              " ',',\n",
              " 'NO']"
            ]
          },
          "execution_count": 212,
          "metadata": {},
          "output_type": "execute_result"
        }
      ],
      "source": [
        "sentences = [[word[0] for word in sentence] for sentence in getter.sentences]\n",
        "sentences[0][0:10]"
      ]
    },
    {
      "cell_type": "code",
      "execution_count": 153,
      "metadata": {},
      "outputs": [
        {
          "data": {
            "text/plain": [
              "['1/1',\n",
              " 'PORTARIA',\n",
              " 'Nº',\n",
              " '6495',\n",
              " 'de',\n",
              " '20/07/2017',\n",
              " 'A',\n",
              " 'VICE-REITORA',\n",
              " ',',\n",
              " 'NO']"
            ]
          },
          "execution_count": 153,
          "metadata": {},
          "output_type": "execute_result"
        }
      ],
      "source": [
        "sentences[2][0:10]"
      ]
    },
    {
      "cell_type": "code",
      "execution_count": 213,
      "metadata": {
        "colab": {
          "base_uri": "https://localhost:8080/"
        },
        "id": "AENL2u8YPrHb",
        "outputId": "25c54476-03e9-46ae-e56f-e525337970ce"
      },
      "outputs": [
        {
          "name": "stdout",
          "output_type": "stream",
          "text": [
            "['O', 'O', 'O', 'O', 'O', 'O', 'O', 'O', 'O', 'O', 'O', 'O', 'O', 'O', 'O', 'O', 'O', 'O', 'O', 'O', 'O', 'O', 'O', 'O', 'O', 'O', 'O', 'O', 'O', 'O', 'O', 'O', 'O', 'O', 'O', 'O', 'O', 'O', 'O', 'O', 'O', 'O', 'O', 'O', 'O', 'O', 'O', 'O', 'O', 'B-per', 'I-per', 'I-per', 'O', 'O', 'O', 'O', 'O', 'O', 'O', 'O', 'O', 'O', 'O', 'O', 'O', 'O', 'O', 'O', 'O', 'O', 'O', 'O', 'O', 'O', 'O', 'O', 'O', 'O', 'O', 'O', 'O', 'O', 'O', 'O', 'O', 'O', 'O', 'O', 'O', 'O', 'O', 'O', 'O', 'O', 'O', 'O', 'O', 'O', 'O', 'O', 'O', 'O', 'O', 'O', 'O', 'O', 'O', 'O', 'O', 'O', 'O', 'O', 'O', 'O', 'O', 'O', 'O', 'O', 'O', 'O', 'O', 'O', 'O', 'O', 'O', 'O', 'O', 'O', 'O', 'O', 'O', 'O', 'O', 'O', 'O', 'O', 'O', 'O', 'O', 'O', 'O', 'O', 'O', 'O', 'O', 'O', 'O', 'O', 'O', 'O', 'O', 'O']\n"
          ]
        }
      ],
      "source": [
        "labels = [[s[1] for s in sentence] for sentence in getter.sentences]\n",
        "print(labels[0])"
      ]
    },
    {
      "cell_type": "code",
      "execution_count": 214,
      "metadata": {
        "id": "1x0BdhlePv5C"
      },
      "outputs": [],
      "source": [
        "tag_values = list(set(train_data[\"Tag\"].values))\n",
        "tag_values.append(\"PAD\")\n",
        "tag2idx = {t: i for i, t in enumerate(tag_values)}"
      ]
    },
    {
      "cell_type": "code",
      "execution_count": 215,
      "metadata": {},
      "outputs": [
        {
          "name": "stdout",
          "output_type": "stream",
          "text": [
            "['O', 'B-per', 'I-per', 'PAD']\n",
            "{'O': 0, 'B-per': 1, 'I-per': 2, 'PAD': 3}\n"
          ]
        }
      ],
      "source": [
        "print(tag_values)\n",
        "print(tag2idx)"
      ]
    },
    {
      "cell_type": "code",
      "execution_count": 216,
      "metadata": {
        "id": "7ZgEmSrdPxuQ"
      },
      "outputs": [],
      "source": [
        "MAX_LEN = 75\n",
        "bs = 32"
      ]
    },
    {
      "cell_type": "code",
      "execution_count": 217,
      "metadata": {
        "id": "G5SfQrBqQnaE"
      },
      "outputs": [
        {
          "data": {
            "text/plain": [
              "device(type='cuda')"
            ]
          },
          "execution_count": 217,
          "metadata": {},
          "output_type": "execute_result"
        }
      ],
      "source": [
        "device = torch.device(\"cuda\" if torch.cuda.is_available() else \"cpu\")\n",
        "n_gpu = torch.cuda.device_count()\n",
        "device"
      ]
    },
    {
      "cell_type": "code",
      "execution_count": 218,
      "metadata": {
        "colab": {
          "base_uri": "https://localhost:8080/",
          "height": 35
        },
        "id": "VEQexw6WQptM",
        "outputId": "32349098-d06e-4478-f7f1-0f3a3ea92cc7"
      },
      "outputs": [
        {
          "data": {
            "text/plain": [
              "'NVIDIA GeForce GTX 1070 Ti'"
            ]
          },
          "execution_count": 218,
          "metadata": {},
          "output_type": "execute_result"
        }
      ],
      "source": [
        "torch.cuda.get_device_name(0)"
      ]
    },
    {
      "cell_type": "code",
      "execution_count": 219,
      "metadata": {
        "id": "L--802t0QrIt"
      },
      "outputs": [],
      "source": [
        "tokenizer = BertTokenizer.from_pretrained('bert-base-cased', do_lower_case=False)"
      ]
    },
    {
      "cell_type": "code",
      "execution_count": 220,
      "metadata": {
        "id": "FrNxug4fR9ML"
      },
      "outputs": [],
      "source": [
        "def tokenize_and_preserve_labels(sentence, text_labels):\n",
        "    tokenized_sentence = []\n",
        "    labels = []\n",
        "\n",
        "    for word, label in zip(sentence, text_labels):\n",
        "\n",
        "        # Tokenize the word and count # of subwords the word is broken into\n",
        "        tokenized_word = tokenizer.tokenize(word)\n",
        "        n_subwords = len(tokenized_word)\n",
        "\n",
        "        # Add the tokenized word to the final tokenized word list\n",
        "        tokenized_sentence.extend(tokenized_word)\n",
        "\n",
        "        # Add the same label to the new list of labels `n_subwords` times\n",
        "        labels.extend([label] * n_subwords)\n",
        "\n",
        "    return tokenized_sentence, labels"
      ]
    },
    {
      "cell_type": "code",
      "execution_count": 162,
      "metadata": {},
      "outputs": [
        {
          "name": "stdout",
          "output_type": "stream",
          "text": [
            "640\n"
          ]
        }
      ],
      "source": [
        "print(len(sentences))"
      ]
    },
    {
      "cell_type": "code",
      "execution_count": 221,
      "metadata": {
        "id": "8Uq1QNj5SCpP"
      },
      "outputs": [],
      "source": [
        "tokenized_texts_and_labels = [\n",
        "    tokenize_and_preserve_labels(sent, labs)\n",
        "    for sent, labs in zip(sentences, labels)\n",
        "]"
      ]
    },
    {
      "cell_type": "code",
      "execution_count": 222,
      "metadata": {
        "id": "nhW8WM7XSERW"
      },
      "outputs": [],
      "source": [
        "tokenized_texts = [token_label_pair[0] for token_label_pair in tokenized_texts_and_labels]\n",
        "labels = [token_label_pair[1] for token_label_pair in tokenized_texts_and_labels]"
      ]
    },
    {
      "cell_type": "code",
      "execution_count": 223,
      "metadata": {
        "id": "R7OzSHJESGJF"
      },
      "outputs": [],
      "source": [
        "input_ids = pad_sequences([tokenizer.convert_tokens_to_ids(txt) for txt in tokenized_texts],\n",
        "                          maxlen=MAX_LEN, dtype=\"long\", value=0.0,\n",
        "                          truncating=\"post\", padding=\"post\")"
      ]
    },
    {
      "cell_type": "code",
      "execution_count": 229,
      "metadata": {},
      "outputs": [
        {
          "name": "stdout",
          "output_type": "stream",
          "text": [
            "['Ma', '##ur', '##í', '##cio', 'V', '##i', '##é', '##gas', 'Da', 'Silva', 'P', '##r', '##ó', '-', 'Re', '##itor', 'de', 'G', '##est', '##ão', 'de', 'P', '##ess', '##oa', '##s']\n",
            "[ 7085  2149  6212  8174   159  1182  2744 11305 10136 11211   153  1197\n",
            "  7774   118 11336 15419  1260   144  2556  9290  1260   153  5800 12985\n",
            "  1116     0     0     0     0     0     0     0     0     0     0     0\n",
            "     0     0     0     0     0     0     0     0     0     0     0     0\n",
            "     0     0     0     0     0     0     0     0     0     0     0     0\n",
            "     0     0     0     0     0     0     0     0     0     0     0     0\n",
            "     0     0     0]\n"
          ]
        }
      ],
      "source": [
        "print(tokenized_texts[600])\n",
        "print(input_ids[600])\n"
      ]
    },
    {
      "cell_type": "code",
      "execution_count": 230,
      "metadata": {
        "id": "uNuKJgXqSHiX"
      },
      "outputs": [],
      "source": [
        "tags = pad_sequences([[tag2idx.get(l) for l in lab] for lab in labels],\n",
        "                     maxlen=MAX_LEN, value=tag2idx[\"PAD\"], padding=\"post\",\n",
        "                     dtype=\"long\", truncating=\"post\")"
      ]
    },
    {
      "cell_type": "code",
      "execution_count": 231,
      "metadata": {
        "id": "cK7ZAzyTSI5y"
      },
      "outputs": [],
      "source": [
        "attention_masks = [[float(i != 0.0) for i in ii] for ii in input_ids]"
      ]
    },
    {
      "cell_type": "code",
      "execution_count": 232,
      "metadata": {
        "id": "xLjUGUMLSKdz"
      },
      "outputs": [],
      "source": [
        "tr_inputs, val_inputs, tr_tags, val_tags = train_test_split(input_ids, tags,\n",
        "                                                            random_state=2018, test_size=0.1)\n",
        "tr_masks, val_masks, _, _ = train_test_split(attention_masks, input_ids,\n",
        "                                             random_state=2018, test_size=0.1)"
      ]
    },
    {
      "cell_type": "code",
      "execution_count": 241,
      "metadata": {},
      "outputs": [],
      "source": [
        "tr_txt, val_txt, _, _ = train_test_split(tokenized_texts, input_ids,\n",
        "                                             random_state=2018, test_size=0.1)"
      ]
    },
    {
      "cell_type": "code",
      "execution_count": 243,
      "metadata": {},
      "outputs": [
        {
          "data": {
            "text/plain": [
              "array([0, 0, 0, 0, 0, 0, 0, 0, 0, 0, 0, 0, 0, 0, 0, 0, 0, 0, 0, 0, 0, 0,\n",
              "       0, 0, 0, 0, 0, 0, 0, 0, 0, 0, 0, 0, 0, 0, 0, 0, 0, 0, 0, 0, 0, 0,\n",
              "       0, 0, 0, 0, 0, 0, 0, 0, 0, 0, 0, 0, 0, 0, 0, 0, 0, 0, 0, 0, 0, 0,\n",
              "       0, 0, 0, 0, 0, 0, 0, 0, 0])"
            ]
          },
          "execution_count": 243,
          "metadata": {},
          "output_type": "execute_result"
        }
      ],
      "source": [
        "val_tags[0]"
      ]
    },
    {
      "cell_type": "code",
      "execution_count": 244,
      "metadata": {},
      "outputs": [
        {
          "data": {
            "text/plain": [
              "array([  122,   120,   122,   153,  9565,  9159, 20595,  1592,   151,\n",
              "       28174,  9377, 23124,  1260,  1476,   120,  1367,   120,  1446,\n",
              "         152, 11629, 28191,   118,   155, 27514, 18082,  2069, 18581,\n",
              "         100, 18581,   153,  9919, 23161, 10719,   141,  1592,  7414,\n",
              "       26140,  8900,  9949, 14569,  2036,   143, 10069,  9637, 12507,\n",
              "         141,  2346,   155, 19368,   144,  9664, 16769,  2036,   141,\n",
              "        2346,   156,  2591,  2162,   117,  1185,  1366,  1186,  1260,\n",
              "       28117,  2225,  1120,  2047,  7925,  1182, 28201, 28207,  1279,\n",
              "       15027,   181,  4638])"
            ]
          },
          "execution_count": 244,
          "metadata": {},
          "output_type": "execute_result"
        }
      ],
      "source": [
        "val_inputs[0]"
      ]
    },
    {
      "cell_type": "code",
      "execution_count": 245,
      "metadata": {},
      "outputs": [
        {
          "data": {
            "text/plain": [
              "['1',\n",
              " '/',\n",
              " '1',\n",
              " 'P',\n",
              " '##OR',\n",
              " '##TA',\n",
              " '##RI',\n",
              " '##A',\n",
              " 'N',\n",
              " '##º',\n",
              " '104',\n",
              " '##34',\n",
              " 'de',\n",
              " '30',\n",
              " '/',\n",
              " '12',\n",
              " '/',\n",
              " '2016',\n",
              " 'O',\n",
              " 'PR',\n",
              " '##Ó',\n",
              " '-',\n",
              " 'R',\n",
              " '##EI',\n",
              " '##TO',\n",
              " '##R',\n",
              " 'DE',\n",
              " '[UNK]',\n",
              " 'DE',\n",
              " 'P',\n",
              " '##ES',\n",
              " '##SO',\n",
              " '##AS',\n",
              " 'D',\n",
              " '##A',\n",
              " 'UN',\n",
              " '##IVE',\n",
              " '##RS',\n",
              " '##ID',\n",
              " '##AD',\n",
              " '##E',\n",
              " 'F',\n",
              " '##ED',\n",
              " '##ER',\n",
              " '##AL',\n",
              " 'D',\n",
              " '##O',\n",
              " 'R',\n",
              " '##IO',\n",
              " 'G',\n",
              " '##RA',\n",
              " '##ND',\n",
              " '##E',\n",
              " 'D',\n",
              " '##O',\n",
              " 'S',\n",
              " '##U',\n",
              " '##L',\n",
              " ',',\n",
              " 'no',\n",
              " 'us',\n",
              " '##o',\n",
              " 'de',\n",
              " 'su',\n",
              " '##as',\n",
              " 'at',\n",
              " '##ri',\n",
              " '##bu',\n",
              " '##i',\n",
              " '##ç',\n",
              " '##õ',\n",
              " '##es',\n",
              " 'que',\n",
              " 'l',\n",
              " '##he',\n",
              " 'for',\n",
              " '##am',\n",
              " 'con',\n",
              " '##fer',\n",
              " '##idas',\n",
              " 'p',\n",
              " '##ela',\n",
              " 'Port',\n",
              " '##aria',\n",
              " 'n',\n",
              " '##º',\n",
              " '76',\n",
              " '##8',\n",
              " '##4',\n",
              " ',',\n",
              " 'de',\n",
              " '03',\n",
              " 'de',\n",
              " 'out',\n",
              " '##ub',\n",
              " '##ro',\n",
              " 'de',\n",
              " '2016',\n",
              " ',',\n",
              " 'do',\n",
              " 'Ma',\n",
              " '##gn',\n",
              " '##í',\n",
              " '##fic',\n",
              " '##o',\n",
              " 'Re',\n",
              " '##itor',\n",
              " ',',\n",
              " 'e',\n",
              " 'conform',\n",
              " '##e',\n",
              " 'a',\n",
              " 'Sol',\n",
              " '##icit',\n",
              " '##a',\n",
              " '##ção',\n",
              " 'de',\n",
              " 'F',\n",
              " '##é',\n",
              " '##ria',\n",
              " '##s',\n",
              " 'n',\n",
              " '##°',\n",
              " '##26',\n",
              " '##4',\n",
              " '##9',\n",
              " '##7',\n",
              " ',',\n",
              " 'R',\n",
              " '##ES',\n",
              " '##OL',\n",
              " '##VE',\n",
              " 'Design',\n",
              " '##ar',\n",
              " ',',\n",
              " 'tempo',\n",
              " '##rar',\n",
              " '##iam',\n",
              " '##ente',\n",
              " ',',\n",
              " 'no',\n",
              " '##s',\n",
              " 'term',\n",
              " '##os',\n",
              " 'da',\n",
              " 'Le',\n",
              " '##i',\n",
              " 'n',\n",
              " '##º',\n",
              " '8',\n",
              " '.',\n",
              " '112',\n",
              " ',',\n",
              " 'de',\n",
              " '11',\n",
              " 'de',\n",
              " 'de',\n",
              " '##ze',\n",
              " '##mb',\n",
              " '##ro',\n",
              " 'de',\n",
              " '1990',\n",
              " ',',\n",
              " 'com',\n",
              " 'red',\n",
              " '##a',\n",
              " '##ção',\n",
              " 'dad',\n",
              " '##a',\n",
              " 'p',\n",
              " '##ela',\n",
              " 'Le',\n",
              " '##i',\n",
              " 'n',\n",
              " '##º',\n",
              " '9',\n",
              " '.',\n",
              " '52',\n",
              " '##7',\n",
              " ',',\n",
              " 'de',\n",
              " '10',\n",
              " 'de',\n",
              " 'de',\n",
              " '##ze',\n",
              " '##mb',\n",
              " '##ro',\n",
              " 'de',\n",
              " '1997',\n",
              " ',',\n",
              " 'a',\n",
              " 'o',\n",
              " '##cup',\n",
              " '##ante',\n",
              " 'do',\n",
              " 'cargo',\n",
              " 'de',\n",
              " 'T',\n",
              " '##É',\n",
              " '##C',\n",
              " '##NI',\n",
              " '##CO',\n",
              " 'E',\n",
              " '##M',\n",
              " 'CO',\n",
              " '##NT',\n",
              " '##AB',\n",
              " '##IL',\n",
              " '##ID',\n",
              " '##AD',\n",
              " '##E',\n",
              " ',',\n",
              " 'do',\n",
              " 'Q',\n",
              " '##uad',\n",
              " '##ro',\n",
              " 'de',\n",
              " 'P',\n",
              " '##ess',\n",
              " '##oa',\n",
              " '##l',\n",
              " 'des',\n",
              " '##ta',\n",
              " 'Universidad',\n",
              " '##e',\n",
              " ',',\n",
              " 'Evan',\n",
              " '##ise',\n",
              " 'Da',\n",
              " 'Silva',\n",
              " 'Ramos',\n",
              " '(',\n",
              " 'Si',\n",
              " '##ap',\n",
              " '##e',\n",
              " ':',\n",
              " '1887',\n",
              " '##11',\n",
              " '##5',\n",
              " ')',\n",
              " ',',\n",
              " 'para',\n",
              " 'sub',\n",
              " '##st',\n",
              " '##it',\n",
              " '##ui',\n",
              " '##r',\n",
              " 'T',\n",
              " '##ia',\n",
              " '##go',\n",
              " 'Carr',\n",
              " '##ard',\n",
              " 'Ce',\n",
              " '##nt',\n",
              " '##uria',\n",
              " '##o',\n",
              " '(',\n",
              " 'Si',\n",
              " '##ap',\n",
              " '##e',\n",
              " ':',\n",
              " '118',\n",
              " '##46',\n",
              " '##26',\n",
              " ')',\n",
              " ',',\n",
              " 'G',\n",
              " '##ere',\n",
              " '##nte',\n",
              " 'Ad',\n",
              " '##mini',\n",
              " '##stra',\n",
              " '##ti',\n",
              " '##vo',\n",
              " 'do',\n",
              " 'Instituto',\n",
              " 'de',\n",
              " 'P',\n",
              " '##es',\n",
              " '##quis',\n",
              " '##as',\n",
              " 'Hi',\n",
              " '##dr',\n",
              " '##á',\n",
              " '##uli',\n",
              " '##cas',\n",
              " ',',\n",
              " 'C',\n",
              " '##ó',\n",
              " '##digo',\n",
              " 'F',\n",
              " '##G',\n",
              " '-',\n",
              " '1',\n",
              " ',',\n",
              " 'em',\n",
              " 'se',\n",
              " '##u',\n",
              " 'a',\n",
              " '##fast',\n",
              " '##ament',\n",
              " '##o',\n",
              " 'p',\n",
              " '##or',\n",
              " 'm',\n",
              " '##ot',\n",
              " '##ivo',\n",
              " 'de',\n",
              " 'f',\n",
              " '##é',\n",
              " '##ria',\n",
              " '##s',\n",
              " ',',\n",
              " 'no',\n",
              " 'per',\n",
              " '##ío',\n",
              " '##do',\n",
              " 'de',\n",
              " '04',\n",
              " '/',\n",
              " '11',\n",
              " '/',\n",
              " '2016',\n",
              " 'a',\n",
              " '13',\n",
              " '/',\n",
              " '11',\n",
              " '/',\n",
              " '2016',\n",
              " ',',\n",
              " 'com',\n",
              " 'o',\n",
              " 'de',\n",
              " '##cor',\n",
              " '##rent',\n",
              " '##e',\n",
              " 'p',\n",
              " '##aga',\n",
              " '##mento',\n",
              " 'das',\n",
              " 'van',\n",
              " '##tage',\n",
              " '##ns',\n",
              " 'p',\n",
              " '##or',\n",
              " '10',\n",
              " 'di',\n",
              " '##as',\n",
              " '.']"
            ]
          },
          "execution_count": 245,
          "metadata": {},
          "output_type": "execute_result"
        }
      ],
      "source": [
        "val_txt[0]"
      ]
    },
    {
      "cell_type": "code",
      "execution_count": 172,
      "metadata": {
        "id": "YKga3RAdSMST"
      },
      "outputs": [],
      "source": [
        "tr_inputs = torch.tensor(tr_inputs)\n",
        "val_inputs = torch.tensor(val_inputs)\n",
        "tr_tags = torch.tensor(tr_tags, dtype=torch.long)\n",
        "val_tags = torch.tensor(val_tags, dtype=torch.long)\n",
        "tr_masks = torch.tensor(tr_masks)\n",
        "val_masks = torch.tensor(val_masks)"
      ]
    },
    {
      "cell_type": "code",
      "execution_count": 173,
      "metadata": {
        "id": "zr76EftaSOc7"
      },
      "outputs": [],
      "source": [
        "train_data = TensorDataset(tr_inputs, tr_masks, tr_tags)\n",
        "train_sampler = RandomSampler(train_data)\n",
        "train_dataloader = DataLoader(train_data, sampler=train_sampler, batch_size=bs)\n",
        "\n",
        "valid_data = TensorDataset(val_inputs, val_masks, val_tags)\n",
        "valid_sampler = SequentialSampler(valid_data)\n",
        "valid_dataloader = DataLoader(valid_data, sampler=valid_sampler, batch_size=bs)"
      ]
    },
    {
      "cell_type": "code",
      "execution_count": 174,
      "metadata": {
        "colab": {
          "base_uri": "https://localhost:8080/",
          "height": 35
        },
        "id": "fyxa6kHxSQhw",
        "outputId": "092c2871-a431-4327-c1f9-2c55ee44e5f3"
      },
      "outputs": [
        {
          "data": {
            "text/plain": [
              "'4.11.3'"
            ]
          },
          "execution_count": 174,
          "metadata": {},
          "output_type": "execute_result"
        }
      ],
      "source": [
        "import transformers\n",
        "from transformers import BertForTokenClassification, AdamW\n",
        "\n",
        "transformers.__version__"
      ]
    },
    {
      "cell_type": "code",
      "execution_count": 175,
      "metadata": {
        "colab": {
          "base_uri": "https://localhost:8080/"
        },
        "id": "8VflvtbitEM6",
        "outputId": "54e79031-8d94-4a96-ec1c-c5c24bc26b0b"
      },
      "outputs": [
        {
          "name": "stderr",
          "output_type": "stream",
          "text": [
            "Some weights of the model checkpoint at bert-base-cased were not used when initializing BertForTokenClassification: ['cls.predictions.bias', 'cls.predictions.decoder.weight', 'cls.predictions.transform.LayerNorm.bias', 'cls.predictions.transform.dense.bias', 'cls.predictions.transform.dense.weight', 'cls.seq_relationship.bias', 'cls.predictions.transform.LayerNorm.weight', 'cls.seq_relationship.weight']\n",
            "- This IS expected if you are initializing BertForTokenClassification from the checkpoint of a model trained on another task or with another architecture (e.g. initializing a BertForSequenceClassification model from a BertForPreTraining model).\n",
            "- This IS NOT expected if you are initializing BertForTokenClassification from the checkpoint of a model that you expect to be exactly identical (initializing a BertForSequenceClassification model from a BertForSequenceClassification model).\n",
            "Some weights of BertForTokenClassification were not initialized from the model checkpoint at bert-base-cased and are newly initialized: ['classifier.weight', 'classifier.bias']\n",
            "You should probably TRAIN this model on a down-stream task to be able to use it for predictions and inference.\n"
          ]
        }
      ],
      "source": [
        "model = BertForTokenClassification.from_pretrained(\n",
        "    \"bert-base-cased\",\n",
        "    num_labels=len(tag2idx),\n",
        "    output_attentions = False,\n",
        "    output_hidden_states = False\n",
        ")"
      ]
    },
    {
      "cell_type": "code",
      "execution_count": 176,
      "metadata": {
        "id": "roXX3ekbtJpi"
      },
      "outputs": [],
      "source": [
        "#torch.cuda.empty_cache()\n",
        "model.cuda();"
      ]
    },
    {
      "cell_type": "code",
      "execution_count": 177,
      "metadata": {
        "id": "WLjUPRrW0N8s"
      },
      "outputs": [],
      "source": [
        "FULL_FINETUNING = True\n",
        "if FULL_FINETUNING:\n",
        "    param_optimizer = list(model.named_parameters())\n",
        "    no_decay = ['bias', 'gamma', 'beta']\n",
        "    optimizer_grouped_parameters = [\n",
        "        {'params': [p for n, p in param_optimizer if not any(nd in n for nd in no_decay)],\n",
        "         'weight_decay_rate': 0.01},\n",
        "        {'params': [p for n, p in param_optimizer if any(nd in n for nd in no_decay)],\n",
        "         'weight_decay_rate': 0.0}\n",
        "    ]\n",
        "else:\n",
        "    param_optimizer = list(model.classifier.named_parameters())\n",
        "    optimizer_grouped_parameters = [{\"params\": [p for n, p in param_optimizer]}]\n",
        "\n",
        "optimizer = AdamW(\n",
        "    optimizer_grouped_parameters,\n",
        "    lr=3e-5,\n",
        "    eps=1e-8\n",
        ")"
      ]
    },
    {
      "cell_type": "code",
      "execution_count": 178,
      "metadata": {
        "id": "g1nMbn1q0OTX"
      },
      "outputs": [],
      "source": [
        "from transformers import get_linear_schedule_with_warmup\n",
        "\n",
        "epochs = 3\n",
        "max_grad_norm = 1.0\n",
        "\n",
        "# Total number of training steps is number of batches * number of epochs.\n",
        "total_steps = len(train_dataloader) * epochs\n",
        "\n",
        "# Create the learning rate scheduler.\n",
        "scheduler = get_linear_schedule_with_warmup(\n",
        "    optimizer,\n",
        "    num_warmup_steps=0,\n",
        "    num_training_steps=total_steps\n",
        ")"
      ]
    },
    {
      "cell_type": "code",
      "execution_count": 179,
      "metadata": {
        "colab": {
          "base_uri": "https://localhost:8080/"
        },
        "id": "qiETKbw30R9U",
        "outputId": "e3671850-122a-4483-b2b1-bc3aea775fa7"
      },
      "outputs": [
        {
          "name": "stdout",
          "output_type": "stream",
          "text": [
            "Requirement already satisfied: seqeval==0.0.12 in c:\\users\\arthu\\anaconda3\\envs\\deep learning\\lib\\site-packages (0.0.12)\n",
            "Requirement already satisfied: Keras>=2.2.4 in c:\\users\\arthu\\anaconda3\\envs\\deep learning\\lib\\site-packages (from seqeval==0.0.12) (2.4.3)\n",
            "Requirement already satisfied: numpy>=1.14.0 in c:\\users\\arthu\\anaconda3\\envs\\deep learning\\lib\\site-packages (from seqeval==0.0.12) (1.19.2)\n",
            "Requirement already satisfied: scipy>=0.14 in c:\\users\\arthu\\anaconda3\\envs\\deep learning\\lib\\site-packages (from Keras>=2.2.4->seqeval==0.0.12) (1.6.2)\n",
            "Requirement already satisfied: h5py in c:\\users\\arthu\\anaconda3\\envs\\deep learning\\lib\\site-packages (from Keras>=2.2.4->seqeval==0.0.12) (2.10.0)\n",
            "Requirement already satisfied: pyyaml in c:\\users\\arthu\\anaconda3\\envs\\deep learning\\lib\\site-packages (from Keras>=2.2.4->seqeval==0.0.12) (6.0)\n",
            "Requirement already satisfied: six in c:\\users\\arthu\\anaconda3\\envs\\deep learning\\lib\\site-packages (from h5py->Keras>=2.2.4->seqeval==0.0.12) (1.16.0)\n"
          ]
        }
      ],
      "source": [
        "!pip install seqeval==0.0.12\n",
        "from seqeval.metrics import f1_score, accuracy_score, precision_score, recall_score"
      ]
    },
    {
      "cell_type": "code",
      "execution_count": 180,
      "metadata": {
        "colab": {
          "base_uri": "https://localhost:8080/"
        },
        "id": "dLwcvGV40VzJ",
        "outputId": "515b79d2-41b0-42ce-d99c-e482484a0829"
      },
      "outputs": [
        {
          "name": "stderr",
          "output_type": "stream",
          "text": [
            "Epoch:   0%|          | 0/3 [00:00<?, ?it/s]"
          ]
        },
        {
          "name": "stdout",
          "output_type": "stream",
          "text": [
            "Average train loss: 0.2558127416090833\n"
          ]
        },
        {
          "name": "stderr",
          "output_type": "stream",
          "text": [
            "Epoch:  33%|███▎      | 1/3 [00:06<00:12,  6.01s/it]"
          ]
        },
        {
          "name": "stdout",
          "output_type": "stream",
          "text": [
            "Validation loss: 0.016292601823806763\n",
            "Validation Accuracy: 0.9966153846153846\n",
            "Validation Precision: 0.8351648351648352\n",
            "Validation Recall: 0.926829268292683\n",
            "Validation F1-Score: 0.8786127167630058\n",
            "\n",
            "Average train loss: 0.012545691169280972\n",
            "Validation loss: 0.0032407520338892937\n",
            "Validation Accuracy: 1.0\n",
            "Validation Precision: 1.0\n",
            "Validation Recall: 1.0\n"
          ]
        },
        {
          "name": "stderr",
          "output_type": "stream",
          "text": [
            "Epoch:  67%|██████▋   | 2/3 [00:11<00:05,  5.99s/it]"
          ]
        },
        {
          "name": "stdout",
          "output_type": "stream",
          "text": [
            "Validation F1-Score: 1.0\n",
            "\n",
            "Average train loss: 0.006678424012433324\n"
          ]
        },
        {
          "name": "stderr",
          "output_type": "stream",
          "text": [
            "Epoch: 100%|██████████| 3/3 [00:17<00:00,  5.99s/it]"
          ]
        },
        {
          "name": "stdout",
          "output_type": "stream",
          "text": [
            "Validation loss: 0.0015217746258713305\n",
            "Validation Accuracy: 1.0\n",
            "Validation Precision: 1.0\n",
            "Validation Recall: 1.0\n",
            "Validation F1-Score: 1.0\n",
            "\n"
          ]
        },
        {
          "name": "stderr",
          "output_type": "stream",
          "text": [
            "\n"
          ]
        }
      ],
      "source": [
        "## Store the average loss after each epoch so we can plot them.\n",
        "loss_values, validation_loss_values = [], []\n",
        "\n",
        "for _ in trange(epochs, desc=\"Epoch\"):\n",
        "    # ========================================\n",
        "    #               Training\n",
        "    # ========================================\n",
        "    # Perform one full pass over the training set.\n",
        "\n",
        "    # Put the model into training mode.\n",
        "    model.train()\n",
        "    # Reset the total loss for this epoch.\n",
        "    total_loss = 0\n",
        "\n",
        "    # Training loop\n",
        "    for step, batch in enumerate(train_dataloader):\n",
        "        # add batch to gpu\n",
        "        batch = tuple(t.to(device) for t in batch)\n",
        "        b_input_ids, b_input_mask, b_labels = batch\n",
        "        # Always clear any previously calculated gradients before performing a backward pass.\n",
        "        model.zero_grad()\n",
        "        # forward pass\n",
        "        # This will return the loss (rather than the model output)\n",
        "        # because we have provided the `labels`.\n",
        "        outputs = model(b_input_ids, token_type_ids=None,\n",
        "                        attention_mask=b_input_mask, labels=b_labels)\n",
        "        # get the loss\n",
        "        loss = outputs[0]\n",
        "        # Perform a backward pass to calculate the gradients.\n",
        "        loss.backward()\n",
        "        # track train loss\n",
        "        total_loss += loss.item()\n",
        "        # Clip the norm of the gradient\n",
        "        # This is to help prevent the \"exploding gradients\" problem.\n",
        "        torch.nn.utils.clip_grad_norm_(parameters=model.parameters(), max_norm=max_grad_norm)\n",
        "        # update parameters\n",
        "        optimizer.step()\n",
        "        # Update the learning rate.\n",
        "        scheduler.step()\n",
        "\n",
        "    # Calculate the average loss over the training data.\n",
        "    avg_train_loss = total_loss / len(train_dataloader)\n",
        "    print(\"Average train loss: {}\".format(avg_train_loss))\n",
        "\n",
        "    # Store the loss value for plotting the learning curve.\n",
        "    loss_values.append(avg_train_loss)\n",
        "\n",
        "\n",
        "    # ========================================\n",
        "    #               Validation\n",
        "    # ========================================\n",
        "    # After the completion of each training epoch, measure our performance on\n",
        "    # our validation set.\n",
        "\n",
        "    # Put the model into evaluation mode\n",
        "    model.eval()\n",
        "    # Reset the validation loss for this epoch.\n",
        "    eval_loss, eval_accuracy = 0, 0\n",
        "    nb_eval_steps, nb_eval_examples = 0, 0\n",
        "    predictions , true_labels = [], []\n",
        "    for batch in valid_dataloader:\n",
        "        batch = tuple(t.to(device) for t in batch)\n",
        "        b_input_ids, b_input_mask, b_labels = batch\n",
        "\n",
        "        # Telling the model not to compute or store gradients,\n",
        "        # saving memory and speeding up validation\n",
        "        with torch.no_grad():\n",
        "            # Forward pass, calculate logit predictions.\n",
        "            # This will return the logits rather than the loss because we have not provided labels.\n",
        "            outputs = model(b_input_ids, token_type_ids=None,\n",
        "                            attention_mask=b_input_mask, labels=b_labels)\n",
        "        # Move logits and labels to CPU\n",
        "        logits = outputs[1].detach().cpu().numpy()\n",
        "        label_ids = b_labels.to('cpu').numpy()\n",
        "\n",
        "        # Calculate the accuracy for this batch of test sentences.\n",
        "        eval_loss += outputs[0].mean().item()\n",
        "        predictions.extend([list(p) for p in np.argmax(logits, axis=2)])\n",
        "        true_labels.extend(label_ids)\n",
        "\n",
        "    eval_loss = eval_loss / len(valid_dataloader)\n",
        "    validation_loss_values.append(eval_loss)\n",
        "    print(\"Validation loss: {}\".format(eval_loss))\n",
        "\n",
        "    # Loop through the list of predicted sentences and their true labels in the validation set\n",
        "    pred_tags = []\n",
        "    valid_tags = []\n",
        "    for prediction, labels in zip(predictions, true_labels):\n",
        "        # For each token in the sentence we verify if the true value is a padding, and if it isn't, then we add it to the list of predicted tags.\n",
        "        # This is done because we don't care about how paddings are predicted, since they're not part of the original data.\n",
        "        for p_i, l_i, in zip(prediction, labels):\n",
        "            if tag_values[l_i] != 'PAD':\n",
        "                pred_tags.append(tag_values[p_i])\n",
        "                valid_tags.append(tag_values[l_i])\n",
        "\n",
        "    # Calculate the metrics for this epoch using our predictions and our true values for each token.\n",
        "    print(\"Validation Accuracy: {}\".format(accuracy_score(pred_tags, valid_tags)))\n",
        "    print(\"Validation Precision: {}\".format(precision_score(pred_tags, valid_tags)))\n",
        "    print(\"Validation Recall: {}\".format(recall_score(pred_tags, valid_tags)))\n",
        "    print(\"Validation F1-Score: {}\".format(f1_score(pred_tags, valid_tags)))\n",
        "\n",
        "    print()"
      ]
    },
    {
      "cell_type": "code",
      "execution_count": 181,
      "metadata": {},
      "outputs": [],
      "source": [
        "#outputs['logits']"
      ]
    },
    {
      "cell_type": "code",
      "execution_count": 182,
      "metadata": {},
      "outputs": [],
      "source": [
        "pred_df = pd.DataFrame()"
      ]
    },
    {
      "cell_type": "code",
      "execution_count": 183,
      "metadata": {},
      "outputs": [],
      "source": [
        "pred_df['predictions'] = pred_tags\n",
        "pred_df['predictions2'] = valid_tags\n"
      ]
    },
    {
      "cell_type": "code",
      "execution_count": 185,
      "metadata": {},
      "outputs": [
        {
          "data": {
            "text/html": [
              "<div>\n",
              "<style scoped>\n",
              "    .dataframe tbody tr th:only-of-type {\n",
              "        vertical-align: middle;\n",
              "    }\n",
              "\n",
              "    .dataframe tbody tr th {\n",
              "        vertical-align: top;\n",
              "    }\n",
              "\n",
              "    .dataframe thead th {\n",
              "        text-align: right;\n",
              "    }\n",
              "</style>\n",
              "<table border=\"1\" class=\"dataframe\">\n",
              "  <thead>\n",
              "    <tr style=\"text-align: right;\">\n",
              "      <th></th>\n",
              "      <th>predictions</th>\n",
              "      <th>predictions2</th>\n",
              "    </tr>\n",
              "  </thead>\n",
              "  <tbody>\n",
              "    <tr>\n",
              "      <th>150</th>\n",
              "      <td>B-per</td>\n",
              "      <td>B-per</td>\n",
              "    </tr>\n",
              "    <tr>\n",
              "      <th>151</th>\n",
              "      <td>B-per</td>\n",
              "      <td>B-per</td>\n",
              "    </tr>\n",
              "    <tr>\n",
              "      <th>152</th>\n",
              "      <td>B-per</td>\n",
              "      <td>B-per</td>\n",
              "    </tr>\n",
              "    <tr>\n",
              "      <th>153</th>\n",
              "      <td>I-per</td>\n",
              "      <td>I-per</td>\n",
              "    </tr>\n",
              "    <tr>\n",
              "      <th>154</th>\n",
              "      <td>I-per</td>\n",
              "      <td>I-per</td>\n",
              "    </tr>\n",
              "    <tr>\n",
              "      <th>155</th>\n",
              "      <td>I-per</td>\n",
              "      <td>I-per</td>\n",
              "    </tr>\n",
              "    <tr>\n",
              "      <th>163</th>\n",
              "      <td>B-per</td>\n",
              "      <td>B-per</td>\n",
              "    </tr>\n",
              "    <tr>\n",
              "      <th>164</th>\n",
              "      <td>I-per</td>\n",
              "      <td>I-per</td>\n",
              "    </tr>\n",
              "    <tr>\n",
              "      <th>165</th>\n",
              "      <td>I-per</td>\n",
              "      <td>I-per</td>\n",
              "    </tr>\n",
              "    <tr>\n",
              "      <th>166</th>\n",
              "      <td>I-per</td>\n",
              "      <td>I-per</td>\n",
              "    </tr>\n",
              "    <tr>\n",
              "      <th>167</th>\n",
              "      <td>I-per</td>\n",
              "      <td>I-per</td>\n",
              "    </tr>\n",
              "    <tr>\n",
              "      <th>168</th>\n",
              "      <td>I-per</td>\n",
              "      <td>I-per</td>\n",
              "    </tr>\n",
              "    <tr>\n",
              "      <th>169</th>\n",
              "      <td>I-per</td>\n",
              "      <td>I-per</td>\n",
              "    </tr>\n",
              "    <tr>\n",
              "      <th>192</th>\n",
              "      <td>B-per</td>\n",
              "      <td>B-per</td>\n",
              "    </tr>\n",
              "    <tr>\n",
              "      <th>193</th>\n",
              "      <td>I-per</td>\n",
              "      <td>I-per</td>\n",
              "    </tr>\n",
              "    <tr>\n",
              "      <th>194</th>\n",
              "      <td>I-per</td>\n",
              "      <td>I-per</td>\n",
              "    </tr>\n",
              "    <tr>\n",
              "      <th>195</th>\n",
              "      <td>I-per</td>\n",
              "      <td>I-per</td>\n",
              "    </tr>\n",
              "    <tr>\n",
              "      <th>196</th>\n",
              "      <td>I-per</td>\n",
              "      <td>I-per</td>\n",
              "    </tr>\n",
              "    <tr>\n",
              "      <th>197</th>\n",
              "      <td>I-per</td>\n",
              "      <td>I-per</td>\n",
              "    </tr>\n",
              "    <tr>\n",
              "      <th>198</th>\n",
              "      <td>I-per</td>\n",
              "      <td>I-per</td>\n",
              "    </tr>\n",
              "    <tr>\n",
              "      <th>199</th>\n",
              "      <td>I-per</td>\n",
              "      <td>I-per</td>\n",
              "    </tr>\n",
              "    <tr>\n",
              "      <th>200</th>\n",
              "      <td>I-per</td>\n",
              "      <td>I-per</td>\n",
              "    </tr>\n",
              "    <tr>\n",
              "      <th>287</th>\n",
              "      <td>B-per</td>\n",
              "      <td>B-per</td>\n",
              "    </tr>\n",
              "    <tr>\n",
              "      <th>288</th>\n",
              "      <td>B-per</td>\n",
              "      <td>B-per</td>\n",
              "    </tr>\n",
              "    <tr>\n",
              "      <th>289</th>\n",
              "      <td>B-per</td>\n",
              "      <td>B-per</td>\n",
              "    </tr>\n",
              "    <tr>\n",
              "      <th>290</th>\n",
              "      <td>B-per</td>\n",
              "      <td>B-per</td>\n",
              "    </tr>\n",
              "    <tr>\n",
              "      <th>291</th>\n",
              "      <td>I-per</td>\n",
              "      <td>I-per</td>\n",
              "    </tr>\n",
              "    <tr>\n",
              "      <th>292</th>\n",
              "      <td>I-per</td>\n",
              "      <td>I-per</td>\n",
              "    </tr>\n",
              "    <tr>\n",
              "      <th>293</th>\n",
              "      <td>I-per</td>\n",
              "      <td>I-per</td>\n",
              "    </tr>\n",
              "    <tr>\n",
              "      <th>294</th>\n",
              "      <td>I-per</td>\n",
              "      <td>I-per</td>\n",
              "    </tr>\n",
              "    <tr>\n",
              "      <th>295</th>\n",
              "      <td>I-per</td>\n",
              "      <td>I-per</td>\n",
              "    </tr>\n",
              "    <tr>\n",
              "      <th>296</th>\n",
              "      <td>I-per</td>\n",
              "      <td>I-per</td>\n",
              "    </tr>\n",
              "    <tr>\n",
              "      <th>387</th>\n",
              "      <td>B-per</td>\n",
              "      <td>B-per</td>\n",
              "    </tr>\n",
              "    <tr>\n",
              "      <th>388</th>\n",
              "      <td>B-per</td>\n",
              "      <td>B-per</td>\n",
              "    </tr>\n",
              "    <tr>\n",
              "      <th>389</th>\n",
              "      <td>B-per</td>\n",
              "      <td>B-per</td>\n",
              "    </tr>\n",
              "    <tr>\n",
              "      <th>390</th>\n",
              "      <td>I-per</td>\n",
              "      <td>I-per</td>\n",
              "    </tr>\n",
              "    <tr>\n",
              "      <th>391</th>\n",
              "      <td>I-per</td>\n",
              "      <td>I-per</td>\n",
              "    </tr>\n",
              "    <tr>\n",
              "      <th>392</th>\n",
              "      <td>I-per</td>\n",
              "      <td>I-per</td>\n",
              "    </tr>\n",
              "    <tr>\n",
              "      <th>393</th>\n",
              "      <td>I-per</td>\n",
              "      <td>I-per</td>\n",
              "    </tr>\n",
              "    <tr>\n",
              "      <th>394</th>\n",
              "      <td>I-per</td>\n",
              "      <td>I-per</td>\n",
              "    </tr>\n",
              "    <tr>\n",
              "      <th>395</th>\n",
              "      <td>I-per</td>\n",
              "      <td>I-per</td>\n",
              "    </tr>\n",
              "    <tr>\n",
              "      <th>396</th>\n",
              "      <td>I-per</td>\n",
              "      <td>I-per</td>\n",
              "    </tr>\n",
              "    <tr>\n",
              "      <th>397</th>\n",
              "      <td>I-per</td>\n",
              "      <td>I-per</td>\n",
              "    </tr>\n",
              "    <tr>\n",
              "      <th>398</th>\n",
              "      <td>I-per</td>\n",
              "      <td>I-per</td>\n",
              "    </tr>\n",
              "    <tr>\n",
              "      <th>422</th>\n",
              "      <td>B-per</td>\n",
              "      <td>B-per</td>\n",
              "    </tr>\n",
              "    <tr>\n",
              "      <th>423</th>\n",
              "      <td>I-per</td>\n",
              "      <td>I-per</td>\n",
              "    </tr>\n",
              "    <tr>\n",
              "      <th>424</th>\n",
              "      <td>I-per</td>\n",
              "      <td>I-per</td>\n",
              "    </tr>\n",
              "    <tr>\n",
              "      <th>425</th>\n",
              "      <td>I-per</td>\n",
              "      <td>I-per</td>\n",
              "    </tr>\n",
              "    <tr>\n",
              "      <th>426</th>\n",
              "      <td>I-per</td>\n",
              "      <td>I-per</td>\n",
              "    </tr>\n",
              "    <tr>\n",
              "      <th>427</th>\n",
              "      <td>I-per</td>\n",
              "      <td>I-per</td>\n",
              "    </tr>\n",
              "    <tr>\n",
              "      <th>428</th>\n",
              "      <td>I-per</td>\n",
              "      <td>I-per</td>\n",
              "    </tr>\n",
              "    <tr>\n",
              "      <th>434</th>\n",
              "      <td>B-per</td>\n",
              "      <td>B-per</td>\n",
              "    </tr>\n",
              "    <tr>\n",
              "      <th>435</th>\n",
              "      <td>B-per</td>\n",
              "      <td>B-per</td>\n",
              "    </tr>\n",
              "    <tr>\n",
              "      <th>436</th>\n",
              "      <td>B-per</td>\n",
              "      <td>B-per</td>\n",
              "    </tr>\n",
              "    <tr>\n",
              "      <th>437</th>\n",
              "      <td>B-per</td>\n",
              "      <td>B-per</td>\n",
              "    </tr>\n",
              "    <tr>\n",
              "      <th>438</th>\n",
              "      <td>I-per</td>\n",
              "      <td>I-per</td>\n",
              "    </tr>\n",
              "    <tr>\n",
              "      <th>439</th>\n",
              "      <td>I-per</td>\n",
              "      <td>I-per</td>\n",
              "    </tr>\n",
              "    <tr>\n",
              "      <th>440</th>\n",
              "      <td>I-per</td>\n",
              "      <td>I-per</td>\n",
              "    </tr>\n",
              "    <tr>\n",
              "      <th>441</th>\n",
              "      <td>I-per</td>\n",
              "      <td>I-per</td>\n",
              "    </tr>\n",
              "    <tr>\n",
              "      <th>442</th>\n",
              "      <td>I-per</td>\n",
              "      <td>I-per</td>\n",
              "    </tr>\n",
              "    <tr>\n",
              "      <th>443</th>\n",
              "      <td>I-per</td>\n",
              "      <td>I-per</td>\n",
              "    </tr>\n",
              "    <tr>\n",
              "      <th>534</th>\n",
              "      <td>B-per</td>\n",
              "      <td>B-per</td>\n",
              "    </tr>\n",
              "    <tr>\n",
              "      <th>535</th>\n",
              "      <td>B-per</td>\n",
              "      <td>B-per</td>\n",
              "    </tr>\n",
              "    <tr>\n",
              "      <th>536</th>\n",
              "      <td>B-per</td>\n",
              "      <td>B-per</td>\n",
              "    </tr>\n",
              "    <tr>\n",
              "      <th>537</th>\n",
              "      <td>B-per</td>\n",
              "      <td>B-per</td>\n",
              "    </tr>\n",
              "    <tr>\n",
              "      <th>538</th>\n",
              "      <td>I-per</td>\n",
              "      <td>I-per</td>\n",
              "    </tr>\n",
              "    <tr>\n",
              "      <th>539</th>\n",
              "      <td>I-per</td>\n",
              "      <td>I-per</td>\n",
              "    </tr>\n",
              "    <tr>\n",
              "      <th>540</th>\n",
              "      <td>I-per</td>\n",
              "      <td>I-per</td>\n",
              "    </tr>\n",
              "    <tr>\n",
              "      <th>541</th>\n",
              "      <td>I-per</td>\n",
              "      <td>I-per</td>\n",
              "    </tr>\n",
              "    <tr>\n",
              "      <th>542</th>\n",
              "      <td>I-per</td>\n",
              "      <td>I-per</td>\n",
              "    </tr>\n",
              "    <tr>\n",
              "      <th>543</th>\n",
              "      <td>I-per</td>\n",
              "      <td>I-per</td>\n",
              "    </tr>\n",
              "    <tr>\n",
              "      <th>784</th>\n",
              "      <td>B-per</td>\n",
              "      <td>B-per</td>\n",
              "    </tr>\n",
              "    <tr>\n",
              "      <th>785</th>\n",
              "      <td>B-per</td>\n",
              "      <td>B-per</td>\n",
              "    </tr>\n",
              "    <tr>\n",
              "      <th>786</th>\n",
              "      <td>B-per</td>\n",
              "      <td>B-per</td>\n",
              "    </tr>\n",
              "    <tr>\n",
              "      <th>787</th>\n",
              "      <td>B-per</td>\n",
              "      <td>B-per</td>\n",
              "    </tr>\n",
              "    <tr>\n",
              "      <th>788</th>\n",
              "      <td>I-per</td>\n",
              "      <td>I-per</td>\n",
              "    </tr>\n",
              "    <tr>\n",
              "      <th>789</th>\n",
              "      <td>I-per</td>\n",
              "      <td>I-per</td>\n",
              "    </tr>\n",
              "    <tr>\n",
              "      <th>790</th>\n",
              "      <td>I-per</td>\n",
              "      <td>I-per</td>\n",
              "    </tr>\n",
              "    <tr>\n",
              "      <th>791</th>\n",
              "      <td>I-per</td>\n",
              "      <td>I-per</td>\n",
              "    </tr>\n",
              "    <tr>\n",
              "      <th>792</th>\n",
              "      <td>I-per</td>\n",
              "      <td>I-per</td>\n",
              "    </tr>\n",
              "    <tr>\n",
              "      <th>793</th>\n",
              "      <td>I-per</td>\n",
              "      <td>I-per</td>\n",
              "    </tr>\n",
              "    <tr>\n",
              "      <th>809</th>\n",
              "      <td>B-per</td>\n",
              "      <td>B-per</td>\n",
              "    </tr>\n",
              "    <tr>\n",
              "      <th>810</th>\n",
              "      <td>B-per</td>\n",
              "      <td>B-per</td>\n",
              "    </tr>\n",
              "    <tr>\n",
              "      <th>811</th>\n",
              "      <td>B-per</td>\n",
              "      <td>B-per</td>\n",
              "    </tr>\n",
              "    <tr>\n",
              "      <th>812</th>\n",
              "      <td>I-per</td>\n",
              "      <td>I-per</td>\n",
              "    </tr>\n",
              "    <tr>\n",
              "      <th>813</th>\n",
              "      <td>I-per</td>\n",
              "      <td>I-per</td>\n",
              "    </tr>\n",
              "    <tr>\n",
              "      <th>814</th>\n",
              "      <td>I-per</td>\n",
              "      <td>I-per</td>\n",
              "    </tr>\n",
              "    <tr>\n",
              "      <th>815</th>\n",
              "      <td>I-per</td>\n",
              "      <td>I-per</td>\n",
              "    </tr>\n",
              "    <tr>\n",
              "      <th>816</th>\n",
              "      <td>I-per</td>\n",
              "      <td>I-per</td>\n",
              "    </tr>\n",
              "    <tr>\n",
              "      <th>817</th>\n",
              "      <td>I-per</td>\n",
              "      <td>I-per</td>\n",
              "    </tr>\n",
              "    <tr>\n",
              "      <th>818</th>\n",
              "      <td>I-per</td>\n",
              "      <td>I-per</td>\n",
              "    </tr>\n",
              "    <tr>\n",
              "      <th>819</th>\n",
              "      <td>I-per</td>\n",
              "      <td>I-per</td>\n",
              "    </tr>\n",
              "    <tr>\n",
              "      <th>820</th>\n",
              "      <td>I-per</td>\n",
              "      <td>I-per</td>\n",
              "    </tr>\n",
              "    <tr>\n",
              "      <th>1005</th>\n",
              "      <td>B-per</td>\n",
              "      <td>B-per</td>\n",
              "    </tr>\n",
              "    <tr>\n",
              "      <th>1006</th>\n",
              "      <td>B-per</td>\n",
              "      <td>B-per</td>\n",
              "    </tr>\n",
              "    <tr>\n",
              "      <th>1007</th>\n",
              "      <td>B-per</td>\n",
              "      <td>B-per</td>\n",
              "    </tr>\n",
              "    <tr>\n",
              "      <th>1008</th>\n",
              "      <td>I-per</td>\n",
              "      <td>I-per</td>\n",
              "    </tr>\n",
              "    <tr>\n",
              "      <th>1009</th>\n",
              "      <td>I-per</td>\n",
              "      <td>I-per</td>\n",
              "    </tr>\n",
              "    <tr>\n",
              "      <th>1010</th>\n",
              "      <td>I-per</td>\n",
              "      <td>I-per</td>\n",
              "    </tr>\n",
              "    <tr>\n",
              "      <th>1018</th>\n",
              "      <td>B-per</td>\n",
              "      <td>B-per</td>\n",
              "    </tr>\n",
              "  </tbody>\n",
              "</table>\n",
              "</div>"
            ],
            "text/plain": [
              "     predictions predictions2\n",
              "150        B-per        B-per\n",
              "151        B-per        B-per\n",
              "152        B-per        B-per\n",
              "153        I-per        I-per\n",
              "154        I-per        I-per\n",
              "155        I-per        I-per\n",
              "163        B-per        B-per\n",
              "164        I-per        I-per\n",
              "165        I-per        I-per\n",
              "166        I-per        I-per\n",
              "167        I-per        I-per\n",
              "168        I-per        I-per\n",
              "169        I-per        I-per\n",
              "192        B-per        B-per\n",
              "193        I-per        I-per\n",
              "194        I-per        I-per\n",
              "195        I-per        I-per\n",
              "196        I-per        I-per\n",
              "197        I-per        I-per\n",
              "198        I-per        I-per\n",
              "199        I-per        I-per\n",
              "200        I-per        I-per\n",
              "287        B-per        B-per\n",
              "288        B-per        B-per\n",
              "289        B-per        B-per\n",
              "290        B-per        B-per\n",
              "291        I-per        I-per\n",
              "292        I-per        I-per\n",
              "293        I-per        I-per\n",
              "294        I-per        I-per\n",
              "295        I-per        I-per\n",
              "296        I-per        I-per\n",
              "387        B-per        B-per\n",
              "388        B-per        B-per\n",
              "389        B-per        B-per\n",
              "390        I-per        I-per\n",
              "391        I-per        I-per\n",
              "392        I-per        I-per\n",
              "393        I-per        I-per\n",
              "394        I-per        I-per\n",
              "395        I-per        I-per\n",
              "396        I-per        I-per\n",
              "397        I-per        I-per\n",
              "398        I-per        I-per\n",
              "422        B-per        B-per\n",
              "423        I-per        I-per\n",
              "424        I-per        I-per\n",
              "425        I-per        I-per\n",
              "426        I-per        I-per\n",
              "427        I-per        I-per\n",
              "428        I-per        I-per\n",
              "434        B-per        B-per\n",
              "435        B-per        B-per\n",
              "436        B-per        B-per\n",
              "437        B-per        B-per\n",
              "438        I-per        I-per\n",
              "439        I-per        I-per\n",
              "440        I-per        I-per\n",
              "441        I-per        I-per\n",
              "442        I-per        I-per\n",
              "443        I-per        I-per\n",
              "534        B-per        B-per\n",
              "535        B-per        B-per\n",
              "536        B-per        B-per\n",
              "537        B-per        B-per\n",
              "538        I-per        I-per\n",
              "539        I-per        I-per\n",
              "540        I-per        I-per\n",
              "541        I-per        I-per\n",
              "542        I-per        I-per\n",
              "543        I-per        I-per\n",
              "784        B-per        B-per\n",
              "785        B-per        B-per\n",
              "786        B-per        B-per\n",
              "787        B-per        B-per\n",
              "788        I-per        I-per\n",
              "789        I-per        I-per\n",
              "790        I-per        I-per\n",
              "791        I-per        I-per\n",
              "792        I-per        I-per\n",
              "793        I-per        I-per\n",
              "809        B-per        B-per\n",
              "810        B-per        B-per\n",
              "811        B-per        B-per\n",
              "812        I-per        I-per\n",
              "813        I-per        I-per\n",
              "814        I-per        I-per\n",
              "815        I-per        I-per\n",
              "816        I-per        I-per\n",
              "817        I-per        I-per\n",
              "818        I-per        I-per\n",
              "819        I-per        I-per\n",
              "820        I-per        I-per\n",
              "1005       B-per        B-per\n",
              "1006       B-per        B-per\n",
              "1007       B-per        B-per\n",
              "1008       I-per        I-per\n",
              "1009       I-per        I-per\n",
              "1010       I-per        I-per\n",
              "1018       B-per        B-per"
            ]
          },
          "execution_count": 185,
          "metadata": {},
          "output_type": "execute_result"
        }
      ],
      "source": [
        "pred_df[pred_df['predictions'] != 'O'].head(100)"
      ]
    },
    {
      "cell_type": "code",
      "execution_count": 186,
      "metadata": {},
      "outputs": [
        {
          "name": "stdout",
          "output_type": "stream",
          "text": [
            "640\n"
          ]
        }
      ],
      "source": [
        "print(len(sentences))"
      ]
    },
    {
      "cell_type": "code",
      "execution_count": 187,
      "metadata": {},
      "outputs": [
        {
          "data": {
            "image/png": "[encoded data removed]",
            "text/plain": [
              "<Figure size 864x432 with 1 Axes>"
            ]
          },
          "metadata": {},
          "output_type": "display_data"
        }
      ],
      "source": [
        "import matplotlib.pyplot as plt\n",
        "%matplotlib inline\n",
        "\n",
        "import seaborn as sns\n",
        "\n",
        "# Use plot styling from seaborn.\n",
        "sns.set(style='darkgrid')\n",
        "\n",
        "# Increase the plot size and font size.\n",
        "sns.set(font_scale=1.5)\n",
        "plt.rcParams[\"figure.figsize\"] = (12,6)\n",
        "\n",
        "# Plot the learning curve.\n",
        "plt.plot(loss_values, 'b-o', label=\"training loss\")\n",
        "plt.plot(validation_loss_values, 'r-o', label=\"validation loss\")\n",
        "\n",
        "# Label the plot.\n",
        "plt.title(\"Learning curve\")\n",
        "plt.xlabel(\"Epoch\")\n",
        "plt.ylabel(\"Loss\")\n",
        "plt.legend()\n",
        "\n",
        "plt.show()"
      ]
    },
    {
      "cell_type": "code",
      "execution_count": 188,
      "metadata": {},
      "outputs": [],
      "source": [
        "test_sentence = \"\"\"\n",
        "Documento gerado sob autenticação Nº QON.500.984.BHA, disponível no endereço http://www.ufrgs.br/autenticacao\n",
        "1/1\n",
        "PORTARIA Nº             1184                  de  18/02/2016\n",
        "O PRÓ-REITOR DE GESTÃO DE PESSOAS DA UNIVERSIDADE FEDERAL DO RIO GRANDE DO SUL, no\n",
        "uso de suas atribuições que lhe foram conferidas pela Portaria nº.5469, de 04 de outubro de 2012, do\n",
        "Magnífico Reitor, e conforme o Laudo Médico n°37308,\n",
        "RESOLVE: José Da Silva\n",
        "Designar, temporariamente, nos termos\\ da Lei nº. 8.112, de 11 de dezembro de 1990, com redação\n",
        "dada pela Lei nº.9.527, de 10 de dezembro de 1997, a ocupante do cargo de PORTEIRO, do Quadro de\n",
        "Pessoal  desta  Universidade, \n",
        "\"\"\""
      ]
    },
    {
      "cell_type": "code",
      "execution_count": 189,
      "metadata": {},
      "outputs": [],
      "source": [
        "#sentence_df['sentence'][21]"
      ]
    },
    {
      "cell_type": "code",
      "execution_count": 190,
      "metadata": {},
      "outputs": [],
      "source": [
        "#test_sentence = sentence_df['sentence'][1]"
      ]
    },
    {
      "cell_type": "code",
      "execution_count": 191,
      "metadata": {},
      "outputs": [],
      "source": [
        "tokenized_sentence = tokenizer.encode(test_sentence)\n",
        "input_ids = torch.tensor([tokenized_sentence]).cuda()"
      ]
    },
    {
      "cell_type": "code",
      "execution_count": 192,
      "metadata": {},
      "outputs": [
        {
          "data": {
            "text/plain": [
              "list"
            ]
          },
          "execution_count": 192,
          "metadata": {},
          "output_type": "execute_result"
        }
      ],
      "source": [
        "type(tokenized_sentence)"
      ]
    },
    {
      "cell_type": "code",
      "execution_count": 193,
      "metadata": {},
      "outputs": [
        {
          "data": {
            "text/plain": [
              "tensor([[  101, 11387, 15447, 10153,   176,  5970,  2572, 20295, 12686,  5208,\n",
              "         11761, 18052,   151, 28174,   154, 11414,   119,  2260,   119,  5103,\n",
              "          1527,   119,   139, 11612,   117,  4267, 20080,  1320,  6212, 12559,\n",
              "          1185,  1322,  9014, 28201,  1186,  8413,   131,   120,   120,  7001,\n",
              "           119,   190,  2087, 10805,  1116,   119,  9304,   120, 12686,  5208,\n",
              "         11761,  2599,  1186,   122,   120,   122,   153,  9565,  9159, 20595,\n",
              "          1592,   151, 28174, 13176,  1527,  1260,  1407,   120,  5507,   120,\n",
              "          1446,   152, 11629, 28191,   118,   155, 27514, 18082,  2069, 18581,\n",
              "           100, 18581,   153,  9919, 23161, 10719,   141,  1592,  7414, 26140,\n",
              "          8900,  9949, 14569,  2036,   143, 10069,  9637, 12507,   141,  2346,\n",
              "           155, 19368,   144,  9664, 16769,  2036,   141,  2346,   156,  2591,\n",
              "          2162,   117,  1185,  1366,  1186,  1260, 28117,  2225,  1120,  2047,\n",
              "          7925,  1182, 28201, 28207,  1279, 15027,   181,  4638,  1111,  2312,\n",
              "         14255,  6732, 23358,   185,  9945,  3905, 11315,   183, 28174,   119,\n",
              "          4335,  1545,  1580,   117,  1260,  5129,  1260,  1149, 10354,  2180,\n",
              "          1260,  1368,   117,  1202,  7085, 17653,  6212, 21361,  1186, 11336,\n",
              "         15419,   117,   174, 26736,  1162,   184, 25070,  2572,   150,  2744,\n",
              "         13328,  1186,   183,  7259, 26303, 13144,  1604,   117,   155,  9919,\n",
              "         13901, 17145,   131,  5180, 10136, 11211,  4800,  1813,   117, 16655,\n",
              "         22190, 18331, 23771,   117,  1185,  1116,  1858,  2155,   165,  5358,\n",
              "          3180,  1182,   183, 28174,   119,   129,   119, 11150,   117,  1260,\n",
              "          1429,  1260,  1260,  3171, 12913,  2180,  1260,  1997,   117,  3254,\n",
              "          1894,  1161, 18052,  4153,  1161,   185,  9945,  3180,  1182,   183,\n",
              "         28174,   119,   130,   119,  3882,  1559,   117,  1260,  1275,  1260,\n",
              "          1260,  3171, 12913,  2180,  1260,  1816,   117,   170,   184, 18637,\n",
              "         14626,  1202,  6527,  1260,   153,  9565, 12880, 18172,  2346,   117,\n",
              "          1202,   154, 18413,  2180,  1260,   153,  5800, 12985,  1233,  3532,\n",
              "          1777, 17572,  1162,   117,   102]], device='cuda:0')"
            ]
          },
          "execution_count": 193,
          "metadata": {},
          "output_type": "execute_result"
        }
      ],
      "source": [
        "input_ids"
      ]
    },
    {
      "cell_type": "code",
      "execution_count": 194,
      "metadata": {},
      "outputs": [],
      "source": [
        "with torch.no_grad():\n",
        "    output = model(input_ids)\n",
        "label_indices = np.argmax(output[0].to('cpu').numpy(), axis=2)"
      ]
    },
    {
      "cell_type": "code",
      "execution_count": null,
      "metadata": {},
      "outputs": [],
      "source": []
    },
    {
      "cell_type": "code",
      "execution_count": 195,
      "metadata": {},
      "outputs": [],
      "source": [
        "# join bpe split tokens\n",
        "\n",
        "tokens = tokenizer.convert_ids_to_tokens(input_ids.to('cpu').numpy()[0])\n",
        "new_tokens, new_labels = [], []\n",
        "for token, label_idx in zip(tokens, label_indices[0]):\n",
        "    #print('Token: ', token, ' Label: ', label)\n",
        "    if token.startswith(\"##\"):\n",
        "        new_tokens[-1] = new_tokens[-1] + token[2:]\n",
        "    else:\n",
        "        new_labels.append(tag_values[label_idx])\n",
        "        new_tokens.append(token)"
      ]
    },
    {
      "cell_type": "code",
      "execution_count": 196,
      "metadata": {},
      "outputs": [
        {
          "name": "stdout",
          "output_type": "stream",
          "text": [
            "O\t[CLS]\n",
            "O\tDocumento\n",
            "O\tgerado\n",
            "O\tsob\n",
            "O\tautenticação\n",
            "O\tNº\n",
            "O\tQON\n",
            "O\t.\n",
            "O\t500\n",
            "O\t.\n",
            "O\t984\n",
            "O\t.\n",
            "O\tBHA\n",
            "O\t,\n",
            "O\tdisponível\n",
            "O\tno\n",
            "O\tendereço\n",
            "O\thttp\n",
            "O\t:\n",
            "O\t/\n",
            "O\t/\n",
            "O\twww\n",
            "O\t.\n",
            "O\tufrgs\n",
            "O\t.\n",
            "O\tbr\n",
            "O\t/\n",
            "O\tautenticacao\n",
            "O\t1\n",
            "O\t/\n",
            "O\t1\n",
            "O\tPORTARIA\n",
            "O\tNº\n",
            "O\t1184\n",
            "O\tde\n",
            "O\t18\n",
            "O\t/\n",
            "O\t02\n",
            "O\t/\n",
            "O\t2016\n",
            "O\tO\n",
            "O\tPRÓ\n",
            "O\t-\n",
            "O\tREITOR\n",
            "O\tDE\n",
            "O\t[UNK]\n",
            "O\tDE\n",
            "O\tPESSOAS\n",
            "O\tDA\n",
            "O\tUNIVERSIDADE\n",
            "O\tFEDERAL\n",
            "O\tDO\n",
            "O\tRIO\n",
            "O\tGRANDE\n",
            "O\tDO\n",
            "O\tSUL\n",
            "O\t,\n",
            "O\tno\n",
            "O\tuso\n",
            "O\tde\n",
            "O\tsuas\n",
            "O\tatribuições\n",
            "O\tque\n",
            "O\tlhe\n",
            "O\tforam\n",
            "O\tconferidas\n",
            "O\tpela\n",
            "O\tPortaria\n",
            "O\tnº\n",
            "O\t.\n",
            "O\t5469\n",
            "O\t,\n",
            "O\tde\n",
            "O\t04\n",
            "O\tde\n",
            "O\toutubro\n",
            "O\tde\n",
            "O\t2012\n",
            "O\t,\n",
            "O\tdo\n",
            "O\tMagnífico\n",
            "O\tReitor\n",
            "O\t,\n",
            "O\te\n",
            "O\tconforme\n",
            "O\to\n",
            "O\tLaudo\n",
            "O\tMédico\n",
            "O\tn°37308\n",
            "O\t,\n",
            "O\tRESOLVE\n",
            "O\t:\n",
            "O\tJosé\n",
            "O\tDa\n",
            "O\tSilva\n",
            "O\tDesignar\n",
            "O\t,\n",
            "O\ttemporariamente\n",
            "O\t,\n",
            "O\tnos\n",
            "O\ttermos\n",
            "O\t\\\n",
            "O\tda\n",
            "O\tLei\n",
            "O\tnº\n",
            "O\t.\n",
            "O\t8\n",
            "O\t.\n",
            "O\t112\n",
            "O\t,\n",
            "O\tde\n",
            "O\t11\n",
            "O\tde\n",
            "O\tdezembro\n",
            "O\tde\n",
            "O\t1990\n",
            "O\t,\n",
            "O\tcom\n",
            "O\tredação\n",
            "O\tdada\n",
            "O\tpela\n",
            "O\tLei\n",
            "O\tnº\n",
            "O\t.\n",
            "O\t9\n",
            "O\t.\n",
            "O\t527\n",
            "O\t,\n",
            "O\tde\n",
            "O\t10\n",
            "O\tde\n",
            "O\tdezembro\n",
            "O\tde\n",
            "O\t1997\n",
            "O\t,\n",
            "O\ta\n",
            "O\tocupante\n",
            "O\tdo\n",
            "O\tcargo\n",
            "O\tde\n",
            "O\tPORTEIRO\n",
            "O\t,\n",
            "O\tdo\n",
            "O\tQuadro\n",
            "O\tde\n",
            "O\tPessoal\n",
            "O\tdesta\n",
            "O\tUniversidade\n",
            "O\t,\n",
            "O\t[SEP]\n"
          ]
        }
      ],
      "source": [
        "for token, label in zip(new_tokens, new_labels):\n",
        "    print(\"{}\\t{}\".format(label, token))"
      ]
    },
    {
      "cell_type": "code",
      "execution_count": null,
      "metadata": {},
      "outputs": [],
      "source": []
    },
    {
      "cell_type": "code",
      "execution_count": null,
      "metadata": {},
      "outputs": [],
      "source": []
    }
  ],
  "metadata": {
    "accelerator": "GPU",
    "colab": {
      "authorship_tag": "ABX9TyMlBV6AKns3qBgU+66qJunA",
      "include_colab_link": true,
      "name": "bert-ner-test.ipynb",
      "provenance": []
    },
    "interpreter": {
      "hash": "ba5b3f7521f7aea3d786a4bde6a43384960ac350401fd3bc258a0740b79cfc42"
    },
    "kernelspec": {
      "display_name": "Python 3.8.11 64-bit ('Deep Learning': conda)",
      "name": "python3"
    },
    "language_info": {
      "codemirror_mode": {
        "name": "ipython",
        "version": 3
      },
      "file_extension": ".py",
      "mimetype": "text/x-python",
      "name": "python",
      "nbconvert_exporter": "python",
      "pygments_lexer": "ipython3",
      "version": "3.8.11"
    }
  },
  "nbformat": 4,
  "nbformat_minor": 0
}
