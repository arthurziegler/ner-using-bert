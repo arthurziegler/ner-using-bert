{
 "cells": [
  {
   "attachments": {},
   "cell_type": "markdown",
   "metadata": {},
   "source": [
    "### Replicate Tagged Entities\n",
    "We'll take a dataset that was partially annotated in doccano and fill the rest of the documents in the dataset with the entities that were already tagged.\\\n",
    "Steps:\n",
    "1. Load the partially tagged dataset\n",
    "2. Create a dictionary of the tagged entities\n",
    "3. Loop through the unannotated documents searching for possible entities in the dictionary.\n",
    "4. Save the resulting dataset and load it in Doccano to finish manual tagging.\n",
    "\n"
   ]
  },
  {
   "cell_type": "code",
   "execution_count": 318,
   "metadata": {},
   "outputs": [],
   "source": [
    "import pandas as pd\n",
    "import os\n",
    "import re"
   ]
  },
  {
   "attachments": {},
   "cell_type": "markdown",
   "metadata": {},
   "source": [
    "#### 1. Load the dataset"
   ]
  },
  {
   "cell_type": "code",
   "execution_count": 319,
   "metadata": {},
   "outputs": [],
   "source": [
    "path_to_test = \"acerpi_dataset/test/annotated\"\n",
    "path_to_train = \"acerpi_dataset/train/annotated\""
   ]
  },
  {
   "cell_type": "code",
   "execution_count": 320,
   "metadata": {},
   "outputs": [],
   "source": [
    "ner_dataset = pd.read_json(os.path.join(path_to_train, '300_annotated_ufrgs.jsonl'), orient='record', lines=True)"
   ]
  },
  {
   "cell_type": "code",
   "execution_count": 321,
   "metadata": {},
   "outputs": [
    {
     "data": {
      "text/html": [
       "<div>\n",
       "<style scoped>\n",
       "    .dataframe tbody tr th:only-of-type {\n",
       "        vertical-align: middle;\n",
       "    }\n",
       "\n",
       "    .dataframe tbody tr th {\n",
       "        vertical-align: top;\n",
       "    }\n",
       "\n",
       "    .dataframe thead th {\n",
       "        text-align: right;\n",
       "    }\n",
       "</style>\n",
       "<table border=\"1\" class=\"dataframe\">\n",
       "  <thead>\n",
       "    <tr style=\"text-align: right;\">\n",
       "      <th></th>\n",
       "      <th>id</th>\n",
       "      <th>text</th>\n",
       "      <th>document</th>\n",
       "      <th>sentence_id</th>\n",
       "      <th>duplicates</th>\n",
       "      <th>tagged_entities</th>\n",
       "      <th>label</th>\n",
       "    </tr>\n",
       "  </thead>\n",
       "  <tbody>\n",
       "    <tr>\n",
       "      <th>0</th>\n",
       "      <td>199</td>\n",
       "      <td>Conceder à servidora LISIANE RAMOS VILK, ocupa...</td>\n",
       "      <td>25644</td>\n",
       "      <td>2</td>\n",
       "      <td>[2]</td>\n",
       "      <td>[{'entity_group': 'O', 'score': 0.7762932777, ...</td>\n",
       "      <td>[[21, 39, PERSON], [62, 88, OCCUPATION], [109,...</td>\n",
       "    </tr>\n",
       "    <tr>\n",
       "      <th>1</th>\n",
       "      <td>200</td>\n",
       "      <td>MAURÍCIO VIÉGAS DA SILVA Pró-Reitor de Gestão ...</td>\n",
       "      <td>25644</td>\n",
       "      <td>3</td>\n",
       "      <td>[3, 94, 156, 168, 173, 272, 276, 280, 284, 288...</td>\n",
       "      <td>[{'entity_group': 'PERSON', 'score': 0.6592996...</td>\n",
       "      <td>[[0, 24, PERSON], [25, 56, OCCUPATION]]</td>\n",
       "    </tr>\n",
       "    <tr>\n",
       "      <th>2</th>\n",
       "      <td>201</td>\n",
       "      <td>Autorizar o afastamento do país de CRISTINE MA...</td>\n",
       "      <td>25645</td>\n",
       "      <td>6</td>\n",
       "      <td>[6]</td>\n",
       "      <td>[{'entity_group': 'O', 'score': 0.6819901466, ...</td>\n",
       "      <td>[[35, 58, PERSON], [60, 92, OCCUPATION], [119,...</td>\n",
       "    </tr>\n",
       "    <tr>\n",
       "      <th>3</th>\n",
       "      <td>202</td>\n",
       "      <td>CARLOS ALEXANDRE NETTO Reitor</td>\n",
       "      <td>25645</td>\n",
       "      <td>8</td>\n",
       "      <td>[8, 13, 18, 23, 28, 38, 43, 63, 72, 81, 99, 10...</td>\n",
       "      <td>[{'entity_group': 'PERSON', 'score': 0.6323550...</td>\n",
       "      <td>[[0, 22, PERSON], [23, 29, OCCUPATION]]</td>\n",
       "    </tr>\n",
       "    <tr>\n",
       "      <th>4</th>\n",
       "      <td>203</td>\n",
       "      <td>Autorizar o afastamento do país de ANDRE DIAS ...</td>\n",
       "      <td>25646</td>\n",
       "      <td>11</td>\n",
       "      <td>[11]</td>\n",
       "      <td>[{'entity_group': 'O', 'score': 0.6808940768, ...</td>\n",
       "      <td>[[35, 53, PERSON], [55, 82, OCCUPATION], [109,...</td>\n",
       "    </tr>\n",
       "  </tbody>\n",
       "</table>\n",
       "</div>"
      ],
      "text/plain": [
       "    id                                               text  document  \\\n",
       "0  199  Conceder à servidora LISIANE RAMOS VILK, ocupa...     25644   \n",
       "1  200  MAURÍCIO VIÉGAS DA SILVA Pró-Reitor de Gestão ...     25644   \n",
       "2  201  Autorizar o afastamento do país de CRISTINE MA...     25645   \n",
       "3  202                      CARLOS ALEXANDRE NETTO Reitor     25645   \n",
       "4  203  Autorizar o afastamento do país de ANDRE DIAS ...     25646   \n",
       "\n",
       "   sentence_id                                         duplicates  \\\n",
       "0            2                                                [2]   \n",
       "1            3  [3, 94, 156, 168, 173, 272, 276, 280, 284, 288...   \n",
       "2            6                                                [6]   \n",
       "3            8  [8, 13, 18, 23, 28, 38, 43, 63, 72, 81, 99, 10...   \n",
       "4           11                                               [11]   \n",
       "\n",
       "                                     tagged_entities  \\\n",
       "0  [{'entity_group': 'O', 'score': 0.7762932777, ...   \n",
       "1  [{'entity_group': 'PERSON', 'score': 0.6592996...   \n",
       "2  [{'entity_group': 'O', 'score': 0.6819901466, ...   \n",
       "3  [{'entity_group': 'PERSON', 'score': 0.6323550...   \n",
       "4  [{'entity_group': 'O', 'score': 0.6808940768, ...   \n",
       "\n",
       "                                               label  \n",
       "0  [[21, 39, PERSON], [62, 88, OCCUPATION], [109,...  \n",
       "1            [[0, 24, PERSON], [25, 56, OCCUPATION]]  \n",
       "2  [[35, 58, PERSON], [60, 92, OCCUPATION], [119,...  \n",
       "3            [[0, 22, PERSON], [23, 29, OCCUPATION]]  \n",
       "4  [[35, 53, PERSON], [55, 82, OCCUPATION], [109,...  "
      ]
     },
     "execution_count": 321,
     "metadata": {},
     "output_type": "execute_result"
    }
   ],
   "source": [
    "ner_dataset.head()"
   ]
  },
  {
   "cell_type": "code",
   "execution_count": 322,
   "metadata": {},
   "outputs": [],
   "source": [
    "tagged_sentences = ner_dataset.copy()\n",
    "#untagged_sentences = ner_dataset.iloc[80:].copy()"
   ]
  },
  {
   "attachments": {},
   "cell_type": "markdown",
   "metadata": {},
   "source": [
    "#### 2. Create dictionary of entities"
   ]
  },
  {
   "cell_type": "code",
   "execution_count": 323,
   "metadata": {},
   "outputs": [],
   "source": [
    "known_entities = {}\n",
    "\n",
    "for index, row in tagged_sentences.iterrows():\n",
    "    for entity in row['label']:\n",
    "        start_pos = int(entity[0])\n",
    "        end_pos = int(entity[1])\n",
    "        label = entity[2]\n",
    "        entity_text = row['text'][start_pos:end_pos]\n",
    "        known_entities[entity_text] = label\n"
   ]
  },
  {
   "attachments": {},
   "cell_type": "markdown",
   "metadata": {},
   "source": [
    "##### 2.1 Use a DataFrame to modify the entities manually"
   ]
  },
  {
   "cell_type": "code",
   "execution_count": 324,
   "metadata": {},
   "outputs": [],
   "source": [
    "# Create a dataframe of entities\n",
    "entities_df = pd.DataFrame.from_dict(known_entities, orient= 'index')\n",
    "entities_df=entities_df.reset_index()\n",
    "entities_df.columns = ['entity', 'label']"
   ]
  },
  {
   "cell_type": "code",
   "execution_count": 325,
   "metadata": {},
   "outputs": [
    {
     "data": {
      "text/html": [
       "<div>\n",
       "<style scoped>\n",
       "    .dataframe tbody tr th:only-of-type {\n",
       "        vertical-align: middle;\n",
       "    }\n",
       "\n",
       "    .dataframe tbody tr th {\n",
       "        vertical-align: top;\n",
       "    }\n",
       "\n",
       "    .dataframe thead th {\n",
       "        text-align: right;\n",
       "    }\n",
       "</style>\n",
       "<table border=\"1\" class=\"dataframe\">\n",
       "  <thead>\n",
       "    <tr style=\"text-align: right;\">\n",
       "      <th></th>\n",
       "      <th>entity</th>\n",
       "      <th>label</th>\n",
       "    </tr>\n",
       "  </thead>\n",
       "  <tbody>\n",
       "    <tr>\n",
       "      <th>617</th>\n",
       "      <td>, VÂNIA CRISTINA SANTOS PEREI</td>\n",
       "      <td>PERSON</td>\n",
       "    </tr>\n",
       "    <tr>\n",
       "      <th>618</th>\n",
       "      <td>r MAURÍCIO VIÉGAS DA SIL</td>\n",
       "      <td>PERSON</td>\n",
       "    </tr>\n",
       "    <tr>\n",
       "      <th>621</th>\n",
       "      <td>MAURÍCIO VIÉGAS DA SILV</td>\n",
       "      <td>PERSON</td>\n",
       "    </tr>\n",
       "    <tr>\n",
       "      <th>653</th>\n",
       "      <td>da</td>\n",
       "      <td>PERSON</td>\n",
       "    </tr>\n",
       "    <tr>\n",
       "      <th>666</th>\n",
       "      <td>ANAMARIA KURTZ DE SOUZA WELP CARLA KARNOPPI V...</td>\n",
       "      <td>PERSON</td>\n",
       "    </tr>\n",
       "    <tr>\n",
       "      <th>691</th>\n",
       "      <td>aroline</td>\n",
       "      <td>PERSON</td>\n",
       "    </tr>\n",
       "    <tr>\n",
       "      <th>757</th>\n",
       "      <td>ROSANGELA DALLA NOR</td>\n",
       "      <td>PERSON</td>\n",
       "    </tr>\n",
       "    <tr>\n",
       "      <th>852</th>\n",
       "      <td>CELSO GIANNETTI LOUREIRO CHAVE</td>\n",
       "      <td>PERSON</td>\n",
       "    </tr>\n",
       "    <tr>\n",
       "      <th>865</th>\n",
       "      <td>de</td>\n",
       "      <td>PERSON</td>\n",
       "    </tr>\n",
       "    <tr>\n",
       "      <th>903</th>\n",
       "      <td>CAROLINA RITTE</td>\n",
       "      <td>PERSON</td>\n",
       "    </tr>\n",
       "    <tr>\n",
       "      <th>904</th>\n",
       "      <td>2 CELSO ALEGRAN</td>\n",
       "      <td>PERSON</td>\n",
       "    </tr>\n",
       "    <tr>\n",
       "      <th>905</th>\n",
       "      <td>45 CESAR DANIEL DE ASSIS RO</td>\n",
       "      <td>PERSON</td>\n",
       "    </tr>\n",
       "    <tr>\n",
       "      <th>906</th>\n",
       "      <td>329 CRISTIANE MATTJE MEND</td>\n",
       "      <td>PERSON</td>\n",
       "    </tr>\n",
       "    <tr>\n",
       "      <th>907</th>\n",
       "      <td>4108 CRISTIANO SILVA DOS S</td>\n",
       "      <td>PERSON</td>\n",
       "    </tr>\n",
       "    <tr>\n",
       "      <th>908</th>\n",
       "      <td>03387 EDINEI RUDIMAR RODRIGUES</td>\n",
       "      <td>PERSON</td>\n",
       "    </tr>\n",
       "    <tr>\n",
       "      <th>909</th>\n",
       "      <td>321916 EDINILSON DE OLIVEIRA</td>\n",
       "      <td>PERSON</td>\n",
       "    </tr>\n",
       "    <tr>\n",
       "      <th>910</th>\n",
       "      <td>3002700 EDUARDO MATOS M</td>\n",
       "      <td>PERSON</td>\n",
       "    </tr>\n",
       "    <tr>\n",
       "      <th>912</th>\n",
       "      <td>LIZIANE GONZALE</td>\n",
       "      <td>PERSON</td>\n",
       "    </tr>\n",
       "    <tr>\n",
       "      <th>913</th>\n",
       "      <td>4 LUCIA DE FATIMA AMB</td>\n",
       "      <td>PERSON</td>\n",
       "    </tr>\n",
       "    <tr>\n",
       "      <th>914</th>\n",
       "      <td>85 LUCIELE DOS SANTOS DA CO</td>\n",
       "      <td>PERSON</td>\n",
       "    </tr>\n",
       "    <tr>\n",
       "      <th>915</th>\n",
       "      <td>710 MARCO ANTONIO MI</td>\n",
       "      <td>PERSON</td>\n",
       "    </tr>\n",
       "    <tr>\n",
       "      <th>916</th>\n",
       "      <td>5387 MARCOS LUIZ HINTE</td>\n",
       "      <td>PERSON</td>\n",
       "    </tr>\n",
       "    <tr>\n",
       "      <th>917</th>\n",
       "      <td>85056 MAURA BOMBA</td>\n",
       "      <td>PERSON</td>\n",
       "    </tr>\n",
       "    <tr>\n",
       "      <th>918</th>\n",
       "      <td>319024 MICHELE</td>\n",
       "      <td>PERSON</td>\n",
       "    </tr>\n",
       "    <tr>\n",
       "      <th>919</th>\n",
       "      <td>2317068 OTÁVIO LUÍS DA SILVA</td>\n",
       "      <td>PERSON</td>\n",
       "    </tr>\n",
       "  </tbody>\n",
       "</table>\n",
       "</div>"
      ],
      "text/plain": [
       "                                                entity   label\n",
       "617                      , VÂNIA CRISTINA SANTOS PEREI  PERSON\n",
       "618                           r MAURÍCIO VIÉGAS DA SIL  PERSON\n",
       "621                            MAURÍCIO VIÉGAS DA SILV  PERSON\n",
       "653                                                 da  PERSON\n",
       "666   ANAMARIA KURTZ DE SOUZA WELP CARLA KARNOPPI V...  PERSON\n",
       "691                                           aroline   PERSON\n",
       "757                                ROSANGELA DALLA NOR  PERSON\n",
       "852                     CELSO GIANNETTI LOUREIRO CHAVE  PERSON\n",
       "865                                                 de  PERSON\n",
       "903                                     CAROLINA RITTE  PERSON\n",
       "904                                    2 CELSO ALEGRAN  PERSON\n",
       "905                        45 CESAR DANIEL DE ASSIS RO  PERSON\n",
       "906                          329 CRISTIANE MATTJE MEND  PERSON\n",
       "907                         4108 CRISTIANO SILVA DOS S  PERSON\n",
       "908                    03387 EDINEI RUDIMAR RODRIGUES   PERSON\n",
       "909                       321916 EDINILSON DE OLIVEIRA  PERSON\n",
       "910                            3002700 EDUARDO MATOS M  PERSON\n",
       "912                                    LIZIANE GONZALE  PERSON\n",
       "913                              4 LUCIA DE FATIMA AMB  PERSON\n",
       "914                        85 LUCIELE DOS SANTOS DA CO  PERSON\n",
       "915                               710 MARCO ANTONIO MI  PERSON\n",
       "916                             5387 MARCOS LUIZ HINTE  PERSON\n",
       "917                                  85056 MAURA BOMBA  PERSON\n",
       "918                                     319024 MICHELE  PERSON\n",
       "919                      2317068 OTÁVIO LUÍS DA SILVA   PERSON"
      ]
     },
     "execution_count": 325,
     "metadata": {},
     "output_type": "execute_result"
    }
   ],
   "source": [
    "# Regex match of entities to remove\n",
    "entities_df[~entities_df['entity'].str.match(r'^[A-ZÀ-Ü]')]"
   ]
  },
  {
   "cell_type": "code",
   "execution_count": 326,
   "metadata": {},
   "outputs": [
    {
     "name": "stdout",
     "output_type": "stream",
     "text": [
      "(922, 2)\n",
      "(897, 2)\n"
     ]
    }
   ],
   "source": [
    "#Remove entities that are incorrectly labeled\n",
    "print(entities_df.shape)\n",
    "entities_df = entities_df[entities_df['entity'].str.match(r'^[A-ZÀ-Ü]')]\n",
    "print(entities_df.shape)\n"
   ]
  },
  {
   "cell_type": "code",
   "execution_count": 327,
   "metadata": {},
   "outputs": [],
   "source": [
    "# Add date entities\n",
    "dates = ner_dataset['text'].str.extractall(r'([0-9]{2}/[0-9]{2}/[0-9]+)').dropna().drop_duplicates().reset_index(drop=True)\n",
    "text_dates = ner_dataset['text'].str.extractall(r'([0-9]+ de [A-Za-z]+ de [0-9]+)').dropna().drop_duplicates().reset_index(drop=True)\n",
    "dates['label'] = 'DATE'\n",
    "text_dates['label'] = 'DATE'\n",
    "dates.columns = ['entity', 'label']\n",
    "text_dates.columns = ['entity', 'label']\n",
    "entities_df = pd.concat([entities_df, dates, text_dates])\n",
    "entities_df = entities_df.drop_duplicates()"
   ]
  },
  {
   "cell_type": "code",
   "execution_count": 328,
   "metadata": {},
   "outputs": [
    {
     "data": {
      "text/html": [
       "<div>\n",
       "<style scoped>\n",
       "    .dataframe tbody tr th:only-of-type {\n",
       "        vertical-align: middle;\n",
       "    }\n",
       "\n",
       "    .dataframe tbody tr th {\n",
       "        vertical-align: top;\n",
       "    }\n",
       "\n",
       "    .dataframe thead th {\n",
       "        text-align: right;\n",
       "    }\n",
       "</style>\n",
       "<table border=\"1\" class=\"dataframe\">\n",
       "  <thead>\n",
       "    <tr style=\"text-align: right;\">\n",
       "      <th></th>\n",
       "      <th>entity</th>\n",
       "      <th>label</th>\n",
       "    </tr>\n",
       "  </thead>\n",
       "  <tbody>\n",
       "    <tr>\n",
       "      <th>0</th>\n",
       "      <td>15/07/2016</td>\n",
       "      <td>DATE</td>\n",
       "    </tr>\n",
       "    <tr>\n",
       "      <th>1</th>\n",
       "      <td>28/08/2016</td>\n",
       "      <td>DATE</td>\n",
       "    </tr>\n",
       "    <tr>\n",
       "      <th>2</th>\n",
       "      <td>01/09/2016</td>\n",
       "      <td>DATE</td>\n",
       "    </tr>\n",
       "    <tr>\n",
       "      <th>3</th>\n",
       "      <td>29/08/2016</td>\n",
       "      <td>DATE</td>\n",
       "    </tr>\n",
       "    <tr>\n",
       "      <th>4</th>\n",
       "      <td>02/09/2016</td>\n",
       "      <td>DATE</td>\n",
       "    </tr>\n",
       "    <tr>\n",
       "      <th>...</th>\n",
       "      <td>...</td>\n",
       "      <td>...</td>\n",
       "    </tr>\n",
       "    <tr>\n",
       "      <th>533</th>\n",
       "      <td>06/06/2019</td>\n",
       "      <td>DATE</td>\n",
       "    </tr>\n",
       "    <tr>\n",
       "      <th>534</th>\n",
       "      <td>11/06/2019</td>\n",
       "      <td>DATE</td>\n",
       "    </tr>\n",
       "    <tr>\n",
       "      <th>535</th>\n",
       "      <td>17/06/2019</td>\n",
       "      <td>DATE</td>\n",
       "    </tr>\n",
       "    <tr>\n",
       "      <th>536</th>\n",
       "      <td>05/06/2019</td>\n",
       "      <td>DATE</td>\n",
       "    </tr>\n",
       "    <tr>\n",
       "      <th>537</th>\n",
       "      <td>10/06/2019</td>\n",
       "      <td>DATE</td>\n",
       "    </tr>\n",
       "  </tbody>\n",
       "</table>\n",
       "<p>538 rows × 2 columns</p>\n",
       "</div>"
      ],
      "text/plain": [
       "         entity label\n",
       "0    15/07/2016  DATE\n",
       "1    28/08/2016  DATE\n",
       "2    01/09/2016  DATE\n",
       "3    29/08/2016  DATE\n",
       "4    02/09/2016  DATE\n",
       "..          ...   ...\n",
       "533  06/06/2019  DATE\n",
       "534  11/06/2019  DATE\n",
       "535  17/06/2019  DATE\n",
       "536  05/06/2019  DATE\n",
       "537  10/06/2019  DATE\n",
       "\n",
       "[538 rows x 2 columns]"
      ]
     },
     "execution_count": 328,
     "metadata": {},
     "output_type": "execute_result"
    }
   ],
   "source": [
    "dates"
   ]
  },
  {
   "cell_type": "code",
   "execution_count": 329,
   "metadata": {},
   "outputs": [],
   "source": [
    "#Sort DataFrame by entity string length\n",
    "entities_df = entities_df.sort_values(by=['entity'], key=lambda row: row.str.len(), ascending=False).reset_index(drop = True)"
   ]
  },
  {
   "cell_type": "code",
   "execution_count": 330,
   "metadata": {},
   "outputs": [
    {
     "data": {
      "text/html": [
       "<div>\n",
       "<style scoped>\n",
       "    .dataframe tbody tr th:only-of-type {\n",
       "        vertical-align: middle;\n",
       "    }\n",
       "\n",
       "    .dataframe tbody tr th {\n",
       "        vertical-align: top;\n",
       "    }\n",
       "\n",
       "    .dataframe thead th {\n",
       "        text-align: right;\n",
       "    }\n",
       "</style>\n",
       "<table border=\"1\" class=\"dataframe\">\n",
       "  <thead>\n",
       "    <tr style=\"text-align: right;\">\n",
       "      <th></th>\n",
       "      <th>entity</th>\n",
       "      <th>label</th>\n",
       "    </tr>\n",
       "  </thead>\n",
       "  <tbody>\n",
       "    <tr>\n",
       "      <th>1272</th>\n",
       "      <td>01/09/2016</td>\n",
       "      <td>DATE</td>\n",
       "    </tr>\n",
       "  </tbody>\n",
       "</table>\n",
       "</div>"
      ],
      "text/plain": [
       "          entity label\n",
       "1272  01/09/2016  DATE"
      ]
     },
     "execution_count": 330,
     "metadata": {},
     "output_type": "execute_result"
    }
   ],
   "source": [
    "entities_df[entities_df['entity'] == '01/09/2016']"
   ]
  },
  {
   "cell_type": "code",
   "execution_count": 331,
   "metadata": {},
   "outputs": [],
   "source": [
    "# Find if a string's position overlaps with other strings in a list of positions\n",
    "def overlapping_string(start, end, strings_pos: list):\n",
    "    is_overlapping = False\n",
    "    for string_start, string_end, _ in strings_pos:\n",
    "        if (start >= string_start and start <= string_end) or (end >= string_start and end <= string_end):\n",
    "            #print(start, end, string_start, string_end)\n",
    "            is_overlapping = True\n",
    "    return is_overlapping"
   ]
  },
  {
   "cell_type": "code",
   "execution_count": 332,
   "metadata": {},
   "outputs": [],
   "source": [
    "# Find all substrings that match an entity in our entities list. They are added to the sentence labels.\n",
    "def find_matching_entities(sentence: str, entities: pd.DataFrame):\n",
    "    matches = []\n",
    "    for index, entry in entities.iterrows():\n",
    "        entity = entry['entity']\n",
    "\n",
    "        for match in re.finditer(entity, sentence):\n",
    "            #print('Found: ', entity, match.start(), match.end())\n",
    "            overlapping = overlapping_string(match.start(), match.end(), matches)\n",
    "\n",
    "            if not overlapping:\n",
    "                #print('No overlap')\n",
    "                matches.append([match.start(), match.end(), entry['label']])\n",
    "                \n",
    "    return matches"
   ]
  },
  {
   "cell_type": "code",
   "execution_count": 333,
   "metadata": {},
   "outputs": [
    {
     "name": "stdout",
     "output_type": "stream",
     "text": [
      "Autorizar o afastamento do país de CRISTINE MARIA WARMLING, Professor do Magistério Superior, lotada e em exercício no Departamento de Odontologia Preventiva e Social da Faculdade de Odontologia, com a finalidade de participar do \"3ème Congrès de la Societé Internationale d'Ergologie\", em Aix-en-Provence - França, no período compreendido entre 28/08/2016 e 01/09/2016, com ônus limitado.\n"
     ]
    },
    {
     "data": {
      "text/plain": [
       "[[119, 166, 'ORGANIZATION'],\n",
       " [250, 284, 'ORGANIZATION'],\n",
       " [60, 92, 'OCCUPATION'],\n",
       " [170, 194, 'ORGANIZATION'],\n",
       " [35, 58, 'PERSON'],\n",
       " [290, 305, 'LOCATION'],\n",
       " [346, 356, 'DATE'],\n",
       " [359, 369, 'DATE'],\n",
       " [308, 314, 'LOCATION']]"
      ]
     },
     "execution_count": 333,
     "metadata": {},
     "output_type": "execute_result"
    }
   ],
   "source": [
    "print(tagged_sentences['text'].iloc[2])\n",
    "find_matching_entities(tagged_sentences['text'].iloc[2], entities_df)"
   ]
  },
  {
   "cell_type": "code",
   "execution_count": 334,
   "metadata": {},
   "outputs": [
    {
     "name": "stderr",
     "output_type": "stream",
     "text": [
      "C:\\Users\\arthu\\AppData\\Local\\Temp\\ipykernel_6168\\2916277881.py:1: FutureWarning: The default dtype for empty Series will be 'object' instead of 'float64' in a future version. Specify a dtype explicitly to silence this warning.\n",
      "  replicated_labels = pd.Series()\n"
     ]
    }
   ],
   "source": [
    "replicated_labels = pd.Series()\n",
    "tagged_sentences['label'] = tagged_sentences['text'].apply(lambda row: find_matching_entities(row, entities_df))"
   ]
  },
  {
   "cell_type": "code",
   "execution_count": 335,
   "metadata": {},
   "outputs": [
    {
     "data": {
      "text/plain": [
       "[[122, 179, 'ORGANIZATION'],\n",
       " [242, 278, 'ORGANIZATION'],\n",
       " [63, 95, 'OCCUPATION'],\n",
       " [35, 61, 'PERSON'],\n",
       " [183, 202, 'ORGANIZATION'],\n",
       " [328, 338, 'DATE'],\n",
       " [341, 351, 'DATE'],\n",
       " [290, 296, 'LOCATION'],\n",
       " [381, 386, 'ORGANIZATION'],\n",
       " [283, 288, 'LOCATION']]"
      ]
     },
     "execution_count": 335,
     "metadata": {},
     "output_type": "execute_result"
    }
   ],
   "source": [
    "tagged_sentences['label'].iloc[37]"
   ]
  },
  {
   "cell_type": "code",
   "execution_count": 71,
   "metadata": {},
   "outputs": [
    {
     "name": "stdout",
     "output_type": "stream",
     "text": [
      "(80, 7) + (649, 7) = (729, 7)\n"
     ]
    }
   ],
   "source": [
    "# replicated_data = pd.concat([tagged_sentences, untagged_sentences])\n",
    "# print(\n",
    "#     tagged_sentences.shape,\n",
    "#     '+', untagged_sentences.shape,\n",
    "#     '=', replicated_data.shape)"
   ]
  },
  {
   "cell_type": "code",
   "execution_count": 336,
   "metadata": {},
   "outputs": [],
   "source": [
    "tagged_sentences.to_json(os.path.join(path_to_train, 'unique_sentences_replicated.jsonl'),lines=True, orient = 'records')"
   ]
  }
 ],
 "metadata": {
  "kernelspec": {
   "display_name": "NLP22",
   "language": "python",
   "name": "python3"
  },
  "language_info": {
   "codemirror_mode": {
    "name": "ipython",
    "version": 3
   },
   "file_extension": ".py",
   "mimetype": "text/x-python",
   "name": "python",
   "nbconvert_exporter": "python",
   "pygments_lexer": "ipython3",
   "version": "3.10.4"
  },
  "orig_nbformat": 4
 },
 "nbformat": 4,
 "nbformat_minor": 2
}
