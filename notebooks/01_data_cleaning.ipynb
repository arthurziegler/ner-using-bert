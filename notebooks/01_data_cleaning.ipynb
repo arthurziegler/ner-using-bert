{
 "cells": [
  {
   "cell_type": "markdown",
   "metadata": {},
   "source": [
    "### Import external dependencies"
   ]
  },
  {
   "cell_type": "code",
   "execution_count": 32,
   "metadata": {},
   "outputs": [
    {
     "data": {
      "text/plain": [
       "True"
      ]
     },
     "execution_count": 32,
     "metadata": {},
     "output_type": "execute_result"
    }
   ],
   "source": [
    "import numpy as np\n",
    "import pandas as pd\n",
    "import textwrap\n",
    "from pprint import pprint\n",
    "import re\n",
    "import sys\n",
    "import os\n",
    "import nltk\n",
    "from nltk.tokenize import sent_tokenize, word_tokenize\n",
    "nltk.download('punkt', quiet=True)"
   ]
  },
  {
   "cell_type": "markdown",
   "metadata": {},
   "source": [
    "### Import internal dependencies"
   ]
  },
  {
   "cell_type": "code",
   "execution_count": 30,
   "metadata": {},
   "outputs": [],
   "source": [
    "current_dir = os.path.dirname(os.path.abspath('__file__'))\n",
    "parent_dir = os.path.dirname(current_dir)\n",
    "sys.path.append(parent_dir)\n",
    "from src.data_cleaning import data_cleaning"
   ]
  },
  {
   "cell_type": "markdown",
   "metadata": {},
   "source": [
    "#### Open Unannotated Documents\n",
    "We get the unnanotatted texts as key, value pairs. This will make it easy to convert them into a dataframe."
   ]
  },
  {
   "cell_type": "code",
   "execution_count": 39,
   "metadata": {},
   "outputs": [],
   "source": [
    "path_to_test = \"../data/test/raw_documents/\"\n",
    "path_to_train = \"../data/train/raw_documents/\""
   ]
  },
  {
   "cell_type": "code",
   "execution_count": 53,
   "metadata": {},
   "outputs": [
    {
     "name": "stdout",
     "output_type": "stream",
     "text": [
      "(538, 1)\n"
     ]
    }
   ],
   "source": [
    "documents = {}\n",
    "\n",
    "# Get train documents that require manual labeling\n",
    "for filename in os.listdir(path_to_train):\n",
    "   if filename.endswith(\".txt\"):\n",
    "      with open(os.path.join(path_to_train, filename), 'r', encoding=\"utf8\") as f:\n",
    "         key = int(filename.replace('.txt', ''))\n",
    "         value = f.read()\n",
    "         documents[key] = value\n",
    "\n",
    "# Transform documents dictionary into a pandas dataframe\n",
    "df_docs = pd.DataFrame.from_dict(documents, orient='index')\n",
    "df_docs.columns = ['text']\n",
    "\n",
    "print(df_docs.shape)"
   ]
  },
  {
   "cell_type": "markdown",
   "metadata": {},
   "source": [
    "#### Data Cleaning\n",
    "We will use the **data_processing.clear_text** function which was built to clean the specific document we are using here. Since we already know they will be used for NER, the objective of the cleaning is getting the text into a format which will be easy to split into sentences. Each sentence will later be used as an input to our neural network.\n",
    "There are three aspects we are cleaning:\n",
    "1. Removing line breaks as they make it very hard for the sentence tokenizer to correctly recognize the begining and ending of sentences in the text\n",
    "2. Removing repeated whitespaces which are used for the visual formatting of the documents but will generate unnecessary tokens for our neural network.\n",
    "3. There are a lot of law and document numbers in this documents. There isn't a consistent writing of these numbers which can start as \"nº.123\", \"nº. 123\" and \"nº 123\". We will padronize this occurences to appear as \"nº 123\" since the punctuation after \"nº\" makes it harder for the sentence tokenizer to correctly separate the sentences."
   ]
  },
  {
   "cell_type": "code",
   "execution_count": 54,
   "metadata": {},
   "outputs": [],
   "source": [
    "df_docs['text'] = df_docs['text'].apply(data_cleaning.clear_text)"
   ]
  },
  {
   "cell_type": "markdown",
   "metadata": {},
   "source": [
    "#### Sentence tokenization\n",
    "Having cleaned our documents we will split them into sentences. The **data_processing.split_text_sentences** function will return a DataFrame with: The sentences, a unique ID for each sentence and the index of the document each sentence is a part of."
   ]
  },
  {
   "cell_type": "code",
   "execution_count": 59,
   "metadata": {},
   "outputs": [
    {
     "name": "stdout",
     "output_type": "stream",
     "text": [
      "(2512, 3)\n"
     ]
    }
   ],
   "source": [
    "df_sentences = data_cleaning.split_text_sentences(df_docs['text'])\n",
    "pd.set_option(\"display.max_colwidth\", 0)\n",
    "print(df_sentences.shape)"
   ]
  },
  {
   "cell_type": "markdown",
   "metadata": {},
   "source": [
    "#### Dealing with duplicate sentences\n",
    "Now that we have our dataset of sentences we'll go to the last step which is identifying and categorizing duplicate sentences. Since we need to manually annotate the dataset for training we can group duplicate sentences to facilitate the anottation process. The document we have are fairly standardized so there are a few duplicates we will find.\n",
    "\n",
    "Let's group sentences by their textual content. Each group will be composed of identical sentences."
   ]
  },
  {
   "cell_type": "code",
   "execution_count": 60,
   "metadata": {},
   "outputs": [],
   "source": [
    "duplicate_group = df_sentences.groupby('sentence')"
   ]
  },
  {
   "cell_type": "markdown",
   "metadata": {},
   "source": [
    "We loop each group of duplicated sentences and create a dictionary where the key will be the index of the first sentence of the group and the value is the index of all sentences equal to the first."
   ]
  },
  {
   "cell_type": "code",
   "execution_count": 61,
   "metadata": {},
   "outputs": [],
   "source": [
    "duplicates = {}\n",
    "for i in duplicate_group:\n",
    "    dup_list = i[1]['sentence_id'].tolist()\n",
    "    duplicates[dup_list[0]] = dup_list"
   ]
  },
  {
   "cell_type": "markdown",
   "metadata": {},
   "source": [
    "We create a dataframe which will contain only unique sentences. The sentences that have identic pairs will have all of their indexes in a list in the 'duplicates' column. This will allow us to replicate the labels after the anotattion process."
   ]
  },
  {
   "cell_type": "code",
   "execution_count": 62,
   "metadata": {},
   "outputs": [],
   "source": [
    "df_unique_sentences = df_sentences.copy()\n",
    "df_unique_sentences['duplicates'] = pd.Series(duplicates, index=df_sentences.index)\n",
    "df_unique_sentences = df_unique_sentences.dropna(subset=['duplicates'])\n",
    "df_unique_sentences['label'] = \"\""
   ]
  },
  {
   "cell_type": "markdown",
   "metadata": {},
   "source": [
    "We can see that the unique dataframe has less sentences which represen the duplicates we removed"
   ]
  },
  {
   "cell_type": "code",
   "execution_count": 63,
   "metadata": {},
   "outputs": [
    {
     "name": "stdout",
     "output_type": "stream",
     "text": [
      "(2512, 3)\n",
      "(1963, 5)\n"
     ]
    }
   ],
   "source": [
    "pprint(df_sentences.shape)\n",
    "pprint(df_unique_sentences.shape)"
   ]
  },
  {
   "attachments": {},
   "cell_type": "markdown",
   "metadata": {},
   "source": [
    "#### Manual Removal of Bad Sentences\n",
    "Some sentences are not going to be helpful on our final train and test data. They either have just one or no entities we are interested in. Because of that we'll remove them from our dataset."
   ]
  },
  {
   "cell_type": "code",
   "execution_count": 64,
   "metadata": {},
   "outputs": [
    {
     "name": "stdout",
     "output_type": "stream",
     "text": [
      "(1963, 5)\n",
      "(729, 5)\n"
     ]
    }
   ],
   "source": [
    "pprint(df_unique_sentences.shape)\n",
    "df_unique_sentences = df_unique_sentences[df_unique_sentences['sentence'].str.len() > 20]\n",
    "df_unique_sentences = df_unique_sentences[~df_unique_sentences['sentence'].str.startswith(\"Documento gerado sob\")]\n",
    "df_unique_sentences = df_unique_sentences[~df_unique_sentences['sentence'].str.startswith(\"Solicitação nº\")]\n",
    "df_unique_sentences = df_unique_sentences[~df_unique_sentences['sentence'].str.startswith(\"Processo\")]\n",
    "df_unique_sentences = df_unique_sentences[~df_unique_sentences['sentence'].str.contains(\"RESOLVE\")]\n",
    "pprint(df_unique_sentences.shape)"
   ]
  },
  {
   "cell_type": "code",
   "execution_count": 70,
   "metadata": {},
   "outputs": [],
   "source": [
    "#pprint(df_unique_sentences.to_json(lines=True, orient = 'records'))\n",
    "save_path = \"../data/unannotated/\"\n",
    "df_docs.to_json(os.path.join(save_path, 'clean_raw_documents.jsonl'),lines=True, orient = 'records')\n",
    "df_unique_sentences.to_json(os.path.join(save_path, 'unlabeled_sentences.jsonl'),lines=True, orient = 'records')"
   ]
  },
  {
   "attachments": {},
   "cell_type": "markdown",
   "metadata": {},
   "source": [
    "#### Assistive Auto Labelling\n",
    "Before we import our sentences into doccano for manual labelling, we'll use the auto_tagger to automatically label them. This will make it easier to do the manual labelling as a few entities will already be correctly or almost correctly identified."
   ]
  },
  {
   "cell_type": "code",
   "execution_count": 71,
   "metadata": {},
   "outputs": [
    {
     "ename": "OSError",
     "evalue": "auto_tagger is not a local folder and is not a valid model identifier listed on 'https://huggingface.co/models'\nIf this is a private repository, make sure to pass a token having permission to this repo with `use_auth_token` or log in with `huggingface-cli login` and pass `use_auth_token=True`.",
     "output_type": "error",
     "traceback": [
      "\u001b[1;31m---------------------------------------------------------------------------\u001b[0m",
      "\u001b[1;31mHTTPError\u001b[0m                                 Traceback (most recent call last)",
      "File \u001b[1;32mc:\\Users\\arthu\\anaconda3\\envs\\NLP2023\\lib\\site-packages\\huggingface_hub\\utils\\_errors.py:213\u001b[0m, in \u001b[0;36mhf_raise_for_status\u001b[1;34m(response, endpoint_name)\u001b[0m\n\u001b[0;32m    212\u001b[0m \u001b[38;5;28;01mtry\u001b[39;00m:\n\u001b[1;32m--> 213\u001b[0m     \u001b[43mresponse\u001b[49m\u001b[38;5;241;43m.\u001b[39;49m\u001b[43mraise_for_status\u001b[49m\u001b[43m(\u001b[49m\u001b[43m)\u001b[49m\n\u001b[0;32m    214\u001b[0m \u001b[38;5;28;01mexcept\u001b[39;00m HTTPError \u001b[38;5;28;01mas\u001b[39;00m e:\n",
      "File \u001b[1;32mc:\\Users\\arthu\\anaconda3\\envs\\NLP2023\\lib\\site-packages\\requests\\models.py:1021\u001b[0m, in \u001b[0;36mResponse.raise_for_status\u001b[1;34m(self)\u001b[0m\n\u001b[0;32m   1020\u001b[0m \u001b[38;5;28;01mif\u001b[39;00m http_error_msg:\n\u001b[1;32m-> 1021\u001b[0m     \u001b[38;5;28;01mraise\u001b[39;00m HTTPError(http_error_msg, response\u001b[38;5;241m=\u001b[39m\u001b[38;5;28mself\u001b[39m)\n",
      "\u001b[1;31mHTTPError\u001b[0m: 401 Client Error: Unauthorized for url: https://huggingface.co/auto_tagger/resolve/main/config.json",
      "\nThe above exception was the direct cause of the following exception:\n",
      "\u001b[1;31mRepositoryNotFoundError\u001b[0m                   Traceback (most recent call last)",
      "File \u001b[1;32mc:\\Users\\arthu\\anaconda3\\envs\\NLP2023\\lib\\site-packages\\transformers\\utils\\hub.py:409\u001b[0m, in \u001b[0;36mcached_file\u001b[1;34m(path_or_repo_id, filename, cache_dir, force_download, resume_download, proxies, use_auth_token, revision, local_files_only, subfolder, user_agent, _raise_exceptions_for_missing_entries, _raise_exceptions_for_connection_errors, _commit_hash)\u001b[0m\n\u001b[0;32m    407\u001b[0m \u001b[38;5;28;01mtry\u001b[39;00m:\n\u001b[0;32m    408\u001b[0m     \u001b[38;5;66;03m# Load from URL or cache if already cached\u001b[39;00m\n\u001b[1;32m--> 409\u001b[0m     resolved_file \u001b[38;5;241m=\u001b[39m \u001b[43mhf_hub_download\u001b[49m\u001b[43m(\u001b[49m\n\u001b[0;32m    410\u001b[0m \u001b[43m        \u001b[49m\u001b[43mpath_or_repo_id\u001b[49m\u001b[43m,\u001b[49m\n\u001b[0;32m    411\u001b[0m \u001b[43m        \u001b[49m\u001b[43mfilename\u001b[49m\u001b[43m,\u001b[49m\n\u001b[0;32m    412\u001b[0m \u001b[43m        \u001b[49m\u001b[43msubfolder\u001b[49m\u001b[38;5;241;43m=\u001b[39;49m\u001b[38;5;28;43;01mNone\u001b[39;49;00m\u001b[43m \u001b[49m\u001b[38;5;28;43;01mif\u001b[39;49;00m\u001b[43m \u001b[49m\u001b[38;5;28;43mlen\u001b[39;49m\u001b[43m(\u001b[49m\u001b[43msubfolder\u001b[49m\u001b[43m)\u001b[49m\u001b[43m \u001b[49m\u001b[38;5;241;43m==\u001b[39;49m\u001b[43m \u001b[49m\u001b[38;5;241;43m0\u001b[39;49m\u001b[43m \u001b[49m\u001b[38;5;28;43;01melse\u001b[39;49;00m\u001b[43m \u001b[49m\u001b[43msubfolder\u001b[49m\u001b[43m,\u001b[49m\n\u001b[0;32m    413\u001b[0m \u001b[43m        \u001b[49m\u001b[43mrevision\u001b[49m\u001b[38;5;241;43m=\u001b[39;49m\u001b[43mrevision\u001b[49m\u001b[43m,\u001b[49m\n\u001b[0;32m    414\u001b[0m \u001b[43m        \u001b[49m\u001b[43mcache_dir\u001b[49m\u001b[38;5;241;43m=\u001b[39;49m\u001b[43mcache_dir\u001b[49m\u001b[43m,\u001b[49m\n\u001b[0;32m    415\u001b[0m \u001b[43m        \u001b[49m\u001b[43muser_agent\u001b[49m\u001b[38;5;241;43m=\u001b[39;49m\u001b[43muser_agent\u001b[49m\u001b[43m,\u001b[49m\n\u001b[0;32m    416\u001b[0m \u001b[43m        \u001b[49m\u001b[43mforce_download\u001b[49m\u001b[38;5;241;43m=\u001b[39;49m\u001b[43mforce_download\u001b[49m\u001b[43m,\u001b[49m\n\u001b[0;32m    417\u001b[0m \u001b[43m        \u001b[49m\u001b[43mproxies\u001b[49m\u001b[38;5;241;43m=\u001b[39;49m\u001b[43mproxies\u001b[49m\u001b[43m,\u001b[49m\n\u001b[0;32m    418\u001b[0m \u001b[43m        \u001b[49m\u001b[43mresume_download\u001b[49m\u001b[38;5;241;43m=\u001b[39;49m\u001b[43mresume_download\u001b[49m\u001b[43m,\u001b[49m\n\u001b[0;32m    419\u001b[0m \u001b[43m        \u001b[49m\u001b[43muse_auth_token\u001b[49m\u001b[38;5;241;43m=\u001b[39;49m\u001b[43muse_auth_token\u001b[49m\u001b[43m,\u001b[49m\n\u001b[0;32m    420\u001b[0m \u001b[43m        \u001b[49m\u001b[43mlocal_files_only\u001b[49m\u001b[38;5;241;43m=\u001b[39;49m\u001b[43mlocal_files_only\u001b[49m\u001b[43m,\u001b[49m\n\u001b[0;32m    421\u001b[0m \u001b[43m    \u001b[49m\u001b[43m)\u001b[49m\n\u001b[0;32m    423\u001b[0m \u001b[38;5;28;01mexcept\u001b[39;00m RepositoryNotFoundError:\n",
      "File \u001b[1;32mc:\\Users\\arthu\\anaconda3\\envs\\NLP2023\\lib\\site-packages\\huggingface_hub\\file_download.py:1053\u001b[0m, in \u001b[0;36mhf_hub_download\u001b[1;34m(repo_id, filename, subfolder, repo_type, revision, library_name, library_version, cache_dir, user_agent, force_download, force_filename, proxies, etag_timeout, resume_download, use_auth_token, local_files_only, legacy_cache_layout)\u001b[0m\n\u001b[0;32m   1052\u001b[0m \u001b[38;5;28;01mtry\u001b[39;00m:\n\u001b[1;32m-> 1053\u001b[0m     metadata \u001b[38;5;241m=\u001b[39m \u001b[43mget_hf_file_metadata\u001b[49m\u001b[43m(\u001b[49m\n\u001b[0;32m   1054\u001b[0m \u001b[43m        \u001b[49m\u001b[43murl\u001b[49m\u001b[38;5;241;43m=\u001b[39;49m\u001b[43murl\u001b[49m\u001b[43m,\u001b[49m\n\u001b[0;32m   1055\u001b[0m \u001b[43m        \u001b[49m\u001b[43muse_auth_token\u001b[49m\u001b[38;5;241;43m=\u001b[39;49m\u001b[43muse_auth_token\u001b[49m\u001b[43m,\u001b[49m\n\u001b[0;32m   1056\u001b[0m \u001b[43m        \u001b[49m\u001b[43mproxies\u001b[49m\u001b[38;5;241;43m=\u001b[39;49m\u001b[43mproxies\u001b[49m\u001b[43m,\u001b[49m\n\u001b[0;32m   1057\u001b[0m \u001b[43m        \u001b[49m\u001b[43mtimeout\u001b[49m\u001b[38;5;241;43m=\u001b[39;49m\u001b[43metag_timeout\u001b[49m\u001b[43m,\u001b[49m\n\u001b[0;32m   1058\u001b[0m \u001b[43m    \u001b[49m\u001b[43m)\u001b[49m\n\u001b[0;32m   1059\u001b[0m \u001b[38;5;28;01mexcept\u001b[39;00m EntryNotFoundError \u001b[38;5;28;01mas\u001b[39;00m http_error:\n\u001b[0;32m   1060\u001b[0m     \u001b[38;5;66;03m# Cache the non-existence of the file and raise\u001b[39;00m\n",
      "File \u001b[1;32mc:\\Users\\arthu\\anaconda3\\envs\\NLP2023\\lib\\site-packages\\huggingface_hub\\file_download.py:1359\u001b[0m, in \u001b[0;36mget_hf_file_metadata\u001b[1;34m(url, use_auth_token, proxies, timeout)\u001b[0m\n\u001b[0;32m   1350\u001b[0m r \u001b[38;5;241m=\u001b[39m _request_wrapper(\n\u001b[0;32m   1351\u001b[0m     method\u001b[38;5;241m=\u001b[39m\u001b[38;5;124m\"\u001b[39m\u001b[38;5;124mHEAD\u001b[39m\u001b[38;5;124m\"\u001b[39m,\n\u001b[0;32m   1352\u001b[0m     url\u001b[38;5;241m=\u001b[39murl,\n\u001b[1;32m   (...)\u001b[0m\n\u001b[0;32m   1357\u001b[0m     timeout\u001b[38;5;241m=\u001b[39mtimeout,\n\u001b[0;32m   1358\u001b[0m )\n\u001b[1;32m-> 1359\u001b[0m \u001b[43mhf_raise_for_status\u001b[49m\u001b[43m(\u001b[49m\u001b[43mr\u001b[49m\u001b[43m)\u001b[49m\n\u001b[0;32m   1361\u001b[0m \u001b[38;5;66;03m# Return\u001b[39;00m\n",
      "File \u001b[1;32mc:\\Users\\arthu\\anaconda3\\envs\\NLP2023\\lib\\site-packages\\huggingface_hub\\utils\\_errors.py:242\u001b[0m, in \u001b[0;36mhf_raise_for_status\u001b[1;34m(response, endpoint_name)\u001b[0m\n\u001b[0;32m    234\u001b[0m     message \u001b[38;5;241m=\u001b[39m (\n\u001b[0;32m    235\u001b[0m         \u001b[38;5;124mf\u001b[39m\u001b[38;5;124m\"\u001b[39m\u001b[38;5;132;01m{\u001b[39;00mresponse\u001b[38;5;241m.\u001b[39mstatus_code\u001b[38;5;132;01m}\u001b[39;00m\u001b[38;5;124m Client Error.\u001b[39m\u001b[38;5;124m\"\u001b[39m\n\u001b[0;32m    236\u001b[0m         \u001b[38;5;241m+\u001b[39m \u001b[38;5;124m\"\u001b[39m\u001b[38;5;130;01m\\n\u001b[39;00m\u001b[38;5;130;01m\\n\u001b[39;00m\u001b[38;5;124m\"\u001b[39m\n\u001b[1;32m   (...)\u001b[0m\n\u001b[0;32m    240\u001b[0m         \u001b[38;5;241m+\u001b[39m \u001b[38;5;124m\"\u001b[39m\u001b[38;5;130;01m\\n\u001b[39;00m\u001b[38;5;124mIf the repo is private, make sure you are authenticated.\u001b[39m\u001b[38;5;124m\"\u001b[39m\n\u001b[0;32m    241\u001b[0m     )\n\u001b[1;32m--> 242\u001b[0m     \u001b[38;5;28;01mraise\u001b[39;00m RepositoryNotFoundError(message, response) \u001b[38;5;28;01mfrom\u001b[39;00m \u001b[38;5;21;01me\u001b[39;00m\n\u001b[0;32m    244\u001b[0m \u001b[38;5;28;01melif\u001b[39;00m response\u001b[38;5;241m.\u001b[39mstatus_code \u001b[38;5;241m==\u001b[39m \u001b[38;5;241m400\u001b[39m:\n",
      "\u001b[1;31mRepositoryNotFoundError\u001b[0m: 401 Client Error. (Request ID: Root=1-6701cb2a-24b14d5e455eb87a5cddf616)\n\nRepository Not Found for url: https://huggingface.co/auto_tagger/resolve/main/config.json.\nPlease make sure you specified the correct `repo_id` and `repo_type`.\nIf the repo is private, make sure you are authenticated.",
      "\nDuring handling of the above exception, another exception occurred:\n",
      "\u001b[1;31mOSError\u001b[0m                                   Traceback (most recent call last)",
      "Cell \u001b[1;32mIn[71], line 3\u001b[0m\n\u001b[0;32m      1\u001b[0m \u001b[38;5;66;03m# Load the auto_tagger model\u001b[39;00m\n\u001b[0;32m      2\u001b[0m \u001b[38;5;28;01mfrom\u001b[39;00m \u001b[38;5;21;01mtransformers\u001b[39;00m \u001b[38;5;28;01mimport\u001b[39;00m pipeline\n\u001b[1;32m----> 3\u001b[0m assistive_auto_tagger \u001b[38;5;241m=\u001b[39m \u001b[43mpipeline\u001b[49m\u001b[43m(\u001b[49m\n\u001b[0;32m      4\u001b[0m \u001b[43m    \u001b[49m\u001b[38;5;124;43m\"\u001b[39;49m\u001b[38;5;124;43mtoken-classification\u001b[39;49m\u001b[38;5;124;43m\"\u001b[39;49m\u001b[43m,\u001b[49m\n\u001b[0;32m      5\u001b[0m \u001b[43m    \u001b[49m\u001b[43mmodel\u001b[49m\u001b[38;5;241;43m=\u001b[39;49m\u001b[38;5;124;43m'\u001b[39;49m\u001b[38;5;124;43mauto_tagger\u001b[39;49m\u001b[38;5;124;43m'\u001b[39;49m\u001b[43m,\u001b[49m\n\u001b[0;32m      6\u001b[0m \u001b[43m    \u001b[49m\u001b[43maggregation_strategy\u001b[49m\u001b[38;5;241;43m=\u001b[39;49m\u001b[38;5;124;43m\"\u001b[39;49m\u001b[38;5;124;43maverage\u001b[39;49m\u001b[38;5;124;43m\"\u001b[39;49m\u001b[43m,\u001b[49m\n\u001b[0;32m      7\u001b[0m \u001b[43m    \u001b[49m\u001b[43mignore_labels\u001b[49m\u001b[38;5;241;43m=\u001b[39;49m\u001b[43m[\u001b[49m\u001b[38;5;124;43m\"\u001b[39;49m\u001b[38;5;124;43m\"\u001b[39;49m\u001b[43m]\u001b[49m\u001b[43m,\u001b[49m\n\u001b[0;32m      8\u001b[0m \u001b[43m    \u001b[49m\u001b[43mdevice\u001b[49m\u001b[38;5;241;43m=\u001b[39;49m\u001b[38;5;241;43m0\u001b[39;49m\n\u001b[0;32m      9\u001b[0m \u001b[43m)\u001b[49m\n",
      "File \u001b[1;32mc:\\Users\\arthu\\anaconda3\\envs\\NLP2023\\lib\\site-packages\\transformers\\pipelines\\__init__.py:648\u001b[0m, in \u001b[0;36mpipeline\u001b[1;34m(task, model, config, tokenizer, feature_extractor, framework, revision, use_fast, use_auth_token, device, device_map, torch_dtype, trust_remote_code, model_kwargs, pipeline_class, **kwargs)\u001b[0m\n\u001b[0;32m    646\u001b[0m     hub_kwargs[\u001b[38;5;124m\"\u001b[39m\u001b[38;5;124m_commit_hash\u001b[39m\u001b[38;5;124m\"\u001b[39m] \u001b[38;5;241m=\u001b[39m config\u001b[38;5;241m.\u001b[39m_commit_hash\n\u001b[0;32m    647\u001b[0m \u001b[38;5;28;01melif\u001b[39;00m config \u001b[38;5;129;01mis\u001b[39;00m \u001b[38;5;28;01mNone\u001b[39;00m \u001b[38;5;129;01mand\u001b[39;00m \u001b[38;5;28misinstance\u001b[39m(model, \u001b[38;5;28mstr\u001b[39m):\n\u001b[1;32m--> 648\u001b[0m     config \u001b[38;5;241m=\u001b[39m AutoConfig\u001b[38;5;241m.\u001b[39mfrom_pretrained(model, _from_pipeline\u001b[38;5;241m=\u001b[39mtask, \u001b[38;5;241m*\u001b[39m\u001b[38;5;241m*\u001b[39mhub_kwargs, \u001b[38;5;241m*\u001b[39m\u001b[38;5;241m*\u001b[39mmodel_kwargs)\n\u001b[0;32m    649\u001b[0m     hub_kwargs[\u001b[38;5;124m\"\u001b[39m\u001b[38;5;124m_commit_hash\u001b[39m\u001b[38;5;124m\"\u001b[39m] \u001b[38;5;241m=\u001b[39m config\u001b[38;5;241m.\u001b[39m_commit_hash\n\u001b[0;32m    651\u001b[0m custom_tasks \u001b[38;5;241m=\u001b[39m {}\n",
      "File \u001b[1;32mc:\\Users\\arthu\\anaconda3\\envs\\NLP2023\\lib\\site-packages\\transformers\\models\\auto\\configuration_auto.py:776\u001b[0m, in \u001b[0;36mAutoConfig.from_pretrained\u001b[1;34m(cls, pretrained_model_name_or_path, **kwargs)\u001b[0m\n\u001b[0;32m    774\u001b[0m kwargs[\u001b[38;5;124m\"\u001b[39m\u001b[38;5;124mname_or_path\u001b[39m\u001b[38;5;124m\"\u001b[39m] \u001b[38;5;241m=\u001b[39m pretrained_model_name_or_path\n\u001b[0;32m    775\u001b[0m trust_remote_code \u001b[38;5;241m=\u001b[39m kwargs\u001b[38;5;241m.\u001b[39mpop(\u001b[38;5;124m\"\u001b[39m\u001b[38;5;124mtrust_remote_code\u001b[39m\u001b[38;5;124m\"\u001b[39m, \u001b[38;5;28;01mFalse\u001b[39;00m)\n\u001b[1;32m--> 776\u001b[0m config_dict, unused_kwargs \u001b[38;5;241m=\u001b[39m PretrainedConfig\u001b[38;5;241m.\u001b[39mget_config_dict(pretrained_model_name_or_path, \u001b[38;5;241m*\u001b[39m\u001b[38;5;241m*\u001b[39mkwargs)\n\u001b[0;32m    777\u001b[0m \u001b[38;5;28;01mif\u001b[39;00m \u001b[38;5;124m\"\u001b[39m\u001b[38;5;124mauto_map\u001b[39m\u001b[38;5;124m\"\u001b[39m \u001b[38;5;129;01min\u001b[39;00m config_dict \u001b[38;5;129;01mand\u001b[39;00m \u001b[38;5;124m\"\u001b[39m\u001b[38;5;124mAutoConfig\u001b[39m\u001b[38;5;124m\"\u001b[39m \u001b[38;5;129;01min\u001b[39;00m config_dict[\u001b[38;5;124m\"\u001b[39m\u001b[38;5;124mauto_map\u001b[39m\u001b[38;5;124m\"\u001b[39m]:\n\u001b[0;32m    778\u001b[0m     \u001b[38;5;28;01mif\u001b[39;00m \u001b[38;5;129;01mnot\u001b[39;00m trust_remote_code:\n",
      "File \u001b[1;32mc:\\Users\\arthu\\anaconda3\\envs\\NLP2023\\lib\\site-packages\\transformers\\configuration_utils.py:559\u001b[0m, in \u001b[0;36mPretrainedConfig.get_config_dict\u001b[1;34m(cls, pretrained_model_name_or_path, **kwargs)\u001b[0m\n\u001b[0;32m    557\u001b[0m original_kwargs \u001b[38;5;241m=\u001b[39m copy\u001b[38;5;241m.\u001b[39mdeepcopy(kwargs)\n\u001b[0;32m    558\u001b[0m \u001b[38;5;66;03m# Get config dict associated with the base config file\u001b[39;00m\n\u001b[1;32m--> 559\u001b[0m config_dict, kwargs \u001b[38;5;241m=\u001b[39m \u001b[38;5;28mcls\u001b[39m\u001b[38;5;241m.\u001b[39m_get_config_dict(pretrained_model_name_or_path, \u001b[38;5;241m*\u001b[39m\u001b[38;5;241m*\u001b[39mkwargs)\n\u001b[0;32m    560\u001b[0m \u001b[38;5;28;01mif\u001b[39;00m \u001b[38;5;124m\"\u001b[39m\u001b[38;5;124m_commit_hash\u001b[39m\u001b[38;5;124m\"\u001b[39m \u001b[38;5;129;01min\u001b[39;00m config_dict:\n\u001b[0;32m    561\u001b[0m     original_kwargs[\u001b[38;5;124m\"\u001b[39m\u001b[38;5;124m_commit_hash\u001b[39m\u001b[38;5;124m\"\u001b[39m] \u001b[38;5;241m=\u001b[39m config_dict[\u001b[38;5;124m\"\u001b[39m\u001b[38;5;124m_commit_hash\u001b[39m\u001b[38;5;124m\"\u001b[39m]\n",
      "File \u001b[1;32mc:\\Users\\arthu\\anaconda3\\envs\\NLP2023\\lib\\site-packages\\transformers\\configuration_utils.py:614\u001b[0m, in \u001b[0;36mPretrainedConfig._get_config_dict\u001b[1;34m(cls, pretrained_model_name_or_path, **kwargs)\u001b[0m\n\u001b[0;32m    610\u001b[0m configuration_file \u001b[38;5;241m=\u001b[39m kwargs\u001b[38;5;241m.\u001b[39mpop(\u001b[38;5;124m\"\u001b[39m\u001b[38;5;124m_configuration_file\u001b[39m\u001b[38;5;124m\"\u001b[39m, CONFIG_NAME)\n\u001b[0;32m    612\u001b[0m \u001b[38;5;28;01mtry\u001b[39;00m:\n\u001b[0;32m    613\u001b[0m     \u001b[38;5;66;03m# Load from local folder or from cache or download from model Hub and cache\u001b[39;00m\n\u001b[1;32m--> 614\u001b[0m     resolved_config_file \u001b[38;5;241m=\u001b[39m \u001b[43mcached_file\u001b[49m\u001b[43m(\u001b[49m\n\u001b[0;32m    615\u001b[0m \u001b[43m        \u001b[49m\u001b[43mpretrained_model_name_or_path\u001b[49m\u001b[43m,\u001b[49m\n\u001b[0;32m    616\u001b[0m \u001b[43m        \u001b[49m\u001b[43mconfiguration_file\u001b[49m\u001b[43m,\u001b[49m\n\u001b[0;32m    617\u001b[0m \u001b[43m        \u001b[49m\u001b[43mcache_dir\u001b[49m\u001b[38;5;241;43m=\u001b[39;49m\u001b[43mcache_dir\u001b[49m\u001b[43m,\u001b[49m\n\u001b[0;32m    618\u001b[0m \u001b[43m        \u001b[49m\u001b[43mforce_download\u001b[49m\u001b[38;5;241;43m=\u001b[39;49m\u001b[43mforce_download\u001b[49m\u001b[43m,\u001b[49m\n\u001b[0;32m    619\u001b[0m \u001b[43m        \u001b[49m\u001b[43mproxies\u001b[49m\u001b[38;5;241;43m=\u001b[39;49m\u001b[43mproxies\u001b[49m\u001b[43m,\u001b[49m\n\u001b[0;32m    620\u001b[0m \u001b[43m        \u001b[49m\u001b[43mresume_download\u001b[49m\u001b[38;5;241;43m=\u001b[39;49m\u001b[43mresume_download\u001b[49m\u001b[43m,\u001b[49m\n\u001b[0;32m    621\u001b[0m \u001b[43m        \u001b[49m\u001b[43mlocal_files_only\u001b[49m\u001b[38;5;241;43m=\u001b[39;49m\u001b[43mlocal_files_only\u001b[49m\u001b[43m,\u001b[49m\n\u001b[0;32m    622\u001b[0m \u001b[43m        \u001b[49m\u001b[43muse_auth_token\u001b[49m\u001b[38;5;241;43m=\u001b[39;49m\u001b[43muse_auth_token\u001b[49m\u001b[43m,\u001b[49m\n\u001b[0;32m    623\u001b[0m \u001b[43m        \u001b[49m\u001b[43muser_agent\u001b[49m\u001b[38;5;241;43m=\u001b[39;49m\u001b[43muser_agent\u001b[49m\u001b[43m,\u001b[49m\n\u001b[0;32m    624\u001b[0m \u001b[43m        \u001b[49m\u001b[43mrevision\u001b[49m\u001b[38;5;241;43m=\u001b[39;49m\u001b[43mrevision\u001b[49m\u001b[43m,\u001b[49m\n\u001b[0;32m    625\u001b[0m \u001b[43m        \u001b[49m\u001b[43msubfolder\u001b[49m\u001b[38;5;241;43m=\u001b[39;49m\u001b[43msubfolder\u001b[49m\u001b[43m,\u001b[49m\n\u001b[0;32m    626\u001b[0m \u001b[43m        \u001b[49m\u001b[43m_commit_hash\u001b[49m\u001b[38;5;241;43m=\u001b[39;49m\u001b[43mcommit_hash\u001b[49m\u001b[43m,\u001b[49m\n\u001b[0;32m    627\u001b[0m \u001b[43m    \u001b[49m\u001b[43m)\u001b[49m\n\u001b[0;32m    628\u001b[0m     commit_hash \u001b[38;5;241m=\u001b[39m extract_commit_hash(resolved_config_file, commit_hash)\n\u001b[0;32m    629\u001b[0m \u001b[38;5;28;01mexcept\u001b[39;00m \u001b[38;5;167;01mEnvironmentError\u001b[39;00m:\n\u001b[0;32m    630\u001b[0m     \u001b[38;5;66;03m# Raise any environment error raise by `cached_file`. It will have a helpful error message adapted to\u001b[39;00m\n\u001b[0;32m    631\u001b[0m     \u001b[38;5;66;03m# the original exception.\u001b[39;00m\n",
      "File \u001b[1;32mc:\\Users\\arthu\\anaconda3\\envs\\NLP2023\\lib\\site-packages\\transformers\\utils\\hub.py:424\u001b[0m, in \u001b[0;36mcached_file\u001b[1;34m(path_or_repo_id, filename, cache_dir, force_download, resume_download, proxies, use_auth_token, revision, local_files_only, subfolder, user_agent, _raise_exceptions_for_missing_entries, _raise_exceptions_for_connection_errors, _commit_hash)\u001b[0m\n\u001b[0;32m    409\u001b[0m     resolved_file \u001b[38;5;241m=\u001b[39m hf_hub_download(\n\u001b[0;32m    410\u001b[0m         path_or_repo_id,\n\u001b[0;32m    411\u001b[0m         filename,\n\u001b[1;32m   (...)\u001b[0m\n\u001b[0;32m    420\u001b[0m         local_files_only\u001b[38;5;241m=\u001b[39mlocal_files_only,\n\u001b[0;32m    421\u001b[0m     )\n\u001b[0;32m    423\u001b[0m \u001b[38;5;28;01mexcept\u001b[39;00m RepositoryNotFoundError:\n\u001b[1;32m--> 424\u001b[0m     \u001b[38;5;28;01mraise\u001b[39;00m \u001b[38;5;167;01mEnvironmentError\u001b[39;00m(\n\u001b[0;32m    425\u001b[0m         \u001b[38;5;124mf\u001b[39m\u001b[38;5;124m\"\u001b[39m\u001b[38;5;132;01m{\u001b[39;00mpath_or_repo_id\u001b[38;5;132;01m}\u001b[39;00m\u001b[38;5;124m is not a local folder and is not a valid model identifier \u001b[39m\u001b[38;5;124m\"\u001b[39m\n\u001b[0;32m    426\u001b[0m         \u001b[38;5;124m\"\u001b[39m\u001b[38;5;124mlisted on \u001b[39m\u001b[38;5;124m'\u001b[39m\u001b[38;5;124mhttps://huggingface.co/models\u001b[39m\u001b[38;5;124m'\u001b[39m\u001b[38;5;130;01m\\n\u001b[39;00m\u001b[38;5;124mIf this is a private repository, make sure to \u001b[39m\u001b[38;5;124m\"\u001b[39m\n\u001b[0;32m    427\u001b[0m         \u001b[38;5;124m\"\u001b[39m\u001b[38;5;124mpass a token having permission to this repo with `use_auth_token` or log in with \u001b[39m\u001b[38;5;124m\"\u001b[39m\n\u001b[0;32m    428\u001b[0m         \u001b[38;5;124m\"\u001b[39m\u001b[38;5;124m`huggingface-cli login` and pass `use_auth_token=True`.\u001b[39m\u001b[38;5;124m\"\u001b[39m\n\u001b[0;32m    429\u001b[0m     )\n\u001b[0;32m    430\u001b[0m \u001b[38;5;28;01mexcept\u001b[39;00m RevisionNotFoundError:\n\u001b[0;32m    431\u001b[0m     \u001b[38;5;28;01mraise\u001b[39;00m \u001b[38;5;167;01mEnvironmentError\u001b[39;00m(\n\u001b[0;32m    432\u001b[0m         \u001b[38;5;124mf\u001b[39m\u001b[38;5;124m\"\u001b[39m\u001b[38;5;132;01m{\u001b[39;00mrevision\u001b[38;5;132;01m}\u001b[39;00m\u001b[38;5;124m is not a valid git identifier (branch name, tag name or commit id) that exists \u001b[39m\u001b[38;5;124m\"\u001b[39m\n\u001b[0;32m    433\u001b[0m         \u001b[38;5;124m\"\u001b[39m\u001b[38;5;124mfor this model name. Check the model page at \u001b[39m\u001b[38;5;124m\"\u001b[39m\n\u001b[0;32m    434\u001b[0m         \u001b[38;5;124mf\u001b[39m\u001b[38;5;124m\"\u001b[39m\u001b[38;5;124m'\u001b[39m\u001b[38;5;124mhttps://huggingface.co/\u001b[39m\u001b[38;5;132;01m{\u001b[39;00mpath_or_repo_id\u001b[38;5;132;01m}\u001b[39;00m\u001b[38;5;124m'\u001b[39m\u001b[38;5;124m for available revisions.\u001b[39m\u001b[38;5;124m\"\u001b[39m\n\u001b[0;32m    435\u001b[0m     )\n",
      "\u001b[1;31mOSError\u001b[0m: auto_tagger is not a local folder and is not a valid model identifier listed on 'https://huggingface.co/models'\nIf this is a private repository, make sure to pass a token having permission to this repo with `use_auth_token` or log in with `huggingface-cli login` and pass `use_auth_token=True`."
     ]
    }
   ],
   "source": [
    "# Load the auto_tagger model\n",
    "from transformers import pipeline\n",
    "assistive_auto_tagger = pipeline(\n",
    "    \"token-classification\",\n",
    "    model='auto_tagger',\n",
    "    aggregation_strategy=\"average\",\n",
    "    ignore_labels=[\"\"],\n",
    "    device=0\n",
    ")"
   ]
  },
  {
   "cell_type": "code",
   "execution_count": 26,
   "metadata": {},
   "outputs": [
    {
     "name": "stderr",
     "output_type": "stream",
     "text": [
      "c:\\Users\\arthu\\anaconda3\\envs\\NLP22\\lib\\site-packages\\transformers\\pipelines\\base.py:1043: UserWarning: You seem to be using the pipelines sequentially on GPU. In order to maximize efficiency please use a dataset\n",
      "  warnings.warn(\n"
     ]
    }
   ],
   "source": [
    "# Run the sentences through our NER tagging model\n",
    "df_unique_sentences['tagged_entities'] = df_unique_sentences['sentence'].apply(lambda x: assistive_auto_tagger(x[:512]))"
   ]
  },
  {
   "cell_type": "code",
   "execution_count": 27,
   "metadata": {},
   "outputs": [
    {
     "data": {
      "text/plain": [
       "2     [{'entity_group': 'O', 'score': 0.7762933, 'word': 'Conceder à servidora', 'start': 0, 'end': 20}, {'entity_group': 'PERSON', 'score': 0.6477044, 'word': 'LISIANE RAMOS VILK', 'start': 21, 'end': 39}, {'entity_group': 'O', 'score': 0.76407486, 'word': ', ocupante do cargo de Administrador de Edifícios - 701400, lotada na Faculdade de Arquitetura, SIAPE 2325261, o percentual de 25 % ( vinte e cinco por cento ) de Incentivo à Qualificação, a contar de 15 / 07 / 2016, tendo em vista a conclusão do curso de Graduação em Administração - Bacharelado, conforme o Processo nº 23078. 015333 / 2016 - 19.', 'start': 39, 'end': 374}]                                                                                          \n",
       "3     [{'entity_group': 'PERSON', 'score': 0.6592996, 'word': 'MAURÍCIO VIÉGAS DA SILVA', 'start': 0, 'end': 24}, {'entity_group': 'O', 'score': 0.38087556, 'word': 'Pró - Reitor de Gestão de Pessoas', 'start': 25, 'end': 56}]                                                                                                                                                                                                                                                                                                                                                                                                                                                                                                                  \n",
       "6     [{'entity_group': 'O', 'score': 0.68199015, 'word': 'Autorizar o afastamento do país de', 'start': 0, 'end': 34}, {'entity_group': 'PERSON', 'score': 0.61941856, 'word': 'CRISTINE MARIA WARMLING', 'start': 35, 'end': 58}, {'entity_group': 'O', 'score': 0.658246, 'word': ', Professor do Magistério Superior, lotada e em exercício no Departamento de Odontologia Preventiva e Social da Faculdade de Odontologia, com a finalidade de participar do \" 3ème Congrès de la Societé Internationale d'Ergologie \", em Aix - en - Provence - França, no período compreendido entre 28 / 08 / 2016 e 01 / 09 / 2016, com ônus limitado.', 'start': 58, 'end': 389}]                                                                         \n",
       "8     [{'entity_group': 'PERSON', 'score': 0.63235503, 'word': 'CARLOS ALEXANDRE NETTO', 'start': 0, 'end': 22}, {'entity_group': 'O', 'score': 0.418368, 'word': 'Reitor', 'start': 23, 'end': 29}]                                                                                                                                                                                                                                                                                                                                                                                                                                                                                                                                                \n",
       "11    [{'entity_group': 'O', 'score': 0.6808941, 'word': 'Autorizar o afastamento do país de', 'start': 0, 'end': 34}, {'entity_group': 'PERSON', 'score': 0.60456276, 'word': 'ANDRE DIAS MORTARI', 'start': 35, 'end': 53}, {'entity_group': 'O', 'score': 0.72398305, 'word': ', Assistente em Administração, lotado e em exercício na Escola de Administração, com a finalidade de participar do \" IV Congreso Internacional Red Pilares \", em Cartagena - Colombia, no período compreendido entre 29 / 08 / 2016 e 02 / 09 / 2016, com ônus limitado.', 'start': 53, 'end': 307}]                                                                                                                                                              \n",
       "16    [{'entity_group': 'O', 'score': 0.6392899, 'word': 'Autorizar o afastamento do país de', 'start': 0, 'end': 34}, {'entity_group': 'PERSON', 'score': 0.5608771, 'word': 'RAFAEL ROESLER', 'start': 35, 'end': 49}, {'entity_group': 'O', 'score': 0.6561524, 'word': ', Professor do Maigstério Superior, lotado e em exercício no Departamento de Farmacologia do Instituto de Ciências Básicas da Saúde, com a finalidade de participar de reunião na University of Nottingham - Inglaterra, no período compreendido entre 02 / 09 / 2016 e 10 / 09 / 2016, com limitado.', 'start': 49, 'end': 334}]                                                                                                                                       \n",
       "21    [{'entity_group': 'O', 'score': 0.64358884, 'word': 'Autorizar o afastamento do país de', 'start': 0, 'end': 34}, {'entity_group': 'PERSON', 'score': 0.5395642, 'word': 'HUGO VERLI', 'start': 35, 'end': 45}, {'entity_group': 'O', 'score': 0.67099774, 'word': ', Professor do Magistério Superior, lotado e em exercício no Departamento de Biologia Molecular e Biotecnologia do Instituto de Biociências, com a finalidade de participar de reunião na University of Nottingham - Inglaterra, no período compreendido entre 02 / 09 / 2016 e 09 / 09 / 2016, com ônus limitado.', 'start': 45, 'end': 343}]                                                                                                                            \n",
       "26    [{'entity_group': 'O', 'score': 0.6943858, 'word': 'Autorizar o afastamento do país de', 'start': 0, 'end': 34}, {'entity_group': 'PERSON', 'score': 0.60998976, 'word': 'ANGELA TEREZINHA DE SOUZA WYSE', 'start': 35, 'end': 65}, {'entity_group': 'O', 'score': 0.6728233, 'word': ', Professor do Magistério Superior, lotada e em exercício no Departamento de Bioquímica do Instituto de Biociências, com a finalidade de participar do \" Annual Sympoisum of the Society for the Study of Inborn Errors of Metabolism \", em Roma - Itália, no período compreendido entre 03 / 09 / 2016 a 12 / 09 / 2016, com ônus pelo Programa de Pós - Graduação em Ciências Biológicas : Bioquímica.', 'start': 65, 'end': 444}]                   \n",
       "31    [{'entity_group': 'O', 'score': 0.773804, 'word': 'Alterar, a partir da data deste ato, por prazo indeterminado, o regime de trabalho de Dedicação Exclusiva para 40 horas semanais, atribuído à Professora', 'start': 0, 'end': 152}, {'entity_group': 'PERSON', 'score': 0.57133, 'word': 'LIANE ESTEVES DAUDT', 'start': 153, 'end': 172}, {'entity_group': 'O', 'score': 0.83912003, 'word': ', com lotação e exercício no ( a ) Departamento de Pediatria desta Universidade, conforme o disposto no parágrafo 2º do artigo 14 do Anexo ao Decreto nº 94. 664, de 23 de julho de 1987 e Decisão nº 31 / 93, do Conselho Universitário, alterada pela Decisão nº 391 / 07 e 473 / 10 e Lei n° 12. 772 / 2012.', 'start': 172, 'end': 462}]\n",
       "33    [{'entity_group': 'PERSON', 'score': 0.70707136, 'word': 'RUI VICENTE OPPERMANN', 'start': 0, 'end': 21}, {'entity_group': 'O', 'score': 0.42353082, 'word': 'Vice - Reitor', 'start': 22, 'end': 33}]                                                                                                                                                                                                                                                                                                                                                                                                                                                                                                                                        \n",
       "Name: tagged_entities, dtype: object"
      ]
     },
     "execution_count": 27,
     "metadata": {},
     "output_type": "execute_result"
    }
   ],
   "source": [
    "df_unique_sentences['tagged_entities'].head(10)"
   ]
  },
  {
   "cell_type": "code",
   "execution_count": null,
   "metadata": {},
   "outputs": [
    {
     "name": "stderr",
     "output_type": "stream",
     "text": [
      "c:\\Users\\arthu\\anaconda3\\envs\\NLP22\\lib\\site-packages\\transformers\\pipelines\\base.py:1043: UserWarning: You seem to be using the pipelines sequentially on GPU. In order to maximize efficiency please use a dataset\n",
      "  warnings.warn(\n"
     ]
    }
   ],
   "source": [
    "# Run the sentences through our NER tagging model\n",
    "df_unique_sentences['tagged_entities'] = df_unique_sentences['sentence'].apply(lambda x: assistive_auto_tagger(x[:512]))"
   ]
  },
  {
   "cell_type": "code",
   "execution_count": null,
   "metadata": {},
   "outputs": [
    {
     "data": {
      "text/plain": [
       "2     [{'entity_group': 'O', 'score': 0.7762933, 'word': 'Conceder à servidora', 'start': 0, 'end': 20}, {'entity_group': 'PERSON', 'score': 0.6477044, 'word': 'LISIANE RAMOS VILK', 'start': 21, 'end': 39}, {'entity_group': 'O', 'score': 0.76407486, 'word': ', ocupante do cargo de Administrador de Edifícios - 701400, lotada na Faculdade de Arquitetura, SIAPE 2325261, o percentual de 25 % ( vinte e cinco por cento ) de Incentivo à Qualificação, a contar de 15 / 07 / 2016, tendo em vista a conclusão do curso de Graduação em Administração - Bacharelado, conforme o Processo nº 23078. 015333 / 2016 - 19.', 'start': 39, 'end': 374}]                                                                                          \n",
       "3     [{'entity_group': 'PERSON', 'score': 0.6592996, 'word': 'MAURÍCIO VIÉGAS DA SILVA', 'start': 0, 'end': 24}, {'entity_group': 'O', 'score': 0.38087556, 'word': 'Pró - Reitor de Gestão de Pessoas', 'start': 25, 'end': 56}]                                                                                                                                                                                                                                                                                                                                                                                                                                                                                                                  \n",
       "6     [{'entity_group': 'O', 'score': 0.68199015, 'word': 'Autorizar o afastamento do país de', 'start': 0, 'end': 34}, {'entity_group': 'PERSON', 'score': 0.61941856, 'word': 'CRISTINE MARIA WARMLING', 'start': 35, 'end': 58}, {'entity_group': 'O', 'score': 0.658246, 'word': ', Professor do Magistério Superior, lotada e em exercício no Departamento de Odontologia Preventiva e Social da Faculdade de Odontologia, com a finalidade de participar do \" 3ème Congrès de la Societé Internationale d'Ergologie \", em Aix - en - Provence - França, no período compreendido entre 28 / 08 / 2016 e 01 / 09 / 2016, com ônus limitado.', 'start': 58, 'end': 389}]                                                                         \n",
       "8     [{'entity_group': 'PERSON', 'score': 0.63235503, 'word': 'CARLOS ALEXANDRE NETTO', 'start': 0, 'end': 22}, {'entity_group': 'O', 'score': 0.418368, 'word': 'Reitor', 'start': 23, 'end': 29}]                                                                                                                                                                                                                                                                                                                                                                                                                                                                                                                                                \n",
       "11    [{'entity_group': 'O', 'score': 0.6808941, 'word': 'Autorizar o afastamento do país de', 'start': 0, 'end': 34}, {'entity_group': 'PERSON', 'score': 0.60456276, 'word': 'ANDRE DIAS MORTARI', 'start': 35, 'end': 53}, {'entity_group': 'O', 'score': 0.72398305, 'word': ', Assistente em Administração, lotado e em exercício na Escola de Administração, com a finalidade de participar do \" IV Congreso Internacional Red Pilares \", em Cartagena - Colombia, no período compreendido entre 29 / 08 / 2016 e 02 / 09 / 2016, com ônus limitado.', 'start': 53, 'end': 307}]                                                                                                                                                              \n",
       "16    [{'entity_group': 'O', 'score': 0.6392899, 'word': 'Autorizar o afastamento do país de', 'start': 0, 'end': 34}, {'entity_group': 'PERSON', 'score': 0.5608771, 'word': 'RAFAEL ROESLER', 'start': 35, 'end': 49}, {'entity_group': 'O', 'score': 0.6561524, 'word': ', Professor do Maigstério Superior, lotado e em exercício no Departamento de Farmacologia do Instituto de Ciências Básicas da Saúde, com a finalidade de participar de reunião na University of Nottingham - Inglaterra, no período compreendido entre 02 / 09 / 2016 e 10 / 09 / 2016, com limitado.', 'start': 49, 'end': 334}]                                                                                                                                       \n",
       "21    [{'entity_group': 'O', 'score': 0.64358884, 'word': 'Autorizar o afastamento do país de', 'start': 0, 'end': 34}, {'entity_group': 'PERSON', 'score': 0.5395642, 'word': 'HUGO VERLI', 'start': 35, 'end': 45}, {'entity_group': 'O', 'score': 0.67099774, 'word': ', Professor do Magistério Superior, lotado e em exercício no Departamento de Biologia Molecular e Biotecnologia do Instituto de Biociências, com a finalidade de participar de reunião na University of Nottingham - Inglaterra, no período compreendido entre 02 / 09 / 2016 e 09 / 09 / 2016, com ônus limitado.', 'start': 45, 'end': 343}]                                                                                                                            \n",
       "26    [{'entity_group': 'O', 'score': 0.6943858, 'word': 'Autorizar o afastamento do país de', 'start': 0, 'end': 34}, {'entity_group': 'PERSON', 'score': 0.60998976, 'word': 'ANGELA TEREZINHA DE SOUZA WYSE', 'start': 35, 'end': 65}, {'entity_group': 'O', 'score': 0.6728233, 'word': ', Professor do Magistério Superior, lotada e em exercício no Departamento de Bioquímica do Instituto de Biociências, com a finalidade de participar do \" Annual Sympoisum of the Society for the Study of Inborn Errors of Metabolism \", em Roma - Itália, no período compreendido entre 03 / 09 / 2016 a 12 / 09 / 2016, com ônus pelo Programa de Pós - Graduação em Ciências Biológicas : Bioquímica.', 'start': 65, 'end': 444}]                   \n",
       "31    [{'entity_group': 'O', 'score': 0.773804, 'word': 'Alterar, a partir da data deste ato, por prazo indeterminado, o regime de trabalho de Dedicação Exclusiva para 40 horas semanais, atribuído à Professora', 'start': 0, 'end': 152}, {'entity_group': 'PERSON', 'score': 0.57133, 'word': 'LIANE ESTEVES DAUDT', 'start': 153, 'end': 172}, {'entity_group': 'O', 'score': 0.83912003, 'word': ', com lotação e exercício no ( a ) Departamento de Pediatria desta Universidade, conforme o disposto no parágrafo 2º do artigo 14 do Anexo ao Decreto nº 94. 664, de 23 de julho de 1987 e Decisão nº 31 / 93, do Conselho Universitário, alterada pela Decisão nº 391 / 07 e 473 / 10 e Lei n° 12. 772 / 2012.', 'start': 172, 'end': 462}]\n",
       "33    [{'entity_group': 'PERSON', 'score': 0.70707136, 'word': 'RUI VICENTE OPPERMANN', 'start': 0, 'end': 21}, {'entity_group': 'O', 'score': 0.42353082, 'word': 'Vice - Reitor', 'start': 22, 'end': 33}]                                                                                                                                                                                                                                                                                                                                                                                                                                                                                                                                        \n",
       "Name: tagged_entities, dtype: object"
      ]
     },
     "metadata": {},
     "output_type": "display_data"
    }
   ],
   "source": [
    "df_unique_sentences['tagged_entities'].head(10)"
   ]
  },
  {
   "cell_type": "code",
   "execution_count": null,
   "metadata": {},
   "outputs": [
    {
     "name": "stderr",
     "output_type": "stream",
     "text": [
      "c:\\Users\\arthu\\anaconda3\\envs\\NLP22\\lib\\site-packages\\transformers\\pipelines\\base.py:1043: UserWarning: You seem to be using the pipelines sequentially on GPU. In order to maximize efficiency please use a dataset\n",
      "  warnings.warn(\n"
     ]
    }
   ],
   "source": [
    "# Run the sentences through our NER tagging model\n",
    "df_unique_sentences['tagged_entities'] = df_unique_sentences['sentence'].apply(lambda x: assistive_auto_tagger(x[:512]))"
   ]
  },
  {
   "cell_type": "code",
   "execution_count": null,
   "metadata": {},
   "outputs": [
    {
     "data": {
      "text/plain": [
       "2     [{'entity_group': 'O', 'score': 0.7762933, 'word': 'Conceder à servidora', 'start': 0, 'end': 20}, {'entity_group': 'PERSON', 'score': 0.6477044, 'word': 'LISIANE RAMOS VILK', 'start': 21, 'end': 39}, {'entity_group': 'O', 'score': 0.76407486, 'word': ', ocupante do cargo de Administrador de Edifícios - 701400, lotada na Faculdade de Arquitetura, SIAPE 2325261, o percentual de 25 % ( vinte e cinco por cento ) de Incentivo à Qualificação, a contar de 15 / 07 / 2016, tendo em vista a conclusão do curso de Graduação em Administração - Bacharelado, conforme o Processo nº 23078. 015333 / 2016 - 19.', 'start': 39, 'end': 374}]                                                                                          \n",
       "3     [{'entity_group': 'PERSON', 'score': 0.6592996, 'word': 'MAURÍCIO VIÉGAS DA SILVA', 'start': 0, 'end': 24}, {'entity_group': 'O', 'score': 0.38087556, 'word': 'Pró - Reitor de Gestão de Pessoas', 'start': 25, 'end': 56}]                                                                                                                                                                                                                                                                                                                                                                                                                                                                                                                  \n",
       "6     [{'entity_group': 'O', 'score': 0.68199015, 'word': 'Autorizar o afastamento do país de', 'start': 0, 'end': 34}, {'entity_group': 'PERSON', 'score': 0.61941856, 'word': 'CRISTINE MARIA WARMLING', 'start': 35, 'end': 58}, {'entity_group': 'O', 'score': 0.658246, 'word': ', Professor do Magistério Superior, lotada e em exercício no Departamento de Odontologia Preventiva e Social da Faculdade de Odontologia, com a finalidade de participar do \" 3ème Congrès de la Societé Internationale d'Ergologie \", em Aix - en - Provence - França, no período compreendido entre 28 / 08 / 2016 e 01 / 09 / 2016, com ônus limitado.', 'start': 58, 'end': 389}]                                                                         \n",
       "8     [{'entity_group': 'PERSON', 'score': 0.63235503, 'word': 'CARLOS ALEXANDRE NETTO', 'start': 0, 'end': 22}, {'entity_group': 'O', 'score': 0.418368, 'word': 'Reitor', 'start': 23, 'end': 29}]                                                                                                                                                                                                                                                                                                                                                                                                                                                                                                                                                \n",
       "11    [{'entity_group': 'O', 'score': 0.6808941, 'word': 'Autorizar o afastamento do país de', 'start': 0, 'end': 34}, {'entity_group': 'PERSON', 'score': 0.60456276, 'word': 'ANDRE DIAS MORTARI', 'start': 35, 'end': 53}, {'entity_group': 'O', 'score': 0.72398305, 'word': ', Assistente em Administração, lotado e em exercício na Escola de Administração, com a finalidade de participar do \" IV Congreso Internacional Red Pilares \", em Cartagena - Colombia, no período compreendido entre 29 / 08 / 2016 e 02 / 09 / 2016, com ônus limitado.', 'start': 53, 'end': 307}]                                                                                                                                                              \n",
       "16    [{'entity_group': 'O', 'score': 0.6392899, 'word': 'Autorizar o afastamento do país de', 'start': 0, 'end': 34}, {'entity_group': 'PERSON', 'score': 0.5608771, 'word': 'RAFAEL ROESLER', 'start': 35, 'end': 49}, {'entity_group': 'O', 'score': 0.6561524, 'word': ', Professor do Maigstério Superior, lotado e em exercício no Departamento de Farmacologia do Instituto de Ciências Básicas da Saúde, com a finalidade de participar de reunião na University of Nottingham - Inglaterra, no período compreendido entre 02 / 09 / 2016 e 10 / 09 / 2016, com limitado.', 'start': 49, 'end': 334}]                                                                                                                                       \n",
       "21    [{'entity_group': 'O', 'score': 0.64358884, 'word': 'Autorizar o afastamento do país de', 'start': 0, 'end': 34}, {'entity_group': 'PERSON', 'score': 0.5395642, 'word': 'HUGO VERLI', 'start': 35, 'end': 45}, {'entity_group': 'O', 'score': 0.67099774, 'word': ', Professor do Magistério Superior, lotado e em exercício no Departamento de Biologia Molecular e Biotecnologia do Instituto de Biociências, com a finalidade de participar de reunião na University of Nottingham - Inglaterra, no período compreendido entre 02 / 09 / 2016 e 09 / 09 / 2016, com ônus limitado.', 'start': 45, 'end': 343}]                                                                                                                            \n",
       "26    [{'entity_group': 'O', 'score': 0.6943858, 'word': 'Autorizar o afastamento do país de', 'start': 0, 'end': 34}, {'entity_group': 'PERSON', 'score': 0.60998976, 'word': 'ANGELA TEREZINHA DE SOUZA WYSE', 'start': 35, 'end': 65}, {'entity_group': 'O', 'score': 0.6728233, 'word': ', Professor do Magistério Superior, lotada e em exercício no Departamento de Bioquímica do Instituto de Biociências, com a finalidade de participar do \" Annual Sympoisum of the Society for the Study of Inborn Errors of Metabolism \", em Roma - Itália, no período compreendido entre 03 / 09 / 2016 a 12 / 09 / 2016, com ônus pelo Programa de Pós - Graduação em Ciências Biológicas : Bioquímica.', 'start': 65, 'end': 444}]                   \n",
       "31    [{'entity_group': 'O', 'score': 0.773804, 'word': 'Alterar, a partir da data deste ato, por prazo indeterminado, o regime de trabalho de Dedicação Exclusiva para 40 horas semanais, atribuído à Professora', 'start': 0, 'end': 152}, {'entity_group': 'PERSON', 'score': 0.57133, 'word': 'LIANE ESTEVES DAUDT', 'start': 153, 'end': 172}, {'entity_group': 'O', 'score': 0.83912003, 'word': ', com lotação e exercício no ( a ) Departamento de Pediatria desta Universidade, conforme o disposto no parágrafo 2º do artigo 14 do Anexo ao Decreto nº 94. 664, de 23 de julho de 1987 e Decisão nº 31 / 93, do Conselho Universitário, alterada pela Decisão nº 391 / 07 e 473 / 10 e Lei n° 12. 772 / 2012.', 'start': 172, 'end': 462}]\n",
       "33    [{'entity_group': 'PERSON', 'score': 0.70707136, 'word': 'RUI VICENTE OPPERMANN', 'start': 0, 'end': 21}, {'entity_group': 'O', 'score': 0.42353082, 'word': 'Vice - Reitor', 'start': 22, 'end': 33}]                                                                                                                                                                                                                                                                                                                                                                                                                                                                                                                                        \n",
       "Name: tagged_entities, dtype: object"
      ]
     },
     "metadata": {},
     "output_type": "display_data"
    }
   ],
   "source": [
    "df_unique_sentences['tagged_entities'].head(10)"
   ]
  },
  {
   "cell_type": "code",
   "execution_count": null,
   "metadata": {},
   "outputs": [
    {
     "data": {
      "text/plain": [
       "2     [{'entity_group': 'O', 'score': 0.7762933, 'word': 'Conceder à servidora', 'start': 0, 'end': 20}, {'entity_group': 'PERSON', 'score': 0.6477044, 'word': 'LISIANE RAMOS VILK', 'start': 21, 'end': 39}, {'entity_group': 'O', 'score': 0.76407486, 'word': ', ocupante do cargo de Administrador de Edifícios - 701400, lotada na Faculdade de Arquitetura, SIAPE 2325261, o percentual de 25 % ( vinte e cinco por cento ) de Incentivo à Qualificação, a contar de 15 / 07 / 2016, tendo em vista a conclusão do curso de Graduação em Administração - Bacharelado, conforme o Processo nº 23078. 015333 / 2016 - 19.', 'start': 39, 'end': 374}]                                                                                          \n",
       "3     [{'entity_group': 'PERSON', 'score': 0.6592996, 'word': 'MAURÍCIO VIÉGAS DA SILVA', 'start': 0, 'end': 24}, {'entity_group': 'O', 'score': 0.38087556, 'word': 'Pró - Reitor de Gestão de Pessoas', 'start': 25, 'end': 56}]                                                                                                                                                                                                                                                                                                                                                                                                                                                                                                                  \n",
       "6     [{'entity_group': 'O', 'score': 0.68199015, 'word': 'Autorizar o afastamento do país de', 'start': 0, 'end': 34}, {'entity_group': 'PERSON', 'score': 0.61941856, 'word': 'CRISTINE MARIA WARMLING', 'start': 35, 'end': 58}, {'entity_group': 'O', 'score': 0.658246, 'word': ', Professor do Magistério Superior, lotada e em exercício no Departamento de Odontologia Preventiva e Social da Faculdade de Odontologia, com a finalidade de participar do \" 3ème Congrès de la Societé Internationale d'Ergologie \", em Aix - en - Provence - França, no período compreendido entre 28 / 08 / 2016 e 01 / 09 / 2016, com ônus limitado.', 'start': 58, 'end': 389}]                                                                         \n",
       "8     [{'entity_group': 'PERSON', 'score': 0.63235503, 'word': 'CARLOS ALEXANDRE NETTO', 'start': 0, 'end': 22}, {'entity_group': 'O', 'score': 0.418368, 'word': 'Reitor', 'start': 23, 'end': 29}]                                                                                                                                                                                                                                                                                                                                                                                                                                                                                                                                                \n",
       "11    [{'entity_group': 'O', 'score': 0.6808941, 'word': 'Autorizar o afastamento do país de', 'start': 0, 'end': 34}, {'entity_group': 'PERSON', 'score': 0.60456276, 'word': 'ANDRE DIAS MORTARI', 'start': 35, 'end': 53}, {'entity_group': 'O', 'score': 0.72398305, 'word': ', Assistente em Administração, lotado e em exercício na Escola de Administração, com a finalidade de participar do \" IV Congreso Internacional Red Pilares \", em Cartagena - Colombia, no período compreendido entre 29 / 08 / 2016 e 02 / 09 / 2016, com ônus limitado.', 'start': 53, 'end': 307}]                                                                                                                                                              \n",
       "16    [{'entity_group': 'O', 'score': 0.6392899, 'word': 'Autorizar o afastamento do país de', 'start': 0, 'end': 34}, {'entity_group': 'PERSON', 'score': 0.5608771, 'word': 'RAFAEL ROESLER', 'start': 35, 'end': 49}, {'entity_group': 'O', 'score': 0.6561524, 'word': ', Professor do Maigstério Superior, lotado e em exercício no Departamento de Farmacologia do Instituto de Ciências Básicas da Saúde, com a finalidade de participar de reunião na University of Nottingham - Inglaterra, no período compreendido entre 02 / 09 / 2016 e 10 / 09 / 2016, com limitado.', 'start': 49, 'end': 334}]                                                                                                                                       \n",
       "21    [{'entity_group': 'O', 'score': 0.64358884, 'word': 'Autorizar o afastamento do país de', 'start': 0, 'end': 34}, {'entity_group': 'PERSON', 'score': 0.5395642, 'word': 'HUGO VERLI', 'start': 35, 'end': 45}, {'entity_group': 'O', 'score': 0.67099774, 'word': ', Professor do Magistério Superior, lotado e em exercício no Departamento de Biologia Molecular e Biotecnologia do Instituto de Biociências, com a finalidade de participar de reunião na University of Nottingham - Inglaterra, no período compreendido entre 02 / 09 / 2016 e 09 / 09 / 2016, com ônus limitado.', 'start': 45, 'end': 343}]                                                                                                                            \n",
       "26    [{'entity_group': 'O', 'score': 0.6943858, 'word': 'Autorizar o afastamento do país de', 'start': 0, 'end': 34}, {'entity_group': 'PERSON', 'score': 0.60998976, 'word': 'ANGELA TEREZINHA DE SOUZA WYSE', 'start': 35, 'end': 65}, {'entity_group': 'O', 'score': 0.6728233, 'word': ', Professor do Magistério Superior, lotada e em exercício no Departamento de Bioquímica do Instituto de Biociências, com a finalidade de participar do \" Annual Sympoisum of the Society for the Study of Inborn Errors of Metabolism \", em Roma - Itália, no período compreendido entre 03 / 09 / 2016 a 12 / 09 / 2016, com ônus pelo Programa de Pós - Graduação em Ciências Biológicas : Bioquímica.', 'start': 65, 'end': 444}]                   \n",
       "31    [{'entity_group': 'O', 'score': 0.773804, 'word': 'Alterar, a partir da data deste ato, por prazo indeterminado, o regime de trabalho de Dedicação Exclusiva para 40 horas semanais, atribuído à Professora', 'start': 0, 'end': 152}, {'entity_group': 'PERSON', 'score': 0.57133, 'word': 'LIANE ESTEVES DAUDT', 'start': 153, 'end': 172}, {'entity_group': 'O', 'score': 0.83912003, 'word': ', com lotação e exercício no ( a ) Departamento de Pediatria desta Universidade, conforme o disposto no parágrafo 2º do artigo 14 do Anexo ao Decreto nº 94. 664, de 23 de julho de 1987 e Decisão nº 31 / 93, do Conselho Universitário, alterada pela Decisão nº 391 / 07 e 473 / 10 e Lei n° 12. 772 / 2012.', 'start': 172, 'end': 462}]\n",
       "33    [{'entity_group': 'PERSON', 'score': 0.70707136, 'word': 'RUI VICENTE OPPERMANN', 'start': 0, 'end': 21}, {'entity_group': 'O', 'score': 0.42353082, 'word': 'Vice - Reitor', 'start': 22, 'end': 33}]                                                                                                                                                                                                                                                                                                                                                                                                                                                                                                                                        \n",
       "Name: tagged_entities, dtype: object"
      ]
     },
     "metadata": {},
     "output_type": "display_data"
    }
   ],
   "source": [
    "df_unique_sentences['tagged_entities'].head(10)"
   ]
  },
  {
   "cell_type": "code",
   "execution_count": null,
   "metadata": {},
   "outputs": [
    {
     "name": "stderr",
     "output_type": "stream",
     "text": [
      "c:\\Users\\arthu\\anaconda3\\envs\\NLP22\\lib\\site-packages\\transformers\\pipelines\\base.py:1043: UserWarning: You seem to be using the pipelines sequentially on GPU. In order to maximize efficiency please use a dataset\n",
      "  warnings.warn(\n"
     ]
    }
   ],
   "source": [
    "# Run the sentences through our NER tagging model\n",
    "df_unique_sentences['tagged_entities'] = df_unique_sentences['sentence'].apply(lambda x: assistive_auto_tagger(x[:512]))"
   ]
  },
  {
   "cell_type": "code",
   "execution_count": null,
   "metadata": {},
   "outputs": [
    {
     "data": {
      "text/plain": [
       "2     [{'entity_group': 'O', 'score': 0.7762933, 'word': 'Conceder à servidora', 'start': 0, 'end': 20}, {'entity_group': 'PERSON', 'score': 0.6477044, 'word': 'LISIANE RAMOS VILK', 'start': 21, 'end': 39}, {'entity_group': 'O', 'score': 0.76407486, 'word': ', ocupante do cargo de Administrador de Edifícios - 701400, lotada na Faculdade de Arquitetura, SIAPE 2325261, o percentual de 25 % ( vinte e cinco por cento ) de Incentivo à Qualificação, a contar de 15 / 07 / 2016, tendo em vista a conclusão do curso de Graduação em Administração - Bacharelado, conforme o Processo nº 23078. 015333 / 2016 - 19.', 'start': 39, 'end': 374}]                                                                                          \n",
       "3     [{'entity_group': 'PERSON', 'score': 0.6592996, 'word': 'MAURÍCIO VIÉGAS DA SILVA', 'start': 0, 'end': 24}, {'entity_group': 'O', 'score': 0.38087556, 'word': 'Pró - Reitor de Gestão de Pessoas', 'start': 25, 'end': 56}]                                                                                                                                                                                                                                                                                                                                                                                                                                                                                                                  \n",
       "6     [{'entity_group': 'O', 'score': 0.68199015, 'word': 'Autorizar o afastamento do país de', 'start': 0, 'end': 34}, {'entity_group': 'PERSON', 'score': 0.61941856, 'word': 'CRISTINE MARIA WARMLING', 'start': 35, 'end': 58}, {'entity_group': 'O', 'score': 0.658246, 'word': ', Professor do Magistério Superior, lotada e em exercício no Departamento de Odontologia Preventiva e Social da Faculdade de Odontologia, com a finalidade de participar do \" 3ème Congrès de la Societé Internationale d'Ergologie \", em Aix - en - Provence - França, no período compreendido entre 28 / 08 / 2016 e 01 / 09 / 2016, com ônus limitado.', 'start': 58, 'end': 389}]                                                                         \n",
       "8     [{'entity_group': 'PERSON', 'score': 0.63235503, 'word': 'CARLOS ALEXANDRE NETTO', 'start': 0, 'end': 22}, {'entity_group': 'O', 'score': 0.418368, 'word': 'Reitor', 'start': 23, 'end': 29}]                                                                                                                                                                                                                                                                                                                                                                                                                                                                                                                                                \n",
       "11    [{'entity_group': 'O', 'score': 0.6808941, 'word': 'Autorizar o afastamento do país de', 'start': 0, 'end': 34}, {'entity_group': 'PERSON', 'score': 0.60456276, 'word': 'ANDRE DIAS MORTARI', 'start': 35, 'end': 53}, {'entity_group': 'O', 'score': 0.72398305, 'word': ', Assistente em Administração, lotado e em exercício na Escola de Administração, com a finalidade de participar do \" IV Congreso Internacional Red Pilares \", em Cartagena - Colombia, no período compreendido entre 29 / 08 / 2016 e 02 / 09 / 2016, com ônus limitado.', 'start': 53, 'end': 307}]                                                                                                                                                              \n",
       "16    [{'entity_group': 'O', 'score': 0.6392899, 'word': 'Autorizar o afastamento do país de', 'start': 0, 'end': 34}, {'entity_group': 'PERSON', 'score': 0.5608771, 'word': 'RAFAEL ROESLER', 'start': 35, 'end': 49}, {'entity_group': 'O', 'score': 0.6561524, 'word': ', Professor do Maigstério Superior, lotado e em exercício no Departamento de Farmacologia do Instituto de Ciências Básicas da Saúde, com a finalidade de participar de reunião na University of Nottingham - Inglaterra, no período compreendido entre 02 / 09 / 2016 e 10 / 09 / 2016, com limitado.', 'start': 49, 'end': 334}]                                                                                                                                       \n",
       "21    [{'entity_group': 'O', 'score': 0.64358884, 'word': 'Autorizar o afastamento do país de', 'start': 0, 'end': 34}, {'entity_group': 'PERSON', 'score': 0.5395642, 'word': 'HUGO VERLI', 'start': 35, 'end': 45}, {'entity_group': 'O', 'score': 0.67099774, 'word': ', Professor do Magistério Superior, lotado e em exercício no Departamento de Biologia Molecular e Biotecnologia do Instituto de Biociências, com a finalidade de participar de reunião na University of Nottingham - Inglaterra, no período compreendido entre 02 / 09 / 2016 e 09 / 09 / 2016, com ônus limitado.', 'start': 45, 'end': 343}]                                                                                                                            \n",
       "26    [{'entity_group': 'O', 'score': 0.6943858, 'word': 'Autorizar o afastamento do país de', 'start': 0, 'end': 34}, {'entity_group': 'PERSON', 'score': 0.60998976, 'word': 'ANGELA TEREZINHA DE SOUZA WYSE', 'start': 35, 'end': 65}, {'entity_group': 'O', 'score': 0.6728233, 'word': ', Professor do Magistério Superior, lotada e em exercício no Departamento de Bioquímica do Instituto de Biociências, com a finalidade de participar do \" Annual Sympoisum of the Society for the Study of Inborn Errors of Metabolism \", em Roma - Itália, no período compreendido entre 03 / 09 / 2016 a 12 / 09 / 2016, com ônus pelo Programa de Pós - Graduação em Ciências Biológicas : Bioquímica.', 'start': 65, 'end': 444}]                   \n",
       "31    [{'entity_group': 'O', 'score': 0.773804, 'word': 'Alterar, a partir da data deste ato, por prazo indeterminado, o regime de trabalho de Dedicação Exclusiva para 40 horas semanais, atribuído à Professora', 'start': 0, 'end': 152}, {'entity_group': 'PERSON', 'score': 0.57133, 'word': 'LIANE ESTEVES DAUDT', 'start': 153, 'end': 172}, {'entity_group': 'O', 'score': 0.83912003, 'word': ', com lotação e exercício no ( a ) Departamento de Pediatria desta Universidade, conforme o disposto no parágrafo 2º do artigo 14 do Anexo ao Decreto nº 94. 664, de 23 de julho de 1987 e Decisão nº 31 / 93, do Conselho Universitário, alterada pela Decisão nº 391 / 07 e 473 / 10 e Lei n° 12. 772 / 2012.', 'start': 172, 'end': 462}]\n",
       "33    [{'entity_group': 'PERSON', 'score': 0.70707136, 'word': 'RUI VICENTE OPPERMANN', 'start': 0, 'end': 21}, {'entity_group': 'O', 'score': 0.42353082, 'word': 'Vice - Reitor', 'start': 22, 'end': 33}]                                                                                                                                                                                                                                                                                                                                                                                                                                                                                                                                        \n",
       "Name: tagged_entities, dtype: object"
      ]
     },
     "metadata": {},
     "output_type": "display_data"
    }
   ],
   "source": [
    "df_unique_sentences['tagged_entities'].head(10)"
   ]
  },
  {
   "cell_type": "code",
   "execution_count": null,
   "metadata": {},
   "outputs": [
    {
     "name": "stderr",
     "output_type": "stream",
     "text": [
      "c:\\Users\\arthu\\anaconda3\\envs\\NLP22\\lib\\site-packages\\transformers\\pipelines\\base.py:1043: UserWarning: You seem to be using the pipelines sequentially on GPU. In order to maximize efficiency please use a dataset\n",
      "  warnings.warn(\n"
     ]
    }
   ],
   "source": [
    "# Run the sentences through our NER tagging model\n",
    "df_unique_sentences['tagged_entities'] = df_unique_sentences['sentence'].apply(lambda x: assistive_auto_tagger(x[:512]))"
   ]
  },
  {
   "cell_type": "code",
   "execution_count": null,
   "metadata": {},
   "outputs": [
    {
     "data": {
      "text/plain": [
       "2     [{'entity_group': 'O', 'score': 0.7762933, 'word': 'Conceder à servidora', 'start': 0, 'end': 20}, {'entity_group': 'PERSON', 'score': 0.6477044, 'word': 'LISIANE RAMOS VILK', 'start': 21, 'end': 39}, {'entity_group': 'O', 'score': 0.76407486, 'word': ', ocupante do cargo de Administrador de Edifícios - 701400, lotada na Faculdade de Arquitetura, SIAPE 2325261, o percentual de 25 % ( vinte e cinco por cento ) de Incentivo à Qualificação, a contar de 15 / 07 / 2016, tendo em vista a conclusão do curso de Graduação em Administração - Bacharelado, conforme o Processo nº 23078. 015333 / 2016 - 19.', 'start': 39, 'end': 374}]                                                                                          \n",
       "3     [{'entity_group': 'PERSON', 'score': 0.6592996, 'word': 'MAURÍCIO VIÉGAS DA SILVA', 'start': 0, 'end': 24}, {'entity_group': 'O', 'score': 0.38087556, 'word': 'Pró - Reitor de Gestão de Pessoas', 'start': 25, 'end': 56}]                                                                                                                                                                                                                                                                                                                                                                                                                                                                                                                  \n",
       "6     [{'entity_group': 'O', 'score': 0.68199015, 'word': 'Autorizar o afastamento do país de', 'start': 0, 'end': 34}, {'entity_group': 'PERSON', 'score': 0.61941856, 'word': 'CRISTINE MARIA WARMLING', 'start': 35, 'end': 58}, {'entity_group': 'O', 'score': 0.658246, 'word': ', Professor do Magistério Superior, lotada e em exercício no Departamento de Odontologia Preventiva e Social da Faculdade de Odontologia, com a finalidade de participar do \" 3ème Congrès de la Societé Internationale d'Ergologie \", em Aix - en - Provence - França, no período compreendido entre 28 / 08 / 2016 e 01 / 09 / 2016, com ônus limitado.', 'start': 58, 'end': 389}]                                                                         \n",
       "8     [{'entity_group': 'PERSON', 'score': 0.63235503, 'word': 'CARLOS ALEXANDRE NETTO', 'start': 0, 'end': 22}, {'entity_group': 'O', 'score': 0.418368, 'word': 'Reitor', 'start': 23, 'end': 29}]                                                                                                                                                                                                                                                                                                                                                                                                                                                                                                                                                \n",
       "11    [{'entity_group': 'O', 'score': 0.6808941, 'word': 'Autorizar o afastamento do país de', 'start': 0, 'end': 34}, {'entity_group': 'PERSON', 'score': 0.60456276, 'word': 'ANDRE DIAS MORTARI', 'start': 35, 'end': 53}, {'entity_group': 'O', 'score': 0.72398305, 'word': ', Assistente em Administração, lotado e em exercício na Escola de Administração, com a finalidade de participar do \" IV Congreso Internacional Red Pilares \", em Cartagena - Colombia, no período compreendido entre 29 / 08 / 2016 e 02 / 09 / 2016, com ônus limitado.', 'start': 53, 'end': 307}]                                                                                                                                                              \n",
       "16    [{'entity_group': 'O', 'score': 0.6392899, 'word': 'Autorizar o afastamento do país de', 'start': 0, 'end': 34}, {'entity_group': 'PERSON', 'score': 0.5608771, 'word': 'RAFAEL ROESLER', 'start': 35, 'end': 49}, {'entity_group': 'O', 'score': 0.6561524, 'word': ', Professor do Maigstério Superior, lotado e em exercício no Departamento de Farmacologia do Instituto de Ciências Básicas da Saúde, com a finalidade de participar de reunião na University of Nottingham - Inglaterra, no período compreendido entre 02 / 09 / 2016 e 10 / 09 / 2016, com limitado.', 'start': 49, 'end': 334}]                                                                                                                                       \n",
       "21    [{'entity_group': 'O', 'score': 0.64358884, 'word': 'Autorizar o afastamento do país de', 'start': 0, 'end': 34}, {'entity_group': 'PERSON', 'score': 0.5395642, 'word': 'HUGO VERLI', 'start': 35, 'end': 45}, {'entity_group': 'O', 'score': 0.67099774, 'word': ', Professor do Magistério Superior, lotado e em exercício no Departamento de Biologia Molecular e Biotecnologia do Instituto de Biociências, com a finalidade de participar de reunião na University of Nottingham - Inglaterra, no período compreendido entre 02 / 09 / 2016 e 09 / 09 / 2016, com ônus limitado.', 'start': 45, 'end': 343}]                                                                                                                            \n",
       "26    [{'entity_group': 'O', 'score': 0.6943858, 'word': 'Autorizar o afastamento do país de', 'start': 0, 'end': 34}, {'entity_group': 'PERSON', 'score': 0.60998976, 'word': 'ANGELA TEREZINHA DE SOUZA WYSE', 'start': 35, 'end': 65}, {'entity_group': 'O', 'score': 0.6728233, 'word': ', Professor do Magistério Superior, lotada e em exercício no Departamento de Bioquímica do Instituto de Biociências, com a finalidade de participar do \" Annual Sympoisum of the Society for the Study of Inborn Errors of Metabolism \", em Roma - Itália, no período compreendido entre 03 / 09 / 2016 a 12 / 09 / 2016, com ônus pelo Programa de Pós - Graduação em Ciências Biológicas : Bioquímica.', 'start': 65, 'end': 444}]                   \n",
       "31    [{'entity_group': 'O', 'score': 0.773804, 'word': 'Alterar, a partir da data deste ato, por prazo indeterminado, o regime de trabalho de Dedicação Exclusiva para 40 horas semanais, atribuído à Professora', 'start': 0, 'end': 152}, {'entity_group': 'PERSON', 'score': 0.57133, 'word': 'LIANE ESTEVES DAUDT', 'start': 153, 'end': 172}, {'entity_group': 'O', 'score': 0.83912003, 'word': ', com lotação e exercício no ( a ) Departamento de Pediatria desta Universidade, conforme o disposto no parágrafo 2º do artigo 14 do Anexo ao Decreto nº 94. 664, de 23 de julho de 1987 e Decisão nº 31 / 93, do Conselho Universitário, alterada pela Decisão nº 391 / 07 e 473 / 10 e Lei n° 12. 772 / 2012.', 'start': 172, 'end': 462}]\n",
       "33    [{'entity_group': 'PERSON', 'score': 0.70707136, 'word': 'RUI VICENTE OPPERMANN', 'start': 0, 'end': 21}, {'entity_group': 'O', 'score': 0.42353082, 'word': 'Vice - Reitor', 'start': 22, 'end': 33}]                                                                                                                                                                                                                                                                                                                                                                                                                                                                                                                                        \n",
       "Name: tagged_entities, dtype: object"
      ]
     },
     "metadata": {},
     "output_type": "display_data"
    }
   ],
   "source": [
    "df_unique_sentences['tagged_entities'].head(10)"
   ]
  },
  {
   "cell_type": "code",
   "execution_count": null,
   "metadata": {},
   "outputs": [
    {
     "data": {
      "text/plain": [
       "2     [{'entity_group': 'O', 'score': 0.7762933, 'word': 'Conceder à servidora', 'start': 0, 'end': 20}, {'entity_group': 'PERSON', 'score': 0.6477044, 'word': 'LISIANE RAMOS VILK', 'start': 21, 'end': 39}, {'entity_group': 'O', 'score': 0.76407486, 'word': ', ocupante do cargo de Administrador de Edifícios - 701400, lotada na Faculdade de Arquitetura, SIAPE 2325261, o percentual de 25 % ( vinte e cinco por cento ) de Incentivo à Qualificação, a contar de 15 / 07 / 2016, tendo em vista a conclusão do curso de Graduação em Administração - Bacharelado, conforme o Processo nº 23078. 015333 / 2016 - 19.', 'start': 39, 'end': 374}]                                                                                          \n",
       "3     [{'entity_group': 'PERSON', 'score': 0.6592996, 'word': 'MAURÍCIO VIÉGAS DA SILVA', 'start': 0, 'end': 24}, {'entity_group': 'O', 'score': 0.38087556, 'word': 'Pró - Reitor de Gestão de Pessoas', 'start': 25, 'end': 56}]                                                                                                                                                                                                                                                                                                                                                                                                                                                                                                                  \n",
       "6     [{'entity_group': 'O', 'score': 0.68199015, 'word': 'Autorizar o afastamento do país de', 'start': 0, 'end': 34}, {'entity_group': 'PERSON', 'score': 0.61941856, 'word': 'CRISTINE MARIA WARMLING', 'start': 35, 'end': 58}, {'entity_group': 'O', 'score': 0.658246, 'word': ', Professor do Magistério Superior, lotada e em exercício no Departamento de Odontologia Preventiva e Social da Faculdade de Odontologia, com a finalidade de participar do \" 3ème Congrès de la Societé Internationale d'Ergologie \", em Aix - en - Provence - França, no período compreendido entre 28 / 08 / 2016 e 01 / 09 / 2016, com ônus limitado.', 'start': 58, 'end': 389}]                                                                         \n",
       "8     [{'entity_group': 'PERSON', 'score': 0.63235503, 'word': 'CARLOS ALEXANDRE NETTO', 'start': 0, 'end': 22}, {'entity_group': 'O', 'score': 0.418368, 'word': 'Reitor', 'start': 23, 'end': 29}]                                                                                                                                                                                                                                                                                                                                                                                                                                                                                                                                                \n",
       "11    [{'entity_group': 'O', 'score': 0.6808941, 'word': 'Autorizar o afastamento do país de', 'start': 0, 'end': 34}, {'entity_group': 'PERSON', 'score': 0.60456276, 'word': 'ANDRE DIAS MORTARI', 'start': 35, 'end': 53}, {'entity_group': 'O', 'score': 0.72398305, 'word': ', Assistente em Administração, lotado e em exercício na Escola de Administração, com a finalidade de participar do \" IV Congreso Internacional Red Pilares \", em Cartagena - Colombia, no período compreendido entre 29 / 08 / 2016 e 02 / 09 / 2016, com ônus limitado.', 'start': 53, 'end': 307}]                                                                                                                                                              \n",
       "16    [{'entity_group': 'O', 'score': 0.6392899, 'word': 'Autorizar o afastamento do país de', 'start': 0, 'end': 34}, {'entity_group': 'PERSON', 'score': 0.5608771, 'word': 'RAFAEL ROESLER', 'start': 35, 'end': 49}, {'entity_group': 'O', 'score': 0.6561524, 'word': ', Professor do Maigstério Superior, lotado e em exercício no Departamento de Farmacologia do Instituto de Ciências Básicas da Saúde, com a finalidade de participar de reunião na University of Nottingham - Inglaterra, no período compreendido entre 02 / 09 / 2016 e 10 / 09 / 2016, com limitado.', 'start': 49, 'end': 334}]                                                                                                                                       \n",
       "21    [{'entity_group': 'O', 'score': 0.64358884, 'word': 'Autorizar o afastamento do país de', 'start': 0, 'end': 34}, {'entity_group': 'PERSON', 'score': 0.5395642, 'word': 'HUGO VERLI', 'start': 35, 'end': 45}, {'entity_group': 'O', 'score': 0.67099774, 'word': ', Professor do Magistério Superior, lotado e em exercício no Departamento de Biologia Molecular e Biotecnologia do Instituto de Biociências, com a finalidade de participar de reunião na University of Nottingham - Inglaterra, no período compreendido entre 02 / 09 / 2016 e 09 / 09 / 2016, com ônus limitado.', 'start': 45, 'end': 343}]                                                                                                                            \n",
       "26    [{'entity_group': 'O', 'score': 0.6943858, 'word': 'Autorizar o afastamento do país de', 'start': 0, 'end': 34}, {'entity_group': 'PERSON', 'score': 0.60998976, 'word': 'ANGELA TEREZINHA DE SOUZA WYSE', 'start': 35, 'end': 65}, {'entity_group': 'O', 'score': 0.6728233, 'word': ', Professor do Magistério Superior, lotada e em exercício no Departamento de Bioquímica do Instituto de Biociências, com a finalidade de participar do \" Annual Sympoisum of the Society for the Study of Inborn Errors of Metabolism \", em Roma - Itália, no período compreendido entre 03 / 09 / 2016 a 12 / 09 / 2016, com ônus pelo Programa de Pós - Graduação em Ciências Biológicas : Bioquímica.', 'start': 65, 'end': 444}]                   \n",
       "31    [{'entity_group': 'O', 'score': 0.773804, 'word': 'Alterar, a partir da data deste ato, por prazo indeterminado, o regime de trabalho de Dedicação Exclusiva para 40 horas semanais, atribuído à Professora', 'start': 0, 'end': 152}, {'entity_group': 'PERSON', 'score': 0.57133, 'word': 'LIANE ESTEVES DAUDT', 'start': 153, 'end': 172}, {'entity_group': 'O', 'score': 0.83912003, 'word': ', com lotação e exercício no ( a ) Departamento de Pediatria desta Universidade, conforme o disposto no parágrafo 2º do artigo 14 do Anexo ao Decreto nº 94. 664, de 23 de julho de 1987 e Decisão nº 31 / 93, do Conselho Universitário, alterada pela Decisão nº 391 / 07 e 473 / 10 e Lei n° 12. 772 / 2012.', 'start': 172, 'end': 462}]\n",
       "33    [{'entity_group': 'PERSON', 'score': 0.70707136, 'word': 'RUI VICENTE OPPERMANN', 'start': 0, 'end': 21}, {'entity_group': 'O', 'score': 0.42353082, 'word': 'Vice - Reitor', 'start': 22, 'end': 33}]                                                                                                                                                                                                                                                                                                                                                                                                                                                                                                                                        \n",
       "Name: tagged_entities, dtype: object"
      ]
     },
     "metadata": {},
     "output_type": "display_data"
    }
   ],
   "source": [
    "df_unique_sentences['tagged_entities'].head(10)"
   ]
  },
  {
   "cell_type": "code",
   "execution_count": null,
   "metadata": {},
   "outputs": [
    {
     "name": "stderr",
     "output_type": "stream",
     "text": [
      "c:\\Users\\arthu\\anaconda3\\envs\\NLP22\\lib\\site-packages\\transformers\\pipelines\\base.py:1043: UserWarning: You seem to be using the pipelines sequentially on GPU. In order to maximize efficiency please use a dataset\n",
      "  warnings.warn(\n"
     ]
    }
   ],
   "source": [
    "# Run the sentences through our NER tagging model\n",
    "df_unique_sentences['tagged_entities'] = df_unique_sentences['sentence'].apply(lambda x: assistive_auto_tagger(x[:512]))"
   ]
  },
  {
   "cell_type": "code",
   "execution_count": null,
   "metadata": {},
   "outputs": [
    {
     "data": {
      "text/plain": [
       "2     [{'entity_group': 'O', 'score': 0.7762933, 'word': 'Conceder à servidora', 'start': 0, 'end': 20}, {'entity_group': 'PERSON', 'score': 0.6477044, 'word': 'LISIANE RAMOS VILK', 'start': 21, 'end': 39}, {'entity_group': 'O', 'score': 0.76407486, 'word': ', ocupante do cargo de Administrador de Edifícios - 701400, lotada na Faculdade de Arquitetura, SIAPE 2325261, o percentual de 25 % ( vinte e cinco por cento ) de Incentivo à Qualificação, a contar de 15 / 07 / 2016, tendo em vista a conclusão do curso de Graduação em Administração - Bacharelado, conforme o Processo nº 23078. 015333 / 2016 - 19.', 'start': 39, 'end': 374}]                                                                                          \n",
       "3     [{'entity_group': 'PERSON', 'score': 0.6592996, 'word': 'MAURÍCIO VIÉGAS DA SILVA', 'start': 0, 'end': 24}, {'entity_group': 'O', 'score': 0.38087556, 'word': 'Pró - Reitor de Gestão de Pessoas', 'start': 25, 'end': 56}]                                                                                                                                                                                                                                                                                                                                                                                                                                                                                                                  \n",
       "6     [{'entity_group': 'O', 'score': 0.68199015, 'word': 'Autorizar o afastamento do país de', 'start': 0, 'end': 34}, {'entity_group': 'PERSON', 'score': 0.61941856, 'word': 'CRISTINE MARIA WARMLING', 'start': 35, 'end': 58}, {'entity_group': 'O', 'score': 0.658246, 'word': ', Professor do Magistério Superior, lotada e em exercício no Departamento de Odontologia Preventiva e Social da Faculdade de Odontologia, com a finalidade de participar do \" 3ème Congrès de la Societé Internationale d'Ergologie \", em Aix - en - Provence - França, no período compreendido entre 28 / 08 / 2016 e 01 / 09 / 2016, com ônus limitado.', 'start': 58, 'end': 389}]                                                                         \n",
       "8     [{'entity_group': 'PERSON', 'score': 0.63235503, 'word': 'CARLOS ALEXANDRE NETTO', 'start': 0, 'end': 22}, {'entity_group': 'O', 'score': 0.418368, 'word': 'Reitor', 'start': 23, 'end': 29}]                                                                                                                                                                                                                                                                                                                                                                                                                                                                                                                                                \n",
       "11    [{'entity_group': 'O', 'score': 0.6808941, 'word': 'Autorizar o afastamento do país de', 'start': 0, 'end': 34}, {'entity_group': 'PERSON', 'score': 0.60456276, 'word': 'ANDRE DIAS MORTARI', 'start': 35, 'end': 53}, {'entity_group': 'O', 'score': 0.72398305, 'word': ', Assistente em Administração, lotado e em exercício na Escola de Administração, com a finalidade de participar do \" IV Congreso Internacional Red Pilares \", em Cartagena - Colombia, no período compreendido entre 29 / 08 / 2016 e 02 / 09 / 2016, com ônus limitado.', 'start': 53, 'end': 307}]                                                                                                                                                              \n",
       "16    [{'entity_group': 'O', 'score': 0.6392899, 'word': 'Autorizar o afastamento do país de', 'start': 0, 'end': 34}, {'entity_group': 'PERSON', 'score': 0.5608771, 'word': 'RAFAEL ROESLER', 'start': 35, 'end': 49}, {'entity_group': 'O', 'score': 0.6561524, 'word': ', Professor do Maigstério Superior, lotado e em exercício no Departamento de Farmacologia do Instituto de Ciências Básicas da Saúde, com a finalidade de participar de reunião na University of Nottingham - Inglaterra, no período compreendido entre 02 / 09 / 2016 e 10 / 09 / 2016, com limitado.', 'start': 49, 'end': 334}]                                                                                                                                       \n",
       "21    [{'entity_group': 'O', 'score': 0.64358884, 'word': 'Autorizar o afastamento do país de', 'start': 0, 'end': 34}, {'entity_group': 'PERSON', 'score': 0.5395642, 'word': 'HUGO VERLI', 'start': 35, 'end': 45}, {'entity_group': 'O', 'score': 0.67099774, 'word': ', Professor do Magistério Superior, lotado e em exercício no Departamento de Biologia Molecular e Biotecnologia do Instituto de Biociências, com a finalidade de participar de reunião na University of Nottingham - Inglaterra, no período compreendido entre 02 / 09 / 2016 e 09 / 09 / 2016, com ônus limitado.', 'start': 45, 'end': 343}]                                                                                                                            \n",
       "26    [{'entity_group': 'O', 'score': 0.6943858, 'word': 'Autorizar o afastamento do país de', 'start': 0, 'end': 34}, {'entity_group': 'PERSON', 'score': 0.60998976, 'word': 'ANGELA TEREZINHA DE SOUZA WYSE', 'start': 35, 'end': 65}, {'entity_group': 'O', 'score': 0.6728233, 'word': ', Professor do Magistério Superior, lotada e em exercício no Departamento de Bioquímica do Instituto de Biociências, com a finalidade de participar do \" Annual Sympoisum of the Society for the Study of Inborn Errors of Metabolism \", em Roma - Itália, no período compreendido entre 03 / 09 / 2016 a 12 / 09 / 2016, com ônus pelo Programa de Pós - Graduação em Ciências Biológicas : Bioquímica.', 'start': 65, 'end': 444}]                   \n",
       "31    [{'entity_group': 'O', 'score': 0.773804, 'word': 'Alterar, a partir da data deste ato, por prazo indeterminado, o regime de trabalho de Dedicação Exclusiva para 40 horas semanais, atribuído à Professora', 'start': 0, 'end': 152}, {'entity_group': 'PERSON', 'score': 0.57133, 'word': 'LIANE ESTEVES DAUDT', 'start': 153, 'end': 172}, {'entity_group': 'O', 'score': 0.83912003, 'word': ', com lotação e exercício no ( a ) Departamento de Pediatria desta Universidade, conforme o disposto no parágrafo 2º do artigo 14 do Anexo ao Decreto nº 94. 664, de 23 de julho de 1987 e Decisão nº 31 / 93, do Conselho Universitário, alterada pela Decisão nº 391 / 07 e 473 / 10 e Lei n° 12. 772 / 2012.', 'start': 172, 'end': 462}]\n",
       "33    [{'entity_group': 'PERSON', 'score': 0.70707136, 'word': 'RUI VICENTE OPPERMANN', 'start': 0, 'end': 21}, {'entity_group': 'O', 'score': 0.42353082, 'word': 'Vice - Reitor', 'start': 22, 'end': 33}]                                                                                                                                                                                                                                                                                                                                                                                                                                                                                                                                        \n",
       "Name: tagged_entities, dtype: object"
      ]
     },
     "metadata": {},
     "output_type": "display_data"
    }
   ],
   "source": [
    "df_unique_sentences['tagged_entities'].head(10)"
   ]
  },
  {
   "cell_type": "code",
   "execution_count": null,
   "metadata": {},
   "outputs": [
    {
     "name": "stderr",
     "output_type": "stream",
     "text": [
      "c:\\Users\\arthu\\anaconda3\\envs\\NLP22\\lib\\site-packages\\transformers\\pipelines\\base.py:1043: UserWarning: You seem to be using the pipelines sequentially on GPU. In order to maximize efficiency please use a dataset\n",
      "  warnings.warn(\n"
     ]
    }
   ],
   "source": [
    "# Run the sentences through our NER tagging model\n",
    "df_unique_sentences['tagged_entities'] = df_unique_sentences['sentence'].apply(lambda x: assistive_auto_tagger(x[:512]))"
   ]
  },
  {
   "cell_type": "code",
   "execution_count": null,
   "metadata": {},
   "outputs": [
    {
     "data": {
      "text/plain": [
       "2     [{'entity_group': 'O', 'score': 0.7762933, 'word': 'Conceder à servidora', 'start': 0, 'end': 20}, {'entity_group': 'PERSON', 'score': 0.6477044, 'word': 'LISIANE RAMOS VILK', 'start': 21, 'end': 39}, {'entity_group': 'O', 'score': 0.76407486, 'word': ', ocupante do cargo de Administrador de Edifícios - 701400, lotada na Faculdade de Arquitetura, SIAPE 2325261, o percentual de 25 % ( vinte e cinco por cento ) de Incentivo à Qualificação, a contar de 15 / 07 / 2016, tendo em vista a conclusão do curso de Graduação em Administração - Bacharelado, conforme o Processo nº 23078. 015333 / 2016 - 19.', 'start': 39, 'end': 374}]                                                                                          \n",
       "3     [{'entity_group': 'PERSON', 'score': 0.6592996, 'word': 'MAURÍCIO VIÉGAS DA SILVA', 'start': 0, 'end': 24}, {'entity_group': 'O', 'score': 0.38087556, 'word': 'Pró - Reitor de Gestão de Pessoas', 'start': 25, 'end': 56}]                                                                                                                                                                                                                                                                                                                                                                                                                                                                                                                  \n",
       "6     [{'entity_group': 'O', 'score': 0.68199015, 'word': 'Autorizar o afastamento do país de', 'start': 0, 'end': 34}, {'entity_group': 'PERSON', 'score': 0.61941856, 'word': 'CRISTINE MARIA WARMLING', 'start': 35, 'end': 58}, {'entity_group': 'O', 'score': 0.658246, 'word': ', Professor do Magistério Superior, lotada e em exercício no Departamento de Odontologia Preventiva e Social da Faculdade de Odontologia, com a finalidade de participar do \" 3ème Congrès de la Societé Internationale d'Ergologie \", em Aix - en - Provence - França, no período compreendido entre 28 / 08 / 2016 e 01 / 09 / 2016, com ônus limitado.', 'start': 58, 'end': 389}]                                                                         \n",
       "8     [{'entity_group': 'PERSON', 'score': 0.63235503, 'word': 'CARLOS ALEXANDRE NETTO', 'start': 0, 'end': 22}, {'entity_group': 'O', 'score': 0.418368, 'word': 'Reitor', 'start': 23, 'end': 29}]                                                                                                                                                                                                                                                                                                                                                                                                                                                                                                                                                \n",
       "11    [{'entity_group': 'O', 'score': 0.6808941, 'word': 'Autorizar o afastamento do país de', 'start': 0, 'end': 34}, {'entity_group': 'PERSON', 'score': 0.60456276, 'word': 'ANDRE DIAS MORTARI', 'start': 35, 'end': 53}, {'entity_group': 'O', 'score': 0.72398305, 'word': ', Assistente em Administração, lotado e em exercício na Escola de Administração, com a finalidade de participar do \" IV Congreso Internacional Red Pilares \", em Cartagena - Colombia, no período compreendido entre 29 / 08 / 2016 e 02 / 09 / 2016, com ônus limitado.', 'start': 53, 'end': 307}]                                                                                                                                                              \n",
       "16    [{'entity_group': 'O', 'score': 0.6392899, 'word': 'Autorizar o afastamento do país de', 'start': 0, 'end': 34}, {'entity_group': 'PERSON', 'score': 0.5608771, 'word': 'RAFAEL ROESLER', 'start': 35, 'end': 49}, {'entity_group': 'O', 'score': 0.6561524, 'word': ', Professor do Maigstério Superior, lotado e em exercício no Departamento de Farmacologia do Instituto de Ciências Básicas da Saúde, com a finalidade de participar de reunião na University of Nottingham - Inglaterra, no período compreendido entre 02 / 09 / 2016 e 10 / 09 / 2016, com limitado.', 'start': 49, 'end': 334}]                                                                                                                                       \n",
       "21    [{'entity_group': 'O', 'score': 0.64358884, 'word': 'Autorizar o afastamento do país de', 'start': 0, 'end': 34}, {'entity_group': 'PERSON', 'score': 0.5395642, 'word': 'HUGO VERLI', 'start': 35, 'end': 45}, {'entity_group': 'O', 'score': 0.67099774, 'word': ', Professor do Magistério Superior, lotado e em exercício no Departamento de Biologia Molecular e Biotecnologia do Instituto de Biociências, com a finalidade de participar de reunião na University of Nottingham - Inglaterra, no período compreendido entre 02 / 09 / 2016 e 09 / 09 / 2016, com ônus limitado.', 'start': 45, 'end': 343}]                                                                                                                            \n",
       "26    [{'entity_group': 'O', 'score': 0.6943858, 'word': 'Autorizar o afastamento do país de', 'start': 0, 'end': 34}, {'entity_group': 'PERSON', 'score': 0.60998976, 'word': 'ANGELA TEREZINHA DE SOUZA WYSE', 'start': 35, 'end': 65}, {'entity_group': 'O', 'score': 0.6728233, 'word': ', Professor do Magistério Superior, lotada e em exercício no Departamento de Bioquímica do Instituto de Biociências, com a finalidade de participar do \" Annual Sympoisum of the Society for the Study of Inborn Errors of Metabolism \", em Roma - Itália, no período compreendido entre 03 / 09 / 2016 a 12 / 09 / 2016, com ônus pelo Programa de Pós - Graduação em Ciências Biológicas : Bioquímica.', 'start': 65, 'end': 444}]                   \n",
       "31    [{'entity_group': 'O', 'score': 0.773804, 'word': 'Alterar, a partir da data deste ato, por prazo indeterminado, o regime de trabalho de Dedicação Exclusiva para 40 horas semanais, atribuído à Professora', 'start': 0, 'end': 152}, {'entity_group': 'PERSON', 'score': 0.57133, 'word': 'LIANE ESTEVES DAUDT', 'start': 153, 'end': 172}, {'entity_group': 'O', 'score': 0.83912003, 'word': ', com lotação e exercício no ( a ) Departamento de Pediatria desta Universidade, conforme o disposto no parágrafo 2º do artigo 14 do Anexo ao Decreto nº 94. 664, de 23 de julho de 1987 e Decisão nº 31 / 93, do Conselho Universitário, alterada pela Decisão nº 391 / 07 e 473 / 10 e Lei n° 12. 772 / 2012.', 'start': 172, 'end': 462}]\n",
       "33    [{'entity_group': 'PERSON', 'score': 0.70707136, 'word': 'RUI VICENTE OPPERMANN', 'start': 0, 'end': 21}, {'entity_group': 'O', 'score': 0.42353082, 'word': 'Vice - Reitor', 'start': 22, 'end': 33}]                                                                                                                                                                                                                                                                                                                                                                                                                                                                                                                                        \n",
       "Name: tagged_entities, dtype: object"
      ]
     },
     "metadata": {},
     "output_type": "display_data"
    }
   ],
   "source": [
    "df_unique_sentences['tagged_entities'].head(10)"
   ]
  },
  {
   "cell_type": "code",
   "execution_count": null,
   "metadata": {},
   "outputs": [
    {
     "name": "stderr",
     "output_type": "stream",
     "text": [
      "c:\\Users\\arthu\\anaconda3\\envs\\NLP22\\lib\\site-packages\\transformers\\pipelines\\base.py:1043: UserWarning: You seem to be using the pipelines sequentially on GPU. In order to maximize efficiency please use a dataset\n",
      "  warnings.warn(\n"
     ]
    }
   ],
   "source": [
    "# Run the sentences through our NER tagging model\n",
    "df_unique_sentences['tagged_entities'] = df_unique_sentences['sentence'].apply(lambda x: assistive_auto_tagger(x[:512]))"
   ]
  },
  {
   "cell_type": "code",
   "execution_count": null,
   "metadata": {},
   "outputs": [
    {
     "data": {
      "text/plain": [
       "2     [{'entity_group': 'O', 'score': 0.7762933, 'word': 'Conceder à servidora', 'start': 0, 'end': 20}, {'entity_group': 'PERSON', 'score': 0.6477044, 'word': 'LISIANE RAMOS VILK', 'start': 21, 'end': 39}, {'entity_group': 'O', 'score': 0.76407486, 'word': ', ocupante do cargo de Administrador de Edifícios - 701400, lotada na Faculdade de Arquitetura, SIAPE 2325261, o percentual de 25 % ( vinte e cinco por cento ) de Incentivo à Qualificação, a contar de 15 / 07 / 2016, tendo em vista a conclusão do curso de Graduação em Administração - Bacharelado, conforme o Processo nº 23078. 015333 / 2016 - 19.', 'start': 39, 'end': 374}]                                                                                          \n",
       "3     [{'entity_group': 'PERSON', 'score': 0.6592996, 'word': 'MAURÍCIO VIÉGAS DA SILVA', 'start': 0, 'end': 24}, {'entity_group': 'O', 'score': 0.38087556, 'word': 'Pró - Reitor de Gestão de Pessoas', 'start': 25, 'end': 56}]                                                                                                                                                                                                                                                                                                                                                                                                                                                                                                                  \n",
       "6     [{'entity_group': 'O', 'score': 0.68199015, 'word': 'Autorizar o afastamento do país de', 'start': 0, 'end': 34}, {'entity_group': 'PERSON', 'score': 0.61941856, 'word': 'CRISTINE MARIA WARMLING', 'start': 35, 'end': 58}, {'entity_group': 'O', 'score': 0.658246, 'word': ', Professor do Magistério Superior, lotada e em exercício no Departamento de Odontologia Preventiva e Social da Faculdade de Odontologia, com a finalidade de participar do \" 3ème Congrès de la Societé Internationale d'Ergologie \", em Aix - en - Provence - França, no período compreendido entre 28 / 08 / 2016 e 01 / 09 / 2016, com ônus limitado.', 'start': 58, 'end': 389}]                                                                         \n",
       "8     [{'entity_group': 'PERSON', 'score': 0.63235503, 'word': 'CARLOS ALEXANDRE NETTO', 'start': 0, 'end': 22}, {'entity_group': 'O', 'score': 0.418368, 'word': 'Reitor', 'start': 23, 'end': 29}]                                                                                                                                                                                                                                                                                                                                                                                                                                                                                                                                                \n",
       "11    [{'entity_group': 'O', 'score': 0.6808941, 'word': 'Autorizar o afastamento do país de', 'start': 0, 'end': 34}, {'entity_group': 'PERSON', 'score': 0.60456276, 'word': 'ANDRE DIAS MORTARI', 'start': 35, 'end': 53}, {'entity_group': 'O', 'score': 0.72398305, 'word': ', Assistente em Administração, lotado e em exercício na Escola de Administração, com a finalidade de participar do \" IV Congreso Internacional Red Pilares \", em Cartagena - Colombia, no período compreendido entre 29 / 08 / 2016 e 02 / 09 / 2016, com ônus limitado.', 'start': 53, 'end': 307}]                                                                                                                                                              \n",
       "16    [{'entity_group': 'O', 'score': 0.6392899, 'word': 'Autorizar o afastamento do país de', 'start': 0, 'end': 34}, {'entity_group': 'PERSON', 'score': 0.5608771, 'word': 'RAFAEL ROESLER', 'start': 35, 'end': 49}, {'entity_group': 'O', 'score': 0.6561524, 'word': ', Professor do Maigstério Superior, lotado e em exercício no Departamento de Farmacologia do Instituto de Ciências Básicas da Saúde, com a finalidade de participar de reunião na University of Nottingham - Inglaterra, no período compreendido entre 02 / 09 / 2016 e 10 / 09 / 2016, com limitado.', 'start': 49, 'end': 334}]                                                                                                                                       \n",
       "21    [{'entity_group': 'O', 'score': 0.64358884, 'word': 'Autorizar o afastamento do país de', 'start': 0, 'end': 34}, {'entity_group': 'PERSON', 'score': 0.5395642, 'word': 'HUGO VERLI', 'start': 35, 'end': 45}, {'entity_group': 'O', 'score': 0.67099774, 'word': ', Professor do Magistério Superior, lotado e em exercício no Departamento de Biologia Molecular e Biotecnologia do Instituto de Biociências, com a finalidade de participar de reunião na University of Nottingham - Inglaterra, no período compreendido entre 02 / 09 / 2016 e 09 / 09 / 2016, com ônus limitado.', 'start': 45, 'end': 343}]                                                                                                                            \n",
       "26    [{'entity_group': 'O', 'score': 0.6943858, 'word': 'Autorizar o afastamento do país de', 'start': 0, 'end': 34}, {'entity_group': 'PERSON', 'score': 0.60998976, 'word': 'ANGELA TEREZINHA DE SOUZA WYSE', 'start': 35, 'end': 65}, {'entity_group': 'O', 'score': 0.6728233, 'word': ', Professor do Magistério Superior, lotada e em exercício no Departamento de Bioquímica do Instituto de Biociências, com a finalidade de participar do \" Annual Sympoisum of the Society for the Study of Inborn Errors of Metabolism \", em Roma - Itália, no período compreendido entre 03 / 09 / 2016 a 12 / 09 / 2016, com ônus pelo Programa de Pós - Graduação em Ciências Biológicas : Bioquímica.', 'start': 65, 'end': 444}]                   \n",
       "31    [{'entity_group': 'O', 'score': 0.773804, 'word': 'Alterar, a partir da data deste ato, por prazo indeterminado, o regime de trabalho de Dedicação Exclusiva para 40 horas semanais, atribuído à Professora', 'start': 0, 'end': 152}, {'entity_group': 'PERSON', 'score': 0.57133, 'word': 'LIANE ESTEVES DAUDT', 'start': 153, 'end': 172}, {'entity_group': 'O', 'score': 0.83912003, 'word': ', com lotação e exercício no ( a ) Departamento de Pediatria desta Universidade, conforme o disposto no parágrafo 2º do artigo 14 do Anexo ao Decreto nº 94. 664, de 23 de julho de 1987 e Decisão nº 31 / 93, do Conselho Universitário, alterada pela Decisão nº 391 / 07 e 473 / 10 e Lei n° 12. 772 / 2012.', 'start': 172, 'end': 462}]\n",
       "33    [{'entity_group': 'PERSON', 'score': 0.70707136, 'word': 'RUI VICENTE OPPERMANN', 'start': 0, 'end': 21}, {'entity_group': 'O', 'score': 0.42353082, 'word': 'Vice - Reitor', 'start': 22, 'end': 33}]                                                                                                                                                                                                                                                                                                                                                                                                                                                                                                                                        \n",
       "Name: tagged_entities, dtype: object"
      ]
     },
     "metadata": {},
     "output_type": "display_data"
    }
   ],
   "source": [
    "df_unique_sentences['tagged_entities'].head(10)"
   ]
  },
  {
   "cell_type": "code",
   "execution_count": null,
   "metadata": {},
   "outputs": [
    {
     "name": "stderr",
     "output_type": "stream",
     "text": [
      "c:\\Users\\arthu\\anaconda3\\envs\\NLP22\\lib\\site-packages\\transformers\\pipelines\\base.py:1043: UserWarning: You seem to be using the pipelines sequentially on GPU. In order to maximize efficiency please use a dataset\n",
      "  warnings.warn(\n"
     ]
    }
   ],
   "source": [
    "# Run the sentences through our NER tagging model\n",
    "df_unique_sentences['tagged_entities'] = df_unique_sentences['sentence'].apply(lambda x: assistive_auto_tagger(x[:512]))"
   ]
  },
  {
   "cell_type": "code",
   "execution_count": null,
   "metadata": {},
   "outputs": [
    {
     "data": {
      "text/plain": [
       "2     [{'entity_group': 'O', 'score': 0.7762933, 'word': 'Conceder à servidora', 'start': 0, 'end': 20}, {'entity_group': 'PERSON', 'score': 0.6477044, 'word': 'LISIANE RAMOS VILK', 'start': 21, 'end': 39}, {'entity_group': 'O', 'score': 0.76407486, 'word': ', ocupante do cargo de Administrador de Edifícios - 701400, lotada na Faculdade de Arquitetura, SIAPE 2325261, o percentual de 25 % ( vinte e cinco por cento ) de Incentivo à Qualificação, a contar de 15 / 07 / 2016, tendo em vista a conclusão do curso de Graduação em Administração - Bacharelado, conforme o Processo nº 23078. 015333 / 2016 - 19.', 'start': 39, 'end': 374}]                                                                                          \n",
       "3     [{'entity_group': 'PERSON', 'score': 0.6592996, 'word': 'MAURÍCIO VIÉGAS DA SILVA', 'start': 0, 'end': 24}, {'entity_group': 'O', 'score': 0.38087556, 'word': 'Pró - Reitor de Gestão de Pessoas', 'start': 25, 'end': 56}]                                                                                                                                                                                                                                                                                                                                                                                                                                                                                                                  \n",
       "6     [{'entity_group': 'O', 'score': 0.68199015, 'word': 'Autorizar o afastamento do país de', 'start': 0, 'end': 34}, {'entity_group': 'PERSON', 'score': 0.61941856, 'word': 'CRISTINE MARIA WARMLING', 'start': 35, 'end': 58}, {'entity_group': 'O', 'score': 0.658246, 'word': ', Professor do Magistério Superior, lotada e em exercício no Departamento de Odontologia Preventiva e Social da Faculdade de Odontologia, com a finalidade de participar do \" 3ème Congrès de la Societé Internationale d'Ergologie \", em Aix - en - Provence - França, no período compreendido entre 28 / 08 / 2016 e 01 / 09 / 2016, com ônus limitado.', 'start': 58, 'end': 389}]                                                                         \n",
       "8     [{'entity_group': 'PERSON', 'score': 0.63235503, 'word': 'CARLOS ALEXANDRE NETTO', 'start': 0, 'end': 22}, {'entity_group': 'O', 'score': 0.418368, 'word': 'Reitor', 'start': 23, 'end': 29}]                                                                                                                                                                                                                                                                                                                                                                                                                                                                                                                                                \n",
       "11    [{'entity_group': 'O', 'score': 0.6808941, 'word': 'Autorizar o afastamento do país de', 'start': 0, 'end': 34}, {'entity_group': 'PERSON', 'score': 0.60456276, 'word': 'ANDRE DIAS MORTARI', 'start': 35, 'end': 53}, {'entity_group': 'O', 'score': 0.72398305, 'word': ', Assistente em Administração, lotado e em exercício na Escola de Administração, com a finalidade de participar do \" IV Congreso Internacional Red Pilares \", em Cartagena - Colombia, no período compreendido entre 29 / 08 / 2016 e 02 / 09 / 2016, com ônus limitado.', 'start': 53, 'end': 307}]                                                                                                                                                              \n",
       "16    [{'entity_group': 'O', 'score': 0.6392899, 'word': 'Autorizar o afastamento do país de', 'start': 0, 'end': 34}, {'entity_group': 'PERSON', 'score': 0.5608771, 'word': 'RAFAEL ROESLER', 'start': 35, 'end': 49}, {'entity_group': 'O', 'score': 0.6561524, 'word': ', Professor do Maigstério Superior, lotado e em exercício no Departamento de Farmacologia do Instituto de Ciências Básicas da Saúde, com a finalidade de participar de reunião na University of Nottingham - Inglaterra, no período compreendido entre 02 / 09 / 2016 e 10 / 09 / 2016, com limitado.', 'start': 49, 'end': 334}]                                                                                                                                       \n",
       "21    [{'entity_group': 'O', 'score': 0.64358884, 'word': 'Autorizar o afastamento do país de', 'start': 0, 'end': 34}, {'entity_group': 'PERSON', 'score': 0.5395642, 'word': 'HUGO VERLI', 'start': 35, 'end': 45}, {'entity_group': 'O', 'score': 0.67099774, 'word': ', Professor do Magistério Superior, lotado e em exercício no Departamento de Biologia Molecular e Biotecnologia do Instituto de Biociências, com a finalidade de participar de reunião na University of Nottingham - Inglaterra, no período compreendido entre 02 / 09 / 2016 e 09 / 09 / 2016, com ônus limitado.', 'start': 45, 'end': 343}]                                                                                                                            \n",
       "26    [{'entity_group': 'O', 'score': 0.6943858, 'word': 'Autorizar o afastamento do país de', 'start': 0, 'end': 34}, {'entity_group': 'PERSON', 'score': 0.60998976, 'word': 'ANGELA TEREZINHA DE SOUZA WYSE', 'start': 35, 'end': 65}, {'entity_group': 'O', 'score': 0.6728233, 'word': ', Professor do Magistério Superior, lotada e em exercício no Departamento de Bioquímica do Instituto de Biociências, com a finalidade de participar do \" Annual Sympoisum of the Society for the Study of Inborn Errors of Metabolism \", em Roma - Itália, no período compreendido entre 03 / 09 / 2016 a 12 / 09 / 2016, com ônus pelo Programa de Pós - Graduação em Ciências Biológicas : Bioquímica.', 'start': 65, 'end': 444}]                   \n",
       "31    [{'entity_group': 'O', 'score': 0.773804, 'word': 'Alterar, a partir da data deste ato, por prazo indeterminado, o regime de trabalho de Dedicação Exclusiva para 40 horas semanais, atribuído à Professora', 'start': 0, 'end': 152}, {'entity_group': 'PERSON', 'score': 0.57133, 'word': 'LIANE ESTEVES DAUDT', 'start': 153, 'end': 172}, {'entity_group': 'O', 'score': 0.83912003, 'word': ', com lotação e exercício no ( a ) Departamento de Pediatria desta Universidade, conforme o disposto no parágrafo 2º do artigo 14 do Anexo ao Decreto nº 94. 664, de 23 de julho de 1987 e Decisão nº 31 / 93, do Conselho Universitário, alterada pela Decisão nº 391 / 07 e 473 / 10 e Lei n° 12. 772 / 2012.', 'start': 172, 'end': 462}]\n",
       "33    [{'entity_group': 'PERSON', 'score': 0.70707136, 'word': 'RUI VICENTE OPPERMANN', 'start': 0, 'end': 21}, {'entity_group': 'O', 'score': 0.42353082, 'word': 'Vice - Reitor', 'start': 22, 'end': 33}]                                                                                                                                                                                                                                                                                                                                                                                                                                                                                                                                        \n",
       "Name: tagged_entities, dtype: object"
      ]
     },
     "metadata": {},
     "output_type": "display_data"
    }
   ],
   "source": [
    "df_unique_sentences['tagged_entities'].head(10)"
   ]
  },
  {
   "cell_type": "code",
   "execution_count": null,
   "metadata": {},
   "outputs": [
    {
     "name": "stderr",
     "output_type": "stream",
     "text": [
      "c:\\Users\\arthu\\anaconda3\\envs\\NLP22\\lib\\site-packages\\transformers\\pipelines\\base.py:1043: UserWarning: You seem to be using the pipelines sequentially on GPU. In order to maximize efficiency please use a dataset\n",
      "  warnings.warn(\n"
     ]
    }
   ],
   "source": [
    "# Run the sentences through our NER tagging model\n",
    "df_unique_sentences['tagged_entities'] = df_unique_sentences['sentence'].apply(lambda x: assistive_auto_tagger(x[:512]))"
   ]
  },
  {
   "cell_type": "code",
   "execution_count": null,
   "metadata": {},
   "outputs": [
    {
     "data": {
      "text/plain": [
       "2     [{'entity_group': 'O', 'score': 0.7762933, 'word': 'Conceder à servidora', 'start': 0, 'end': 20}, {'entity_group': 'PERSON', 'score': 0.6477044, 'word': 'LISIANE RAMOS VILK', 'start': 21, 'end': 39}, {'entity_group': 'O', 'score': 0.76407486, 'word': ', ocupante do cargo de Administrador de Edifícios - 701400, lotada na Faculdade de Arquitetura, SIAPE 2325261, o percentual de 25 % ( vinte e cinco por cento ) de Incentivo à Qualificação, a contar de 15 / 07 / 2016, tendo em vista a conclusão do curso de Graduação em Administração - Bacharelado, conforme o Processo nº 23078. 015333 / 2016 - 19.', 'start': 39, 'end': 374}]                                                                                          \n",
       "3     [{'entity_group': 'PERSON', 'score': 0.6592996, 'word': 'MAURÍCIO VIÉGAS DA SILVA', 'start': 0, 'end': 24}, {'entity_group': 'O', 'score': 0.38087556, 'word': 'Pró - Reitor de Gestão de Pessoas', 'start': 25, 'end': 56}]                                                                                                                                                                                                                                                                                                                                                                                                                                                                                                                  \n",
       "6     [{'entity_group': 'O', 'score': 0.68199015, 'word': 'Autorizar o afastamento do país de', 'start': 0, 'end': 34}, {'entity_group': 'PERSON', 'score': 0.61941856, 'word': 'CRISTINE MARIA WARMLING', 'start': 35, 'end': 58}, {'entity_group': 'O', 'score': 0.658246, 'word': ', Professor do Magistério Superior, lotada e em exercício no Departamento de Odontologia Preventiva e Social da Faculdade de Odontologia, com a finalidade de participar do \" 3ème Congrès de la Societé Internationale d'Ergologie \", em Aix - en - Provence - França, no período compreendido entre 28 / 08 / 2016 e 01 / 09 / 2016, com ônus limitado.', 'start': 58, 'end': 389}]                                                                         \n",
       "8     [{'entity_group': 'PERSON', 'score': 0.63235503, 'word': 'CARLOS ALEXANDRE NETTO', 'start': 0, 'end': 22}, {'entity_group': 'O', 'score': 0.418368, 'word': 'Reitor', 'start': 23, 'end': 29}]                                                                                                                                                                                                                                                                                                                                                                                                                                                                                                                                                \n",
       "11    [{'entity_group': 'O', 'score': 0.6808941, 'word': 'Autorizar o afastamento do país de', 'start': 0, 'end': 34}, {'entity_group': 'PERSON', 'score': 0.60456276, 'word': 'ANDRE DIAS MORTARI', 'start': 35, 'end': 53}, {'entity_group': 'O', 'score': 0.72398305, 'word': ', Assistente em Administração, lotado e em exercício na Escola de Administração, com a finalidade de participar do \" IV Congreso Internacional Red Pilares \", em Cartagena - Colombia, no período compreendido entre 29 / 08 / 2016 e 02 / 09 / 2016, com ônus limitado.', 'start': 53, 'end': 307}]                                                                                                                                                              \n",
       "16    [{'entity_group': 'O', 'score': 0.6392899, 'word': 'Autorizar o afastamento do país de', 'start': 0, 'end': 34}, {'entity_group': 'PERSON', 'score': 0.5608771, 'word': 'RAFAEL ROESLER', 'start': 35, 'end': 49}, {'entity_group': 'O', 'score': 0.6561524, 'word': ', Professor do Maigstério Superior, lotado e em exercício no Departamento de Farmacologia do Instituto de Ciências Básicas da Saúde, com a finalidade de participar de reunião na University of Nottingham - Inglaterra, no período compreendido entre 02 / 09 / 2016 e 10 / 09 / 2016, com limitado.', 'start': 49, 'end': 334}]                                                                                                                                       \n",
       "21    [{'entity_group': 'O', 'score': 0.64358884, 'word': 'Autorizar o afastamento do país de', 'start': 0, 'end': 34}, {'entity_group': 'PERSON', 'score': 0.5395642, 'word': 'HUGO VERLI', 'start': 35, 'end': 45}, {'entity_group': 'O', 'score': 0.67099774, 'word': ', Professor do Magistério Superior, lotado e em exercício no Departamento de Biologia Molecular e Biotecnologia do Instituto de Biociências, com a finalidade de participar de reunião na University of Nottingham - Inglaterra, no período compreendido entre 02 / 09 / 2016 e 09 / 09 / 2016, com ônus limitado.', 'start': 45, 'end': 343}]                                                                                                                            \n",
       "26    [{'entity_group': 'O', 'score': 0.6943858, 'word': 'Autorizar o afastamento do país de', 'start': 0, 'end': 34}, {'entity_group': 'PERSON', 'score': 0.60998976, 'word': 'ANGELA TEREZINHA DE SOUZA WYSE', 'start': 35, 'end': 65}, {'entity_group': 'O', 'score': 0.6728233, 'word': ', Professor do Magistério Superior, lotada e em exercício no Departamento de Bioquímica do Instituto de Biociências, com a finalidade de participar do \" Annual Sympoisum of the Society for the Study of Inborn Errors of Metabolism \", em Roma - Itália, no período compreendido entre 03 / 09 / 2016 a 12 / 09 / 2016, com ônus pelo Programa de Pós - Graduação em Ciências Biológicas : Bioquímica.', 'start': 65, 'end': 444}]                   \n",
       "31    [{'entity_group': 'O', 'score': 0.773804, 'word': 'Alterar, a partir da data deste ato, por prazo indeterminado, o regime de trabalho de Dedicação Exclusiva para 40 horas semanais, atribuído à Professora', 'start': 0, 'end': 152}, {'entity_group': 'PERSON', 'score': 0.57133, 'word': 'LIANE ESTEVES DAUDT', 'start': 153, 'end': 172}, {'entity_group': 'O', 'score': 0.83912003, 'word': ', com lotação e exercício no ( a ) Departamento de Pediatria desta Universidade, conforme o disposto no parágrafo 2º do artigo 14 do Anexo ao Decreto nº 94. 664, de 23 de julho de 1987 e Decisão nº 31 / 93, do Conselho Universitário, alterada pela Decisão nº 391 / 07 e 473 / 10 e Lei n° 12. 772 / 2012.', 'start': 172, 'end': 462}]\n",
       "33    [{'entity_group': 'PERSON', 'score': 0.70707136, 'word': 'RUI VICENTE OPPERMANN', 'start': 0, 'end': 21}, {'entity_group': 'O', 'score': 0.42353082, 'word': 'Vice - Reitor', 'start': 22, 'end': 33}]                                                                                                                                                                                                                                                                                                                                                                                                                                                                                                                                        \n",
       "Name: tagged_entities, dtype: object"
      ]
     },
     "metadata": {},
     "output_type": "display_data"
    }
   ],
   "source": [
    "df_unique_sentences['tagged_entities'].head(10)"
   ]
  },
  {
   "cell_type": "code",
   "execution_count": null,
   "metadata": {},
   "outputs": [
    {
     "name": "stderr",
     "output_type": "stream",
     "text": [
      "c:\\Users\\arthu\\anaconda3\\envs\\NLP22\\lib\\site-packages\\transformers\\pipelines\\base.py:1043: UserWarning: You seem to be using the pipelines sequentially on GPU. In order to maximize efficiency please use a dataset\n",
      "  warnings.warn(\n"
     ]
    }
   ],
   "source": [
    "# Run the sentences through our NER tagging model\n",
    "df_unique_sentences['tagged_entities'] = df_unique_sentences['sentence'].apply(lambda x: assistive_auto_tagger(x[:512]))"
   ]
  },
  {
   "cell_type": "code",
   "execution_count": null,
   "metadata": {},
   "outputs": [
    {
     "data": {
      "text/plain": [
       "2     [{'entity_group': 'O', 'score': 0.7762933, 'word': 'Conceder à servidora', 'start': 0, 'end': 20}, {'entity_group': 'PERSON', 'score': 0.6477044, 'word': 'LISIANE RAMOS VILK', 'start': 21, 'end': 39}, {'entity_group': 'O', 'score': 0.76407486, 'word': ', ocupante do cargo de Administrador de Edifícios - 701400, lotada na Faculdade de Arquitetura, SIAPE 2325261, o percentual de 25 % ( vinte e cinco por cento ) de Incentivo à Qualificação, a contar de 15 / 07 / 2016, tendo em vista a conclusão do curso de Graduação em Administração - Bacharelado, conforme o Processo nº 23078. 015333 / 2016 - 19.', 'start': 39, 'end': 374}]                                                                                          \n",
       "3     [{'entity_group': 'PERSON', 'score': 0.6592996, 'word': 'MAURÍCIO VIÉGAS DA SILVA', 'start': 0, 'end': 24}, {'entity_group': 'O', 'score': 0.38087556, 'word': 'Pró - Reitor de Gestão de Pessoas', 'start': 25, 'end': 56}]                                                                                                                                                                                                                                                                                                                                                                                                                                                                                                                  \n",
       "6     [{'entity_group': 'O', 'score': 0.68199015, 'word': 'Autorizar o afastamento do país de', 'start': 0, 'end': 34}, {'entity_group': 'PERSON', 'score': 0.61941856, 'word': 'CRISTINE MARIA WARMLING', 'start': 35, 'end': 58}, {'entity_group': 'O', 'score': 0.658246, 'word': ', Professor do Magistério Superior, lotada e em exercício no Departamento de Odontologia Preventiva e Social da Faculdade de Odontologia, com a finalidade de participar do \" 3ème Congrès de la Societé Internationale d'Ergologie \", em Aix - en - Provence - França, no período compreendido entre 28 / 08 / 2016 e 01 / 09 / 2016, com ônus limitado.', 'start': 58, 'end': 389}]                                                                         \n",
       "8     [{'entity_group': 'PERSON', 'score': 0.63235503, 'word': 'CARLOS ALEXANDRE NETTO', 'start': 0, 'end': 22}, {'entity_group': 'O', 'score': 0.418368, 'word': 'Reitor', 'start': 23, 'end': 29}]                                                                                                                                                                                                                                                                                                                                                                                                                                                                                                                                                \n",
       "11    [{'entity_group': 'O', 'score': 0.6808941, 'word': 'Autorizar o afastamento do país de', 'start': 0, 'end': 34}, {'entity_group': 'PERSON', 'score': 0.60456276, 'word': 'ANDRE DIAS MORTARI', 'start': 35, 'end': 53}, {'entity_group': 'O', 'score': 0.72398305, 'word': ', Assistente em Administração, lotado e em exercício na Escola de Administração, com a finalidade de participar do \" IV Congreso Internacional Red Pilares \", em Cartagena - Colombia, no período compreendido entre 29 / 08 / 2016 e 02 / 09 / 2016, com ônus limitado.', 'start': 53, 'end': 307}]                                                                                                                                                              \n",
       "16    [{'entity_group': 'O', 'score': 0.6392899, 'word': 'Autorizar o afastamento do país de', 'start': 0, 'end': 34}, {'entity_group': 'PERSON', 'score': 0.5608771, 'word': 'RAFAEL ROESLER', 'start': 35, 'end': 49}, {'entity_group': 'O', 'score': 0.6561524, 'word': ', Professor do Maigstério Superior, lotado e em exercício no Departamento de Farmacologia do Instituto de Ciências Básicas da Saúde, com a finalidade de participar de reunião na University of Nottingham - Inglaterra, no período compreendido entre 02 / 09 / 2016 e 10 / 09 / 2016, com limitado.', 'start': 49, 'end': 334}]                                                                                                                                       \n",
       "21    [{'entity_group': 'O', 'score': 0.64358884, 'word': 'Autorizar o afastamento do país de', 'start': 0, 'end': 34}, {'entity_group': 'PERSON', 'score': 0.5395642, 'word': 'HUGO VERLI', 'start': 35, 'end': 45}, {'entity_group': 'O', 'score': 0.67099774, 'word': ', Professor do Magistério Superior, lotado e em exercício no Departamento de Biologia Molecular e Biotecnologia do Instituto de Biociências, com a finalidade de participar de reunião na University of Nottingham - Inglaterra, no período compreendido entre 02 / 09 / 2016 e 09 / 09 / 2016, com ônus limitado.', 'start': 45, 'end': 343}]                                                                                                                            \n",
       "26    [{'entity_group': 'O', 'score': 0.6943858, 'word': 'Autorizar o afastamento do país de', 'start': 0, 'end': 34}, {'entity_group': 'PERSON', 'score': 0.60998976, 'word': 'ANGELA TEREZINHA DE SOUZA WYSE', 'start': 35, 'end': 65}, {'entity_group': 'O', 'score': 0.6728233, 'word': ', Professor do Magistério Superior, lotada e em exercício no Departamento de Bioquímica do Instituto de Biociências, com a finalidade de participar do \" Annual Sympoisum of the Society for the Study of Inborn Errors of Metabolism \", em Roma - Itália, no período compreendido entre 03 / 09 / 2016 a 12 / 09 / 2016, com ônus pelo Programa de Pós - Graduação em Ciências Biológicas : Bioquímica.', 'start': 65, 'end': 444}]                   \n",
       "31    [{'entity_group': 'O', 'score': 0.773804, 'word': 'Alterar, a partir da data deste ato, por prazo indeterminado, o regime de trabalho de Dedicação Exclusiva para 40 horas semanais, atribuído à Professora', 'start': 0, 'end': 152}, {'entity_group': 'PERSON', 'score': 0.57133, 'word': 'LIANE ESTEVES DAUDT', 'start': 153, 'end': 172}, {'entity_group': 'O', 'score': 0.83912003, 'word': ', com lotação e exercício no ( a ) Departamento de Pediatria desta Universidade, conforme o disposto no parágrafo 2º do artigo 14 do Anexo ao Decreto nº 94. 664, de 23 de julho de 1987 e Decisão nº 31 / 93, do Conselho Universitário, alterada pela Decisão nº 391 / 07 e 473 / 10 e Lei n° 12. 772 / 2012.', 'start': 172, 'end': 462}]\n",
       "33    [{'entity_group': 'PERSON', 'score': 0.70707136, 'word': 'RUI VICENTE OPPERMANN', 'start': 0, 'end': 21}, {'entity_group': 'O', 'score': 0.42353082, 'word': 'Vice - Reitor', 'start': 22, 'end': 33}]                                                                                                                                                                                                                                                                                                                                                                                                                                                                                                                                        \n",
       "Name: tagged_entities, dtype: object"
      ]
     },
     "metadata": {},
     "output_type": "display_data"
    }
   ],
   "source": [
    "df_unique_sentences['tagged_entities'].head(10)"
   ]
  },
  {
   "cell_type": "code",
   "execution_count": null,
   "metadata": {},
   "outputs": [
    {
     "name": "stderr",
     "output_type": "stream",
     "text": [
      "c:\\Users\\arthu\\anaconda3\\envs\\NLP22\\lib\\site-packages\\transformers\\pipelines\\base.py:1043: UserWarning: You seem to be using the pipelines sequentially on GPU. In order to maximize efficiency please use a dataset\n",
      "  warnings.warn(\n"
     ]
    }
   ],
   "source": [
    "# Run the sentences through our NER tagging model\n",
    "df_unique_sentences['tagged_entities'] = df_unique_sentences['sentence'].apply(lambda x: assistive_auto_tagger(x[:512]))"
   ]
  },
  {
   "cell_type": "code",
   "execution_count": null,
   "metadata": {},
   "outputs": [
    {
     "data": {
      "text/plain": [
       "2     [{'entity_group': 'O', 'score': 0.7762933, 'word': 'Conceder à servidora', 'start': 0, 'end': 20}, {'entity_group': 'PERSON', 'score': 0.6477044, 'word': 'LISIANE RAMOS VILK', 'start': 21, 'end': 39}, {'entity_group': 'O', 'score': 0.76407486, 'word': ', ocupante do cargo de Administrador de Edifícios - 701400, lotada na Faculdade de Arquitetura, SIAPE 2325261, o percentual de 25 % ( vinte e cinco por cento ) de Incentivo à Qualificação, a contar de 15 / 07 / 2016, tendo em vista a conclusão do curso de Graduação em Administração - Bacharelado, conforme o Processo nº 23078. 015333 / 2016 - 19.', 'start': 39, 'end': 374}]                                                                                          \n",
       "3     [{'entity_group': 'PERSON', 'score': 0.6592996, 'word': 'MAURÍCIO VIÉGAS DA SILVA', 'start': 0, 'end': 24}, {'entity_group': 'O', 'score': 0.38087556, 'word': 'Pró - Reitor de Gestão de Pessoas', 'start': 25, 'end': 56}]                                                                                                                                                                                                                                                                                                                                                                                                                                                                                                                  \n",
       "6     [{'entity_group': 'O', 'score': 0.68199015, 'word': 'Autorizar o afastamento do país de', 'start': 0, 'end': 34}, {'entity_group': 'PERSON', 'score': 0.61941856, 'word': 'CRISTINE MARIA WARMLING', 'start': 35, 'end': 58}, {'entity_group': 'O', 'score': 0.658246, 'word': ', Professor do Magistério Superior, lotada e em exercício no Departamento de Odontologia Preventiva e Social da Faculdade de Odontologia, com a finalidade de participar do \" 3ème Congrès de la Societé Internationale d'Ergologie \", em Aix - en - Provence - França, no período compreendido entre 28 / 08 / 2016 e 01 / 09 / 2016, com ônus limitado.', 'start': 58, 'end': 389}]                                                                         \n",
       "8     [{'entity_group': 'PERSON', 'score': 0.63235503, 'word': 'CARLOS ALEXANDRE NETTO', 'start': 0, 'end': 22}, {'entity_group': 'O', 'score': 0.418368, 'word': 'Reitor', 'start': 23, 'end': 29}]                                                                                                                                                                                                                                                                                                                                                                                                                                                                                                                                                \n",
       "11    [{'entity_group': 'O', 'score': 0.6808941, 'word': 'Autorizar o afastamento do país de', 'start': 0, 'end': 34}, {'entity_group': 'PERSON', 'score': 0.60456276, 'word': 'ANDRE DIAS MORTARI', 'start': 35, 'end': 53}, {'entity_group': 'O', 'score': 0.72398305, 'word': ', Assistente em Administração, lotado e em exercício na Escola de Administração, com a finalidade de participar do \" IV Congreso Internacional Red Pilares \", em Cartagena - Colombia, no período compreendido entre 29 / 08 / 2016 e 02 / 09 / 2016, com ônus limitado.', 'start': 53, 'end': 307}]                                                                                                                                                              \n",
       "16    [{'entity_group': 'O', 'score': 0.6392899, 'word': 'Autorizar o afastamento do país de', 'start': 0, 'end': 34}, {'entity_group': 'PERSON', 'score': 0.5608771, 'word': 'RAFAEL ROESLER', 'start': 35, 'end': 49}, {'entity_group': 'O', 'score': 0.6561524, 'word': ', Professor do Maigstério Superior, lotado e em exercício no Departamento de Farmacologia do Instituto de Ciências Básicas da Saúde, com a finalidade de participar de reunião na University of Nottingham - Inglaterra, no período compreendido entre 02 / 09 / 2016 e 10 / 09 / 2016, com limitado.', 'start': 49, 'end': 334}]                                                                                                                                       \n",
       "21    [{'entity_group': 'O', 'score': 0.64358884, 'word': 'Autorizar o afastamento do país de', 'start': 0, 'end': 34}, {'entity_group': 'PERSON', 'score': 0.5395642, 'word': 'HUGO VERLI', 'start': 35, 'end': 45}, {'entity_group': 'O', 'score': 0.67099774, 'word': ', Professor do Magistério Superior, lotado e em exercício no Departamento de Biologia Molecular e Biotecnologia do Instituto de Biociências, com a finalidade de participar de reunião na University of Nottingham - Inglaterra, no período compreendido entre 02 / 09 / 2016 e 09 / 09 / 2016, com ônus limitado.', 'start': 45, 'end': 343}]                                                                                                                            \n",
       "26    [{'entity_group': 'O', 'score': 0.6943858, 'word': 'Autorizar o afastamento do país de', 'start': 0, 'end': 34}, {'entity_group': 'PERSON', 'score': 0.60998976, 'word': 'ANGELA TEREZINHA DE SOUZA WYSE', 'start': 35, 'end': 65}, {'entity_group': 'O', 'score': 0.6728233, 'word': ', Professor do Magistério Superior, lotada e em exercício no Departamento de Bioquímica do Instituto de Biociências, com a finalidade de participar do \" Annual Sympoisum of the Society for the Study of Inborn Errors of Metabolism \", em Roma - Itália, no período compreendido entre 03 / 09 / 2016 a 12 / 09 / 2016, com ônus pelo Programa de Pós - Graduação em Ciências Biológicas : Bioquímica.', 'start': 65, 'end': 444}]                   \n",
       "31    [{'entity_group': 'O', 'score': 0.773804, 'word': 'Alterar, a partir da data deste ato, por prazo indeterminado, o regime de trabalho de Dedicação Exclusiva para 40 horas semanais, atribuído à Professora', 'start': 0, 'end': 152}, {'entity_group': 'PERSON', 'score': 0.57133, 'word': 'LIANE ESTEVES DAUDT', 'start': 153, 'end': 172}, {'entity_group': 'O', 'score': 0.83912003, 'word': ', com lotação e exercício no ( a ) Departamento de Pediatria desta Universidade, conforme o disposto no parágrafo 2º do artigo 14 do Anexo ao Decreto nº 94. 664, de 23 de julho de 1987 e Decisão nº 31 / 93, do Conselho Universitário, alterada pela Decisão nº 391 / 07 e 473 / 10 e Lei n° 12. 772 / 2012.', 'start': 172, 'end': 462}]\n",
       "33    [{'entity_group': 'PERSON', 'score': 0.70707136, 'word': 'RUI VICENTE OPPERMANN', 'start': 0, 'end': 21}, {'entity_group': 'O', 'score': 0.42353082, 'word': 'Vice - Reitor', 'start': 22, 'end': 33}]                                                                                                                                                                                                                                                                                                                                                                                                                                                                                                                                        \n",
       "Name: tagged_entities, dtype: object"
      ]
     },
     "metadata": {},
     "output_type": "display_data"
    }
   ],
   "source": [
    "df_unique_sentences['tagged_entities'].head(10)"
   ]
  },
  {
   "cell_type": "code",
   "execution_count": 28,
   "metadata": {},
   "outputs": [],
   "source": [
    "# Reformat the classified entities text to match the original sentence.\n",
    "df_unique_sentences['tagged_entities'] = df_unique_sentences.apply(lambda x: data_processing.reformat_sentence(x['sentence'], x['tagged_entities']), axis=1)"
   ]
  },
  {
   "cell_type": "code",
   "execution_count": 29,
   "metadata": {},
   "outputs": [
    {
     "data": {
      "text/plain": [
       "2     [{'entity_group': 'O', 'score': 0.7762933, 'word': 'Conceder à servidora', 'start': 0, 'end': 20}, {'entity_group': 'PERSON', 'score': 0.6477044, 'word': 'LISIANE RAMOS VILK', 'start': 21, 'end': 39}, {'entity_group': 'O', 'score': 0.76407486, 'word': ', ocupante do cargo de Administrador de Edifícios - 701400, lotada na Faculdade de Arquitetura, SIAPE 2325261, o percentual de 25% (vinte e cinco por cento) de Incentivo à Qualificação, a contar de 15/07/2016, tendo em vista a conclusão do curso de Graduação em Administração - Bacharelado, conforme o Processo nº 23078.015333/2016-19.', 'start': 40, 'end': 375}]                                                                                         \n",
       "3     [{'entity_group': 'PERSON', 'score': 0.6592996, 'word': 'MAURÍCIO VIÉGAS DA SILVA', 'start': 0, 'end': 24}, {'entity_group': 'O', 'score': 0.38087556, 'word': 'Pró-Reitor de Gestão de Pessoas', 'start': 25, 'end': 56}]                                                                                                                                                                                                                                                                                                                                                                                                                                                                                                       \n",
       "6     [{'entity_group': 'O', 'score': 0.68199015, 'word': 'Autorizar o afastamento do país de', 'start': 0, 'end': 34}, {'entity_group': 'PERSON', 'score': 0.61941856, 'word': 'CRISTINE MARIA WARMLING', 'start': 35, 'end': 58}, {'entity_group': 'O', 'score': 0.658246, 'word': ', Professor do Magistério Superior, lotada e em exercício no Departamento de Odontologia Preventiva e Social da Faculdade de Odontologia, com a finalidade de participar do \"3ème Congrès de la Societé Internationale d'Ergologie\", em Aix-en-Provence - França, no período compreendido entre 28/08/2016 e 01/09/2016, com ônus limitado.', 'start': 59, 'end': 390}]                                                                          \n",
       "8     [{'entity_group': 'PERSON', 'score': 0.63235503, 'word': 'CARLOS ALEXANDRE NETTO', 'start': 0, 'end': 22}, {'entity_group': 'O', 'score': 0.418368, 'word': 'Reitor', 'start': 23, 'end': 29}]                                                                                                                                                                                                                                                                                                                                                                                                                                                                                                                                   \n",
       "11    [{'entity_group': 'O', 'score': 0.6808941, 'word': 'Autorizar o afastamento do país de', 'start': 0, 'end': 34}, {'entity_group': 'PERSON', 'score': 0.60456276, 'word': 'ANDRE DIAS MORTARI', 'start': 35, 'end': 53}, {'entity_group': 'O', 'score': 0.72398305, 'word': ', Assistente em Administração, lotado e em exercício na Escola de Administração, com a finalidade de participar do \"IV Congreso Internacional Red Pilares\", em Cartagena - Colombia, no período compreendido entre 29/08/2016 e 02/09/2016, com ônus limitado.', 'start': 54, 'end': 308}]                                                                                                                                                           \n",
       "16    [{'entity_group': 'O', 'score': 0.6392899, 'word': 'Autorizar o afastamento do país de', 'start': 0, 'end': 34}, {'entity_group': 'PERSON', 'score': 0.5608771, 'word': 'RAFAEL ROESLER', 'start': 35, 'end': 49}, {'entity_group': 'O', 'score': 0.6561524, 'word': ', Professor do Maigstério Superior, lotado e em exercício no Departamento de Farmacologia do Instituto de Ciências Básicas da Saúde, com a finalidade de participar de reunião na University of Nottingham - Inglaterra, no período compreendido entre 02/09/2016 e 10/09/2016, com limitado.', 'start': 50, 'end': 335}]                                                                                                                                  \n",
       "21    [{'entity_group': 'O', 'score': 0.64358884, 'word': 'Autorizar o afastamento do país de', 'start': 0, 'end': 34}, {'entity_group': 'PERSON', 'score': 0.5395642, 'word': 'HUGO VERLI', 'start': 35, 'end': 45}, {'entity_group': 'O', 'score': 0.67099774, 'word': ', Professor do Magistério Superior, lotado e em exercício no Departamento de Biologia Molecular e Biotecnologia do Instituto de Biociências, com a finalidade de participar de reunião na University of Nottingham - Inglaterra, no período compreendido entre 02/09/2016 e 09/09/2016, com ônus limitado.', 'start': 46, 'end': 344}]                                                                                                                       \n",
       "26    [{'entity_group': 'O', 'score': 0.6943858, 'word': 'Autorizar o afastamento do país de', 'start': 0, 'end': 34}, {'entity_group': 'PERSON', 'score': 0.60998976, 'word': 'ANGELA TEREZINHA DE SOUZA WYSE', 'start': 35, 'end': 65}, {'entity_group': 'O', 'score': 0.6728233, 'word': ', Professor do Magistério Superior, lotada e em exercício no Departamento de Bioquímica do Instituto de Biociências, com a finalidade de participar do \"Annual Sympoisum of the Society for the Study of Inborn Errors of Metabolism\", em Roma - Itália, no período compreendido entre 03/09/2016 a 12/09/2016, com ônus pelo Programa de Pós-Graduação em Ciências Biológicas: Bioquímica.', 'start': 66, 'end': 445}]                   \n",
       "31    [{'entity_group': 'O', 'score': 0.773804, 'word': 'Alterar, a partir da data deste ato, por prazo indeterminado, o regime de trabalho de Dedicação Exclusiva para 40 horas semanais, atribuído à Professora', 'start': 0, 'end': 152}, {'entity_group': 'PERSON', 'score': 0.57133, 'word': 'LIANE ESTEVES DAUDT', 'start': 153, 'end': 172}, {'entity_group': 'O', 'score': 0.83912003, 'word': ', com lotação e exercício no(a) Departamento de Pediatria desta Universidade, conforme o disposto no parágrafo 2º do artigo 14 do Anexo ao Decreto nº 94.664, de 23 de julho de 1987 e Decisão nº 31/93, do Conselho Universitário, alterada pela Decisão nº 391/07 e 473/10 e Lei n° 12.772/2012.', 'start': 173, 'end': 463}]\n",
       "33    [{'entity_group': 'PERSON', 'score': 0.70707136, 'word': 'RUI VICENTE OPPERMANN', 'start': 0, 'end': 21}, {'entity_group': 'O', 'score': 0.42353082, 'word': 'Vice-Reitor', 'start': 22, 'end': 33}]                                                                                                                                                                                                                                                                                                                                                                                                                                                                                                                             \n",
       "Name: tagged_entities, dtype: object"
      ]
     },
     "execution_count": 29,
     "metadata": {},
     "output_type": "execute_result"
    }
   ],
   "source": [
    "df_unique_sentences['tagged_entities'].head(10)"
   ]
  },
  {
   "cell_type": "code",
   "execution_count": 38,
   "metadata": {},
   "outputs": [],
   "source": [
    "# Function that takes a Hugging Face NER Pipeline dictionary output and formats it in a format that can be used by Doccano for manual labelling.\n",
    "# This is useful when using the NER Pipeline as an assistive auto labelling before doing the manual work.\n",
    "def ner_entity_dict_to_doccano_jsonl(tagged_entities):\n",
    "    # Join the entities texts to get the full sentence\n",
    "    full_sentence_text = \"\"\n",
    "    entities_metadata = []\n",
    "    for entity in tagged_entities:\n",
    "        full_sentence_text = full_sentence_text + entity['word'] + ' '\n",
    "        if entity['entity_group'] != 'O':\n",
    "            entities_metadata.append([entity['start'], entity['end'], entity['entity_group']])\n",
    "    full_sentence_text = re.sub(' ,', ',', full_sentence_text)\n",
    "    return full_sentence_text, entities_metadata\n",
    "\n",
    "    # Get a list of the entities in the format [START, END, TYPE] for each of them."
   ]
  },
  {
   "cell_type": "code",
   "execution_count": 36,
   "metadata": {},
   "outputs": [
    {
     "data": {
      "text/html": [
       "<div>\n",
       "<style scoped>\n",
       "    .dataframe tbody tr th:only-of-type {\n",
       "        vertical-align: middle;\n",
       "    }\n",
       "\n",
       "    .dataframe tbody tr th {\n",
       "        vertical-align: top;\n",
       "    }\n",
       "\n",
       "    .dataframe thead th {\n",
       "        text-align: right;\n",
       "    }\n",
       "</style>\n",
       "<table border=\"1\" class=\"dataframe\">\n",
       "  <thead>\n",
       "    <tr style=\"text-align: right;\">\n",
       "      <th></th>\n",
       "      <th>document</th>\n",
       "      <th>sentence</th>\n",
       "      <th>sentence_id</th>\n",
       "      <th>duplicates</th>\n",
       "      <th>label</th>\n",
       "      <th>tagged_entities</th>\n",
       "    </tr>\n",
       "  </thead>\n",
       "  <tbody>\n",
       "    <tr>\n",
       "      <th>2</th>\n",
       "      <td>25644</td>\n",
       "      <td>Conceder à servidora LISIANE RAMOS VILK, ocupante do cargo de Administrador de Edifícios - 701400, lotada na Faculdade de Arquitetura, SIAPE 2325261, o percentual de 25% (vinte e cinco por cento) de Incentivo à Qualificação, a contar de 15/07/2016, tendo em vista a conclusão do curso de Graduação em Administração - Bacharelado, conforme o Processo nº 23078.015333/2016-19.</td>\n",
       "      <td>2</td>\n",
       "      <td>[2]</td>\n",
       "      <td></td>\n",
       "      <td>[{'entity_group': 'O', 'score': 0.7762933, 'word': 'Conceder à servidora', 'start': 0, 'end': 20}, {'entity_group': 'PERSON', 'score': 0.6477044, 'word': 'LISIANE RAMOS VILK', 'start': 21, 'end': 39}, {'entity_group': 'O', 'score': 0.76407486, 'word': ', ocupante do cargo de Administrador de Edifícios - 701400, lotada na Faculdade de Arquitetura, SIAPE 2325261, o percentual de 25% (vinte e cinco por cento) de Incentivo à Qualificação, a contar de 15/07/2016, tendo em vista a conclusão do curso de Graduação em Administração - Bacharelado, conforme o Processo nº 23078.015333/2016-19.', 'start': 40, 'end': 375}]</td>\n",
       "    </tr>\n",
       "    <tr>\n",
       "      <th>3</th>\n",
       "      <td>25644</td>\n",
       "      <td>MAURÍCIO VIÉGAS DA SILVA Pró-Reitor de Gestão de Pessoas</td>\n",
       "      <td>3</td>\n",
       "      <td>[3, 94, 156, 168, 173, 272, 276, 280, 284, 288, 292, 296, 300, 304, 324, 328, 332, 336, 345, 349, 353, 357, 416, 421, 426, 431, 436, 446, 451, 456, 461, 466, 471, 476, 481, 486, 491, 496, 501, 506, 511, 515, 519, 523, 527, 531, 535, 539, 543, 547, 553, 557, 561, 565, 569, 573, 578, 583, 588, 596, 602, 608, 632, 636, 640, 644, 648, 652, 656, 660, 664, 668, 672, 676, 680, 684, 688, 692, 696, 700, 704, 708, 712, 716, 720, 724, 728, 732, 736, 740, 744, 748, 752, 756, 760, 772, 783, 787, 791, 1040, ...]</td>\n",
       "      <td></td>\n",
       "      <td>[{'entity_group': 'PERSON', 'score': 0.6592996, 'word': 'MAURÍCIO VIÉGAS DA SILVA', 'start': 0, 'end': 24}, {'entity_group': 'O', 'score': 0.38087556, 'word': 'Pró-Reitor de Gestão de Pessoas', 'start': 25, 'end': 56}]</td>\n",
       "    </tr>\n",
       "    <tr>\n",
       "      <th>6</th>\n",
       "      <td>25645</td>\n",
       "      <td>Autorizar o afastamento do país de CRISTINE MARIA WARMLING, Professor do Magistério Superior, lotada e em exercício no Departamento de Odontologia Preventiva e Social da Faculdade de Odontologia, com a finalidade de participar do \"3ème Congrès de la Societé Internationale d'Ergologie\", em Aix-en-Provence - França, no período compreendido entre 28/08/2016 e 01/09/2016, com ônus limitado.</td>\n",
       "      <td>6</td>\n",
       "      <td>[6]</td>\n",
       "      <td></td>\n",
       "      <td>[{'entity_group': 'O', 'score': 0.68199015, 'word': 'Autorizar o afastamento do país de', 'start': 0, 'end': 34}, {'entity_group': 'PERSON', 'score': 0.61941856, 'word': 'CRISTINE MARIA WARMLING', 'start': 35, 'end': 58}, {'entity_group': 'O', 'score': 0.658246, 'word': ', Professor do Magistério Superior, lotada e em exercício no Departamento de Odontologia Preventiva e Social da Faculdade de Odontologia, com a finalidade de participar do \"3ème Congrès de la Societé Internationale d'Ergologie\", em Aix-en-Provence - França, no período compreendido entre 28/08/2016 e 01/09/2016, com ônus limitado.', 'start': 59, 'end': 390}]</td>\n",
       "    </tr>\n",
       "    <tr>\n",
       "      <th>8</th>\n",
       "      <td>25645</td>\n",
       "      <td>CARLOS ALEXANDRE NETTO Reitor</td>\n",
       "      <td>8</td>\n",
       "      <td>[8, 13, 18, 23, 28, 38, 43, 63, 72, 81, 99, 104, 109, 114, 132, 137, 142, 147, 152, 161]</td>\n",
       "      <td></td>\n",
       "      <td>[{'entity_group': 'PERSON', 'score': 0.63235503, 'word': 'CARLOS ALEXANDRE NETTO', 'start': 0, 'end': 22}, {'entity_group': 'O', 'score': 0.418368, 'word': 'Reitor', 'start': 23, 'end': 29}]</td>\n",
       "    </tr>\n",
       "    <tr>\n",
       "      <th>11</th>\n",
       "      <td>25646</td>\n",
       "      <td>Autorizar o afastamento do país de ANDRE DIAS MORTARI, Assistente em Administração, lotado e em exercício na Escola de Administração, com a finalidade de participar do \"IV Congreso Internacional Red Pilares\", em Cartagena - Colombia, no período compreendido entre 29/08/2016 e 02/09/2016, com ônus limitado.</td>\n",
       "      <td>11</td>\n",
       "      <td>[11]</td>\n",
       "      <td></td>\n",
       "      <td>[{'entity_group': 'O', 'score': 0.6808941, 'word': 'Autorizar o afastamento do país de', 'start': 0, 'end': 34}, {'entity_group': 'PERSON', 'score': 0.60456276, 'word': 'ANDRE DIAS MORTARI', 'start': 35, 'end': 53}, {'entity_group': 'O', 'score': 0.72398305, 'word': ', Assistente em Administração, lotado e em exercício na Escola de Administração, com a finalidade de participar do \"IV Congreso Internacional Red Pilares\", em Cartagena - Colombia, no período compreendido entre 29/08/2016 e 02/09/2016, com ônus limitado.', 'start': 54, 'end': 308}]</td>\n",
       "    </tr>\n",
       "  </tbody>\n",
       "</table>\n",
       "</div>"
      ],
      "text/plain": [
       "    document  \\\n",
       "2   25644      \n",
       "3   25644      \n",
       "6   25645      \n",
       "8   25645      \n",
       "11  25646      \n",
       "\n",
       "                                                                                                                                                                                                                                                                                                                                                                                                 sentence  \\\n",
       "2   Conceder à servidora LISIANE RAMOS VILK, ocupante do cargo de Administrador de Edifícios - 701400, lotada na Faculdade de Arquitetura, SIAPE 2325261, o percentual de 25% (vinte e cinco por cento) de Incentivo à Qualificação, a contar de 15/07/2016, tendo em vista a conclusão do curso de Graduação em Administração - Bacharelado, conforme o Processo nº 23078.015333/2016-19.                  \n",
       "3   MAURÍCIO VIÉGAS DA SILVA Pró-Reitor de Gestão de Pessoas                                                                                                                                                                                                                                                                                                                                                \n",
       "6   Autorizar o afastamento do país de CRISTINE MARIA WARMLING, Professor do Magistério Superior, lotada e em exercício no Departamento de Odontologia Preventiva e Social da Faculdade de Odontologia, com a finalidade de participar do \"3ème Congrès de la Societé Internationale d'Ergologie\", em Aix-en-Provence - França, no período compreendido entre 28/08/2016 e 01/09/2016, com ônus limitado.   \n",
       "8   CARLOS ALEXANDRE NETTO Reitor                                                                                                                                                                                                                                                                                                                                                                           \n",
       "11  Autorizar o afastamento do país de ANDRE DIAS MORTARI, Assistente em Administração, lotado e em exercício na Escola de Administração, com a finalidade de participar do \"IV Congreso Internacional Red Pilares\", em Cartagena - Colombia, no período compreendido entre 29/08/2016 e 02/09/2016, com ônus limitado.                                                                                     \n",
       "\n",
       "    sentence_id  \\\n",
       "2   2             \n",
       "3   3             \n",
       "6   6             \n",
       "8   8             \n",
       "11  11            \n",
       "\n",
       "                                                                                                                                                                                                                                                                                                                                                                                                                                                                                                                 duplicates  \\\n",
       "2   [2]                                                                                                                                                                                                                                                                                                                                                                                                                                                                                                                       \n",
       "3   [3, 94, 156, 168, 173, 272, 276, 280, 284, 288, 292, 296, 300, 304, 324, 328, 332, 336, 345, 349, 353, 357, 416, 421, 426, 431, 436, 446, 451, 456, 461, 466, 471, 476, 481, 486, 491, 496, 501, 506, 511, 515, 519, 523, 527, 531, 535, 539, 543, 547, 553, 557, 561, 565, 569, 573, 578, 583, 588, 596, 602, 608, 632, 636, 640, 644, 648, 652, 656, 660, 664, 668, 672, 676, 680, 684, 688, 692, 696, 700, 704, 708, 712, 716, 720, 724, 728, 732, 736, 740, 744, 748, 752, 756, 760, 772, 783, 787, 791, 1040, ...]   \n",
       "6   [6]                                                                                                                                                                                                                                                                                                                                                                                                                                                                                                                       \n",
       "8   [8, 13, 18, 23, 28, 38, 43, 63, 72, 81, 99, 104, 109, 114, 132, 137, 142, 147, 152, 161]                                                                                                                                                                                                                                                                                                                                                                                                                                  \n",
       "11  [11]                                                                                                                                                                                                                                                                                                                                                                                                                                                                                                                      \n",
       "\n",
       "   label  \\\n",
       "2          \n",
       "3          \n",
       "6          \n",
       "8          \n",
       "11         \n",
       "\n",
       "                                                                                                                                                                                                                                                                                                                                                                                                                                                                                                                                                                                                                                            tagged_entities  \n",
       "2   [{'entity_group': 'O', 'score': 0.7762933, 'word': 'Conceder à servidora', 'start': 0, 'end': 20}, {'entity_group': 'PERSON', 'score': 0.6477044, 'word': 'LISIANE RAMOS VILK', 'start': 21, 'end': 39}, {'entity_group': 'O', 'score': 0.76407486, 'word': ', ocupante do cargo de Administrador de Edifícios - 701400, lotada na Faculdade de Arquitetura, SIAPE 2325261, o percentual de 25% (vinte e cinco por cento) de Incentivo à Qualificação, a contar de 15/07/2016, tendo em vista a conclusão do curso de Graduação em Administração - Bacharelado, conforme o Processo nº 23078.015333/2016-19.', 'start': 40, 'end': 375}]                 \n",
       "3   [{'entity_group': 'PERSON', 'score': 0.6592996, 'word': 'MAURÍCIO VIÉGAS DA SILVA', 'start': 0, 'end': 24}, {'entity_group': 'O', 'score': 0.38087556, 'word': 'Pró-Reitor de Gestão de Pessoas', 'start': 25, 'end': 56}]                                                                                                                                                                                                                                                                                                                                                                                                                               \n",
       "6   [{'entity_group': 'O', 'score': 0.68199015, 'word': 'Autorizar o afastamento do país de', 'start': 0, 'end': 34}, {'entity_group': 'PERSON', 'score': 0.61941856, 'word': 'CRISTINE MARIA WARMLING', 'start': 35, 'end': 58}, {'entity_group': 'O', 'score': 0.658246, 'word': ', Professor do Magistério Superior, lotada e em exercício no Departamento de Odontologia Preventiva e Social da Faculdade de Odontologia, com a finalidade de participar do \"3ème Congrès de la Societé Internationale d'Ergologie\", em Aix-en-Provence - França, no período compreendido entre 28/08/2016 e 01/09/2016, com ônus limitado.', 'start': 59, 'end': 390}]  \n",
       "8   [{'entity_group': 'PERSON', 'score': 0.63235503, 'word': 'CARLOS ALEXANDRE NETTO', 'start': 0, 'end': 22}, {'entity_group': 'O', 'score': 0.418368, 'word': 'Reitor', 'start': 23, 'end': 29}]                                                                                                                                                                                                                                                                                                                                                                                                                                                           \n",
       "11  [{'entity_group': 'O', 'score': 0.6808941, 'word': 'Autorizar o afastamento do país de', 'start': 0, 'end': 34}, {'entity_group': 'PERSON', 'score': 0.60456276, 'word': 'ANDRE DIAS MORTARI', 'start': 35, 'end': 53}, {'entity_group': 'O', 'score': 0.72398305, 'word': ', Assistente em Administração, lotado e em exercício na Escola de Administração, com a finalidade de participar do \"IV Congreso Internacional Red Pilares\", em Cartagena - Colombia, no período compreendido entre 29/08/2016 e 02/09/2016, com ônus limitado.', 'start': 54, 'end': 308}]                                                                                   "
      ]
     },
     "execution_count": 36,
     "metadata": {},
     "output_type": "execute_result"
    }
   ],
   "source": [
    "df_unique_sentences.head()"
   ]
  },
  {
   "cell_type": "code",
   "execution_count": 42,
   "metadata": {},
   "outputs": [
    {
     "name": "stdout",
     "output_type": "stream",
     "text": [
      "('Conceder à servidora LISIANE RAMOS VILK, ocupante do cargo de Administrador de Edifícios - 701400, lotada na Faculdade de Arquitetura, SIAPE 2325261, o percentual de 25% (vinte e cinco por cento) de Incentivo à Qualificação, a contar de 15/07/2016, tendo em vista a conclusão do curso de Graduação em Administração - Bacharelado, conforme o Processo nº 23078.015333/2016-19. ', [[21, 39, 'PERSON']])\n"
     ]
    }
   ],
   "source": [
    "df_unique_sentences['tagged_entities'].loc[2]\n",
    "print(ner_entity_dict_to_doccano_jsonl(df_unique_sentences['tagged_entities'].loc[2]))\n",
    "df_unique_sentences['label'] = df_unique_sentences.apply(lambda x: ner_entity_dict_to_doccano_jsonl(x['tagged_entities'])[1],axis=1)"
   ]
  },
  {
   "cell_type": "code",
   "execution_count": 45,
   "metadata": {},
   "outputs": [],
   "source": [
    "df_unique_sentences.to_json(os.path.join(path_to_train, 'unique_sentences.jsonl'),lines=True, orient = 'records')"
   ]
  },
  {
   "cell_type": "code",
   "execution_count": 46,
   "metadata": {},
   "outputs": [
    {
     "data": {
      "text/html": [
       "<div>\n",
       "<style scoped>\n",
       "    .dataframe tbody tr th:only-of-type {\n",
       "        vertical-align: middle;\n",
       "    }\n",
       "\n",
       "    .dataframe tbody tr th {\n",
       "        vertical-align: top;\n",
       "    }\n",
       "\n",
       "    .dataframe thead th {\n",
       "        text-align: right;\n",
       "    }\n",
       "</style>\n",
       "<table border=\"1\" class=\"dataframe\">\n",
       "  <thead>\n",
       "    <tr style=\"text-align: right;\">\n",
       "      <th></th>\n",
       "      <th>document</th>\n",
       "      <th>sentence</th>\n",
       "      <th>sentence_id</th>\n",
       "      <th>duplicates</th>\n",
       "      <th>label</th>\n",
       "      <th>tagged_entities</th>\n",
       "    </tr>\n",
       "  </thead>\n",
       "  <tbody>\n",
       "    <tr>\n",
       "      <th>2507</th>\n",
       "      <td>93672</td>\n",
       "      <td>2/2 SIAPE Nome do Servidor Classe PadrãoAnterior Novo Padrão Válida em 1908270 LISIANE BERNARDO DA SILVA E 05 06 28/06/2019 3002666 LIZIANE GONZALEZ D 01 02 12/06/2019 0359404 LUCIA DE FATIMA AMBOS C 15 16 02/06/2019 3001885 LUCIELE DOS SANTOS DA COSTA E 01 02 04/06/2019 1501710 MARCO ANTONIO MILLER D 09 10 27/06/2019 1055387 MARCOS LUIZ HINTERHOLZ E 03 04 02/06/2019 2185056 MAURA BOMBARDELLI E 03 04 30/06/2019 2319024 MICHELE UTPOTT E 02 03 13/06/2019 2317068 OTÁVIO LUÍS DA SILVA BARRADAS D 02 03 06/06/2019 2316407 PATRÍCIA ZIOMKOWSKI D 02 03 06/06/2019 1796567 RAFAEL ANDRIOLI RASCH D 06 07 25/06/2019 2187262 RAFAEL MARQUES MÜLLER D 03 04 22/06/2019 1395123 RICARDO ESTEVAM DE ANDRADE SANTOS D 01 02 27/06/2019 1423820 ROSE KELLY PIRES MARINHO D 01 02 27/06/2019 1697724 SAMUEL DOS SANTOS SALIMEN E 02 03 30/06/2019 3002061 SANDRA CRISTINA DE ARAUJO D 01 02 11/06/2019 3002675 THAÍS SPOHR CHRIST C 01 02 13/06/2019 1972210 TOBIAS DOS SANTOS GOMES D 01 02 27/06/2019 2324135 VALENCIA CRISTINA MEIER D 02 03 20/06/2019 2319305 VIANEI ELIZANDRO ZAMBONI D 02 03 22/06/2019 2321117 WAGNER MACHADO DA SILVA E 02 03 17/06/2019 1903536 ZULEIKA DE SOUZA BRANCO E 05 06 05/06/2019 MAURÍCIO VIÉGAS DA SILVA Pró-Reitor de Gestão de Pessoas</td>\n",
       "      <td>2507</td>\n",
       "      <td>[2507]</td>\n",
       "      <td>[[79, 104, PERSON], [131, 147, PERSON], [174, 195, PERSON], [222, 249, PERSON], [276, 296, PERSON], [323, 345, PERSON], [372, 389, PERSON], [416, 430, PERSON], [457, 486, PERSON]]</td>\n",
       "      <td>[{'entity_group': 'O', 'score': 0.73127943, 'word': '2/2 SIAPE Nome do Servidor Classe PadrãoAnterior Novo Padrão Válida em 1908270', 'start': 0, 'end': 78}, {'entity_group': 'PERSON', 'score': 0.60318124, 'word': 'LISIANE BERNARDO DA SILVA', 'start': 79, 'end': 104}, {'entity_group': 'O', 'score': 0.7948015, 'word': ' 05 06 28/06/2019 3002666', 'start': 105, 'end': 130}, {'entity_group': 'PERSON', 'score': 0.6116347, 'word': 'LIZIANE GONZALEZ', 'start': 131, 'end': 147}, {'entity_group': 'O', 'score': 0.79620516, 'word': ' 01 02 12/06/2019 0359404', 'start': 148, 'end': 173}, {'entity_group': 'PERSON', 'score': 0.57497036, 'word': 'LUCIA DE FATIMA AMBOS', 'start': 174, 'end': 195}, {'entity_group': 'O', 'score': 0.78663146, 'word': ' 15 16 02/06/2019 3001885', 'start': 196, 'end': 221}, {'entity_group': 'PERSON', 'score': 0.5348293, 'word': 'LUCIELE DOS SANTOS DA COSTA', 'start': 222, 'end': 249}, {'entity_group': 'O', 'score': 0.7869703, 'word': ' 01 02 04/06/2019 1501710', 'start': 250, 'end': 275}, {'entity_group': 'PERSON', 'score': 0.5773332, 'word': 'MARCO ANTONIO MILLER', 'start': 276, 'end': 296}, {'entity_group': 'O', 'score': 0.792752, 'word': ' 09 10 27/06/2019 1055387', 'start': 297, 'end': 322}, {'entity_group': 'PERSON', 'score': 0.5987951, 'word': 'MARCOS LUIZ HINTERHOLZ', 'start': 323, 'end': 345}, {'entity_group': 'O', 'score': 0.7839741, 'word': ' 03 04 02/06/2019 2185056', 'start': 346, 'end': 371}, {'entity_group': 'PERSON', 'score': 0.61466813, 'word': 'MAURA BOMBARDELLI', 'start': 372, 'end': 389}, {'entity_group': 'O', 'score': 0.78075325, 'word': ' 03 04 30/06/2019 2319024', 'start': 390, 'end': 415}, {'entity_group': 'PERSON', 'score': 0.49328786, 'word': 'MICHELE UTPOTT', 'start': 416, 'end': 430}, {'entity_group': 'O', 'score': 0.7886432, 'word': ' 02 03 13/06/2019 2317068', 'start': 431, 'end': 456}, {'entity_group': 'PERSON', 'score': 0.5957611, 'word': 'OTÁVIO LUÍS DA SILVA BARRADAS', 'start': 457, 'end': 486}, {'entity_group': 'O', 'score': 0.8131571, 'word': ' 02 03 06/06/201', 'start': 487, 'end': 503}]</td>\n",
       "    </tr>\n",
       "  </tbody>\n",
       "</table>\n",
       "</div>"
      ],
      "text/plain": [
       "      document  \\\n",
       "2507  93672      \n",
       "\n",
       "                                                                                                                                                                                                                                                                                                                                                                                                                                                                                                                                                                                                                                                                                                                                                                                                                                                                                                                                                                                                                                                                                                                                                                                                                                                                                  sentence  \\\n",
       "2507  2/2 SIAPE Nome do Servidor Classe PadrãoAnterior Novo Padrão Válida em 1908270 LISIANE BERNARDO DA SILVA E 05 06 28/06/2019 3002666 LIZIANE GONZALEZ D 01 02 12/06/2019 0359404 LUCIA DE FATIMA AMBOS C 15 16 02/06/2019 3001885 LUCIELE DOS SANTOS DA COSTA E 01 02 04/06/2019 1501710 MARCO ANTONIO MILLER D 09 10 27/06/2019 1055387 MARCOS LUIZ HINTERHOLZ E 03 04 02/06/2019 2185056 MAURA BOMBARDELLI E 03 04 30/06/2019 2319024 MICHELE UTPOTT E 02 03 13/06/2019 2317068 OTÁVIO LUÍS DA SILVA BARRADAS D 02 03 06/06/2019 2316407 PATRÍCIA ZIOMKOWSKI D 02 03 06/06/2019 1796567 RAFAEL ANDRIOLI RASCH D 06 07 25/06/2019 2187262 RAFAEL MARQUES MÜLLER D 03 04 22/06/2019 1395123 RICARDO ESTEVAM DE ANDRADE SANTOS D 01 02 27/06/2019 1423820 ROSE KELLY PIRES MARINHO D 01 02 27/06/2019 1697724 SAMUEL DOS SANTOS SALIMEN E 02 03 30/06/2019 3002061 SANDRA CRISTINA DE ARAUJO D 01 02 11/06/2019 3002675 THAÍS SPOHR CHRIST C 01 02 13/06/2019 1972210 TOBIAS DOS SANTOS GOMES D 01 02 27/06/2019 2324135 VALENCIA CRISTINA MEIER D 02 03 20/06/2019 2319305 VIANEI ELIZANDRO ZAMBONI D 02 03 22/06/2019 2321117 WAGNER MACHADO DA SILVA E 02 03 17/06/2019 1903536 ZULEIKA DE SOUZA BRANCO E 05 06 05/06/2019 MAURÍCIO VIÉGAS DA SILVA Pró-Reitor de Gestão de Pessoas   \n",
       "\n",
       "      sentence_id duplicates  \\\n",
       "2507  2507         [2507]      \n",
       "\n",
       "                                                                                                                                                                                    label  \\\n",
       "2507  [[79, 104, PERSON], [131, 147, PERSON], [174, 195, PERSON], [222, 249, PERSON], [276, 296, PERSON], [323, 345, PERSON], [372, 389, PERSON], [416, 430, PERSON], [457, 486, PERSON]]   \n",
       "\n",
       "                                                                                                                                                                                                                                                                                                                                                                                                                                                                                                                                                                                                                                                                                                                                                                                                                                                                                                                                                                                                                                                                                                                                                                                                                                                                                                                                                                                                                                                                                                                                                                                                                                                                                                                                                                                                                                                                                                                                                                                                                                                                                                                                               tagged_entities  \n",
       "2507  [{'entity_group': 'O', 'score': 0.73127943, 'word': '2/2 SIAPE Nome do Servidor Classe PadrãoAnterior Novo Padrão Válida em 1908270', 'start': 0, 'end': 78}, {'entity_group': 'PERSON', 'score': 0.60318124, 'word': 'LISIANE BERNARDO DA SILVA', 'start': 79, 'end': 104}, {'entity_group': 'O', 'score': 0.7948015, 'word': ' 05 06 28/06/2019 3002666', 'start': 105, 'end': 130}, {'entity_group': 'PERSON', 'score': 0.6116347, 'word': 'LIZIANE GONZALEZ', 'start': 131, 'end': 147}, {'entity_group': 'O', 'score': 0.79620516, 'word': ' 01 02 12/06/2019 0359404', 'start': 148, 'end': 173}, {'entity_group': 'PERSON', 'score': 0.57497036, 'word': 'LUCIA DE FATIMA AMBOS', 'start': 174, 'end': 195}, {'entity_group': 'O', 'score': 0.78663146, 'word': ' 15 16 02/06/2019 3001885', 'start': 196, 'end': 221}, {'entity_group': 'PERSON', 'score': 0.5348293, 'word': 'LUCIELE DOS SANTOS DA COSTA', 'start': 222, 'end': 249}, {'entity_group': 'O', 'score': 0.7869703, 'word': ' 01 02 04/06/2019 1501710', 'start': 250, 'end': 275}, {'entity_group': 'PERSON', 'score': 0.5773332, 'word': 'MARCO ANTONIO MILLER', 'start': 276, 'end': 296}, {'entity_group': 'O', 'score': 0.792752, 'word': ' 09 10 27/06/2019 1055387', 'start': 297, 'end': 322}, {'entity_group': 'PERSON', 'score': 0.5987951, 'word': 'MARCOS LUIZ HINTERHOLZ', 'start': 323, 'end': 345}, {'entity_group': 'O', 'score': 0.7839741, 'word': ' 03 04 02/06/2019 2185056', 'start': 346, 'end': 371}, {'entity_group': 'PERSON', 'score': 0.61466813, 'word': 'MAURA BOMBARDELLI', 'start': 372, 'end': 389}, {'entity_group': 'O', 'score': 0.78075325, 'word': ' 03 04 30/06/2019 2319024', 'start': 390, 'end': 415}, {'entity_group': 'PERSON', 'score': 0.49328786, 'word': 'MICHELE UTPOTT', 'start': 416, 'end': 430}, {'entity_group': 'O', 'score': 0.7886432, 'word': ' 02 03 13/06/2019 2317068', 'start': 431, 'end': 456}, {'entity_group': 'PERSON', 'score': 0.5957611, 'word': 'OTÁVIO LUÍS DA SILVA BARRADAS', 'start': 457, 'end': 486}, {'entity_group': 'O', 'score': 0.8131571, 'word': ' 02 03 06/06/201', 'start': 487, 'end': 503}]  "
      ]
     },
     "execution_count": 46,
     "metadata": {},
     "output_type": "execute_result"
    }
   ],
   "source": [
    "df_unique_sentences[df_unique_sentences['sentence_id'] == 2507]"
   ]
  }
 ],
 "metadata": {
  "kernelspec": {
   "display_name": "Python 3.10.4 ('NLP22')",
   "language": "python",
   "name": "python3"
  },
  "language_info": {
   "codemirror_mode": {
    "name": "ipython",
    "version": 3
   },
   "file_extension": ".py",
   "mimetype": "text/x-python",
   "name": "python",
   "nbconvert_exporter": "python",
   "pygments_lexer": "ipython3",
   "version": "3.10.4"
  },
  "orig_nbformat": 4,
  "vscode": {
   "interpreter": {
    "hash": "228764ee21566ea5d9101d690a7d226c86c8b64251894d53614cd4c162a99691"
   }
  }
 },
 "nbformat": 4,
 "nbformat_minor": 2
}
