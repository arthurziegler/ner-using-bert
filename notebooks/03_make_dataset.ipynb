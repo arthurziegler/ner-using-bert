{
 "cells": [
  {
   "cell_type": "markdown",
   "metadata": {},
   "source": [
    "# Create the dataset"
   ]
  },
  {
   "cell_type": "code",
   "execution_count": 93,
   "metadata": {},
   "outputs": [
    {
     "name": "stderr",
     "output_type": "stream",
     "text": [
      "[nltk_data] Downloading package punkt to\n",
      "[nltk_data]     C:\\Users\\arthu\\AppData\\Roaming\\nltk_data...\n",
      "[nltk_data]   Package punkt is already up-to-date!\n"
     ]
    }
   ],
   "source": [
    "#External\n",
    "import nltk\n",
    "from nltk.tokenize import sent_tokenize, word_tokenize, TreebankWordTokenizer, WhitespaceTokenizer\n",
    "import numpy as np\n",
    "import pandas as pd\n",
    "from pprint import pprint\n",
    "import os\n",
    "nltk.download('punkt')\n",
    "from transformers import AutoTokenizer\n",
    "import textwrap\n",
    "import re\n",
    "from datasets import load_dataset, Dataset\n",
    "import matplotlib.pyplot as plt\n",
    "\n",
    "#Internal\n",
    "import data_cleaning.data_cleaning as dc"
   ]
  },
  {
   "cell_type": "markdown",
   "metadata": {},
   "source": [
    "## Open Annotated Sentences\n",
    "We get the sentences from 'prep_data_labeling.ipynb' that we annotated manually with deccano."
   ]
  },
  {
   "cell_type": "code",
   "execution_count": 76,
   "metadata": {},
   "outputs": [
    {
     "data": {
      "application/vnd.microsoft.datawrangler.viewer.v0+json": {
       "columns": [
        {
         "name": "index",
         "rawType": "int64",
         "type": "integer"
        },
        {
         "name": "id",
         "rawType": "int64",
         "type": "integer"
        },
        {
         "name": "text",
         "rawType": "object",
         "type": "string"
        },
        {
         "name": "tagged_entities",
         "rawType": "object",
         "type": "unknown"
        },
        {
         "name": "document_id",
         "rawType": "int64",
         "type": "integer"
        },
        {
         "name": "sentence_id",
         "rawType": "int64",
         "type": "integer"
        },
        {
         "name": "doc__sentence_id",
         "rawType": "object",
         "type": "string"
        },
        {
         "name": "duplicate_ids",
         "rawType": "object",
         "type": "unknown"
        },
        {
         "name": "label",
         "rawType": "object",
         "type": "unknown"
        }
       ],
       "ref": "9079b9fc-d37b-4449-85ed-e22bc536a29f",
       "rows": [
        [
         "0",
         "2227",
         "Conceder à servidora LISIANE RAMOS VILK, ocupante do cargo de Administrador de Edifícios - 701400, lotada na Faculdade de Arquitetura, SIAPE 2325261, o percentual de 25% (vinte e cinco por cento) de Incentivo à Qualificação, a contar de 15/07/2016, tendo em vista a conclusão do curso de Graduação em Administração - Bacharelado, conforme o Processo nº 23078.015333/2016-19.",
         "[{'entity_group': 'O', 'score': 0.7762932777, 'word': 'Conceder à servidora', 'start': 0, 'end': 20}, {'entity_group': 'PERSON', 'score': 0.6477044225, 'word': 'LISIANE RAMOS VILK', 'start': 21, 'end': 39}, {'entity_group': 'O', 'score': 0.7640748620000001, 'word': ', ocupante do cargo de Administrador de Edifícios - 701400, lotada na Faculdade de Arquitetura, SIAPE 2325261, o percentual de 25% (vinte e cinco por cento) de Incentivo à Qualificação, a contar de 15/07/2016, tendo em vista a conclusão do curso de Graduação em Administração - Bacharelado, conforme o Processo nº 23078.015333/2016-19.', 'start': 40, 'end': 375}]",
         "25644",
         "2",
         "25644-2",
         "['25644-2']",
         "[[21, 39, 'PERSON'], [62, 88, 'OCCUPATION'], [109, 133, 'ORGANIZATION'], [237, 247, 'DATE']]"
        ],
        [
         "1",
         "2228",
         "MAURÍCIO VIÉGAS DA SILVA Pró-Reitor de Gestão de Pessoas",
         "[{'entity_group': 'PERSON', 'score': 0.6592996120000001, 'word': 'MAURÍCIO VIÉGAS DA SILVA', 'start': 0, 'end': 24}, {'entity_group': 'O', 'score': 0.38087555770000003, 'word': 'Pró-Reitor de Gestão de Pessoas', 'start': 25, 'end': 56}]",
         "105798",
         "3",
         "105798-3",
         "['105798-3', '105799-3', '105801-3', '105802-3', '18001-2', '18003-2', '18004-2', '18005-2', '18006-2', '25644-3', '25675-3', '25702-3', '27011-3', '27012-4', '27035-3', '27036-3', '27037-3', '27038-3', '27040-3', '27042-3', '27043-3', '27044-3', '27045-3', '27052-3', '27053-3', '27054-3', '27055-3', '27057-3', '27058-3', '27059-3', '32075-3', '32090-4', '32091-4', '32093-4', '32094-4', '32097-4', '32099-4', '32100-4', '32101-4', '32102-4', '32104-4', '32105-4', '32106-4', '32107-4', '32108-4', '32109-4', '32110-4', '32111-4', '32112-4', '32113-4', '32114-3', '32115-3', '32116-3', '32117-3', '32118-3', '32119-3', '32120-3', '32121-3', '32122-3', '32123-5', '32124-3', '32125-3', '32126-3', '32127-3', '32128-3', '32129-4', '32130-4', '32131-4', '32133-3', '32135-5', '32136-5', '32150-3', '32151-3', '32152-3', '32153-3', '32154-3', '32155-3', '32156-3', '32157-3', '32158-3', '32159-3', '32160-3', '32161-3', '32162-3', '32163-3', '32164-3', '32165-3', '32166-3', '32167-3', '32168-3', '32169-3', '32170-3', '32171-3', '32172-3', '32173-3', '32174-3', '32175-3', '32176-3', '32177-3', '32178-3', '32179-3', '32180-3', '32181-3', '32182-3', '32186-3', '32195-5', '32198-3', '32201-3', '37694-4', '52918-3', '55504-3', '55506-4', '55510-3', '55521-4', '55529-3', '55602-3', '55613-3', '55622-3', '55633-4', '55635-4', '55649-3', '55650-3', '55651-3', '55657-3', '55659-3', '55662-3', '55665-3', '55666-3', '55669-4', '55671-3', '55672-3', '55676-3', '55690-3', '55697-3', '55698-3', '55700-3', '55701-3', '55715-4', '55716-4', '55719-3', '55720-3', '55721-3', '55723-3', '55725-3', '55727-3', '55732-3', '55735-3', '55737-3', '55738-3', '55740-3', '55741-3', '55745-3', '55746-3', '55747-3', '55752-3', '55753-3', '55754-3', '55756-3', '55757-3', '55758-3', '55759-3', '55760-3', '55761-3', '55762-3', '55774-3', '55778-3', '55779-3', '55781-3', '55782-3', '55783-3', '55785-3', '55787-3', '55794-3', '55795-3', '55796-3', '55797-3', '55799-3', '55800-8', '55802-3', '55805-3', '55806-3', '55807-4', '55808-4', '55810-4', '69949-3', '69950-3', '69951-3', '69952-3', '69953-3', '69954-3', '69955-3', '69956-3', '69957-3', '69958-3', '69959-3', '69961-3', '69962-3', '69963-3', '69965-3', '69966-3', '69967-5', '69968-3', '69969-3', '69970-3', '69971-3', '69972-3', '69974-3', '72967-3', '72971-3', '72974-3', '72975-3', '72980-3', '72986-3', '72996-3', '73006-3', '73008-3', '73010-3', '73011-3', '73013-3', '73015-3', '73016-3', '73017-3', '73021-3', '73024-3', '73027-3', '93653-3', '93654-3', '93657-3', '93663-3', '93664-3', '93669-3', '93670-4', '93671-3', '93673-3']",
         "[[0, 24, 'PERSON'], [25, 56, 'OCCUPATION']]"
        ],
        [
         "2",
         "2229",
         "Autorizar o afastamento do país de CRISTINE MARIA WARMLING, Professor do Magistério Superior, lotada e em exercício no Departamento de Odontologia Preventiva e Social da Faculdade de Odontologia, com a finalidade de participar do \"3ème Congrès de la Societé Internationale d'Ergologie\", em Aix-en-Provence - França, no período compreendido entre 28/08/2016 e 01/09/2016, com ônus limitado.",
         "[{'entity_group': 'O', 'score': 0.6819901466, 'word': 'Autorizar o afastamento do país de', 'start': 0, 'end': 34}, {'entity_group': 'PERSON', 'score': 0.6194185615000001, 'word': 'CRISTINE MARIA WARMLING', 'start': 35, 'end': 58}, {'entity_group': 'O', 'score': 0.6582459807000001, 'word': ', Professor do Magistério Superior, lotada e em exercício no Departamento de Odontologia Preventiva e Social da Faculdade de Odontologia, com a finalidade de participar do \"3ème Congrès de la Societé Internationale d\\'Ergologie\", em Aix-en-Provence - França, no período compreendido entre 28/08/2016 e 01/09/2016, com ônus limitado.', 'start': 59, 'end': 390}]",
         "25645",
         "2",
         "25645-2",
         "['25645-2']",
         "[[35, 58, 'PERSON'], [60, 92, 'OCCUPATION'], [170, 194, 'ORGANIZATION'], [250, 284, 'ORGANIZATION'], [290, 305, 'LOCATION'], [308, 314, 'LOCATION'], [346, 356, 'DATE'], [359, 369, 'DATE']]"
        ],
        [
         "3",
         "2230",
         "CARLOS ALEXANDRE NETTO Reitor",
         "[{'entity_group': 'PERSON', 'score': 0.6323550344000001, 'word': 'CARLOS ALEXANDRE NETTO', 'start': 0, 'end': 22}, {'entity_group': 'O', 'score': 0.41836801170000004, 'word': 'Reitor', 'start': 23, 'end': 29}]",
         "25645",
         "4",
         "25645-4",
         "['25645-4', '25646-4', '25647-4', '25648-4', '25649-4', '25653-4', '25654-4', '25665-4', '25670-4', '25672-4', '25676-4', '25677-4', '25681-4', '25684-4', '25696-4', '25697-4', '25699-4', '25700-4', '25701-4', '25704-4']",
         "[[0, 22, 'PERSON'], [23, 29, 'OCCUPATION']]"
        ],
        [
         "4",
         "2231",
         "Autorizar o afastamento do país de ANDRE DIAS MORTARI, Assistente em Administração, lotado e em exercício na Escola de Administração, com a finalidade de participar do \"IV Congreso Internacional Red Pilares\", em Cartagena - Colombia, no período compreendido entre 29/08/2016 e 02/09/2016, com ônus limitado.",
         "[{'entity_group': 'O', 'score': 0.6808940768, 'word': 'Autorizar o afastamento do país de', 'start': 0, 'end': 34}, {'entity_group': 'PERSON', 'score': 0.6045627594, 'word': 'ANDRE DIAS MORTARI', 'start': 35, 'end': 53}, {'entity_group': 'O', 'score': 0.7239830494, 'word': ', Assistente em Administração, lotado e em exercício na Escola de Administração, com a finalidade de participar do \"IV Congreso Internacional Red Pilares\", em Cartagena - Colombia, no período compreendido entre 29/08/2016 e 02/09/2016, com ônus limitado.', 'start': 54, 'end': 308}]",
         "25646",
         "2",
         "25646-2",
         "['25646-2']",
         "[[35, 53, 'PERSON'], [55, 82, 'OCCUPATION'], [109, 132, 'ORGANIZATION'], [212, 222, 'LOCATION'], [224, 232, 'LOCATION'], [264, 274, 'DATE'], [277, 287, 'DATE']]"
        ]
       ],
       "shape": {
        "columns": 8,
        "rows": 5
       }
      },
      "text/html": [
       "<div>\n",
       "<style scoped>\n",
       "    .dataframe tbody tr th:only-of-type {\n",
       "        vertical-align: middle;\n",
       "    }\n",
       "\n",
       "    .dataframe tbody tr th {\n",
       "        vertical-align: top;\n",
       "    }\n",
       "\n",
       "    .dataframe thead th {\n",
       "        text-align: right;\n",
       "    }\n",
       "</style>\n",
       "<table border=\"1\" class=\"dataframe\">\n",
       "  <thead>\n",
       "    <tr style=\"text-align: right;\">\n",
       "      <th></th>\n",
       "      <th>id</th>\n",
       "      <th>text</th>\n",
       "      <th>tagged_entities</th>\n",
       "      <th>document_id</th>\n",
       "      <th>sentence_id</th>\n",
       "      <th>doc__sentence_id</th>\n",
       "      <th>duplicate_ids</th>\n",
       "      <th>label</th>\n",
       "    </tr>\n",
       "  </thead>\n",
       "  <tbody>\n",
       "    <tr>\n",
       "      <th>0</th>\n",
       "      <td>2227</td>\n",
       "      <td>Conceder à servidora LISIANE RAMOS VILK, ocupa...</td>\n",
       "      <td>[{'entity_group': 'O', 'score': 0.7762932777, ...</td>\n",
       "      <td>25644</td>\n",
       "      <td>2</td>\n",
       "      <td>25644-2</td>\n",
       "      <td>[25644-2]</td>\n",
       "      <td>[[21, 39, PERSON], [62, 88, OCCUPATION], [109,...</td>\n",
       "    </tr>\n",
       "    <tr>\n",
       "      <th>1</th>\n",
       "      <td>2228</td>\n",
       "      <td>MAURÍCIO VIÉGAS DA SILVA Pró-Reitor de Gestão ...</td>\n",
       "      <td>[{'entity_group': 'PERSON', 'score': 0.6592996...</td>\n",
       "      <td>105798</td>\n",
       "      <td>3</td>\n",
       "      <td>105798-3</td>\n",
       "      <td>[105798-3, 105799-3, 105801-3, 105802-3, 18001...</td>\n",
       "      <td>[[0, 24, PERSON], [25, 56, OCCUPATION]]</td>\n",
       "    </tr>\n",
       "    <tr>\n",
       "      <th>2</th>\n",
       "      <td>2229</td>\n",
       "      <td>Autorizar o afastamento do país de CRISTINE MA...</td>\n",
       "      <td>[{'entity_group': 'O', 'score': 0.6819901466, ...</td>\n",
       "      <td>25645</td>\n",
       "      <td>2</td>\n",
       "      <td>25645-2</td>\n",
       "      <td>[25645-2]</td>\n",
       "      <td>[[35, 58, PERSON], [60, 92, OCCUPATION], [170,...</td>\n",
       "    </tr>\n",
       "    <tr>\n",
       "      <th>3</th>\n",
       "      <td>2230</td>\n",
       "      <td>CARLOS ALEXANDRE NETTO Reitor</td>\n",
       "      <td>[{'entity_group': 'PERSON', 'score': 0.6323550...</td>\n",
       "      <td>25645</td>\n",
       "      <td>4</td>\n",
       "      <td>25645-4</td>\n",
       "      <td>[25645-4, 25646-4, 25647-4, 25648-4, 25649-4, ...</td>\n",
       "      <td>[[0, 22, PERSON], [23, 29, OCCUPATION]]</td>\n",
       "    </tr>\n",
       "    <tr>\n",
       "      <th>4</th>\n",
       "      <td>2231</td>\n",
       "      <td>Autorizar o afastamento do país de ANDRE DIAS ...</td>\n",
       "      <td>[{'entity_group': 'O', 'score': 0.6808940768, ...</td>\n",
       "      <td>25646</td>\n",
       "      <td>2</td>\n",
       "      <td>25646-2</td>\n",
       "      <td>[25646-2]</td>\n",
       "      <td>[[35, 53, PERSON], [55, 82, OCCUPATION], [109,...</td>\n",
       "    </tr>\n",
       "  </tbody>\n",
       "</table>\n",
       "</div>"
      ],
      "text/plain": [
       "     id                                               text  \\\n",
       "0  2227  Conceder à servidora LISIANE RAMOS VILK, ocupa...   \n",
       "1  2228  MAURÍCIO VIÉGAS DA SILVA Pró-Reitor de Gestão ...   \n",
       "2  2229  Autorizar o afastamento do país de CRISTINE MA...   \n",
       "3  2230                      CARLOS ALEXANDRE NETTO Reitor   \n",
       "4  2231  Autorizar o afastamento do país de ANDRE DIAS ...   \n",
       "\n",
       "                                     tagged_entities  document_id  \\\n",
       "0  [{'entity_group': 'O', 'score': 0.7762932777, ...        25644   \n",
       "1  [{'entity_group': 'PERSON', 'score': 0.6592996...       105798   \n",
       "2  [{'entity_group': 'O', 'score': 0.6819901466, ...        25645   \n",
       "3  [{'entity_group': 'PERSON', 'score': 0.6323550...        25645   \n",
       "4  [{'entity_group': 'O', 'score': 0.6808940768, ...        25646   \n",
       "\n",
       "   sentence_id doc__sentence_id  \\\n",
       "0            2          25644-2   \n",
       "1            3         105798-3   \n",
       "2            2          25645-2   \n",
       "3            4          25645-4   \n",
       "4            2          25646-2   \n",
       "\n",
       "                                       duplicate_ids  \\\n",
       "0                                          [25644-2]   \n",
       "1  [105798-3, 105799-3, 105801-3, 105802-3, 18001...   \n",
       "2                                          [25645-2]   \n",
       "3  [25645-4, 25646-4, 25647-4, 25648-4, 25649-4, ...   \n",
       "4                                          [25646-2]   \n",
       "\n",
       "                                               label  \n",
       "0  [[21, 39, PERSON], [62, 88, OCCUPATION], [109,...  \n",
       "1            [[0, 24, PERSON], [25, 56, OCCUPATION]]  \n",
       "2  [[35, 58, PERSON], [60, 92, OCCUPATION], [170,...  \n",
       "3            [[0, 22, PERSON], [23, 29, OCCUPATION]]  \n",
       "4  [[35, 53, PERSON], [55, 82, OCCUPATION], [109,...  "
      ]
     },
     "execution_count": 76,
     "metadata": {},
     "output_type": "execute_result"
    }
   ],
   "source": [
    "annotated_df = pd.read_json('../data/annotated/doccano-extraction-09-12-24.jsonl', lines=True)\n",
    "annotated_df.head()"
   ]
  },
  {
   "cell_type": "markdown",
   "metadata": {},
   "source": [
    "### Separate duplicate sentences [OPTIONAL STEP]\n",
    "(Having repeated sentences might not help training. Ideal solution is using data augmentation if more data is necessary)\n",
    "Next we'll explode our dataframe so that duplicate sentences can become separate rows. We'll also drop a few columns that will have inconsistent information after the explode and will also not be useful for us."
   ]
  },
  {
   "cell_type": "code",
   "execution_count": 77,
   "metadata": {},
   "outputs": [],
   "source": [
    "#annotated_df = annotated_df.explode(\"duplicate_ids\")"
   ]
  },
  {
   "cell_type": "markdown",
   "metadata": {},
   "source": [
    "### Clean document so only required data is kept\n",
    "All the document and sentences ids are not needed for training. Their use would be necessary only when trying to map sentences back to the origin."
   ]
  },
  {
   "cell_type": "code",
   "execution_count": 78,
   "metadata": {},
   "outputs": [
    {
     "name": "stdout",
     "output_type": "stream",
     "text": [
      "(768, 2)\n"
     ]
    },
    {
     "data": {
      "application/vnd.microsoft.datawrangler.viewer.v0+json": {
       "columns": [
        {
         "name": "index",
         "rawType": "int64",
         "type": "integer"
        },
        {
         "name": "text",
         "rawType": "object",
         "type": "string"
        },
        {
         "name": "label",
         "rawType": "object",
         "type": "unknown"
        }
       ],
       "ref": "005b639e-4687-4128-9db8-2022d93c3e52",
       "rows": [
        [
         "0",
         "Conceder à servidora LISIANE RAMOS VILK, ocupante do cargo de Administrador de Edifícios - 701400, lotada na Faculdade de Arquitetura, SIAPE 2325261, o percentual de 25% (vinte e cinco por cento) de Incentivo à Qualificação, a contar de 15/07/2016, tendo em vista a conclusão do curso de Graduação em Administração - Bacharelado, conforme o Processo nº 23078.015333/2016-19.",
         "[[21, 39, 'PERSON'], [62, 88, 'OCCUPATION'], [109, 133, 'ORGANIZATION'], [237, 247, 'DATE']]"
        ],
        [
         "1",
         "MAURÍCIO VIÉGAS DA SILVA Pró-Reitor de Gestão de Pessoas",
         "[[0, 24, 'PERSON'], [25, 56, 'OCCUPATION']]"
        ],
        [
         "2",
         "Autorizar o afastamento do país de CRISTINE MARIA WARMLING, Professor do Magistério Superior, lotada e em exercício no Departamento de Odontologia Preventiva e Social da Faculdade de Odontologia, com a finalidade de participar do \"3ème Congrès de la Societé Internationale d'Ergologie\", em Aix-en-Provence - França, no período compreendido entre 28/08/2016 e 01/09/2016, com ônus limitado.",
         "[[35, 58, 'PERSON'], [60, 92, 'OCCUPATION'], [170, 194, 'ORGANIZATION'], [250, 284, 'ORGANIZATION'], [290, 305, 'LOCATION'], [308, 314, 'LOCATION'], [346, 356, 'DATE'], [359, 369, 'DATE']]"
        ],
        [
         "3",
         "CARLOS ALEXANDRE NETTO Reitor",
         "[[0, 22, 'PERSON'], [23, 29, 'OCCUPATION']]"
        ],
        [
         "4",
         "Autorizar o afastamento do país de ANDRE DIAS MORTARI, Assistente em Administração, lotado e em exercício na Escola de Administração, com a finalidade de participar do \"IV Congreso Internacional Red Pilares\", em Cartagena - Colombia, no período compreendido entre 29/08/2016 e 02/09/2016, com ônus limitado.",
         "[[35, 53, 'PERSON'], [55, 82, 'OCCUPATION'], [109, 132, 'ORGANIZATION'], [212, 222, 'LOCATION'], [224, 232, 'LOCATION'], [264, 274, 'DATE'], [277, 287, 'DATE']]"
        ]
       ],
       "shape": {
        "columns": 2,
        "rows": 5
       }
      },
      "text/html": [
       "<div>\n",
       "<style scoped>\n",
       "    .dataframe tbody tr th:only-of-type {\n",
       "        vertical-align: middle;\n",
       "    }\n",
       "\n",
       "    .dataframe tbody tr th {\n",
       "        vertical-align: top;\n",
       "    }\n",
       "\n",
       "    .dataframe thead th {\n",
       "        text-align: right;\n",
       "    }\n",
       "</style>\n",
       "<table border=\"1\" class=\"dataframe\">\n",
       "  <thead>\n",
       "    <tr style=\"text-align: right;\">\n",
       "      <th></th>\n",
       "      <th>text</th>\n",
       "      <th>label</th>\n",
       "    </tr>\n",
       "  </thead>\n",
       "  <tbody>\n",
       "    <tr>\n",
       "      <th>0</th>\n",
       "      <td>Conceder à servidora LISIANE RAMOS VILK, ocupa...</td>\n",
       "      <td>[[21, 39, PERSON], [62, 88, OCCUPATION], [109,...</td>\n",
       "    </tr>\n",
       "    <tr>\n",
       "      <th>1</th>\n",
       "      <td>MAURÍCIO VIÉGAS DA SILVA Pró-Reitor de Gestão ...</td>\n",
       "      <td>[[0, 24, PERSON], [25, 56, OCCUPATION]]</td>\n",
       "    </tr>\n",
       "    <tr>\n",
       "      <th>2</th>\n",
       "      <td>Autorizar o afastamento do país de CRISTINE MA...</td>\n",
       "      <td>[[35, 58, PERSON], [60, 92, OCCUPATION], [170,...</td>\n",
       "    </tr>\n",
       "    <tr>\n",
       "      <th>3</th>\n",
       "      <td>CARLOS ALEXANDRE NETTO Reitor</td>\n",
       "      <td>[[0, 22, PERSON], [23, 29, OCCUPATION]]</td>\n",
       "    </tr>\n",
       "    <tr>\n",
       "      <th>4</th>\n",
       "      <td>Autorizar o afastamento do país de ANDRE DIAS ...</td>\n",
       "      <td>[[35, 53, PERSON], [55, 82, OCCUPATION], [109,...</td>\n",
       "    </tr>\n",
       "  </tbody>\n",
       "</table>\n",
       "</div>"
      ],
      "text/plain": [
       "                                                text  \\\n",
       "0  Conceder à servidora LISIANE RAMOS VILK, ocupa...   \n",
       "1  MAURÍCIO VIÉGAS DA SILVA Pró-Reitor de Gestão ...   \n",
       "2  Autorizar o afastamento do país de CRISTINE MA...   \n",
       "3                      CARLOS ALEXANDRE NETTO Reitor   \n",
       "4  Autorizar o afastamento do país de ANDRE DIAS ...   \n",
       "\n",
       "                                               label  \n",
       "0  [[21, 39, PERSON], [62, 88, OCCUPATION], [109,...  \n",
       "1            [[0, 24, PERSON], [25, 56, OCCUPATION]]  \n",
       "2  [[35, 58, PERSON], [60, 92, OCCUPATION], [170,...  \n",
       "3            [[0, 22, PERSON], [23, 29, OCCUPATION]]  \n",
       "4  [[35, 53, PERSON], [55, 82, OCCUPATION], [109,...  "
      ]
     },
     "execution_count": 78,
     "metadata": {},
     "output_type": "execute_result"
    }
   ],
   "source": [
    "sentences = annotated_df[['text', 'label']].copy()\n",
    "print(sentences.shape)\n",
    "sentences.head() "
   ]
  },
  {
   "cell_type": "markdown",
   "metadata": {},
   "source": [
    "Drop all sentences that only contain 1 or less labels. This is useful so that we don't fine tune our model with sentences that have almost no information about named entities. [Optional]"
   ]
  },
  {
   "cell_type": "code",
   "execution_count": 79,
   "metadata": {},
   "outputs": [],
   "source": [
    "# Check list of sentences with a specific length\n",
    "#sentences[sentences['label'].map(len) == 1]"
   ]
  },
  {
   "cell_type": "code",
   "execution_count": 80,
   "metadata": {},
   "outputs": [
    {
     "name": "stdout",
     "output_type": "stream",
     "text": [
      "Shape before filter: (768, 2)\n",
      "Shape after filter: (676, 2)\n"
     ]
    }
   ],
   "source": [
    "#Drop all sentences that contain 1 or less labels\n",
    "print('Shape before filter:', sentences.shape)\n",
    "\n",
    "for idx, row in sentences.iterrows():\n",
    "    if len(row['label']) <= 1 :\n",
    "        sentences.drop(idx, inplace=True)\n",
    "sentences.reset_index(drop=True, inplace=True)\n",
    "\n",
    "print('Shape after filter:', sentences.shape)"
   ]
  },
  {
   "cell_type": "markdown",
   "metadata": {},
   "source": [
    "## Splitting dataset from sentences to list of words"
   ]
  },
  {
   "cell_type": "markdown",
   "metadata": {},
   "source": [
    "Let's tokenize the sentences and tokens using the TreebankWordTokenizer\n",
    "The first method 'tokenize' will split our sentence and return a list of words which we'll organize in a 'tokenized_sentences' list.\n",
    "The second method 'span_tokenize' will return the start and end position of each token resulting from the split. We'll organize them in a 'token_positions' list."
   ]
  },
  {
   "cell_type": "code",
   "execution_count": 81,
   "metadata": {},
   "outputs": [],
   "source": [
    "# Split sentences into list of words. \n",
    "# Tokenized_sentences is a list of list of words and \n",
    "# Token_positions has the start and end position of each word in the original sentence.\n",
    "tokenized_sentences = []\n",
    "token_positions = []\n",
    "for idx, sentence in sentences['text'].items():\n",
    "    tokenized_sentences.append(TreebankWordTokenizer().tokenize(sentence))\n",
    "    token_positions.append(list(TreebankWordTokenizer().span_tokenize(sentence)))\n",
    "\n",
    "#print(tokenized_sentences[0])\n",
    "#print(token_positions[0])\n",
    "\n",
    "\n",
    "# We'll zip both the words and their positions together in the same list.\n",
    "tokenized_sentence_position = []\n",
    "for sentence, positions in zip(tokenized_sentences, token_positions):\n",
    "    tokenized_sentence_position.append(list(zip(sentence, positions)))\n",
    "    \n",
    "    \n",
    "# Check the zip\n",
    "#print(sentences['label'].loc[0])\n",
    "#tokenized_sentence_position[0]"
   ]
  },
  {
   "cell_type": "code",
   "execution_count": 82,
   "metadata": {},
   "outputs": [
    {
     "data": {
      "application/vnd.microsoft.datawrangler.viewer.v0+json": {
       "columns": [
        {
         "name": "index",
         "rawType": "int64",
         "type": "integer"
        },
        {
         "name": "token",
         "rawType": "object",
         "type": "string"
        },
        {
         "name": "start",
         "rawType": "int64",
         "type": "integer"
        },
        {
         "name": "end",
         "rawType": "int64",
         "type": "integer"
        }
       ],
       "ref": "e7fd4eb1-4d33-4ce4-8701-b72caa4b86d6",
       "rows": [
        [
         "0",
         "Conceder",
         "0",
         "8"
        ],
        [
         "1",
         "à",
         "9",
         "10"
        ],
        [
         "2",
         "servidora",
         "11",
         "20"
        ],
        [
         "3",
         "LISIANE",
         "21",
         "28"
        ],
        [
         "4",
         "RAMOS",
         "29",
         "34"
        ],
        [
         "5",
         "VILK",
         "35",
         "39"
        ],
        [
         "6",
         ",",
         "39",
         "40"
        ],
        [
         "7",
         "ocupante",
         "41",
         "49"
        ],
        [
         "8",
         "do",
         "50",
         "52"
        ],
        [
         "9",
         "cargo",
         "53",
         "58"
        ],
        [
         "10",
         "de",
         "59",
         "61"
        ],
        [
         "11",
         "Administrador",
         "62",
         "75"
        ],
        [
         "12",
         "de",
         "76",
         "78"
        ],
        [
         "13",
         "Edifícios",
         "79",
         "88"
        ],
        [
         "14",
         "-",
         "89",
         "90"
        ],
        [
         "15",
         "701400",
         "91",
         "97"
        ],
        [
         "16",
         ",",
         "97",
         "98"
        ],
        [
         "17",
         "lotada",
         "99",
         "105"
        ],
        [
         "18",
         "na",
         "106",
         "108"
        ],
        [
         "19",
         "Faculdade",
         "109",
         "118"
        ],
        [
         "20",
         "de",
         "119",
         "121"
        ],
        [
         "21",
         "Arquitetura",
         "122",
         "133"
        ],
        [
         "22",
         ",",
         "133",
         "134"
        ],
        [
         "23",
         "SIAPE",
         "135",
         "140"
        ],
        [
         "24",
         "2325261",
         "141",
         "148"
        ],
        [
         "25",
         ",",
         "148",
         "149"
        ],
        [
         "26",
         "o",
         "150",
         "151"
        ],
        [
         "27",
         "percentual",
         "152",
         "162"
        ],
        [
         "28",
         "de",
         "163",
         "165"
        ],
        [
         "29",
         "25",
         "166",
         "168"
        ],
        [
         "30",
         "%",
         "168",
         "169"
        ],
        [
         "31",
         "(",
         "170",
         "171"
        ],
        [
         "32",
         "vinte",
         "171",
         "176"
        ],
        [
         "33",
         "e",
         "177",
         "178"
        ],
        [
         "34",
         "cinco",
         "179",
         "184"
        ],
        [
         "35",
         "por",
         "185",
         "188"
        ],
        [
         "36",
         "cento",
         "189",
         "194"
        ],
        [
         "37",
         ")",
         "194",
         "195"
        ],
        [
         "38",
         "de",
         "196",
         "198"
        ],
        [
         "39",
         "Incentivo",
         "199",
         "208"
        ],
        [
         "40",
         "à",
         "209",
         "210"
        ],
        [
         "41",
         "Qualificação",
         "211",
         "223"
        ],
        [
         "42",
         ",",
         "223",
         "224"
        ],
        [
         "43",
         "a",
         "225",
         "226"
        ],
        [
         "44",
         "contar",
         "227",
         "233"
        ],
        [
         "45",
         "de",
         "234",
         "236"
        ],
        [
         "46",
         "15/07/2016",
         "237",
         "247"
        ],
        [
         "47",
         ",",
         "247",
         "248"
        ],
        [
         "48",
         "tendo",
         "249",
         "254"
        ],
        [
         "49",
         "em",
         "255",
         "257"
        ]
       ],
       "shape": {
        "columns": 3,
        "rows": 68
       }
      },
      "text/html": [
       "<div>\n",
       "<style scoped>\n",
       "    .dataframe tbody tr th:only-of-type {\n",
       "        vertical-align: middle;\n",
       "    }\n",
       "\n",
       "    .dataframe tbody tr th {\n",
       "        vertical-align: top;\n",
       "    }\n",
       "\n",
       "    .dataframe thead th {\n",
       "        text-align: right;\n",
       "    }\n",
       "</style>\n",
       "<table border=\"1\" class=\"dataframe\">\n",
       "  <thead>\n",
       "    <tr style=\"text-align: right;\">\n",
       "      <th></th>\n",
       "      <th>token</th>\n",
       "      <th>start</th>\n",
       "      <th>end</th>\n",
       "    </tr>\n",
       "  </thead>\n",
       "  <tbody>\n",
       "    <tr>\n",
       "      <th>0</th>\n",
       "      <td>Conceder</td>\n",
       "      <td>0</td>\n",
       "      <td>8</td>\n",
       "    </tr>\n",
       "    <tr>\n",
       "      <th>1</th>\n",
       "      <td>à</td>\n",
       "      <td>9</td>\n",
       "      <td>10</td>\n",
       "    </tr>\n",
       "    <tr>\n",
       "      <th>2</th>\n",
       "      <td>servidora</td>\n",
       "      <td>11</td>\n",
       "      <td>20</td>\n",
       "    </tr>\n",
       "    <tr>\n",
       "      <th>3</th>\n",
       "      <td>LISIANE</td>\n",
       "      <td>21</td>\n",
       "      <td>28</td>\n",
       "    </tr>\n",
       "    <tr>\n",
       "      <th>4</th>\n",
       "      <td>RAMOS</td>\n",
       "      <td>29</td>\n",
       "      <td>34</td>\n",
       "    </tr>\n",
       "    <tr>\n",
       "      <th>...</th>\n",
       "      <td>...</td>\n",
       "      <td>...</td>\n",
       "      <td>...</td>\n",
       "    </tr>\n",
       "    <tr>\n",
       "      <th>63</th>\n",
       "      <td>o</td>\n",
       "      <td>339</td>\n",
       "      <td>340</td>\n",
       "    </tr>\n",
       "    <tr>\n",
       "      <th>64</th>\n",
       "      <td>Processo</td>\n",
       "      <td>341</td>\n",
       "      <td>349</td>\n",
       "    </tr>\n",
       "    <tr>\n",
       "      <th>65</th>\n",
       "      <td>nº</td>\n",
       "      <td>350</td>\n",
       "      <td>352</td>\n",
       "    </tr>\n",
       "    <tr>\n",
       "      <th>66</th>\n",
       "      <td>23078.015333/2016-19</td>\n",
       "      <td>353</td>\n",
       "      <td>373</td>\n",
       "    </tr>\n",
       "    <tr>\n",
       "      <th>67</th>\n",
       "      <td>.</td>\n",
       "      <td>373</td>\n",
       "      <td>374</td>\n",
       "    </tr>\n",
       "  </tbody>\n",
       "</table>\n",
       "<p>68 rows × 3 columns</p>\n",
       "</div>"
      ],
      "text/plain": [
       "                   token  start  end\n",
       "0               Conceder      0    8\n",
       "1                      à      9   10\n",
       "2              servidora     11   20\n",
       "3                LISIANE     21   28\n",
       "4                  RAMOS     29   34\n",
       "..                   ...    ...  ...\n",
       "63                     o    339  340\n",
       "64              Processo    341  349\n",
       "65                    nº    350  352\n",
       "66  23078.015333/2016-19    353  373\n",
       "67                     .    373  374\n",
       "\n",
       "[68 rows x 3 columns]"
      ]
     },
     "execution_count": 82,
     "metadata": {},
     "output_type": "execute_result"
    }
   ],
   "source": [
    "# Intermediary step to convert the list of words into a dataframe (Used only to facilitate the next steps)\n",
    "list_of_tokenized_sentences = []\n",
    "for list_of_words in tokenized_sentence_position:\n",
    "    tokens_df = pd.DataFrame(list_of_words, columns = ['token', 'pos'])\n",
    "    tokens_df[['start', 'end']] = tokens_df['pos'].to_list()\n",
    "    tokens_df = tokens_df.drop(columns='pos')\n",
    "    list_of_tokenized_sentences.append(tokens_df)\n",
    "\n",
    "# Check the dataframe\n",
    "list_of_tokenized_sentences[0]"
   ]
  },
  {
   "cell_type": "markdown",
   "metadata": {},
   "source": [
    "### Mapping labels from entities to words\n",
    "We now have, for each sentences, a dataframe of all the word and a list with all the labels.\n",
    "What needs to be done is assign the correct label to each word of the tokenized sentence."
   ]
  },
  {
   "cell_type": "code",
   "execution_count": 83,
   "metadata": {},
   "outputs": [],
   "source": [
    "for index, token_df in enumerate(list_of_tokenized_sentences):\n",
    "    labels = []\n",
    "    is_entity = False\n",
    "    for idx, token in token_df.iterrows():\n",
    "        \n",
    "        for label in sentences['label'].loc[index]:\n",
    "            \n",
    "            if token['start'] == label[0]: #Check if the word starts at the same position as the label. (Start is in position 0)\n",
    "                labels.append('B-' + label[2]) #Puts the label name. (Name is in position 2)\n",
    "                is_entity = True\n",
    "                break\n",
    "            \n",
    "            if token['start'] >= label[0] and token['end'] <= label[1]: #Check if the word starts after the label and ends before it. (Start is in position 0 and end is in position 1)\n",
    "                labels.append('I-' + label[2])\n",
    "                is_entity = True\n",
    "                break\n",
    "            \n",
    "            is_entity = False\n",
    "            \n",
    "        if is_entity == False:\n",
    "            labels.append('O')\n",
    "            \n",
    "    token_df['label'] = labels"
   ]
  },
  {
   "cell_type": "code",
   "execution_count": 84,
   "metadata": {},
   "outputs": [
    {
     "name": "stdout",
     "output_type": "stream",
     "text": [
      "(676, 2) \n",
      " 676\n"
     ]
    }
   ],
   "source": [
    "print(sentences.shape,'\\n',\n",
    "      len(list_of_tokenized_sentences))"
   ]
  },
  {
   "cell_type": "code",
   "execution_count": 85,
   "metadata": {},
   "outputs": [
    {
     "name": "stdout",
     "output_type": "stream",
     "text": [
      "SENTENCE 0 \n",
      "\n",
      "[[21, 39, 'PERSON'], [62, 88, 'OCCUPATION'], [109, 133, 'ORGANIZATION'], [237, 247, 'DATE']] \n",
      "\n",
      "                   token  start  end     label\n",
      "0               Conceder      0    8         O\n",
      "1                      à      9   10         O\n",
      "2              servidora     11   20         O\n",
      "3                LISIANE     21   28  B-PERSON\n",
      "4                  RAMOS     29   34  I-PERSON\n",
      "..                   ...    ...  ...       ...\n",
      "63                     o    339  340         O\n",
      "64              Processo    341  349         O\n",
      "65                    nº    350  352         O\n",
      "66  23078.015333/2016-19    353  373         O\n",
      "67                     .    373  374         O\n",
      "\n",
      "[68 rows x 4 columns] \n",
      "\n"
     ]
    },
    {
     "data": {
      "application/vnd.microsoft.datawrangler.viewer.v0+json": {
       "columns": [
        {
         "name": "index",
         "rawType": "int64",
         "type": "integer"
        },
        {
         "name": "token",
         "rawType": "object",
         "type": "string"
        },
        {
         "name": "start",
         "rawType": "int64",
         "type": "integer"
        },
        {
         "name": "end",
         "rawType": "int64",
         "type": "integer"
        },
        {
         "name": "label",
         "rawType": "object",
         "type": "string"
        }
       ],
       "ref": "c72d348f-8dfe-4e7c-9614-bff4f097b6c7",
       "rows": [
        [
         "0",
         "Conceder",
         "0",
         "8",
         "O"
        ],
        [
         "1",
         "aposentadoria",
         "9",
         "22",
         "O"
        ],
        [
         "2",
         ",",
         "22",
         "23",
         "O"
        ],
        [
         "3",
         "nos",
         "24",
         "27",
         "O"
        ],
        [
         "4",
         "termos",
         "28",
         "34",
         "O"
        ],
        [
         "5",
         "do",
         "35",
         "37",
         "O"
        ],
        [
         "6",
         "artigo",
         "38",
         "44",
         "O"
        ],
        [
         "7",
         "3º",
         "45",
         "47",
         "O"
        ],
        [
         "8",
         ",",
         "47",
         "48",
         "O"
        ],
        [
         "9",
         "incisos",
         "49",
         "56",
         "O"
        ],
        [
         "10",
         "I",
         "57",
         "58",
         "O"
        ],
        [
         "11",
         ",",
         "58",
         "59",
         "O"
        ],
        [
         "12",
         "II",
         "60",
         "62",
         "O"
        ],
        [
         "13",
         ",",
         "62",
         "63",
         "O"
        ],
        [
         "14",
         "III",
         "64",
         "67",
         "O"
        ],
        [
         "15",
         ",",
         "67",
         "68",
         "O"
        ],
        [
         "16",
         "da",
         "69",
         "71",
         "O"
        ],
        [
         "17",
         "Emenda",
         "72",
         "78",
         "O"
        ],
        [
         "18",
         "Constitucional",
         "79",
         "93",
         "O"
        ],
        [
         "19",
         "nº",
         "94",
         "96",
         "O"
        ],
        [
         "20",
         "47",
         "97",
         "99",
         "O"
        ],
        [
         "21",
         ",",
         "99",
         "100",
         "O"
        ],
        [
         "22",
         "de",
         "101",
         "103",
         "O"
        ],
        [
         "23",
         "5",
         "104",
         "105",
         "B-DATE"
        ],
        [
         "24",
         "de",
         "106",
         "108",
         "I-DATE"
        ],
        [
         "25",
         "julho",
         "109",
         "114",
         "I-DATE"
        ],
        [
         "26",
         "de",
         "115",
         "117",
         "I-DATE"
        ],
        [
         "27",
         "2005",
         "118",
         "122",
         "I-DATE"
        ],
        [
         "28",
         ",",
         "122",
         "123",
         "O"
        ],
        [
         "29",
         "publicada",
         "124",
         "133",
         "O"
        ],
        [
         "30",
         "no",
         "134",
         "136",
         "O"
        ],
        [
         "31",
         "Diário",
         "137",
         "143",
         "O"
        ],
        [
         "32",
         "Oficial",
         "144",
         "151",
         "O"
        ],
        [
         "33",
         "da",
         "152",
         "154",
         "O"
        ],
        [
         "34",
         "União",
         "155",
         "160",
         "O"
        ],
        [
         "35",
         "do",
         "161",
         "163",
         "O"
        ],
        [
         "36",
         "dia",
         "164",
         "167",
         "O"
        ],
        [
         "37",
         "6",
         "168",
         "169",
         "O"
        ],
        [
         "38",
         "subsequente",
         "170",
         "181",
         "O"
        ],
        [
         "39",
         ",",
         "181",
         "182",
         "O"
        ],
        [
         "40",
         "a",
         "183",
         "184",
         "O"
        ],
        [
         "41",
         "IEDA",
         "185",
         "189",
         "B-PERSON"
        ],
        [
         "42",
         "REGINA",
         "190",
         "196",
         "I-PERSON"
        ],
        [
         "43",
         "OLIVEIRA",
         "197",
         "205",
         "I-PERSON"
        ],
        [
         "44",
         "DA",
         "206",
         "208",
         "I-PERSON"
        ],
        [
         "45",
         "SILVA",
         "209",
         "214",
         "I-PERSON"
        ],
        [
         "46",
         ",",
         "214",
         "215",
         "O"
        ],
        [
         "47",
         "matrícula",
         "216",
         "225",
         "O"
        ],
        [
         "48",
         "SIAPE",
         "226",
         "231",
         "O"
        ],
        [
         "49",
         "nº",
         "232",
         "234",
         "O"
        ]
       ],
       "shape": {
        "columns": 4,
        "rows": 149
       }
      },
      "text/html": [
       "<div>\n",
       "<style scoped>\n",
       "    .dataframe tbody tr th:only-of-type {\n",
       "        vertical-align: middle;\n",
       "    }\n",
       "\n",
       "    .dataframe tbody tr th {\n",
       "        vertical-align: top;\n",
       "    }\n",
       "\n",
       "    .dataframe thead th {\n",
       "        text-align: right;\n",
       "    }\n",
       "</style>\n",
       "<table border=\"1\" class=\"dataframe\">\n",
       "  <thead>\n",
       "    <tr style=\"text-align: right;\">\n",
       "      <th></th>\n",
       "      <th>token</th>\n",
       "      <th>start</th>\n",
       "      <th>end</th>\n",
       "      <th>label</th>\n",
       "    </tr>\n",
       "  </thead>\n",
       "  <tbody>\n",
       "    <tr>\n",
       "      <th>0</th>\n",
       "      <td>Conceder</td>\n",
       "      <td>0</td>\n",
       "      <td>8</td>\n",
       "      <td>O</td>\n",
       "    </tr>\n",
       "    <tr>\n",
       "      <th>1</th>\n",
       "      <td>aposentadoria</td>\n",
       "      <td>9</td>\n",
       "      <td>22</td>\n",
       "      <td>O</td>\n",
       "    </tr>\n",
       "    <tr>\n",
       "      <th>2</th>\n",
       "      <td>,</td>\n",
       "      <td>22</td>\n",
       "      <td>23</td>\n",
       "      <td>O</td>\n",
       "    </tr>\n",
       "    <tr>\n",
       "      <th>3</th>\n",
       "      <td>nos</td>\n",
       "      <td>24</td>\n",
       "      <td>27</td>\n",
       "      <td>O</td>\n",
       "    </tr>\n",
       "    <tr>\n",
       "      <th>4</th>\n",
       "      <td>termos</td>\n",
       "      <td>28</td>\n",
       "      <td>34</td>\n",
       "      <td>O</td>\n",
       "    </tr>\n",
       "    <tr>\n",
       "      <th>...</th>\n",
       "      <td>...</td>\n",
       "      <td>...</td>\n",
       "      <td>...</td>\n",
       "      <td>...</td>\n",
       "    </tr>\n",
       "    <tr>\n",
       "      <th>144</th>\n",
       "      <td>de</td>\n",
       "      <td>735</td>\n",
       "      <td>737</td>\n",
       "      <td>I-DATE</td>\n",
       "    </tr>\n",
       "    <tr>\n",
       "      <th>145</th>\n",
       "      <td>julho</td>\n",
       "      <td>738</td>\n",
       "      <td>743</td>\n",
       "      <td>I-DATE</td>\n",
       "    </tr>\n",
       "    <tr>\n",
       "      <th>146</th>\n",
       "      <td>de</td>\n",
       "      <td>744</td>\n",
       "      <td>746</td>\n",
       "      <td>I-DATE</td>\n",
       "    </tr>\n",
       "    <tr>\n",
       "      <th>147</th>\n",
       "      <td>1994</td>\n",
       "      <td>747</td>\n",
       "      <td>751</td>\n",
       "      <td>I-DATE</td>\n",
       "    </tr>\n",
       "    <tr>\n",
       "      <th>148</th>\n",
       "      <td>.</td>\n",
       "      <td>751</td>\n",
       "      <td>752</td>\n",
       "      <td>O</td>\n",
       "    </tr>\n",
       "  </tbody>\n",
       "</table>\n",
       "<p>149 rows × 4 columns</p>\n",
       "</div>"
      ],
      "text/plain": [
       "             token  start  end   label\n",
       "0         Conceder      0    8       O\n",
       "1    aposentadoria      9   22       O\n",
       "2                ,     22   23       O\n",
       "3              nos     24   27       O\n",
       "4           termos     28   34       O\n",
       "..             ...    ...  ...     ...\n",
       "144             de    735  737  I-DATE\n",
       "145          julho    738  743  I-DATE\n",
       "146             de    744  746  I-DATE\n",
       "147           1994    747  751  I-DATE\n",
       "148              .    751  752       O\n",
       "\n",
       "[149 rows x 4 columns]"
      ]
     },
     "execution_count": 85,
     "metadata": {},
     "output_type": "execute_result"
    }
   ],
   "source": [
    "# Validate that the tokens are correctly assigned to each label.\n",
    "for index in range(0, 1):\n",
    "    print('SENTENCE',index, '\\n') \n",
    "    print(sentences['label'].loc[index], '\\n')\n",
    "    print(list_of_tokenized_sentences[index], '\\n')\n",
    "    #print(list_of_tokenized_sentences[index]['label'].value_counts(), '\\n')\n",
    "list_of_tokenized_sentences[675]\n",
    "    "
   ]
  },
  {
   "cell_type": "markdown",
   "metadata": {},
   "source": [
    "### Visualizing the label distribution"
   ]
  },
  {
   "cell_type": "code",
   "execution_count": 86,
   "metadata": {},
   "outputs": [
    {
     "name": "stdout",
     "output_type": "stream",
     "text": [
      "Amount of each label in the dataset:\n",
      "O                 44826\n",
      "I-DATE             2842\n",
      "I-PERSON           2331\n",
      "B-DATE             1945\n",
      "I-OCCUPATION       1334\n",
      "I-ORGANIZATION     1000\n",
      "B-OCCUPATION        982\n",
      "B-PERSON            948\n",
      "B-ORGANIZATION      480\n",
      "B-LOCATION          153\n",
      "I-LOCATION           84\n",
      "Name: count, dtype: int64\n",
      "bar graph of labels:\n"
     ]
    },
    {
     "data": {
      "image/png": "[encoded data removed]",
      "text/plain": [
       "<Figure size 1000x500 with 1 Axes>"
      ]
     },
     "metadata": {},
     "output_type": "display_data"
    }
   ],
   "source": [
    "all_labels = []\n",
    "for token_df in list_of_tokenized_sentences:\n",
    "    all_labels.extend(token_df['label'].tolist())\n",
    "labels_series = pd.Series(all_labels)\n",
    "print(\"Amount of each label in the dataset:\")\n",
    "print(labels_series.value_counts())\n",
    "print(\"bar graph of labels:\")\n",
    "plt.figure(figsize=(10, 5))\n",
    "labels_series[labels_series != \"O\"].value_counts().plot(kind='bar', title='Label Distribution')\n",
    "plt.xlabel('Labels')\n",
    "plt.ylabel('Count')\n",
    "# add percentage on top of each bar\n",
    "for i, v in enumerate(labels_series[labels_series != \"O\"].value_counts()):\n",
    "    plt.text(i, v + 0.5, f\"{v/labels_series[labels_series != \"O\"].size*100:.2f}%\", ha='center', va='bottom')\n"
   ]
  },
  {
   "cell_type": "code",
   "execution_count": 87,
   "metadata": {},
   "outputs": [],
   "source": [
    "target_labels = ['O', 'B-PERSON', 'I-PERSON', 'B-ORGANIZATION', 'I-ORGANIZATION', 'B-LOCATION', 'I-LOCATION', 'B-DATE', 'I-DATE', 'B-OCCUPATION', 'I-OCCUPATION']\n",
    "\n",
    "# Convert label from name to id\n",
    "label_to_id = {\n",
    "    'O': 0, \n",
    "    'B-PERSON': 1, \n",
    "    'I-PERSON': 2, \n",
    "    'B-ORGANIZATION': 3, \n",
    "    'I-ORGANIZATION': 4, \n",
    "    'B-LOCATION': 5, \n",
    "    'I-LOCATION': 6, \n",
    "    'B-DATE': 7, \n",
    "    'I-DATE': 8,\n",
    "    'B-OCCUPATION': 9,\n",
    "    'I-OCCUPATION': 10,\n",
    "}\n",
    "\n",
    "id_to_label = {\n",
    "    0: 'O', \n",
    "    1: 'B-PERSON', \n",
    "    2: 'I-PERSON', \n",
    "    3: 'B-ORGANIZATION', \n",
    "    4: 'I-ORGANIZATION', \n",
    "    5: 'B-LOCATION', \n",
    "    6: 'I-LOCATION', \n",
    "    7: 'B-DATE',\n",
    "    8: 'I-DATE',\n",
    "    9: 'B-OCCUPATION',\n",
    "    10: 'I-OCCUPATION'\n",
    "}\n",
    "for sentence in list_of_tokenized_sentences:\n",
    "    sentence['label'] = sentence['label'].map(label_to_id)\n"
   ]
  },
  {
   "cell_type": "code",
   "execution_count": 92,
   "metadata": {},
   "outputs": [
    {
     "data": {
      "application/vnd.microsoft.datawrangler.viewer.v0+json": {
       "columns": [
        {
         "name": "index",
         "rawType": "int64",
         "type": "integer"
        },
        {
         "name": "token",
         "rawType": "object",
         "type": "string"
        },
        {
         "name": "start",
         "rawType": "int64",
         "type": "integer"
        },
        {
         "name": "end",
         "rawType": "int64",
         "type": "integer"
        },
        {
         "name": "label",
         "rawType": "int64",
         "type": "integer"
        }
       ],
       "ref": "3ecf5564-3a07-4d75-b525-5ff4a6e0ef48",
       "rows": [
        [
         "0",
         "Autorizar",
         "0",
         "9",
         "0"
        ],
        [
         "1",
         "o",
         "10",
         "11",
         "0"
        ],
        [
         "2",
         "afastamento",
         "12",
         "23",
         "0"
        ],
        [
         "3",
         "no",
         "24",
         "26",
         "0"
        ],
        [
         "4",
         "país",
         "27",
         "31",
         "0"
        ],
        [
         "5",
         "de",
         "32",
         "34",
         "0"
        ],
        [
         "6",
         "RENATO",
         "35",
         "41",
         "1"
        ],
        [
         "7",
         "PEREZ",
         "42",
         "47",
         "2"
        ],
        [
         "8",
         "RIBAS",
         "48",
         "53",
         "2"
        ],
        [
         "9",
         ",",
         "53",
         "54",
         "0"
        ],
        [
         "10",
         "ocupante",
         "55",
         "63",
         "0"
        ],
        [
         "11",
         "do",
         "64",
         "66",
         "0"
        ],
        [
         "12",
         "cargo",
         "67",
         "72",
         "0"
        ],
        [
         "13",
         "de",
         "73",
         "75",
         "0"
        ],
        [
         "14",
         "Professor",
         "76",
         "85",
         "9"
        ],
        [
         "15",
         "do",
         "86",
         "88",
         "10"
        ],
        [
         "16",
         "Magistério",
         "89",
         "99",
         "10"
        ],
        [
         "17",
         "Superior",
         "100",
         "108",
         "10"
        ],
        [
         "18",
         ",",
         "108",
         "109",
         "0"
        ],
        [
         "19",
         "lotado",
         "110",
         "116",
         "0"
        ],
        [
         "20",
         "no",
         "117",
         "119",
         "0"
        ],
        [
         "21",
         "Departamento",
         "120",
         "132",
         "0"
        ],
        [
         "22",
         "de",
         "133",
         "135",
         "0"
        ],
        [
         "23",
         "Informática",
         "136",
         "147",
         "0"
        ],
        [
         "24",
         "Aplicada",
         "148",
         "156",
         "0"
        ],
        [
         "25",
         "do",
         "157",
         "159",
         "0"
        ],
        [
         "26",
         "Instituto",
         "160",
         "169",
         "3"
        ],
        [
         "27",
         "de",
         "170",
         "172",
         "4"
        ],
        [
         "28",
         "Informática",
         "173",
         "184",
         "4"
        ],
        [
         "29",
         "e",
         "185",
         "186",
         "0"
        ],
        [
         "30",
         "com",
         "187",
         "190",
         "0"
        ],
        [
         "31",
         "exercício",
         "191",
         "200",
         "0"
        ],
        [
         "32",
         "na",
         "201",
         "203",
         "0"
        ],
        [
         "33",
         "Comissão",
         "204",
         "212",
         "0"
        ],
        [
         "34",
         "de",
         "213",
         "215",
         "0"
        ],
        [
         "35",
         "Extensão",
         "216",
         "224",
         "0"
        ],
        [
         "36",
         "em",
         "225",
         "227",
         "0"
        ],
        [
         "37",
         "Informática",
         "228",
         "239",
         "0"
        ],
        [
         "38",
         ",",
         "239",
         "240",
         "0"
        ],
        [
         "39",
         "com",
         "241",
         "244",
         "0"
        ],
        [
         "40",
         "a",
         "245",
         "246",
         "0"
        ],
        [
         "41",
         "finalidade",
         "247",
         "257",
         "0"
        ],
        [
         "42",
         "de",
         "258",
         "260",
         "0"
        ],
        [
         "43",
         "participar",
         "261",
         "271",
         "0"
        ],
        [
         "44",
         "de",
         "272",
         "274",
         "0"
        ],
        [
         "45",
         "encontro",
         "275",
         "283",
         "0"
        ],
        [
         "46",
         ",",
         "283",
         "284",
         "0"
        ],
        [
         "47",
         "em",
         "285",
         "287",
         "0"
        ],
        [
         "48",
         "Miranda",
         "288",
         "295",
         "5"
        ],
        [
         "49",
         ",",
         "295",
         "296",
         "0"
        ]
       ],
       "shape": {
        "columns": 4,
        "rows": 74
       }
      },
      "text/html": [
       "<div>\n",
       "<style scoped>\n",
       "    .dataframe tbody tr th:only-of-type {\n",
       "        vertical-align: middle;\n",
       "    }\n",
       "\n",
       "    .dataframe tbody tr th {\n",
       "        vertical-align: top;\n",
       "    }\n",
       "\n",
       "    .dataframe thead th {\n",
       "        text-align: right;\n",
       "    }\n",
       "</style>\n",
       "<table border=\"1\" class=\"dataframe\">\n",
       "  <thead>\n",
       "    <tr style=\"text-align: right;\">\n",
       "      <th></th>\n",
       "      <th>token</th>\n",
       "      <th>start</th>\n",
       "      <th>end</th>\n",
       "      <th>label</th>\n",
       "    </tr>\n",
       "  </thead>\n",
       "  <tbody>\n",
       "    <tr>\n",
       "      <th>0</th>\n",
       "      <td>Autorizar</td>\n",
       "      <td>0</td>\n",
       "      <td>9</td>\n",
       "      <td>0</td>\n",
       "    </tr>\n",
       "    <tr>\n",
       "      <th>1</th>\n",
       "      <td>o</td>\n",
       "      <td>10</td>\n",
       "      <td>11</td>\n",
       "      <td>0</td>\n",
       "    </tr>\n",
       "    <tr>\n",
       "      <th>2</th>\n",
       "      <td>afastamento</td>\n",
       "      <td>12</td>\n",
       "      <td>23</td>\n",
       "      <td>0</td>\n",
       "    </tr>\n",
       "    <tr>\n",
       "      <th>3</th>\n",
       "      <td>no</td>\n",
       "      <td>24</td>\n",
       "      <td>26</td>\n",
       "      <td>0</td>\n",
       "    </tr>\n",
       "    <tr>\n",
       "      <th>4</th>\n",
       "      <td>país</td>\n",
       "      <td>27</td>\n",
       "      <td>31</td>\n",
       "      <td>0</td>\n",
       "    </tr>\n",
       "    <tr>\n",
       "      <th>...</th>\n",
       "      <td>...</td>\n",
       "      <td>...</td>\n",
       "      <td>...</td>\n",
       "      <td>...</td>\n",
       "    </tr>\n",
       "    <tr>\n",
       "      <th>69</th>\n",
       "      <td>da</td>\n",
       "      <td>408</td>\n",
       "      <td>410</td>\n",
       "      <td>4</td>\n",
       "    </tr>\n",
       "    <tr>\n",
       "      <th>70</th>\n",
       "      <td>Defesa.Solicitação</td>\n",
       "      <td>411</td>\n",
       "      <td>429</td>\n",
       "      <td>0</td>\n",
       "    </tr>\n",
       "    <tr>\n",
       "      <th>71</th>\n",
       "      <td>n°</td>\n",
       "      <td>430</td>\n",
       "      <td>432</td>\n",
       "      <td>0</td>\n",
       "    </tr>\n",
       "    <tr>\n",
       "      <th>72</th>\n",
       "      <td>47046</td>\n",
       "      <td>433</td>\n",
       "      <td>438</td>\n",
       "      <td>0</td>\n",
       "    </tr>\n",
       "    <tr>\n",
       "      <th>73</th>\n",
       "      <td>.</td>\n",
       "      <td>438</td>\n",
       "      <td>439</td>\n",
       "      <td>0</td>\n",
       "    </tr>\n",
       "  </tbody>\n",
       "</table>\n",
       "<p>74 rows × 4 columns</p>\n",
       "</div>"
      ],
      "text/plain": [
       "                 token  start  end  label\n",
       "0            Autorizar      0    9      0\n",
       "1                    o     10   11      0\n",
       "2          afastamento     12   23      0\n",
       "3                   no     24   26      0\n",
       "4                 país     27   31      0\n",
       "..                 ...    ...  ...    ...\n",
       "69                  da    408  410      4\n",
       "70  Defesa.Solicitação    411  429      0\n",
       "71                  n°    430  432      0\n",
       "72               47046    433  438      0\n",
       "73                   .    438  439      0\n",
       "\n",
       "[74 rows x 4 columns]"
      ]
     },
     "execution_count": 92,
     "metadata": {},
     "output_type": "execute_result"
    }
   ],
   "source": [
    "list_of_tokenized_sentences[304]"
   ]
  },
  {
   "cell_type": "markdown",
   "metadata": {},
   "source": [
    "## Saving the dataset\n",
    "We will save the final dataset as a HuggingFace Dataset. This will then be imported in the **04_train_token_classifier.ipynb** for usage in training and testing. \n",
    "The train/test split will also be done in the following notebook."
   ]
  },
  {
   "cell_type": "code",
   "execution_count": 111,
   "metadata": {},
   "outputs": [
    {
     "name": "stdout",
     "output_type": "stream",
     "text": [
      "\n",
      "Shape of data_X: 676 \n",
      "Shape of data_y: 676\n",
      "\n",
      " Dataset({\n",
      "    features: ['tokens', 'ner_tags'],\n",
      "    num_rows: 676\n",
      "})\n"
     ]
    }
   ],
   "source": [
    "# Divide inputs and tokens into X and y lists.\n",
    "data_X = []\n",
    "data_y = []\n",
    "for sentence in list_of_tokenized_sentences:\n",
    "    data_X.append(list(sentence['token']))\n",
    "    data_y.append(list(sentence['label']))\n",
    "\n",
    "# Validate the dimensions of the data\n",
    "#print(data_X[0])\n",
    "#print(data_y[0])\n",
    "print('\\nShape of data_X:', len(data_X),\n",
    "      '\\nShape of data_y:', len(data_y))\n",
    "\n",
    "# Create a dictionary\n",
    "data_dict = {'tokens': data_X, 'ner_tags': data_y}\n",
    "ner_dataset = Dataset.from_dict(data_dict)\n",
    "\n",
    "# Inspect the dataset\n",
    "print('\\n', ner_dataset)"
   ]
  },
  {
   "cell_type": "code",
   "execution_count": 112,
   "metadata": {},
   "outputs": [
    {
     "name": "stderr",
     "output_type": "stream",
     "text": [
      "Saving the dataset (1/1 shards): 100%|██████████| 676/676 [00:00<00:00, 88144.67 examples/s]\n"
     ]
    }
   ],
   "source": [
    "# Save the dataset to disk\n",
    "ner_dataset.save_to_disk(\"../data/annotated/ufrgs_documents_13-06-25\")"
   ]
  },
  {
   "cell_type": "markdown",
   "metadata": {},
   "source": [
    "# END OF NOTEBOOK\n",
    "# -------------------------------------------------------------------------------------------------------------------\n",
    "\n",
    "### All content below is unused (some of it is in the next notebook) or tests\n",
    "# -------------------------------------------------------------------------------------------------------------------\n"
   ]
  },
  {
   "cell_type": "markdown",
   "metadata": {},
   "source": [
    "The format of DatasetDict, which we'll want to use, is a list of three arrow Datasets: train, test and validation. \n",
    "Each Dataset is composed of two main object: features and num_rows. We need to make sure our JSON has the features 'tokens' and 'ner_tags'\n",
    "The sample data uses the following dictionary to convert each label to an int:\n",
    "\n",
    "**{'O': 0, 'B-PER': 1, 'I-PER': 2, 'B-ORG': 3, 'I-ORG': 4, 'B-LOC': 5, 'I-LOC': 6, 'B-MISC': 7, 'I-MISC': 8}**\n",
    "\n",
    "Since we are using the exact same labels we can utilize this dictionary as well."
   ]
  },
  {
   "cell_type": "markdown",
   "metadata": {},
   "source": [
    "### Splitting dataset into train and test\n",
    "We'll split our DataFrame into to lists of lists. One for the input tokens and another for the labels.\n",
    "After that we'll use the scklearn train_test_split method to get both our train and test data."
   ]
  },
  {
   "cell_type": "code",
   "execution_count": null,
   "metadata": {},
   "outputs": [],
   "source": [
    "def get_label_distribution(seq_labels):\n",
    "    label_count = {}\n",
    "    for label in target_labels:\n",
    "        label_count[label] = 0\n",
    "    for seq in seq_labels:\n",
    "        for target_id in seq:\n",
    "            label = id_to_label[target_id]\n",
    "            label_count[label] += 1\n",
    "    return label_count\n",
    "\n",
    "get_label_distribution(y_train)\n",
    "\n",
    "get_label_distribution(y_test)"
   ]
  },
  {
   "cell_type": "markdown",
   "metadata": {},
   "source": [
    "# NOTEBOOK APPENDIX TO TEST TOKENIZATION METHODS"
   ]
  },
  {
   "cell_type": "code",
   "execution_count": 19,
   "metadata": {},
   "outputs": [
    {
     "data": {
      "text/plain": [
       "'conceder à servidora lisiane ramos vilk, ocupante do cargo de administrador de edifícios - 701400, lotada na faculdade de arquitetura, siape 2325261, o percentual de 25% (vinte e cinco por cento) de incentivo à qualificação, a contar de 15/07/2016, tendo em vista a conclusão do curso de graduação em administração - bacharelado, conforme o processo nº 23078.015333/2016-19.'"
      ]
     },
     "execution_count": 19,
     "metadata": {},
     "output_type": "execute_result"
    }
   ],
   "source": [
    "test_sentence = annotated_df['text'][0].lower()\n",
    "test_sentence"
   ]
  },
  {
   "cell_type": "code",
   "execution_count": 20,
   "metadata": {},
   "outputs": [],
   "source": [
    "w_tkn = TreebankWordTokenizer().tokenize(test_sentence)"
   ]
  },
  {
   "cell_type": "code",
   "execution_count": 21,
   "metadata": {},
   "outputs": [],
   "source": [
    "checkpoint = 'bert-base-uncased'\n",
    "tokenizer = AutoTokenizer.from_pretrained(checkpoint)\n",
    "sw_tkn_1 = tokenizer(test_sentence, is_split_into_words=False)\n",
    "\n",
    "checkpoint = 'bert-large-uncased'\n",
    "tokenizer = AutoTokenizer.from_pretrained(checkpoint)\n",
    "sw_tkn_2 = tokenizer(test_sentence, is_split_into_words=False)\n",
    "\n",
    "checkpoint = 'bert-base-cased'\n",
    "tokenizer = AutoTokenizer.from_pretrained(checkpoint)\n",
    "sw_tkn_3 = tokenizer(test_sentence, is_split_into_words=False)\n",
    "\n",
    "checkpoint = 'bert-large-cased'\n",
    "tokenizer = AutoTokenizer.from_pretrained(checkpoint)\n",
    "sw_tkn_4 = tokenizer(test_sentence, is_split_into_words=False)\n",
    "\n",
    "checkpoint = 'bert-base-multilingual-cased'\n",
    "tokenizer = AutoTokenizer.from_pretrained(checkpoint)\n",
    "sw_tkn_5 = tokenizer(test_sentence, is_split_into_words=False)\n",
    "\n",
    "checkpoint = 'bert-large-uncased-whole-word-masking'\n",
    "tokenizer = AutoTokenizer.from_pretrained(checkpoint)\n",
    "sw_tkn_6 = tokenizer(test_sentence, is_split_into_words=False)\n",
    "\n",
    "checkpoint = 'bert-large-cased-whole-word-masking'\n",
    "tokenizer = AutoTokenizer.from_pretrained(checkpoint)\n",
    "sw_tkn_7 = tokenizer(test_sentence, is_split_into_words=False)\n",
    "\n",
    "checkpoint = 'neuralmind/bert-base-portuguese-cased'\n",
    "tokenizer = AutoTokenizer.from_pretrained(checkpoint)\n",
    "sw_tkn_8 = tokenizer(test_sentence, is_split_into_words=False)\n",
    "\n",
    "checkpoint = 'neuralmind/bert-large-portuguese-cased'\n",
    "tokenizer = AutoTokenizer.from_pretrained(checkpoint)\n",
    "sw_tkn_9 = tokenizer(test_sentence, is_split_into_words=False)"
   ]
  },
  {
   "cell_type": "code",
   "execution_count": 22,
   "metadata": {},
   "outputs": [
    {
     "name": "stdout",
     "output_type": "stream",
     "text": [
      "['conceder', 'à', 'servidora', 'lisiane', 'ramos', 'vilk', ',', 'ocupante', 'do', 'cargo', 'de', 'administrador', 'de', 'edifícios', '-', '701400', ',', 'lotada', 'na', 'faculdade', 'de', 'arquitetura', ',', 'siape', '2325261', ',', 'o', 'percentual', 'de', '25', '%', '(', 'vinte', 'e', 'cinco', 'por', 'cento', ')', 'de', 'incentivo', 'à', 'qualificação', ',', 'a', 'contar', 'de', '15/07/2016', ',', 'tendo', 'em', 'vista', 'a', 'conclusão', 'do', 'curso', 'de', 'graduação', 'em', 'administração', '-', 'bacharelado', ',', 'conforme', 'o', 'processo', 'nº', '23078.015333/2016-19', '.']\n"
     ]
    }
   ],
   "source": [
    "print(w_tkn)"
   ]
  },
  {
   "cell_type": "code",
   "execution_count": 23,
   "metadata": {},
   "outputs": [
    {
     "name": "stdout",
     "output_type": "stream",
     "text": [
      "['[CLS]', 'con', '##cede', '##r', 'a', 'ser', '##vid', '##ora', 'li', '##sian', '##e', 'ramos', 'vi', '##lk', ',', 'o', '##cup', '##ante', 'do', 'cargo', 'de', 'ad', '##mini', '##stra', '##dor', 'de', 'ed', '##ific', '##ios', '-', '70', '##14', '##00', ',', 'lot', '##ada', 'na', 'fa', '##cu', '##lda', '##de', 'de', 'ar', '##qui', '##tet', '##ura', ',', 'si', '##ape', '232', '##52', '##6', '##1', ',', 'o', 'percent', '##ual', 'de', '25', '%', '(', 'vin', '##te', 'e', 'ci', '##nco', 'por', 'cent', '##o', ')', 'de', 'inc', '##ent', '##ivo', 'a', 'qu', '##ali', '##fi', '##ca', '##cao', ',', 'a', 'con', '##tar', 'de', '15', '/', '07', '/', '2016', ',', 'tend', '##o', 'em', 'vista', 'a', 'con', '##cl', '##usa', '##o', 'do', 'cu', '##rso', 'de', 'gr', '##ad', '##ua', '##cao', 'em', 'ad', '##mini', '##stra', '##cao', '-', 'bach', '##are', '##lad', '##o', ',', 'conform', '##e', 'o', 'process', '##o', 'n', '##º', '230', '##7', '##8', '.', '01', '##53', '##33', '/', '2016', '-', '19', '.', '[SEP]']\n",
      "['[CLS]', 'con', '##cede', '##r', 'a', 'ser', '##vid', '##ora', 'li', '##sian', '##e', 'ramos', 'vi', '##lk', ',', 'o', '##cup', '##ante', 'do', 'cargo', 'de', 'ad', '##mini', '##stra', '##dor', 'de', 'ed', '##ific', '##ios', '-', '70', '##14', '##00', ',', 'lot', '##ada', 'na', 'fa', '##cu', '##lda', '##de', 'de', 'ar', '##qui', '##tet', '##ura', ',', 'si', '##ape', '232', '##52', '##6', '##1', ',', 'o', 'percent', '##ual', 'de', '25', '%', '(', 'vin', '##te', 'e', 'ci', '##nco', 'por', 'cent', '##o', ')', 'de', 'inc', '##ent', '##ivo', 'a', 'qu', '##ali', '##fi', '##ca', '##cao', ',', 'a', 'con', '##tar', 'de', '15', '/', '07', '/', '2016', ',', 'tend', '##o', 'em', 'vista', 'a', 'con', '##cl', '##usa', '##o', 'do', 'cu', '##rso', 'de', 'gr', '##ad', '##ua', '##cao', 'em', 'ad', '##mini', '##stra', '##cao', '-', 'bach', '##are', '##lad', '##o', ',', 'conform', '##e', 'o', 'process', '##o', 'n', '##º', '230', '##7', '##8', '.', '01', '##53', '##33', '/', '2016', '-', '19', '.', '[SEP]']\n",
      "['[CLS]', 'con', '##cede', '##r', 'à', 'se', '##r', '##vid', '##ora', 'l', '##isi', '##ane', 'ram', '##os', 'v', '##il', '##k', ',', 'o', '##cup', '##ante', 'do', 'cargo', 'de', 'ad', '##mini', '##stra', '##dor', 'de', 'ed', '##if', '##í', '##cio', '##s', '-', '70', '##14', '##00', ',', 'lot', '##ada', 'na', 'f', '##ac', '##uld', '##ade', 'de', 'a', '##r', '##qui', '##te', '##tura', ',', 'si', '##ap', '##e', '232', '##5', '##26', '##1', ',', 'o', 'percent', '##ual', 'de', '25', '%', '(', 'v', '##int', '##e', 'e', 'c', '##in', '##co', 'p', '##or', 'cent', '##o', ')', 'de', 'in', '##cent', '##ivo', 'à', 'q', '##ual', '##ific', '##a', '##ção', ',', 'a', 'con', '##tar', 'de', '15', '/', '07', '/', '2016', ',', 'tend', '##o', 'em', 'v', '##ista', 'a', 'con', '##c', '##lus', '##ão', 'do', 'cu', '##rs', '##o', 'de', 'g', '##rad', '##ua', '##ção', 'em', 'ad', '##mini', '##stra', '##ção', '-', 'b', '##ach', '##arel', '##ado', ',', 'conform', '##e', 'o', 'process', '##o', 'n', '##º', '230', '##7', '##8', '.', '01', '##53', '##33', '/', '2016', '-', '19', '.', '[SEP]']\n",
      "['[CLS]', 'con', '##cede', '##r', 'à', 'se', '##r', '##vid', '##ora', 'l', '##isi', '##ane', 'ram', '##os', 'v', '##il', '##k', ',', 'o', '##cup', '##ante', 'do', 'cargo', 'de', 'ad', '##mini', '##stra', '##dor', 'de', 'ed', '##if', '##í', '##cio', '##s', '-', '70', '##14', '##00', ',', 'lot', '##ada', 'na', 'f', '##ac', '##uld', '##ade', 'de', 'a', '##r', '##qui', '##te', '##tura', ',', 'si', '##ap', '##e', '232', '##5', '##26', '##1', ',', 'o', 'percent', '##ual', 'de', '25', '%', '(', 'v', '##int', '##e', 'e', 'c', '##in', '##co', 'p', '##or', 'cent', '##o', ')', 'de', 'in', '##cent', '##ivo', 'à', 'q', '##ual', '##ific', '##a', '##ção', ',', 'a', 'con', '##tar', 'de', '15', '/', '07', '/', '2016', ',', 'tend', '##o', 'em', 'v', '##ista', 'a', 'con', '##c', '##lus', '##ão', 'do', 'cu', '##rs', '##o', 'de', 'g', '##rad', '##ua', '##ção', 'em', 'ad', '##mini', '##stra', '##ção', '-', 'b', '##ach', '##arel', '##ado', ',', 'conform', '##e', 'o', 'process', '##o', 'n', '##º', '230', '##7', '##8', '.', '01', '##53', '##33', '/', '2016', '-', '19', '.', '[SEP]']\n",
      "['[CLS]', 'con', '##cede', '##r', 'à', 'servidor', '##a', 'li', '##sian', '##e', 'ramo', '##s', 'vil', '##k', ',', 'ocupa', '##nte', 'do', 'cargo', 'de', 'administrador', 'de', 'edifício', '##s', '-', '701', '##400', ',', 'lot', '##ada', 'na', 'fac', '##uld', '##ade', 'de', 'ar', '##quitetura', ',', 'sia', '##pe', '232', '##52', '##6', '##1', ',', 'o', 'percent', '##ual', 'de', '25', '%', '(', 'vinte', 'e', 'cinco', 'por', 'cento', ')', 'de', 'in', '##cent', '##ivo', 'à', 'quali', '##ficação', ',', 'a', 'contar', 'de', '15', '/', '07', '/', '2016', ',', 'tendo', 'em', 'vista', 'a', 'con', '##clu', '##são', 'do', 'curso', 'de', 'gradu', '##ação', 'em', 'administração', '-', 'ba', '##char', '##ela', '##do', ',', 'conforme', 'o', 'processo', 'nº', '2307', '##8', '.', '015', '##33', '##3', '/', '2016', '-', '19', '.', '[SEP]']\n",
      "['[CLS]', 'con', '##cede', '##r', 'a', 'ser', '##vid', '##ora', 'li', '##sian', '##e', 'ramos', 'vi', '##lk', ',', 'o', '##cup', '##ante', 'do', 'cargo', 'de', 'ad', '##mini', '##stra', '##dor', 'de', 'ed', '##ific', '##ios', '-', '70', '##14', '##00', ',', 'lot', '##ada', 'na', 'fa', '##cu', '##lda', '##de', 'de', 'ar', '##qui', '##tet', '##ura', ',', 'si', '##ape', '232', '##52', '##6', '##1', ',', 'o', 'percent', '##ual', 'de', '25', '%', '(', 'vin', '##te', 'e', 'ci', '##nco', 'por', 'cent', '##o', ')', 'de', 'inc', '##ent', '##ivo', 'a', 'qu', '##ali', '##fi', '##ca', '##cao', ',', 'a', 'con', '##tar', 'de', '15', '/', '07', '/', '2016', ',', 'tend', '##o', 'em', 'vista', 'a', 'con', '##cl', '##usa', '##o', 'do', 'cu', '##rso', 'de', 'gr', '##ad', '##ua', '##cao', 'em', 'ad', '##mini', '##stra', '##cao', '-', 'bach', '##are', '##lad', '##o', ',', 'conform', '##e', 'o', 'process', '##o', 'n', '##º', '230', '##7', '##8', '.', '01', '##53', '##33', '/', '2016', '-', '19', '.', '[SEP]']\n",
      "['[CLS]', 'con', '##cede', '##r', 'à', 'se', '##r', '##vid', '##ora', 'l', '##isi', '##ane', 'ram', '##os', 'v', '##il', '##k', ',', 'o', '##cup', '##ante', 'do', 'cargo', 'de', 'ad', '##mini', '##stra', '##dor', 'de', 'ed', '##if', '##í', '##cio', '##s', '-', '70', '##14', '##00', ',', 'lot', '##ada', 'na', 'f', '##ac', '##uld', '##ade', 'de', 'a', '##r', '##qui', '##te', '##tura', ',', 'si', '##ap', '##e', '232', '##5', '##26', '##1', ',', 'o', 'percent', '##ual', 'de', '25', '%', '(', 'v', '##int', '##e', 'e', 'c', '##in', '##co', 'p', '##or', 'cent', '##o', ')', 'de', 'in', '##cent', '##ivo', 'à', 'q', '##ual', '##ific', '##a', '##ção', ',', 'a', 'con', '##tar', 'de', '15', '/', '07', '/', '2016', ',', 'tend', '##o', 'em', 'v', '##ista', 'a', 'con', '##c', '##lus', '##ão', 'do', 'cu', '##rs', '##o', 'de', 'g', '##rad', '##ua', '##ção', 'em', 'ad', '##mini', '##stra', '##ção', '-', 'b', '##ach', '##arel', '##ado', ',', 'conform', '##e', 'o', 'process', '##o', 'n', '##º', '230', '##7', '##8', '.', '01', '##53', '##33', '/', '2016', '-', '19', '.', '[SEP]']\n",
      "['[CLS]', 'conceder', 'à', 'servidor', '##a', 'lis', '##iane', 'ramos', 'vil', '##k', ',', 'ocupa', '##nte', 'do', 'cargo', 'de', 'administrador', 'de', 'edifícios', '-', '70', '##14', '##00', ',', 'lo', '##tada', 'na', 'faculdade', 'de', 'arquitetura', ',', 'si', '##ap', '##e', '23', '##25', '##26', '##1', ',', 'o', 'percentual', 'de', '25', '%', '(', 'vinte', 'e', 'cinco', 'por', 'cento', ')', 'de', 'incentivo', 'à', 'qualificação', ',', 'a', 'contar', 'de', '15', '/', '07', '/', '2016', ',', 'tendo', 'em', 'vista', 'a', 'conclusão', 'do', 'curso', 'de', 'graduação', 'em', 'administração', '-', 'bacharel', '##ado', ',', 'conforme', 'o', 'processo', '[UNK]', '23', '##0', '##78', '.', '01', '##53', '##33', '/', '2016', '-', '19', '.', '[SEP]']\n",
      "['[CLS]', 'conceder', 'à', 'servidor', '##a', 'lis', '##iane', 'ramos', 'vil', '##k', ',', 'ocupa', '##nte', 'do', 'cargo', 'de', 'administrador', 'de', 'edifícios', '-', '70', '##14', '##00', ',', 'lo', '##tada', 'na', 'faculdade', 'de', 'arquitetura', ',', 'si', '##ap', '##e', '23', '##25', '##26', '##1', ',', 'o', 'percentual', 'de', '25', '%', '(', 'vinte', 'e', 'cinco', 'por', 'cento', ')', 'de', 'incentivo', 'à', 'qualificação', ',', 'a', 'contar', 'de', '15', '/', '07', '/', '2016', ',', 'tendo', 'em', 'vista', 'a', 'conclusão', 'do', 'curso', 'de', 'graduação', 'em', 'administração', '-', 'bacharel', '##ado', ',', 'conforme', 'o', 'processo', '[UNK]', '23', '##0', '##78', '.', '01', '##53', '##33', '/', '2016', '-', '19', '.', '[SEP]']\n"
     ]
    }
   ],
   "source": [
    "print(sw_tkn_1.tokens())\n",
    "print(sw_tkn_2.tokens())\n",
    "print(sw_tkn_3.tokens())\n",
    "print(sw_tkn_4.tokens())\n",
    "print(sw_tkn_5.tokens())\n",
    "print(sw_tkn_6.tokens())\n",
    "print(sw_tkn_7.tokens())\n",
    "print(sw_tkn_8.tokens())\n",
    "print(sw_tkn_9.tokens())"
   ]
  }
 ],
 "metadata": {
  "kernelspec": {
   "display_name": "NLP25",
   "language": "python",
   "name": "python3"
  },
  "language_info": {
   "codemirror_mode": {
    "name": "ipython",
    "version": 3
   },
   "file_extension": ".py",
   "mimetype": "text/x-python",
   "name": "python",
   "nbconvert_exporter": "python",
   "pygments_lexer": "ipython3",
   "version": "3.12.9"
  }
 },
 "nbformat": 4,
 "nbformat_minor": 2
}
