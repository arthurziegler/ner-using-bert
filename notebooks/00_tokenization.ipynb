{
 "cells": [
  {
   "cell_type": "markdown",
   "metadata": {},
   "source": [
    "# NOTEBOOK TO TEST TOKENIZATION METHODS"
   ]
  },
  {
   "cell_type": "code",
   "execution_count": 2,
   "metadata": {},
   "outputs": [
    {
     "name": "stderr",
     "output_type": "stream",
     "text": [
      "[nltk_data] Downloading package punkt to\n",
      "[nltk_data]     C:\\Users\\arthu\\AppData\\Roaming\\nltk_data...\n",
      "[nltk_data]   Package punkt is already up-to-date!\n"
     ]
    }
   ],
   "source": [
    "import nltk\n",
    "from nltk.tokenize import sent_tokenize, word_tokenize, TreebankWordTokenizer, WhitespaceTokenizer\n",
    "import numpy as np\n",
    "import pandas as pd\n",
    "from pprint import pprint\n",
    "import os\n",
    "nltk.download('punkt')\n",
    "from transformers import AutoTokenizer"
   ]
  },
  {
   "cell_type": "code",
   "execution_count": 10,
   "metadata": {},
   "outputs": [],
   "source": [
    "annotated_df = pd.read_json('../data/annotated/doccano-extraction-09-12-24.jsonl', lines=True)"
   ]
  },
  {
   "cell_type": "code",
   "execution_count": 11,
   "metadata": {},
   "outputs": [
    {
     "data": {
      "text/html": [
       "<div>\n",
       "<style scoped>\n",
       "    .dataframe tbody tr th:only-of-type {\n",
       "        vertical-align: middle;\n",
       "    }\n",
       "\n",
       "    .dataframe tbody tr th {\n",
       "        vertical-align: top;\n",
       "    }\n",
       "\n",
       "    .dataframe thead th {\n",
       "        text-align: right;\n",
       "    }\n",
       "</style>\n",
       "<table border=\"1\" class=\"dataframe\">\n",
       "  <thead>\n",
       "    <tr style=\"text-align: right;\">\n",
       "      <th></th>\n",
       "      <th>id</th>\n",
       "      <th>text</th>\n",
       "      <th>tagged_entities</th>\n",
       "      <th>document_id</th>\n",
       "      <th>sentence_id</th>\n",
       "      <th>doc__sentence_id</th>\n",
       "      <th>duplicate_ids</th>\n",
       "      <th>label</th>\n",
       "    </tr>\n",
       "  </thead>\n",
       "  <tbody>\n",
       "    <tr>\n",
       "      <th>0</th>\n",
       "      <td>2227</td>\n",
       "      <td>Conceder à servidora LISIANE RAMOS VILK, ocupa...</td>\n",
       "      <td>[{'entity_group': 'O', 'score': 0.7762932777, ...</td>\n",
       "      <td>25644</td>\n",
       "      <td>2</td>\n",
       "      <td>25644-2</td>\n",
       "      <td>[25644-2]</td>\n",
       "      <td>[[21, 39, PERSON], [62, 88, OCCUPATION], [109,...</td>\n",
       "    </tr>\n",
       "    <tr>\n",
       "      <th>1</th>\n",
       "      <td>2228</td>\n",
       "      <td>MAURÍCIO VIÉGAS DA SILVA Pró-Reitor de Gestão ...</td>\n",
       "      <td>[{'entity_group': 'PERSON', 'score': 0.6592996...</td>\n",
       "      <td>105798</td>\n",
       "      <td>3</td>\n",
       "      <td>105798-3</td>\n",
       "      <td>[105798-3, 105799-3, 105801-3, 105802-3, 18001...</td>\n",
       "      <td>[[0, 24, PERSON], [25, 56, OCCUPATION]]</td>\n",
       "    </tr>\n",
       "    <tr>\n",
       "      <th>2</th>\n",
       "      <td>2229</td>\n",
       "      <td>Autorizar o afastamento do país de CRISTINE MA...</td>\n",
       "      <td>[{'entity_group': 'O', 'score': 0.6819901466, ...</td>\n",
       "      <td>25645</td>\n",
       "      <td>2</td>\n",
       "      <td>25645-2</td>\n",
       "      <td>[25645-2]</td>\n",
       "      <td>[[35, 58, PERSON], [60, 92, OCCUPATION], [170,...</td>\n",
       "    </tr>\n",
       "    <tr>\n",
       "      <th>3</th>\n",
       "      <td>2230</td>\n",
       "      <td>CARLOS ALEXANDRE NETTO Reitor</td>\n",
       "      <td>[{'entity_group': 'PERSON', 'score': 0.6323550...</td>\n",
       "      <td>25645</td>\n",
       "      <td>4</td>\n",
       "      <td>25645-4</td>\n",
       "      <td>[25645-4, 25646-4, 25647-4, 25648-4, 25649-4, ...</td>\n",
       "      <td>[[0, 22, PERSON], [23, 29, OCCUPATION]]</td>\n",
       "    </tr>\n",
       "    <tr>\n",
       "      <th>4</th>\n",
       "      <td>2231</td>\n",
       "      <td>Autorizar o afastamento do país de ANDRE DIAS ...</td>\n",
       "      <td>[{'entity_group': 'O', 'score': 0.6808940768, ...</td>\n",
       "      <td>25646</td>\n",
       "      <td>2</td>\n",
       "      <td>25646-2</td>\n",
       "      <td>[25646-2]</td>\n",
       "      <td>[[35, 53, PERSON], [55, 82, OCCUPATION], [109,...</td>\n",
       "    </tr>\n",
       "  </tbody>\n",
       "</table>\n",
       "</div>"
      ],
      "text/plain": [
       "     id                                               text  \\\n",
       "0  2227  Conceder à servidora LISIANE RAMOS VILK, ocupa...   \n",
       "1  2228  MAURÍCIO VIÉGAS DA SILVA Pró-Reitor de Gestão ...   \n",
       "2  2229  Autorizar o afastamento do país de CRISTINE MA...   \n",
       "3  2230                      CARLOS ALEXANDRE NETTO Reitor   \n",
       "4  2231  Autorizar o afastamento do país de ANDRE DIAS ...   \n",
       "\n",
       "                                     tagged_entities  document_id  \\\n",
       "0  [{'entity_group': 'O', 'score': 0.7762932777, ...        25644   \n",
       "1  [{'entity_group': 'PERSON', 'score': 0.6592996...       105798   \n",
       "2  [{'entity_group': 'O', 'score': 0.6819901466, ...        25645   \n",
       "3  [{'entity_group': 'PERSON', 'score': 0.6323550...        25645   \n",
       "4  [{'entity_group': 'O', 'score': 0.6808940768, ...        25646   \n",
       "\n",
       "   sentence_id doc__sentence_id  \\\n",
       "0            2          25644-2   \n",
       "1            3         105798-3   \n",
       "2            2          25645-2   \n",
       "3            4          25645-4   \n",
       "4            2          25646-2   \n",
       "\n",
       "                                       duplicate_ids  \\\n",
       "0                                          [25644-2]   \n",
       "1  [105798-3, 105799-3, 105801-3, 105802-3, 18001...   \n",
       "2                                          [25645-2]   \n",
       "3  [25645-4, 25646-4, 25647-4, 25648-4, 25649-4, ...   \n",
       "4                                          [25646-2]   \n",
       "\n",
       "                                               label  \n",
       "0  [[21, 39, PERSON], [62, 88, OCCUPATION], [109,...  \n",
       "1            [[0, 24, PERSON], [25, 56, OCCUPATION]]  \n",
       "2  [[35, 58, PERSON], [60, 92, OCCUPATION], [170,...  \n",
       "3            [[0, 22, PERSON], [23, 29, OCCUPATION]]  \n",
       "4  [[35, 53, PERSON], [55, 82, OCCUPATION], [109,...  "
      ]
     },
     "execution_count": 11,
     "metadata": {},
     "output_type": "execute_result"
    }
   ],
   "source": [
    "annotated_df.head()"
   ]
  },
  {
   "cell_type": "code",
   "execution_count": 37,
   "metadata": {},
   "outputs": [
    {
     "data": {
      "text/plain": [
       "'conceder à servidora lisiane ramos vilk, ocupante do cargo de administrador de edifícios - 701400, lotada na faculdade de arquitetura, siape 2325261, o percentual de 25% (vinte e cinco por cento) de incentivo à qualificação, a contar de 15/07/2016, tendo em vista a conclusão do curso de graduação em administração - bacharelado, conforme o processo nº 23078.015333/2016-19.'"
      ]
     },
     "execution_count": 37,
     "metadata": {},
     "output_type": "execute_result"
    }
   ],
   "source": [
    "test_sentence = annotated_df['text'][0].lower()\n",
    "test_sentence"
   ]
  },
  {
   "cell_type": "code",
   "execution_count": 25,
   "metadata": {},
   "outputs": [],
   "source": [
    "w_tkn = TreebankWordTokenizer().tokenize(test_sentence)"
   ]
  },
  {
   "cell_type": "code",
   "execution_count": 38,
   "metadata": {},
   "outputs": [],
   "source": [
    "checkpoint = 'bert-base-uncased'\n",
    "tokenizer = AutoTokenizer.from_pretrained(checkpoint)\n",
    "sw_tkn_1 = tokenizer(test_sentence, is_split_into_words=False)\n",
    "\n",
    "checkpoint = 'bert-large-uncased'\n",
    "tokenizer = AutoTokenizer.from_pretrained(checkpoint)\n",
    "sw_tkn_2 = tokenizer(test_sentence, is_split_into_words=False)\n",
    "\n",
    "checkpoint = 'bert-base-cased'\n",
    "tokenizer = AutoTokenizer.from_pretrained(checkpoint)\n",
    "sw_tkn_3 = tokenizer(test_sentence, is_split_into_words=False)\n",
    "\n",
    "checkpoint = 'bert-large-cased'\n",
    "tokenizer = AutoTokenizer.from_pretrained(checkpoint)\n",
    "sw_tkn_4 = tokenizer(test_sentence, is_split_into_words=False)\n",
    "\n",
    "checkpoint = 'bert-base-multilingual-cased'\n",
    "tokenizer = AutoTokenizer.from_pretrained(checkpoint)\n",
    "sw_tkn_5 = tokenizer(test_sentence, is_split_into_words=False)\n",
    "\n",
    "checkpoint = 'bert-large-uncased-whole-word-masking'\n",
    "tokenizer = AutoTokenizer.from_pretrained(checkpoint)\n",
    "sw_tkn_6 = tokenizer(test_sentence, is_split_into_words=False)\n",
    "\n",
    "checkpoint = 'bert-large-cased-whole-word-masking'\n",
    "tokenizer = AutoTokenizer.from_pretrained(checkpoint)\n",
    "sw_tkn_7 = tokenizer(test_sentence, is_split_into_words=False)\n",
    "\n",
    "checkpoint = 'neuralmind/bert-base-portuguese-cased'\n",
    "tokenizer = AutoTokenizer.from_pretrained(checkpoint)\n",
    "sw_tkn_8 = tokenizer(test_sentence, is_split_into_words=False)\n",
    "\n",
    "checkpoint = 'neuralmind/bert-large-portuguese-cased'\n",
    "tokenizer = AutoTokenizer.from_pretrained(checkpoint)\n",
    "sw_tkn_9 = tokenizer(test_sentence, is_split_into_words=False)"
   ]
  },
  {
   "cell_type": "code",
   "execution_count": 27,
   "metadata": {},
   "outputs": [
    {
     "name": "stdout",
     "output_type": "stream",
     "text": [
      "['Conceder', 'à', 'servidora', 'LISIANE', 'RAMOS', 'VILK', ',', 'ocupante', 'do', 'cargo', 'de', 'Administrador', 'de', 'Edifícios', '-', '701400', ',', 'lotada', 'na', 'Faculdade', 'de', 'Arquitetura', ',', 'SIAPE', '2325261', ',', 'o', 'percentual', 'de', '25', '%', '(', 'vinte', 'e', 'cinco', 'por', 'cento', ')', 'de', 'Incentivo', 'à', 'Qualificação', ',', 'a', 'contar', 'de', '15/07/2016', ',', 'tendo', 'em', 'vista', 'a', 'conclusão', 'do', 'curso', 'de', 'Graduação', 'em', 'Administração', '-', 'Bacharelado', ',', 'conforme', 'o', 'Processo', 'nº', '23078.015333/2016-19', '.']\n"
     ]
    }
   ],
   "source": [
    "print(w_tkn)"
   ]
  },
  {
   "cell_type": "code",
   "execution_count": 39,
   "metadata": {},
   "outputs": [
    {
     "name": "stdout",
     "output_type": "stream",
     "text": [
      "['[CLS]', 'con', '##cede', '##r', 'a', 'ser', '##vid', '##ora', 'li', '##sian', '##e', 'ramos', 'vi', '##lk', ',', 'o', '##cup', '##ante', 'do', 'cargo', 'de', 'ad', '##mini', '##stra', '##dor', 'de', 'ed', '##ific', '##ios', '-', '70', '##14', '##00', ',', 'lot', '##ada', 'na', 'fa', '##cu', '##lda', '##de', 'de', 'ar', '##qui', '##tet', '##ura', ',', 'si', '##ape', '232', '##52', '##6', '##1', ',', 'o', 'percent', '##ual', 'de', '25', '%', '(', 'vin', '##te', 'e', 'ci', '##nco', 'por', 'cent', '##o', ')', 'de', 'inc', '##ent', '##ivo', 'a', 'qu', '##ali', '##fi', '##ca', '##cao', ',', 'a', 'con', '##tar', 'de', '15', '/', '07', '/', '2016', ',', 'tend', '##o', 'em', 'vista', 'a', 'con', '##cl', '##usa', '##o', 'do', 'cu', '##rso', 'de', 'gr', '##ad', '##ua', '##cao', 'em', 'ad', '##mini', '##stra', '##cao', '-', 'bach', '##are', '##lad', '##o', ',', 'conform', '##e', 'o', 'process', '##o', 'n', '##º', '230', '##7', '##8', '.', '01', '##53', '##33', '/', '2016', '-', '19', '.', '[SEP]']\n",
      "['[CLS]', 'con', '##cede', '##r', 'a', 'ser', '##vid', '##ora', 'li', '##sian', '##e', 'ramos', 'vi', '##lk', ',', 'o', '##cup', '##ante', 'do', 'cargo', 'de', 'ad', '##mini', '##stra', '##dor', 'de', 'ed', '##ific', '##ios', '-', '70', '##14', '##00', ',', 'lot', '##ada', 'na', 'fa', '##cu', '##lda', '##de', 'de', 'ar', '##qui', '##tet', '##ura', ',', 'si', '##ape', '232', '##52', '##6', '##1', ',', 'o', 'percent', '##ual', 'de', '25', '%', '(', 'vin', '##te', 'e', 'ci', '##nco', 'por', 'cent', '##o', ')', 'de', 'inc', '##ent', '##ivo', 'a', 'qu', '##ali', '##fi', '##ca', '##cao', ',', 'a', 'con', '##tar', 'de', '15', '/', '07', '/', '2016', ',', 'tend', '##o', 'em', 'vista', 'a', 'con', '##cl', '##usa', '##o', 'do', 'cu', '##rso', 'de', 'gr', '##ad', '##ua', '##cao', 'em', 'ad', '##mini', '##stra', '##cao', '-', 'bach', '##are', '##lad', '##o', ',', 'conform', '##e', 'o', 'process', '##o', 'n', '##º', '230', '##7', '##8', '.', '01', '##53', '##33', '/', '2016', '-', '19', '.', '[SEP]']\n",
      "['[CLS]', 'con', '##cede', '##r', 'à', 'se', '##r', '##vid', '##ora', 'l', '##isi', '##ane', 'ram', '##os', 'v', '##il', '##k', ',', 'o', '##cup', '##ante', 'do', 'cargo', 'de', 'ad', '##mini', '##stra', '##dor', 'de', 'ed', '##if', '##í', '##cio', '##s', '-', '70', '##14', '##00', ',', 'lot', '##ada', 'na', 'f', '##ac', '##uld', '##ade', 'de', 'a', '##r', '##qui', '##te', '##tura', ',', 'si', '##ap', '##e', '232', '##5', '##26', '##1', ',', 'o', 'percent', '##ual', 'de', '25', '%', '(', 'v', '##int', '##e', 'e', 'c', '##in', '##co', 'p', '##or', 'cent', '##o', ')', 'de', 'in', '##cent', '##ivo', 'à', 'q', '##ual', '##ific', '##a', '##ção', ',', 'a', 'con', '##tar', 'de', '15', '/', '07', '/', '2016', ',', 'tend', '##o', 'em', 'v', '##ista', 'a', 'con', '##c', '##lus', '##ão', 'do', 'cu', '##rs', '##o', 'de', 'g', '##rad', '##ua', '##ção', 'em', 'ad', '##mini', '##stra', '##ção', '-', 'b', '##ach', '##arel', '##ado', ',', 'conform', '##e', 'o', 'process', '##o', 'n', '##º', '230', '##7', '##8', '.', '01', '##53', '##33', '/', '2016', '-', '19', '.', '[SEP]']\n",
      "['[CLS]', 'con', '##cede', '##r', 'à', 'se', '##r', '##vid', '##ora', 'l', '##isi', '##ane', 'ram', '##os', 'v', '##il', '##k', ',', 'o', '##cup', '##ante', 'do', 'cargo', 'de', 'ad', '##mini', '##stra', '##dor', 'de', 'ed', '##if', '##í', '##cio', '##s', '-', '70', '##14', '##00', ',', 'lot', '##ada', 'na', 'f', '##ac', '##uld', '##ade', 'de', 'a', '##r', '##qui', '##te', '##tura', ',', 'si', '##ap', '##e', '232', '##5', '##26', '##1', ',', 'o', 'percent', '##ual', 'de', '25', '%', '(', 'v', '##int', '##e', 'e', 'c', '##in', '##co', 'p', '##or', 'cent', '##o', ')', 'de', 'in', '##cent', '##ivo', 'à', 'q', '##ual', '##ific', '##a', '##ção', ',', 'a', 'con', '##tar', 'de', '15', '/', '07', '/', '2016', ',', 'tend', '##o', 'em', 'v', '##ista', 'a', 'con', '##c', '##lus', '##ão', 'do', 'cu', '##rs', '##o', 'de', 'g', '##rad', '##ua', '##ção', 'em', 'ad', '##mini', '##stra', '##ção', '-', 'b', '##ach', '##arel', '##ado', ',', 'conform', '##e', 'o', 'process', '##o', 'n', '##º', '230', '##7', '##8', '.', '01', '##53', '##33', '/', '2016', '-', '19', '.', '[SEP]']\n",
      "['[CLS]', 'con', '##cede', '##r', 'à', 'servidor', '##a', 'li', '##sian', '##e', 'ramo', '##s', 'vil', '##k', ',', 'ocupa', '##nte', 'do', 'cargo', 'de', 'administrador', 'de', 'edifício', '##s', '-', '701', '##400', ',', 'lot', '##ada', 'na', 'fac', '##uld', '##ade', 'de', 'ar', '##quitetura', ',', 'sia', '##pe', '232', '##52', '##6', '##1', ',', 'o', 'percent', '##ual', 'de', '25', '%', '(', 'vinte', 'e', 'cinco', 'por', 'cento', ')', 'de', 'in', '##cent', '##ivo', 'à', 'quali', '##ficação', ',', 'a', 'contar', 'de', '15', '/', '07', '/', '2016', ',', 'tendo', 'em', 'vista', 'a', 'con', '##clu', '##são', 'do', 'curso', 'de', 'gradu', '##ação', 'em', 'administração', '-', 'ba', '##char', '##ela', '##do', ',', 'conforme', 'o', 'processo', 'nº', '2307', '##8', '.', '015', '##33', '##3', '/', '2016', '-', '19', '.', '[SEP]']\n",
      "['[CLS]', 'con', '##cede', '##r', 'a', 'ser', '##vid', '##ora', 'li', '##sian', '##e', 'ramos', 'vi', '##lk', ',', 'o', '##cup', '##ante', 'do', 'cargo', 'de', 'ad', '##mini', '##stra', '##dor', 'de', 'ed', '##ific', '##ios', '-', '70', '##14', '##00', ',', 'lot', '##ada', 'na', 'fa', '##cu', '##lda', '##de', 'de', 'ar', '##qui', '##tet', '##ura', ',', 'si', '##ape', '232', '##52', '##6', '##1', ',', 'o', 'percent', '##ual', 'de', '25', '%', '(', 'vin', '##te', 'e', 'ci', '##nco', 'por', 'cent', '##o', ')', 'de', 'inc', '##ent', '##ivo', 'a', 'qu', '##ali', '##fi', '##ca', '##cao', ',', 'a', 'con', '##tar', 'de', '15', '/', '07', '/', '2016', ',', 'tend', '##o', 'em', 'vista', 'a', 'con', '##cl', '##usa', '##o', 'do', 'cu', '##rso', 'de', 'gr', '##ad', '##ua', '##cao', 'em', 'ad', '##mini', '##stra', '##cao', '-', 'bach', '##are', '##lad', '##o', ',', 'conform', '##e', 'o', 'process', '##o', 'n', '##º', '230', '##7', '##8', '.', '01', '##53', '##33', '/', '2016', '-', '19', '.', '[SEP]']\n",
      "['[CLS]', 'con', '##cede', '##r', 'à', 'se', '##r', '##vid', '##ora', 'l', '##isi', '##ane', 'ram', '##os', 'v', '##il', '##k', ',', 'o', '##cup', '##ante', 'do', 'cargo', 'de', 'ad', '##mini', '##stra', '##dor', 'de', 'ed', '##if', '##í', '##cio', '##s', '-', '70', '##14', '##00', ',', 'lot', '##ada', 'na', 'f', '##ac', '##uld', '##ade', 'de', 'a', '##r', '##qui', '##te', '##tura', ',', 'si', '##ap', '##e', '232', '##5', '##26', '##1', ',', 'o', 'percent', '##ual', 'de', '25', '%', '(', 'v', '##int', '##e', 'e', 'c', '##in', '##co', 'p', '##or', 'cent', '##o', ')', 'de', 'in', '##cent', '##ivo', 'à', 'q', '##ual', '##ific', '##a', '##ção', ',', 'a', 'con', '##tar', 'de', '15', '/', '07', '/', '2016', ',', 'tend', '##o', 'em', 'v', '##ista', 'a', 'con', '##c', '##lus', '##ão', 'do', 'cu', '##rs', '##o', 'de', 'g', '##rad', '##ua', '##ção', 'em', 'ad', '##mini', '##stra', '##ção', '-', 'b', '##ach', '##arel', '##ado', ',', 'conform', '##e', 'o', 'process', '##o', 'n', '##º', '230', '##7', '##8', '.', '01', '##53', '##33', '/', '2016', '-', '19', '.', '[SEP]']\n",
      "['[CLS]', 'conceder', 'à', 'servidor', '##a', 'lis', '##iane', 'ramos', 'vil', '##k', ',', 'ocupa', '##nte', 'do', 'cargo', 'de', 'administrador', 'de', 'edifícios', '-', '70', '##14', '##00', ',', 'lo', '##tada', 'na', 'faculdade', 'de', 'arquitetura', ',', 'si', '##ap', '##e', '23', '##25', '##26', '##1', ',', 'o', 'percentual', 'de', '25', '%', '(', 'vinte', 'e', 'cinco', 'por', 'cento', ')', 'de', 'incentivo', 'à', 'qualificação', ',', 'a', 'contar', 'de', '15', '/', '07', '/', '2016', ',', 'tendo', 'em', 'vista', 'a', 'conclusão', 'do', 'curso', 'de', 'graduação', 'em', 'administração', '-', 'bacharel', '##ado', ',', 'conforme', 'o', 'processo', '[UNK]', '23', '##0', '##78', '.', '01', '##53', '##33', '/', '2016', '-', '19', '.', '[SEP]']\n",
      "['[CLS]', 'conceder', 'à', 'servidor', '##a', 'lis', '##iane', 'ramos', 'vil', '##k', ',', 'ocupa', '##nte', 'do', 'cargo', 'de', 'administrador', 'de', 'edifícios', '-', '70', '##14', '##00', ',', 'lo', '##tada', 'na', 'faculdade', 'de', 'arquitetura', ',', 'si', '##ap', '##e', '23', '##25', '##26', '##1', ',', 'o', 'percentual', 'de', '25', '%', '(', 'vinte', 'e', 'cinco', 'por', 'cento', ')', 'de', 'incentivo', 'à', 'qualificação', ',', 'a', 'contar', 'de', '15', '/', '07', '/', '2016', ',', 'tendo', 'em', 'vista', 'a', 'conclusão', 'do', 'curso', 'de', 'graduação', 'em', 'administração', '-', 'bacharel', '##ado', ',', 'conforme', 'o', 'processo', '[UNK]', '23', '##0', '##78', '.', '01', '##53', '##33', '/', '2016', '-', '19', '.', '[SEP]']\n"
     ]
    }
   ],
   "source": [
    "print(sw_tkn_1.tokens())\n",
    "print(sw_tkn_2.tokens())\n",
    "print(sw_tkn_3.tokens())\n",
    "print(sw_tkn_4.tokens())\n",
    "print(sw_tkn_5.tokens())\n",
    "print(sw_tkn_6.tokens())\n",
    "print(sw_tkn_7.tokens())\n",
    "print(sw_tkn_8.tokens())\n",
    "print(sw_tkn_9.tokens())"
   ]
  },
  {
   "cell_type": "code",
   "execution_count": null,
   "metadata": {},
   "outputs": [],
   "source": []
  }
 ],
 "metadata": {
  "kernelspec": {
   "display_name": "NLP2023",
   "language": "python",
   "name": "python3"
  },
  "language_info": {
   "codemirror_mode": {
    "name": "ipython",
    "version": 3
   },
   "file_extension": ".py",
   "mimetype": "text/x-python",
   "name": "python",
   "nbconvert_exporter": "python",
   "pygments_lexer": "ipython3",
   "version": "3.10.4"
  }
 },
 "nbformat": 4,
 "nbformat_minor": 2
}
