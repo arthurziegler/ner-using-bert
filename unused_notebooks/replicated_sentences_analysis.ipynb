{
 "cells": [
  {
   "cell_type": "markdown",
   "metadata": {},
   "source": [
    "### Replicate Sentences Analysys\n",
    "\n"
   ]
  },
  {
   "cell_type": "code",
   "execution_count": 2,
   "metadata": {},
   "outputs": [],
   "source": [
    "import pandas as pd\n",
    "import os\n",
    "import re"
   ]
  },
  {
   "cell_type": "markdown",
   "metadata": {},
   "source": [
    "#### 1. Load the dataset"
   ]
  },
  {
   "cell_type": "code",
   "execution_count": 3,
   "metadata": {},
   "outputs": [],
   "source": [
    "path_to_test = \"acerpi_dataset/test/annotated\"\n",
    "path_to_train = \"acerpi_dataset/train/annotated\""
   ]
  },
  {
   "cell_type": "code",
   "execution_count": 4,
   "metadata": {},
   "outputs": [],
   "source": [
    "ner_dataset = pd.read_json(os.path.join(path_to_train, 'unique_sentences_replicated.jsonl'), orient='record', lines=True)"
   ]
  },
  {
   "cell_type": "code",
   "execution_count": 5,
   "metadata": {},
   "outputs": [
    {
     "data": {
      "text/html": [
       "<div>\n",
       "<style scoped>\n",
       "    .dataframe tbody tr th:only-of-type {\n",
       "        vertical-align: middle;\n",
       "    }\n",
       "\n",
       "    .dataframe tbody tr th {\n",
       "        vertical-align: top;\n",
       "    }\n",
       "\n",
       "    .dataframe thead th {\n",
       "        text-align: right;\n",
       "    }\n",
       "</style>\n",
       "<table border=\"1\" class=\"dataframe\">\n",
       "  <thead>\n",
       "    <tr style=\"text-align: right;\">\n",
       "      <th></th>\n",
       "      <th>id</th>\n",
       "      <th>text</th>\n",
       "      <th>document</th>\n",
       "      <th>sentence_id</th>\n",
       "      <th>duplicates</th>\n",
       "      <th>tagged_entities</th>\n",
       "      <th>label</th>\n",
       "    </tr>\n",
       "  </thead>\n",
       "  <tbody>\n",
       "    <tr>\n",
       "      <th>0</th>\n",
       "      <td>199</td>\n",
       "      <td>Conceder à servidora LISIANE RAMOS VILK, ocupa...</td>\n",
       "      <td>25644</td>\n",
       "      <td>2</td>\n",
       "      <td>[2]</td>\n",
       "      <td>[{'entity_group': 'O', 'score': 0.7762932777, ...</td>\n",
       "      <td>[[62, 88, OCCUPATION], [109, 133, ORGANIZATION...</td>\n",
       "    </tr>\n",
       "    <tr>\n",
       "      <th>1</th>\n",
       "      <td>200</td>\n",
       "      <td>MAURÍCIO VIÉGAS DA SILVA Pró-Reitor de Gestão ...</td>\n",
       "      <td>25644</td>\n",
       "      <td>3</td>\n",
       "      <td>[3, 94, 156, 168, 173, 272, 276, 280, 284, 288...</td>\n",
       "      <td>[{'entity_group': 'PERSON', 'score': 0.6592996...</td>\n",
       "      <td>[[25, 56, OCCUPATION], [0, 24, PERSON]]</td>\n",
       "    </tr>\n",
       "    <tr>\n",
       "      <th>2</th>\n",
       "      <td>201</td>\n",
       "      <td>Autorizar o afastamento do país de CRISTINE MA...</td>\n",
       "      <td>25645</td>\n",
       "      <td>6</td>\n",
       "      <td>[6]</td>\n",
       "      <td>[{'entity_group': 'O', 'score': 0.6819901466, ...</td>\n",
       "      <td>[[119, 166, ORGANIZATION], [250, 284, ORGANIZA...</td>\n",
       "    </tr>\n",
       "    <tr>\n",
       "      <th>3</th>\n",
       "      <td>202</td>\n",
       "      <td>CARLOS ALEXANDRE NETTO Reitor</td>\n",
       "      <td>25645</td>\n",
       "      <td>8</td>\n",
       "      <td>[8, 13, 18, 23, 28, 38, 43, 63, 72, 81, 99, 10...</td>\n",
       "      <td>[{'entity_group': 'PERSON', 'score': 0.6323550...</td>\n",
       "      <td>[[0, 22, PERSON], [23, 29, OCCUPATION]]</td>\n",
       "    </tr>\n",
       "    <tr>\n",
       "      <th>4</th>\n",
       "      <td>203</td>\n",
       "      <td>Autorizar o afastamento do país de ANDRE DIAS ...</td>\n",
       "      <td>25646</td>\n",
       "      <td>11</td>\n",
       "      <td>[11]</td>\n",
       "      <td>[{'entity_group': 'O', 'score': 0.6808940768, ...</td>\n",
       "      <td>[[55, 82, OCCUPATION], [109, 132, ORGANIZATION...</td>\n",
       "    </tr>\n",
       "  </tbody>\n",
       "</table>\n",
       "</div>"
      ],
      "text/plain": [
       "    id                                               text  document  \\\n",
       "0  199  Conceder à servidora LISIANE RAMOS VILK, ocupa...     25644   \n",
       "1  200  MAURÍCIO VIÉGAS DA SILVA Pró-Reitor de Gestão ...     25644   \n",
       "2  201  Autorizar o afastamento do país de CRISTINE MA...     25645   \n",
       "3  202                      CARLOS ALEXANDRE NETTO Reitor     25645   \n",
       "4  203  Autorizar o afastamento do país de ANDRE DIAS ...     25646   \n",
       "\n",
       "   sentence_id                                         duplicates  \\\n",
       "0            2                                                [2]   \n",
       "1            3  [3, 94, 156, 168, 173, 272, 276, 280, 284, 288...   \n",
       "2            6                                                [6]   \n",
       "3            8  [8, 13, 18, 23, 28, 38, 43, 63, 72, 81, 99, 10...   \n",
       "4           11                                               [11]   \n",
       "\n",
       "                                     tagged_entities  \\\n",
       "0  [{'entity_group': 'O', 'score': 0.7762932777, ...   \n",
       "1  [{'entity_group': 'PERSON', 'score': 0.6592996...   \n",
       "2  [{'entity_group': 'O', 'score': 0.6819901466, ...   \n",
       "3  [{'entity_group': 'PERSON', 'score': 0.6323550...   \n",
       "4  [{'entity_group': 'O', 'score': 0.6808940768, ...   \n",
       "\n",
       "                                               label  \n",
       "0  [[62, 88, OCCUPATION], [109, 133, ORGANIZATION...  \n",
       "1            [[25, 56, OCCUPATION], [0, 24, PERSON]]  \n",
       "2  [[119, 166, ORGANIZATION], [250, 284, ORGANIZA...  \n",
       "3            [[0, 22, PERSON], [23, 29, OCCUPATION]]  \n",
       "4  [[55, 82, OCCUPATION], [109, 132, ORGANIZATION...  "
      ]
     },
     "execution_count": 5,
     "metadata": {},
     "output_type": "execute_result"
    }
   ],
   "source": [
    "ner_dataset.head()"
   ]
  },
  {
   "cell_type": "code",
   "execution_count": 21,
   "metadata": {},
   "outputs": [
    {
     "data": {
      "text/plain": [
       "[[55, 82, 'OCCUPATION'],\n",
       " [109, 132, 'ORGANIZATION'],\n",
       " [35, 53, 'PERSON'],\n",
       " [212, 222, 'LOCATION'],\n",
       " [264, 274, 'DATE'],\n",
       " [277, 287, 'DATE'],\n",
       " [224, 232, 'LOCATION']]"
      ]
     },
     "execution_count": 21,
     "metadata": {},
     "output_type": "execute_result"
    }
   ],
   "source": [
    "ner_dataset['label'][4]"
   ]
  },
  {
   "cell_type": "code",
   "execution_count": 36,
   "metadata": {},
   "outputs": [
    {
     "name": "stdout",
     "output_type": "stream",
     "text": [
      "[66, 98, 'OCCUPATION']\n",
      "Professor do Magistério Superior \n",
      "\n",
      "[35, 64, 'PERSON']\n",
      "CESAR BASTOS DE MATTOS VIEIRA \n",
      "\n",
      "[125, 152, 'ORGANIZATION']\n",
      "Departamento de Arquitetura \n",
      "\n",
      "[386, 410, 'ORGANIZATION']\n",
      "Pró-Reitoria de Pesquisa \n",
      "\n",
      "[156, 180, 'ORGANIZATION']\n",
      "Faculdade de Arquitetura \n",
      "\n",
      "[339, 349, 'DATE']\n",
      "06/11/2016 \n",
      "\n",
      "[326, 336, 'DATE']\n",
      "31/10/2016 \n",
      "\n",
      "[277, 285, 'LOCATION']\n",
      "Pamplona \n",
      "\n",
      "[287, 294, 'LOCATION']\n",
      "Espanha \n",
      "\n",
      "[379, 384, 'ORGANIZATION']\n",
      "UFRGS \n",
      "\n"
     ]
    }
   ],
   "source": [
    "sample = ner_dataset.iloc[40]\n",
    "\n",
    "for entity in sample['label']:\n",
    "    print(entity)\n",
    "    print(sample['text'][entity[0]:entity[1]], '\\n')"
   ]
  },
  {
   "cell_type": "code",
   "execution_count": 31,
   "metadata": {},
   "outputs": [],
   "source": [
    "sample = ner_dataset.iloc[4]"
   ]
  },
  {
   "cell_type": "code",
   "execution_count": null,
   "metadata": {},
   "outputs": [],
   "source": []
  }
 ],
 "metadata": {
  "kernelspec": {
   "display_name": "NLP2023",
   "language": "python",
   "name": "python3"
  },
  "language_info": {
   "codemirror_mode": {
    "name": "ipython",
    "version": 3
   },
   "file_extension": ".py",
   "mimetype": "text/x-python",
   "name": "python",
   "nbconvert_exporter": "python",
   "pygments_lexer": "ipython3",
   "version": "3.10.4"
  },
  "orig_nbformat": 4
 },
 "nbformat": 4,
 "nbformat_minor": 2
}
